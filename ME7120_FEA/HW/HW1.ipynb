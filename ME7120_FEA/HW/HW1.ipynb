{
 "cells": [
  {
   "cell_type": "markdown",
   "metadata": {},
   "source": [
    "## Admir Makas\n",
    "## HW #1, FE Class"
   ]
  },
  {
   "cell_type": "code",
   "execution_count": 2,
   "metadata": {
    "collapsed": false
   },
   "outputs": [],
   "source": [
    "import sympy as sp\n",
    "import numpy as np\n",
    "from sympy import sin, cos\n",
    "#import sp.mpmath as mp\n",
    "from sympy.mpmath import radians as rad\n",
    "sp.init_printing(use_latex='mathjax')\n",
    "from IPython.display import display"
   ]
  },
  {
   "cell_type": "code",
   "execution_count": 3,
   "metadata": {
    "collapsed": true
   },
   "outputs": [],
   "source": [
    "rho = sp.Symbol('rho', real = True)\n",
    "A = sp.Symbol('A', real = True)\n",
    "L = sp.Symbol('L', real = True)\n",
    "l = sp.Symbol('l', real = True)\n",
    "\n",
    "#variables for problem 2\n",
    "E = sp.Symbol('E', real = True)\n",
    "G = sp.Symbol('G', real = True)\n",
    "K = sp.Symbol('K', real = True)\n",
    "Iyy = sp.Symbol('I_{yy}', real = True)\n",
    "Izz = sp.Symbol('I_{zz}', real = True)"
   ]
  },
  {
   "cell_type": "markdown",
   "metadata": {},
   "source": [
    "### Problem 1\n",
    "**Rotate Mass matrix for 2-D rob/beam element by 45$^o$.**"
   ]
  },
  {
   "cell_type": "markdown",
   "metadata": {},
   "source": [
    "**- Start with constructing the rotation matrix:**"
   ]
  },
  {
   "cell_type": "code",
   "execution_count": 5,
   "metadata": {
    "collapsed": false
   },
   "outputs": [
    {
     "data": {
      "text/latex": [
       "$$\\left[\\begin{matrix}0.7071 & 0.7071 & 0\\\\-0.7071 & 0.7071 & 0\\\\0 & 0 & 1.0\\end{matrix}\\right]$$"
      ],
      "text/plain": [
       "⎡0.7071   0.7071   0 ⎤\n",
       "⎢                    ⎥\n",
       "⎢-0.7071  0.7071   0 ⎥\n",
       "⎢                    ⎥\n",
       "⎣   0       0     1.0⎦"
      ]
     },
     "metadata": {},
     "output_type": "display_data"
    }
   ],
   "source": [
    "#define rotation matrix:\n",
    "R=sp.Matrix([[cos(rad(45)), sin(rad(45)), 0], [-sin(rad(45)), cos(rad(45)), 0], [0, 0, 1]])\n",
    "display(R.evalf(4))\n",
    "#Z=sp.Matrix([[0, 0, 0], [0, 0, 0], [0, 0, 0]])\n",
    "#display(Z)"
   ]
  },
  {
   "cell_type": "code",
   "execution_count": 6,
   "metadata": {
    "collapsed": false
   },
   "outputs": [
    {
     "data": {
      "text/latex": [
       "$$\\left[\\begin{matrix}0.7071 & 0.7071 & 0 & 0 & 0 & 0\\\\-0.7071 & 0.7071 & 0 & 0 & 0 & 0\\\\0 & 0 & 1.0 & 0 & 0 & 0\\\\0 & 0 & 0 & 0.7071 & 0.7071 & 0\\\\0 & 0 & 0 & -0.7071 & 0.7071 & 0\\\\0 & 0 & 0 & 0 & 0 & 1.0\\end{matrix}\\right]$$"
      ],
      "text/plain": [
       "⎡0.7071   0.7071   0      0       0      0 ⎤\n",
       "⎢                                          ⎥\n",
       "⎢-0.7071  0.7071   0      0       0      0 ⎥\n",
       "⎢                                          ⎥\n",
       "⎢   0       0     1.0     0       0      0 ⎥\n",
       "⎢                                          ⎥\n",
       "⎢   0       0      0   0.7071   0.7071   0 ⎥\n",
       "⎢                                          ⎥\n",
       "⎢   0       0      0   -0.7071  0.7071   0 ⎥\n",
       "⎢                                          ⎥\n",
       "⎣   0       0      0      0       0     1.0⎦"
      ]
     },
     "execution_count": 6,
     "metadata": {},
     "output_type": "execute_result"
    }
   ],
   "source": [
    "#define total matrix for the rotation process\n",
    "Rt=sp.diag(sp.Matrix(R), sp.Matrix(R))\n",
    "Rt.evalf(4)"
   ]
  },
  {
   "cell_type": "markdown",
   "metadata": {},
   "source": [
    "**- Define mass matrix:**"
   ]
  },
  {
   "cell_type": "code",
   "execution_count": 7,
   "metadata": {
    "collapsed": false
   },
   "outputs": [
    {
     "data": {
      "text/latex": [
       "$$\\left[\\begin{matrix}\\frac{1}{3} & 0 & 0 & \\frac{1}{6} & 0 & 0\\\\0 & \\frac{13}{35} & \\frac{11 l}{210} & 0 & \\frac{9}{70} & - \\frac{13 l}{420}\\\\0 & \\frac{11 l}{210} & \\frac{l^{2}}{105} & 0 & \\frac{13 l}{420} & - \\frac{l^{2}}{140}\\\\\\frac{1}{6} & 0 & 0 & \\frac{1}{3} & 0 & 0\\\\0 & \\frac{9}{70} & \\frac{13 l}{420} & 0 & \\frac{13}{35} & - \\frac{11 l}{210}\\\\0 & - \\frac{13 l}{420} & - \\frac{l^{2}}{140} & 0 & - \\frac{11 l}{210} & \\frac{l^{2}}{140}\\end{matrix}\\right]$$"
      ],
      "text/plain": [
       "⎡1/3    0      0    1/6    0       0   ⎤\n",
       "⎢                                      ⎥\n",
       "⎢       13    11⋅l               -13⋅l ⎥\n",
       "⎢ 0     ──    ────   0    9/70   ──────⎥\n",
       "⎢       35    210                 420  ⎥\n",
       "⎢                                      ⎥\n",
       "⎢               2                   2  ⎥\n",
       "⎢      11⋅l    l          13⋅l    -l   ⎥\n",
       "⎢ 0    ────   ───    0    ────    ──── ⎥\n",
       "⎢      210    105         420     140  ⎥\n",
       "⎢                                      ⎥\n",
       "⎢1/6    0      0    1/3    0       0   ⎥\n",
       "⎢                                      ⎥\n",
       "⎢             13⋅l         13    -11⋅l ⎥\n",
       "⎢ 0    9/70   ────   0     ──    ──────⎥\n",
       "⎢             420          35     210  ⎥\n",
       "⎢                                      ⎥\n",
       "⎢               2                   2  ⎥\n",
       "⎢     -13⋅l   -l         -11⋅l     l   ⎥\n",
       "⎢ 0   ──────  ────   0   ──────   ───  ⎥\n",
       "⎣      420    140         210     140  ⎦"
      ]
     },
     "execution_count": 7,
     "metadata": {},
     "output_type": "execute_result"
    }
   ],
   "source": [
    "M=sp.Matrix([[(1/3), 0, 0, 1/6, 0, 0], [0, 13/35, (11*l)/210, 0, 9/70, (-13*l)/420],\\\n",
    "             [0, (11*l)/210, l**2/105, 0, (13*l)/420, -l**2/140],\\\n",
    "             [1/6, 0, 0, 1/3, 0, 0],\\\n",
    "             [0, 9/70, (13*l)/420, 0, 13/35, (-11*l)/210],\\\n",
    "             [0, (-13*l)/420, -l**2/140, 0, (-11*l)/210, l**2/140]])\n",
    "M=sp.nsimplify(M)\n",
    "M"
   ]
  },
  {
   "cell_type": "markdown",
   "metadata": {},
   "source": [
    "**- Next rotate the mass matrix:**"
   ]
  },
  {
   "cell_type": "code",
   "execution_count": 15,
   "metadata": {
    "collapsed": false
   },
   "outputs": [
    {
     "data": {
      "text/latex": [
       "$$\\left[\\begin{matrix}\\frac{881 A}{2500} L \\rho & - \\frac{2 A}{105} L \\rho & - \\frac{A L}{27} l \\rho & \\frac{31 A}{210} L \\rho & \\frac{2 A}{105} L \\rho & \\frac{2189 A}{100000} L l \\rho\\\\- \\frac{2 A}{105} L \\rho & \\frac{881 A}{2500} L \\rho & \\frac{A L}{27} l \\rho & \\frac{2 A}{105} L \\rho & \\frac{31 A}{210} L \\rho & - \\frac{2189 A}{100000} L l \\rho\\\\- \\frac{A L}{27} l \\rho & \\frac{A L}{27} l \\rho & \\frac{A L}{105} l^{2} \\rho & - \\frac{2189 A}{100000} L l \\rho & \\frac{2189 A}{100000} L l \\rho & - \\frac{A L}{140} l^{2} \\rho\\\\\\frac{31 A}{210} L \\rho & \\frac{2 A}{105} L \\rho & - \\frac{2189 A}{100000} L l \\rho & \\frac{881 A}{2500} L \\rho & - \\frac{2 A}{105} L \\rho & \\frac{A L}{27} l \\rho\\\\\\frac{2 A}{105} L \\rho & \\frac{31 A}{210} L \\rho & \\frac{2189 A}{100000} L l \\rho & - \\frac{2 A}{105} L \\rho & \\frac{881 A}{2500} L \\rho & - \\frac{A L}{27} l \\rho\\\\\\frac{2189 A}{100000} L l \\rho & - \\frac{2189 A}{100000} L l \\rho & - \\frac{A L}{140} l^{2} \\rho & \\frac{A L}{27} l \\rho & - \\frac{A L}{27} l \\rho & \\frac{A L}{140} l^{2} \\rho\\end{matrix}\\right]$$"
      ],
      "text/plain": [
       "⎡ 881⋅A⋅L⋅ρ      -2⋅A⋅L⋅ρ        -A⋅L⋅l⋅ρ         31⋅A⋅L⋅ρ       2⋅A⋅L⋅ρ      \n",
       "⎢ ─────────      ─────────       ─────────        ────────       ───────      \n",
       "⎢    2500           105              27             210            105        \n",
       "⎢                                                                             \n",
       "⎢ -2⋅A⋅L⋅ρ       881⋅A⋅L⋅ρ        A⋅L⋅l⋅ρ         2⋅A⋅L⋅ρ        31⋅A⋅L⋅ρ    -\n",
       "⎢ ─────────      ─────────        ───────         ───────        ────────    ─\n",
       "⎢    105            2500             27             105            210        \n",
       "⎢                                                                             \n",
       "⎢                                      2                                      \n",
       "⎢ -A⋅L⋅l⋅ρ        A⋅L⋅l⋅ρ         A⋅L⋅l ⋅ρ     -2189⋅A⋅L⋅l⋅ρ   2189⋅A⋅L⋅l⋅ρ   \n",
       "⎢ ─────────       ───────         ────────     ──────────────  ────────────   \n",
       "⎢     27             27             105            100000         100000      \n",
       "⎢                                                                             \n",
       "⎢  31⋅A⋅L⋅ρ       2⋅A⋅L⋅ρ      -2189⋅A⋅L⋅l⋅ρ     881⋅A⋅L⋅ρ      -2⋅A⋅L⋅ρ      \n",
       "⎢  ────────       ───────      ──────────────    ─────────      ─────────     \n",
       "⎢    210            105            100000           2500           105        \n",
       "⎢                                                                             \n",
       "⎢  2⋅A⋅L⋅ρ        31⋅A⋅L⋅ρ      2189⋅A⋅L⋅l⋅ρ     -2⋅A⋅L⋅ρ       881⋅A⋅L⋅ρ     \n",
       "⎢  ───────        ────────      ────────────     ─────────      ─────────     \n",
       "⎢    105            210            100000           105            2500       \n",
       "⎢                                                                             \n",
       "⎢                                      2                                      \n",
       "⎢2189⋅A⋅L⋅l⋅ρ  -2189⋅A⋅L⋅l⋅ρ     -A⋅L⋅l ⋅ρ        A⋅L⋅l⋅ρ       -A⋅L⋅l⋅ρ      \n",
       "⎢────────────  ──────────────    ──────────       ───────       ─────────     \n",
       "⎣   100000         100000           140              27             27        \n",
       "\n",
       "2189⋅A⋅L⋅l⋅ρ ⎤\n",
       "──────────── ⎥\n",
       "   100000    ⎥\n",
       "             ⎥\n",
       "2189⋅A⋅L⋅l⋅ρ ⎥\n",
       "─────────────⎥\n",
       "   100000    ⎥\n",
       "             ⎥\n",
       "       2     ⎥\n",
       " -A⋅L⋅l ⋅ρ   ⎥\n",
       " ──────────  ⎥\n",
       "    140      ⎥\n",
       "             ⎥\n",
       "  A⋅L⋅l⋅ρ    ⎥\n",
       "  ───────    ⎥\n",
       "     27      ⎥\n",
       "             ⎥\n",
       " -A⋅L⋅l⋅ρ    ⎥\n",
       " ─────────   ⎥\n",
       "     27      ⎥\n",
       "             ⎥\n",
       "       2     ⎥\n",
       "  A⋅L⋅l ⋅ρ   ⎥\n",
       "  ────────   ⎥\n",
       "    140      ⎦"
      ]
     },
     "execution_count": 15,
     "metadata": {},
     "output_type": "execute_result"
    }
   ],
   "source": [
    "Mr=Rt.T*M*Rt\n",
    "Mr=sp.nsimplify(Mr.evalf(4))\n",
    "Mr=(rho*A*L)*Mr\n",
    "Mr"
   ]
  },
  {
   "cell_type": "markdown",
   "metadata": {},
   "source": [
    "### Problem 2\n",
    "**Write total beam element:**  \n",
    "\n",
    "- The beam element will have following deformation properties:\n",
    "    - Extension along x-axis\n",
    "    - Torsion about x-axis\n",
    "    - Vertical displacements along y and z axis\n",
    "    - Moments about y and z axis"
   ]
  },
  {
   "cell_type": "markdown",
   "metadata": {},
   "source": [
    "**Define components that will fill the stiffness matrix $K$.**"
   ]
  },
  {
   "cell_type": "code",
   "execution_count": 22,
   "metadata": {
    "collapsed": false
   },
   "outputs": [],
   "source": [
    "Y1=(12*E*Izz)/(l**3)\n",
    "Y2=(6*E*Izz)/(l**2)\n",
    "Y3=(4*E*Izz)/(l)\n",
    "Y4=(2*E*Izz)/(l)\n",
    "#\n",
    "Z1=(12*E*Iyy)/(l**3)\n",
    "Z2=(6*E*Iyy)/(l**2)\n",
    "Z3=(4*E*Iyy)/(l)\n",
    "Z4=(2*E*Iyy)/(l)\n",
    "#\n",
    "X=(E*A)/l\n",
    "#\n",
    "S=(G*K)/l"
   ]
  },
  {
   "cell_type": "code",
   "execution_count": 10,
   "metadata": {
    "collapsed": false
   },
   "outputs": [
    {
     "data": {
      "text/latex": [
       "$$\\left[\\begin{array}{cccccccccccc}\\frac{A E}{l} & 0 & 0 & 0 & 0 & 0 & - \\frac{A E}{l} & 0 & 0 & 0 & 0 & 0\\\\0 & \\frac{12 E}{l^{3}} I_{{zz}} & 0 & 0 & 0 & \\frac{6 E}{l^{2}} I_{{zz}} & 0 & - \\frac{12 E}{l^{3}} I_{{zz}} & 0 & 0 & 0 & \\frac{6 E}{l^{2}} I_{{zz}}\\\\0 & 0 & \\frac{12 E}{l^{3}} I_{{yy}} & 0 & - \\frac{6 E}{l^{2}} I_{{yy}} & 0 & 0 & 0 & - \\frac{12 E}{l^{3}} I_{{yy}} & 0 & - \\frac{6 E}{l^{2}} I_{{yy}} & 0\\\\0 & 0 & 0 & \\frac{G K}{l} & 0 & 0 & 0 & 0 & 0 & - \\frac{G K}{l} & 0 & 0\\\\0 & 0 & - \\frac{6 E}{l^{2}} I_{{yy}} & 0 & \\frac{4 E}{l} I_{{yy}} & 0 & 0 & 0 & \\frac{6 E}{l^{2}} I_{{yy}} & 0 & \\frac{2 E}{l} I_{{yy}} & 0\\\\0 & \\frac{6 E}{l^{2}} I_{{zz}} & 0 & 0 & 0 & \\frac{4 E}{l} I_{{zz}} & 0 & - \\frac{6 E}{l^{2}} I_{{zz}} & 0 & 0 & 0 & \\frac{2 E}{l} I_{{zz}}\\\\- \\frac{A E}{l} & 0 & 0 & 0 & 0 & 0 & \\frac{A E}{l} & 0 & 0 & 0 & 0 & 0\\\\0 & - \\frac{12 E}{l^{3}} I_{{zz}} & 0 & 0 & 0 & - \\frac{6 E}{l^{2}} I_{{zz}} & 0 & \\frac{12 E}{l^{3}} I_{{zz}} & 0 & 0 & 0 & - \\frac{6 E}{l^{2}} I_{{zz}}\\\\0 & 0 & - \\frac{12 E}{l^{3}} I_{{yy}} & 0 & \\frac{6 E}{l^{2}} I_{{yy}} & 0 & 0 & 0 & \\frac{12 E}{l^{3}} I_{{yy}} & 0 & \\frac{6 E}{l^{2}} I_{{yy}} & 0\\\\0 & 0 & 0 & - \\frac{G K}{l} & 0 & 0 & 0 & 0 & 0 & \\frac{G K}{l} & 0 & 0\\\\0 & 0 & - \\frac{6 E}{l^{2}} I_{{yy}} & 0 & \\frac{2 E}{l} I_{{yy}} & 0 & 0 & 0 & \\frac{6 E}{l^{2}} I_{{yy}} & 0 & \\frac{4 E}{l} I_{{yy}} & 0\\\\0 & \\frac{6 E}{l^{2}} I_{{zz}} & 0 & 0 & 0 & \\frac{2 E}{l} I_{{zz}} & 0 & - \\frac{6 E}{l^{2}} I_{{zz}} & 0 & 0 & 0 & \\frac{4 E}{l} I_{{zz}}\\end{array}\\right]$$"
      ],
      "text/plain": [
       "⎡ A⋅E                                                                    -A⋅E \n",
       "⎢ ───         0              0          0         0             0        ─────\n",
       "⎢  l                                                                       l  \n",
       "⎢                                                                             \n",
       "⎢        12⋅E⋅I_{zz}                                        6⋅E⋅I_{zz}        \n",
       "⎢  0     ───────────         0          0         0         ──────────     0  \n",
       "⎢              3                                                 2            \n",
       "⎢             l                                                 l             \n",
       "⎢                                                                             \n",
       "⎢                       12⋅E⋅I_{yy}          -6⋅E⋅I_{yy}                      \n",
       "⎢  0          0         ───────────     0    ────────────       0          0  \n",
       "⎢                             3                    2                          \n",
       "⎢                            l                    l                           \n",
       "⎢                                                                             \n",
       "⎢                                      G⋅K                                    \n",
       "⎢  0          0              0         ───        0             0          0  \n",
       "⎢                                       l                                     \n",
       "⎢                                                                             \n",
       "⎢                      -6⋅E⋅I_{yy}            4⋅E⋅I_{yy}                      \n",
       "⎢  0          0        ────────────     0     ──────────        0          0  \n",
       "⎢                            2                    l                           \n",
       "⎢                           l                                                 \n",
       "⎢                                                                             \n",
       "⎢        6⋅E⋅I_{zz}                                         4⋅E⋅I_{zz}        \n",
       "⎢  0     ──────────          0          0         0         ──────────     0  \n",
       "⎢             2                                                 l             \n",
       "⎢            l                                                                \n",
       "⎢                                                                             \n",
       "⎢-A⋅E                                                                     A⋅E \n",
       "⎢─────        0              0          0         0             0         ─── \n",
       "⎢  l                                                                       l  \n",
       "⎢                                                                             \n",
       "⎢       -12⋅E⋅I_{zz}                                       -6⋅E⋅I_{zz}        \n",
       "⎢  0    ─────────────        0          0         0        ────────────    0  \n",
       "⎢              3                                                 2            \n",
       "⎢             l                                                 l             \n",
       "⎢                                                                             \n",
       "⎢                      -12⋅E⋅I_{yy}           6⋅E⋅I_{yy}                      \n",
       "⎢  0          0        ─────────────    0     ──────────        0          0  \n",
       "⎢                             3                    2                          \n",
       "⎢                            l                    l                           \n",
       "⎢                                                                             \n",
       "⎢                                     -G⋅K                                    \n",
       "⎢  0          0              0        ─────       0             0          0  \n",
       "⎢                                       l                                     \n",
       "⎢                                                                             \n",
       "⎢                      -6⋅E⋅I_{yy}            2⋅E⋅I_{yy}                      \n",
       "⎢  0          0        ────────────     0     ──────────        0          0  \n",
       "⎢                            2                    l                           \n",
       "⎢                           l                                                 \n",
       "⎢                                                                             \n",
       "⎢        6⋅E⋅I_{zz}                                         2⋅E⋅I_{zz}        \n",
       "⎢  0     ──────────          0          0         0         ──────────     0  \n",
       "⎢             2                                                 l             \n",
       "⎣            l                                                                \n",
       "\n",
       "                                                                 ⎤\n",
       "        0              0          0         0             0      ⎥\n",
       "                                                                 ⎥\n",
       "                                                                 ⎥\n",
       "  -12⋅E⋅I_{zz}                                        6⋅E⋅I_{zz} ⎥\n",
       "  ─────────────        0          0         0         ────────── ⎥\n",
       "         3                                                 2     ⎥\n",
       "        l                                                 l      ⎥\n",
       "                                                                 ⎥\n",
       "                 -12⋅E⋅I_{yy}          -6⋅E⋅I_{yy}               ⎥\n",
       "        0        ─────────────    0    ────────────       0      ⎥\n",
       "                        3                    2                   ⎥\n",
       "                       l                    l                    ⎥\n",
       "                                                                 ⎥\n",
       "                                -G⋅K                             ⎥\n",
       "        0              0        ─────       0             0      ⎥\n",
       "                                  l                              ⎥\n",
       "                                                                 ⎥\n",
       "                  6⋅E⋅I_{yy}            2⋅E⋅I_{yy}               ⎥\n",
       "        0         ──────────      0     ──────────        0      ⎥\n",
       "                       2                    l                    ⎥\n",
       "                      l                                          ⎥\n",
       "                                                                 ⎥\n",
       "  -6⋅E⋅I_{zz}                                         2⋅E⋅I_{zz} ⎥\n",
       "  ────────────         0          0         0         ────────── ⎥\n",
       "        2                                                 l      ⎥\n",
       "       l                                                         ⎥\n",
       "                                                                 ⎥\n",
       "                                                                 ⎥\n",
       "        0              0          0         0             0      ⎥\n",
       "                                                                 ⎥\n",
       "                                                                 ⎥\n",
       "   12⋅E⋅I_{zz}                                       -6⋅E⋅I_{zz} ⎥\n",
       "   ───────────         0          0         0        ────────────⎥\n",
       "         3                                                 2     ⎥\n",
       "        l                                                 l      ⎥\n",
       "                                                                 ⎥\n",
       "                  12⋅E⋅I_{yy}           6⋅E⋅I_{yy}               ⎥\n",
       "        0         ───────────     0     ──────────        0      ⎥\n",
       "                        3                    2                   ⎥\n",
       "                       l                    l                    ⎥\n",
       "                                                                 ⎥\n",
       "                                 G⋅K                             ⎥\n",
       "        0              0         ───        0             0      ⎥\n",
       "                                  l                              ⎥\n",
       "                                                                 ⎥\n",
       "                  6⋅E⋅I_{yy}            4⋅E⋅I_{yy}               ⎥\n",
       "        0         ──────────      0     ──────────        0      ⎥\n",
       "                       2                    l                    ⎥\n",
       "                      l                                          ⎥\n",
       "                                                                 ⎥\n",
       "  -6⋅E⋅I_{zz}                                         4⋅E⋅I_{zz} ⎥\n",
       "  ────────────         0          0         0         ────────── ⎥\n",
       "        2                                                 l      ⎥\n",
       "       l                                                         ⎦"
      ]
     },
     "execution_count": 10,
     "metadata": {},
     "output_type": "execute_result"
    }
   ],
   "source": [
    "K=sp.Matrix([[X, 0, 0, 0, 0, 0, -X, 0, 0, 0, 0, 0],\\\n",
    "             [0, Y1, 0, 0, 0, Y2, 0, -Y1, 0, 0, 0, Y2],\\\n",
    "             [0, 0, Z1, 0, -Z2, 0, 0, 0, -Z1, 0, -Z2, 0],\\\n",
    "             [0, 0, 0, S, 0, 0, 0, 0, 0, -S, 0, 0],\\\n",
    "             [0, 0, -Z2, 0, Z3, 0, 0, 0, Z2, 0, Z4, 0],\\\n",
    "             [0, Y2, 0, 0, 0, Y3, 0, -Y2, 0, 0, 0, Y4],\\\n",
    "             [-X, 0, 0, 0, 0, 0, X, 0, 0, 0, 0, 0],\\\n",
    "             [0, -Y1, 0, 0, 0, -Y2, 0, Y1, 0, 0, 0, -Y2],\\\n",
    "             [0, 0, -Z1, 0, Z2, 0, 0, 0, Z1, 0, Z2, 0],\\\n",
    "             [0, 0, 0, -S, 0, 0, 0, 0, 0, S, 0, 0],\\\n",
    "             [0, 0, -Z2, 0, Z4, 0, 0, 0, Z2, 0, Z3, 0],\\\n",
    "             [0, Y2, 0, 0, 0, Y4, 0, -Y2, 0, 0, 0, Y3]])\n",
    "K"
   ]
  },
  {
   "cell_type": "code",
   "execution_count": 11,
   "metadata": {
    "collapsed": false
   },
   "outputs": [
    {
     "data": {
      "text/html": [
       "<script>\n",
       "code_show=true; \n",
       "function code_toggle() {\n",
       " if (code_show){\n",
       " $('div.input').hide();\n",
       " } else {\n",
       " $('div.input').show();\n",
       " }\n",
       " code_show = !code_show\n",
       "} \n",
       "$( document ).ready(code_toggle);\n",
       "</script>\n",
       "The raw code for this IPython notebook is by default hidden for easier reading.\n",
       "To toggle on/off the raw code, click <a href=\"javascript:code_toggle()\">here</a>."
      ],
      "text/plain": [
       "<IPython.core.display.HTML object>"
      ]
     },
     "execution_count": 11,
     "metadata": {},
     "output_type": "execute_result"
    }
   ],
   "source": [
    "from IPython.display import HTML\n",
    "\n",
    "HTML('''<script>\n",
    "code_show=true; \n",
    "function code_toggle() {\n",
    " if (code_show){\n",
    " $('div.input').hide();\n",
    " } else {\n",
    " $('div.input').show();\n",
    " }\n",
    " code_show = !code_show\n",
    "} \n",
    "$( document ).ready(code_toggle);\n",
    "</script>\n",
    "The raw code for this IPython notebook is by default hidden for easier reading.\n",
    "To toggle on/off the raw code, click <a href=\"javascript:code_toggle()\">here</a>.''')"
   ]
  },
  {
   "cell_type": "code",
   "execution_count": null,
   "metadata": {
    "collapsed": true
   },
   "outputs": [],
   "source": []
  }
 ],
 "metadata": {
  "kernelspec": {
   "display_name": "Python 3",
   "language": "python",
   "name": "python3"
  },
  "language_info": {
   "codemirror_mode": {
    "name": "ipython",
    "version": 3
   },
   "file_extension": ".py",
   "mimetype": "text/x-python",
   "name": "python",
   "nbconvert_exporter": "python",
   "pygments_lexer": "ipython3",
   "version": "3.5.0"
  }
 },
 "nbformat": 4,
 "nbformat_minor": 0
}
