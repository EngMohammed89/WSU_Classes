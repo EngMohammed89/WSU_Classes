{
 "cells": [
  {
   "cell_type": "code",
   "execution_count": 56,
   "metadata": {
    "collapsed": false
   },
   "outputs": [],
   "source": [
    "import warnings\n",
    "warnings.filterwarnings('ignore')\n",
    "\n",
    "#%matplotlib inline\n",
    "\n",
    "import numpy as np\n",
    "import matplotlib.pyplot as plt\n",
    "\n",
    "delta = 0.1\n",
    "mu_neg = np.linspace(-8, 0, 500000)\n",
    "mu_pos = np.linspace(0, 8, 500000)\n",
    "\n",
    "mu_pos1 = np.linspace(-delta, 0, 500000)\n",
    "mu_pos2 = np.linspace(-delta, 8, 500000)\n",
    "\n",
    "ones = np.ones(500000, dtype=np.int)\n",
    "\n",
    "fig=plt.figure()\n",
    "#at x=0\n",
    "plt.plot(mu_neg, ones*0, 'b--', linewidth=2)\n",
    "plt.plot(mu_pos, ones*0, 'b-', linewidth=2)\n",
    "#at x1\n",
    "plt.plot(mu_pos2, -(delta/2) - (1/2)*np.sqrt(delta**2+4*mu_pos2), 'g--', linewidth=2)\n",
    "plt.plot(mu_pos, -(delta/2) + (1/2)*np.sqrt(delta**2+4*mu_pos), 'g--', linewidth=2)\n",
    "\n",
    "if delta>0.005:\n",
    "    plt.plot(mu_pos1, -(delta/2) + (1/2)*np.sqrt(delta**2+4*mu_pos1), 'r-', linewidth=2)\n",
    "\n",
    "\n",
    "fig.suptitle('Bifurcation Diagram for $\\delta = 0.1$', fontsize=20)\n",
    "plt.xlabel('$\\mu$', fontsize=20)\n",
    "plt.ylabel('$x$', fontsize=20)\n",
    "\n",
    "plt.axis([-8, 8, -4, 4])\n",
    "plt.grid()\n",
    "plt.show()\n",
    "\n",
    "#fig=plt.figure()\n",
    "#plt.plot(mu_pos1, (delta**2+4*mu_pos1), 'r-', linewidth=2)\n",
    "#plt.grid()\n",
    "#plt.show()"
   ]
  },
  {
   "cell_type": "code",
   "execution_count": 32,
   "metadata": {
    "code_folding": [],
    "collapsed": true
   },
   "outputs": [],
   "source": [
    "import sympy as sp\n",
    "sp.init_printing(use_latex='mathjax')\n",
    "from IPython.display import display\n",
    "\n",
    "#m = sp.Symbol('m', real = True)\n",
    "#k1 = sp.Symbol('k_1', real = True)\n",
    "#k3 = sp.Symbol('k_3', real  = True)\n",
    "#g = sp.Symbol('g', real = True)\n",
    "\n",
    "m = 1\n",
    "k1 = 2\n",
    "k3 = 0.1\n",
    "g = 9.81\n",
    "\n",
    "x = sp.Symbol('x', real = True)\n",
    "xddot = sp.Symbol('\\ddot{x}', real = True)"
   ]
  },
  {
   "cell_type": "code",
   "execution_count": 54,
   "metadata": {
    "collapsed": false
   },
   "outputs": [
    {
     "data": {
      "text/latex": [
       "$$0.1 x^{3} + 2.0 x - 9.81$$"
      ],
      "text/plain": [
       "     3               \n",
       "0.1⋅x  + 2.0⋅x - 9.81"
      ]
     },
     "execution_count": 54,
     "metadata": {},
     "output_type": "execute_result"
    }
   ],
   "source": [
    "F =(k1/m)*x + (k3/m)*x**3 - g\n",
    "F"
   ]
  },
  {
   "cell_type": "code",
   "execution_count": 55,
   "metadata": {
    "collapsed": false
   },
   "outputs": [
    {
     "data": {
      "text/latex": [
       "$$\\left [ 3.22613222359285\\right ]$$"
      ],
      "text/plain": [
       "[3.22613222359285]"
      ]
     },
     "execution_count": 55,
     "metadata": {},
     "output_type": "execute_result"
    }
   ],
   "source": [
    "S = sp.solve(F, x)\n",
    "S"
   ]
  },
  {
   "cell_type": "code",
   "execution_count": 57,
   "metadata": {
    "collapsed": false
   },
   "outputs": [],
   "source": [
    "import numpy as np\n",
    "import matplotlib.pyplot as plt\n",
    "\n",
    "alpha = -2.8\n",
    "epsilon = 0.05\n",
    "\n",
    "m = 1\n",
    "k1 = 2\n",
    "k3 = 0.1\n",
    "g = 9.81\n",
    "\n",
    "t = np.linspace(0, 100, 2000)\n",
    "\n",
    "response = alpha*np.cos((3*(k3/m)*epsilon*t*alpha**2 + 8*t*(k1/m + (3*k3*3.22**2)/m))/(8*np.sqrt(k1/m + (3*k3*3.22**2)/m)))\n",
    "\n",
    "fig = plt.figure()\n",
    "plt.plot(t, response)\n",
    "plt.axis([0, 40, -4, 4])\n",
    "plt.grid()\n",
    "plt.show()"
   ]
  },
  {
   "cell_type": "code",
   "execution_count": 115,
   "metadata": {
    "collapsed": false
   },
   "outputs": [],
   "source": [
    "import sympy as sp\n",
    "sp.init_printing(use_latex='mathjax')\n",
    "from IPython.display import display\n",
    "\n",
    "A1 = sp.Symbol('A_1', real = True)\n",
    "A0 = sp.Symbol('A_0', real = True)\n",
    "omega = sp.Symbol('omega', real = True)\n",
    "alpha1 = sp.Symbol('alpha_1', real = True)\n",
    "alpha2 = sp.Symbol('alpha_2', real = True)\n",
    "alpha3 = sp.Symbol('alpha_3', real = True)\n",
    "beta0 = sp.Symbol('beta_o', real = True)\n",
    "t = sp.Symbol('t', real = True)\n",
    "phi = sp.Symbol('phi', real = True)"
   ]
  },
  {
   "cell_type": "code",
   "execution_count": 116,
   "metadata": {
    "collapsed": false
   },
   "outputs": [
    {
     "data": {
      "text/latex": [
       "$$A_{0} + A_{1} \\cos{\\left (\\beta_{o} + \\omega t \\right )}$$"
      ],
      "text/plain": [
       "A₀ + A₁⋅cos(βₒ + ω⋅t)"
      ]
     },
     "execution_count": 116,
     "metadata": {},
     "output_type": "execute_result"
    }
   ],
   "source": [
    "x = A0 + A1*sp.cos(omega*t + beta0)\n",
    "x"
   ]
  },
  {
   "cell_type": "markdown",
   "metadata": {},
   "source": [
    "Define equation to be solved"
   ]
  },
  {
   "cell_type": "code",
   "execution_count": 117,
   "metadata": {
    "collapsed": false
   },
   "outputs": [
    {
     "data": {
      "text/latex": [
       "$$- A_{1} \\omega^{2} \\cos{\\left (\\beta_{o} + \\omega t \\right )}$$"
      ],
      "text/plain": [
       "     2              \n",
       "-A₁⋅ω ⋅cos(βₒ + ω⋅t)"
      ]
     },
     "execution_count": 117,
     "metadata": {},
     "output_type": "execute_result"
    }
   ],
   "source": [
    "Fdiff = sp.diff(x, t, t)\n",
    "Fdiff"
   ]
  },
  {
   "cell_type": "code",
   "execution_count": 118,
   "metadata": {
    "collapsed": false
   },
   "outputs": [
    {
     "data": {
      "text/latex": [
       "$$- A_{1} \\omega^{2} \\cos{\\left (\\phi \\right )}$$"
      ],
      "text/plain": [
       "     2       \n",
       "-A₁⋅ω ⋅cos(φ)"
      ]
     },
     "execution_count": 118,
     "metadata": {},
     "output_type": "execute_result"
    }
   ],
   "source": [
    "Fdiff = Fdiff.subs(omega*t + beta0, phi)\n",
    "Fdiff"
   ]
  },
  {
   "cell_type": "code",
   "execution_count": 119,
   "metadata": {
    "collapsed": false
   },
   "outputs": [
    {
     "data": {
      "text/latex": [
       "$$- A_{1} \\omega^{2} \\cos{\\left (\\phi \\right )} + \\alpha_{1} \\left(A_{0} + A_{1} \\cos{\\left (\\phi \\right )}\\right) + \\alpha_{2} \\left(A_{0} + A_{1} \\cos{\\left (\\phi \\right )}\\right)^{2} + \\alpha_{3} \\left(A_{0} + A_{1} \\cos{\\left (\\phi \\right )}\\right)^{3}$$"
      ],
      "text/plain": [
       "      2                                                   2                   \n",
       "- A₁⋅ω ⋅cos(φ) + α₁⋅(A₀ + A₁⋅cos(φ)) + α₂⋅(A₀ + A₁⋅cos(φ))  + α₃⋅(A₀ + A₁⋅cos(\n",
       "\n",
       "   3\n",
       "φ)) "
      ]
     },
     "execution_count": 119,
     "metadata": {},
     "output_type": "execute_result"
    }
   ],
   "source": [
    "F = Fdiff + alpha1*x.subs(omega*t + beta0, phi) + alpha2*x.subs(omega*t + beta0, phi)**2\\\n",
    "        + alpha3*x.subs(omega*t + beta0, phi)**3\n",
    "F"
   ]
  },
  {
   "cell_type": "code",
   "execution_count": 123,
   "metadata": {
    "collapsed": false
   },
   "outputs": [
    {
     "data": {
      "text/latex": [
       "$$A_{0}^{3} \\alpha_{3} + 3 A_{0}^{2} A_{1} \\alpha_{3} \\cos{\\left (\\phi \\right )} + A_{0}^{2} \\alpha_{2} + \\frac{3 A_{0}}{2} A_{1}^{2} \\alpha_{3} \\cos{\\left (2 \\phi \\right )} + \\frac{3 A_{0}}{2} A_{1}^{2} \\alpha_{3} + 2 A_{0} A_{1} \\alpha_{2} \\cos{\\left (\\phi \\right )} + A_{0} \\alpha_{1} + \\frac{3 \\alpha_{3}}{4} A_{1}^{3} \\cos{\\left (\\phi \\right )} + \\frac{A_{1}^{3} \\alpha_{3}}{4} \\cos{\\left (3 \\phi \\right )} + \\frac{A_{1}^{2} \\alpha_{2}}{2} \\cos{\\left (2 \\phi \\right )} + \\frac{A_{1}^{2} \\alpha_{2}}{2} + A_{1} \\alpha_{1} \\cos{\\left (\\phi \\right )} - A_{1} \\omega^{2} \\cos{\\left (\\phi \\right )}$$"
      ],
      "text/plain": [
       "                                              2                      2        \n",
       "  3          2                  2      3⋅A₀⋅A₁ ⋅α₃⋅cos(2⋅φ)   3⋅A₀⋅A₁ ⋅α₃     \n",
       "A₀ ⋅α₃ + 3⋅A₀ ⋅A₁⋅α₃⋅cos(φ) + A₀ ⋅α₂ + ──────────────────── + ─────────── + 2⋅\n",
       "                                                2                  2          \n",
       "\n",
       "                              3               3                 2             \n",
       "                          3⋅A₁ ⋅α₃⋅cos(φ)   A₁ ⋅α₃⋅cos(3⋅φ)   A₁ ⋅α₂⋅cos(2⋅φ) \n",
       "A₀⋅A₁⋅α₂⋅cos(φ) + A₀⋅α₁ + ─────────────── + ─────────────── + ─────────────── \n",
       "                                 4                 4                 2        \n",
       "\n",
       "    2                                 \n",
       "  A₁ ⋅α₂                      2       \n",
       "+ ────── + A₁⋅α₁⋅cos(φ) - A₁⋅ω ⋅cos(φ)\n",
       "    2                                 "
      ]
     },
     "execution_count": 123,
     "metadata": {},
     "output_type": "execute_result"
    }
   ],
   "source": [
    "Fsub = F.expand().subs(sp.cos(phi)**3, sp.nsimplify(1/4)*(3*sp.cos(phi) + sp.cos(3*phi)))\\\n",
    "        .subs(sp.cos(phi)**2, sp.nsimplify(1/2)*(1 + sp.cos(2*phi)))\n",
    "Fsub.expand()"
   ]
  },
  {
   "cell_type": "code",
   "execution_count": 127,
   "metadata": {
    "collapsed": false
   },
   "outputs": [
    {
     "data": {
      "text/latex": [
       "$$A_{0}^{3} \\alpha_{3} + A_{0}^{2} \\alpha_{2} + \\frac{3 A_{0}}{2} A_{1}^{2} \\alpha_{3} + A_{0} \\alpha_{1} + \\frac{A_{1}^{2} \\alpha_{2}}{2}$$"
      ],
      "text/plain": [
       "                         2                2   \n",
       "  3        2      3⋅A₀⋅A₁ ⋅α₃           A₁ ⋅α₂\n",
       "A₀ ⋅α₃ + A₀ ⋅α₂ + ─────────── + A₀⋅α₁ + ──────\n",
       "                       2                  2   "
      ]
     },
     "execution_count": 127,
     "metadata": {},
     "output_type": "execute_result"
    }
   ],
   "source": [
    "F0 = Fsub.expand().subs(sp.cos(phi), 0).subs(sp.cos(2*phi), 0).subs(sp.cos(3*phi), 0)\n",
    "F0"
   ]
  },
  {
   "cell_type": "code",
   "execution_count": 128,
   "metadata": {
    "collapsed": false
   },
   "outputs": [
    {
     "data": {
      "text/latex": [
       "$$3 A_{0}^{2} A_{1} \\alpha_{3} + 2 A_{0} A_{1} \\alpha_{2} + \\frac{3 \\alpha_{3}}{4} A_{1}^{3} + A_{1} \\alpha_{1} - A_{1} \\omega^{2}$$"
      ],
      "text/plain": [
       "                               3                   \n",
       "    2                      3⋅A₁ ⋅α₃               2\n",
       "3⋅A₀ ⋅A₁⋅α₃ + 2⋅A₀⋅A₁⋅α₂ + ──────── + A₁⋅α₁ - A₁⋅ω \n",
       "                              4                    "
      ]
     },
     "execution_count": 128,
     "metadata": {},
     "output_type": "execute_result"
    }
   ],
   "source": [
    "Fphi = Fsub.expand().coeff(sp.cos(phi))\n",
    "Fphi"
   ]
  },
  {
   "cell_type": "code",
   "execution_count": 130,
   "metadata": {
    "collapsed": true
   },
   "outputs": [],
   "source": [
    "a = sp.Symbol('a', real = True)\n",
    "b = sp.Symbol('b', real = True)\n",
    "c = sp.Symbol('c', real = True)"
   ]
  },
  {
   "cell_type": "code",
   "execution_count": 133,
   "metadata": {
    "collapsed": false
   },
   "outputs": [
    {
     "data": {
      "text/latex": [
       "$$A_{1}^{6} \\alpha_{3} c^{3} + 3 A_{1}^{5} \\alpha_{3} b c^{2} + 3 A_{1}^{4} a \\alpha_{3} c^{2} + A_{1}^{4} \\alpha_{2} c^{2} + 3 A_{1}^{4} \\alpha_{3} b^{2} c + \\frac{3 \\alpha_{3}}{2} A_{1}^{4} c + 6 A_{1}^{3} a \\alpha_{3} b c + 2 A_{1}^{3} \\alpha_{2} b c + A_{1}^{3} \\alpha_{3} b^{3} + \\frac{3 \\alpha_{3}}{2} A_{1}^{3} b + 3 A_{1}^{2} a^{2} \\alpha_{3} c + 2 A_{1}^{2} a \\alpha_{2} c + 3 A_{1}^{2} a \\alpha_{3} b^{2} + \\frac{3 a}{2} A_{1}^{2} \\alpha_{3} + A_{1}^{2} \\alpha_{1} c + A_{1}^{2} \\alpha_{2} b^{2} + \\frac{A_{1}^{2} \\alpha_{2}}{2} + 3 A_{1} a^{2} \\alpha_{3} b + 2 A_{1} a \\alpha_{2} b + A_{1} \\alpha_{1} b + a^{3} \\alpha_{3} + a^{2} \\alpha_{2} + a \\alpha_{1}$$"
      ],
      "text/plain": [
       "                                                                            4 \n",
       "  6     3       5       2       4       2     4     2       4     2     3⋅A₁ ⋅\n",
       "A₁ ⋅α₃⋅c  + 3⋅A₁ ⋅α₃⋅b⋅c  + 3⋅A₁ ⋅a⋅α₃⋅c  + A₁ ⋅α₂⋅c  + 3⋅A₁ ⋅α₃⋅b ⋅c + ──────\n",
       "                                                                            2 \n",
       "\n",
       "                                                       3                      \n",
       "α₃⋅c       3                3            3     3   3⋅A₁ ⋅α₃⋅b       2  2      \n",
       "──── + 6⋅A₁ ⋅a⋅α₃⋅b⋅c + 2⋅A₁ ⋅α₂⋅b⋅c + A₁ ⋅α₃⋅b  + ────────── + 3⋅A₁ ⋅a ⋅α₃⋅c \n",
       "                                                       2                      \n",
       "\n",
       "                                     2                                 2      \n",
       "      2              2       2   3⋅A₁ ⋅a⋅α₃     2          2     2   A₁ ⋅α₂   \n",
       "+ 2⋅A₁ ⋅a⋅α₂⋅c + 3⋅A₁ ⋅a⋅α₃⋅b  + ────────── + A₁ ⋅α₁⋅c + A₁ ⋅α₂⋅b  + ────── + \n",
       "                                     2                                 2      \n",
       "\n",
       "                                                           \n",
       "      2                                 3       2          \n",
       "3⋅A₁⋅a ⋅α₃⋅b + 2⋅A₁⋅a⋅α₂⋅b + A₁⋅α₁⋅b + a ⋅α₃ + a ⋅α₂ + a⋅α₁\n",
       "                                                           "
      ]
     },
     "execution_count": 133,
     "metadata": {},
     "output_type": "execute_result"
    }
   ],
   "source": [
    "F0_sub = F0.expand().subs(A0, a + b*A1 + c*A1**2)\n",
    "F0_sub.expand()"
   ]
  },
  {
   "cell_type": "code",
   "execution_count": 134,
   "metadata": {
    "collapsed": false
   },
   "outputs": [
    {
     "data": {
      "text/latex": [
       "$$a^{3} \\alpha_{3} + a^{2} \\alpha_{2} + a \\alpha_{1}$$"
      ],
      "text/plain": [
       " 3       2          \n",
       "a ⋅α₃ + a ⋅α₂ + a⋅α₁"
      ]
     },
     "execution_count": 134,
     "metadata": {},
     "output_type": "execute_result"
    }
   ],
   "source": [
    "F0_sub0 = F0_sub.expand().subs(A1, 0)\n",
    "F0_sub0"
   ]
  },
  {
   "cell_type": "code",
   "execution_count": 135,
   "metadata": {
    "collapsed": false
   },
   "outputs": [
    {
     "data": {
      "text/latex": [
       "$$\\left [ 0, \\quad - \\frac{\\alpha_{2}}{2 \\alpha_{3}} - \\frac{1}{2 \\alpha_{3}} \\sqrt{- 4 \\alpha_{1} \\alpha_{3} + \\alpha_{2}^{2}}, \\quad - \\frac{\\alpha_{2}}{2 \\alpha_{3}} + \\frac{1}{2 \\alpha_{3}} \\sqrt{- 4 \\alpha_{1} \\alpha_{3} + \\alpha_{2}^{2}}\\right ]$$"
      ],
      "text/plain": [
       "⎡               ________________              ________________⎤\n",
       "⎢              ╱              2              ╱              2 ⎥\n",
       "⎢      α₂    ╲╱  -4⋅α₁⋅α₃ + α₂       α₂    ╲╱  -4⋅α₁⋅α₃ + α₂  ⎥\n",
       "⎢0, - ──── - ───────────────────, - ──── + ───────────────────⎥\n",
       "⎣     2⋅α₃           2⋅α₃           2⋅α₃           2⋅α₃       ⎦"
      ]
     },
     "execution_count": 135,
     "metadata": {},
     "output_type": "execute_result"
    }
   ],
   "source": [
    "sp.solve(F0_sub0, a)"
   ]
  },
  {
   "cell_type": "code",
   "execution_count": 136,
   "metadata": {
    "collapsed": false
   },
   "outputs": [
    {
     "data": {
      "text/latex": [
       "$$3 a^{2} \\alpha_{3} b + 2 a \\alpha_{2} b + \\alpha_{1} b$$"
      ],
      "text/plain": [
       "   2                       \n",
       "3⋅a ⋅α₃⋅b + 2⋅a⋅α₂⋅b + α₁⋅b"
      ]
     },
     "execution_count": 136,
     "metadata": {},
     "output_type": "execute_result"
    }
   ],
   "source": [
    "F0_sub1 = F0_sub.expand().coeff(A1)\n",
    "F0_sub1"
   ]
  },
  {
   "cell_type": "code",
   "execution_count": 137,
   "metadata": {
    "collapsed": false
   },
   "outputs": [
    {
     "data": {
      "text/latex": [
       "$$3 a^{2} \\alpha_{3} c + 2 a \\alpha_{2} c + 3 a \\alpha_{3} b^{2} + \\frac{3 a}{2} \\alpha_{3} + \\alpha_{1} c + \\alpha_{2} b^{2} + \\frac{\\alpha_{2}}{2}$$"
      ],
      "text/plain": [
       "   2                           2   3⋅a⋅α₃              2   α₂\n",
       "3⋅a ⋅α₃⋅c + 2⋅a⋅α₂⋅c + 3⋅a⋅α₃⋅b  + ────── + α₁⋅c + α₂⋅b  + ──\n",
       "                                     2                     2 "
      ]
     },
     "execution_count": 137,
     "metadata": {},
     "output_type": "execute_result"
    }
   ],
   "source": [
    "F0_sub2 = F0_sub.expand().coeff(A1**2)\n",
    "F0_sub2"
   ]
  },
  {
   "cell_type": "code",
   "execution_count": 138,
   "metadata": {
    "collapsed": false
   },
   "outputs": [
    {
     "data": {
      "text/latex": [
       "$$\\frac{A_{1}^{2} \\alpha_{2}}{2} - \\frac{3 A_{1}^{2} \\alpha_{2} \\alpha_{3}}{4 \\alpha_{1}} - \\frac{\\alpha_{2}}{2} + \\frac{\\alpha_{2}^{3}}{4 \\alpha_{1}^{2}} - \\frac{\\alpha_{2}^{3} \\alpha_{3}}{8 \\alpha_{1}^{3}}$$"
      ],
      "text/plain": [
       "  2          2                 3      3   \n",
       "A₁ ⋅α₂   3⋅A₁ ⋅α₂⋅α₃   α₂    α₂     α₂ ⋅α₃\n",
       "────── - ─────────── - ── + ───── - ──────\n",
       "  2          4⋅α₁      2        2       3 \n",
       "                            4⋅α₁    8⋅α₁  "
      ]
     },
     "execution_count": 138,
     "metadata": {},
     "output_type": "execute_result"
    }
   ],
   "source": [
    "F0A1 = F0.expand().subs(A0, sp.nsimplify((-alpha2)/(2*alpha1)))\n",
    "F0A1.expand()"
   ]
  },
  {
   "cell_type": "code",
   "execution_count": 139,
   "metadata": {
    "collapsed": false
   },
   "outputs": [
    {
     "data": {
      "text/latex": [
       "$$\\left [ - \\frac{\\sqrt{2}}{2 \\left\\lvert{\\alpha_{1}}\\right\\rvert} \\sqrt{\\frac{4 \\alpha_{1}^{3} - 2 \\alpha_{1} \\alpha_{2}^{2} + \\alpha_{2}^{2} \\alpha_{3}}{2 \\alpha_{1} - 3 \\alpha_{3}}}, \\quad \\frac{\\sqrt{2}}{2 \\left\\lvert{\\alpha_{1}}\\right\\rvert} \\sqrt{\\frac{4 \\alpha_{1}^{3} - 2 \\alpha_{1} \\alpha_{2}^{2} + \\alpha_{2}^{2} \\alpha_{3}}{2 \\alpha_{1} - 3 \\alpha_{3}}}\\right ]$$"
      ],
      "text/plain": [
       "⎡            ___________________________              ________________________\n",
       "⎢           ╱     3          2     2                 ╱     3          2     2 \n",
       "⎢   ___    ╱  4⋅α₁  - 2⋅α₁⋅α₂  + α₂ ⋅α₃      ___    ╱  4⋅α₁  - 2⋅α₁⋅α₂  + α₂ ⋅\n",
       "⎢-╲╱ 2 ⋅  ╱   ─────────────────────────    ╲╱ 2 ⋅  ╱   ───────────────────────\n",
       "⎢       ╲╱           2⋅α₁ - 3⋅α₃                 ╲╱           2⋅α₁ - 3⋅α₃     \n",
       "⎢────────────────────────────────────────, ───────────────────────────────────\n",
       "⎣                 2⋅│α₁│                                   2⋅│α₁│             \n",
       "\n",
       "___⎤\n",
       "   ⎥\n",
       "α₃ ⎥\n",
       "── ⎥\n",
       "   ⎥\n",
       "───⎥\n",
       "   ⎦"
      ]
     },
     "execution_count": 139,
     "metadata": {},
     "output_type": "execute_result"
    }
   ],
   "source": [
    "sp.solve(F0A1, A1)"
   ]
  },
  {
   "cell_type": "code",
   "execution_count": 166,
   "metadata": {
    "collapsed": false
   },
   "outputs": [
    {
     "data": {
      "text/latex": [
       "$$\\cos{\\left (2 t \\right )}$$"
      ],
      "text/plain": [
       "cos(2⋅t)"
      ]
     },
     "execution_count": 166,
     "metadata": {},
     "output_type": "execute_result"
    }
   ],
   "source": [
    "x=-sp.nsimplify(1/3)*sp.cos(2*t)\n",
    "ans=sp.diff(x, t, t) + x\n",
    "ans"
   ]
  },
  {
   "cell_type": "markdown",
   "metadata": {},
   "source": [
    "### Floquet Theory examples:"
   ]
  },
  {
   "cell_type": "code",
   "execution_count": 303,
   "metadata": {
    "collapsed": true
   },
   "outputs": [],
   "source": [
    "import sympy as sp\n",
    "sp.init_printing(use_latex='mathjax')\n",
    "from IPython.display import display\n",
    "import numpy as np\n",
    "from sympy.utilities.lambdify import lambdify\n",
    "\n",
    "mu = sp.Symbol('mu', real = True)\n",
    "alpha = sp.Symbol('alpha', real = True)\n",
    "omega = sp.Symbol('omega', real = True)\n",
    "beta = sp.Symbol('beta', real = True)\n",
    "theta0 = sp.Symbol('theta_0', real = True)\n",
    "t = sp.Symbol('t', real = True)\n",
    "zeta = sp.Symbol('zeta', real = True)\n",
    "X0 = sp.Symbol('X_0', real = True)\n",
    "Y0 = sp.Symbol('Y_0', real = True)\n",
    "zeta1 = sp.Symbol('zeta_1', real = True)\n",
    "zeta2 = sp.Symbol('zeta_2', real = True)\n",
    "x = sp.Symbol('x', real = True)\n",
    "y = sp.Symbol('y', real = True)\n",
    "theta = sp.Symbol('theta', real = True)\n",
    "x1 = sp.Symbol('x1', real = True)\n",
    "x2 = sp.Symbol('x2', real = True)"
   ]
  },
  {
   "cell_type": "code",
   "execution_count": 227,
   "metadata": {
    "collapsed": false
   },
   "outputs": [
    {
     "data": {
      "text/latex": [
       "$$\\sqrt{- \\frac{\\mu}{\\alpha}} \\cos{\\left (t \\left(\\omega - \\frac{\\beta \\mu}{\\alpha}\\right) + \\theta_{0} \\right )}$$"
      ],
      "text/plain": [
       "    _____                      \n",
       "   ╱ -μ      ⎛  ⎛    β⋅μ⎞     ⎞\n",
       "  ╱  ─── ⋅cos⎜t⋅⎜ω - ───⎟ + θ₀⎟\n",
       "╲╱    α      ⎝  ⎝     α ⎠     ⎠"
      ]
     },
     "execution_count": 227,
     "metadata": {},
     "output_type": "execute_result"
    }
   ],
   "source": [
    "X0 = sp.sqrt(-(mu/alpha))*sp.cos((omega-(beta*mu)/alpha)*t + theta0)\n",
    "X0"
   ]
  },
  {
   "cell_type": "code",
   "execution_count": 228,
   "metadata": {
    "collapsed": false
   },
   "outputs": [
    {
     "data": {
      "text/latex": [
       "$$\\sqrt{- \\frac{\\mu}{\\alpha}} \\sin{\\left (t \\left(\\omega - \\frac{\\beta \\mu}{\\alpha}\\right) + \\theta_{0} \\right )}$$"
      ],
      "text/plain": [
       "    _____                      \n",
       "   ╱ -μ      ⎛  ⎛    β⋅μ⎞     ⎞\n",
       "  ╱  ─── ⋅sin⎜t⋅⎜ω - ───⎟ + θ₀⎟\n",
       "╲╱    α      ⎝  ⎝     α ⎠     ⎠"
      ]
     },
     "execution_count": 228,
     "metadata": {},
     "output_type": "execute_result"
    }
   ],
   "source": [
    "Y0 = sp.sqrt(-(mu/alpha))*sp.sin((omega-(beta*mu)/alpha)*t + theta0)\n",
    "Y0"
   ]
  },
  {
   "cell_type": "markdown",
   "metadata": {},
   "source": [
    "**Define original ODE's:**"
   ]
  },
  {
   "cell_type": "code",
   "execution_count": 202,
   "metadata": {
    "collapsed": false
   },
   "outputs": [
    {
     "data": {
      "text/latex": [
       "$$\\mu x - \\omega y + \\left(x^{2} + y^{2}\\right) \\left(\\alpha x - \\beta y\\right)$$"
      ],
      "text/plain": [
       "            ⎛ 2    2⎞            \n",
       "μ⋅x - ω⋅y + ⎝x  + y ⎠⋅(α⋅x - β⋅y)"
      ]
     },
     "execution_count": 202,
     "metadata": {},
     "output_type": "execute_result"
    }
   ],
   "source": [
    "xdot = mu*x - omega*y + (alpha*x - beta*y)*(x**2 + y**2)\n",
    "xdot.simplify()"
   ]
  },
  {
   "cell_type": "code",
   "execution_count": 219,
   "metadata": {
    "collapsed": false
   },
   "outputs": [
    {
     "data": {
      "text/latex": [
       "$$\\mu y + \\omega x - \\left(x^{2} + y^{2}\\right) \\left(\\alpha y - \\beta x\\right)$$"
      ],
      "text/plain": [
       "            ⎛ 2    2⎞            \n",
       "μ⋅y + ω⋅x - ⎝x  + y ⎠⋅(α⋅y - β⋅x)"
      ]
     },
     "execution_count": 219,
     "metadata": {},
     "output_type": "execute_result"
    }
   ],
   "source": [
    "ydot = omega*x + mu*y + (beta*x - alpha*y)*(x**2 + y**2)\n",
    "ydot.simplify()"
   ]
  },
  {
   "cell_type": "markdown",
   "metadata": {},
   "source": [
    "**Define problem in state space vector form to make it easier to calculate Jacobian**"
   ]
  },
  {
   "cell_type": "code",
   "execution_count": 221,
   "metadata": {
    "collapsed": false
   },
   "outputs": [
    {
     "data": {
      "text/latex": [
       "$$\\left[\\begin{matrix}\\mu x - \\omega y + \\left(x^{2} + y^{2}\\right) \\left(\\alpha x - \\beta y\\right)\\\\\\mu y + \\omega x + \\left(x^{2} + y^{2}\\right) \\left(- \\alpha y + \\beta x\\right)\\end{matrix}\\right]$$"
      ],
      "text/plain": [
       "⎡            ⎛ 2    2⎞             ⎤\n",
       "⎢μ⋅x - ω⋅y + ⎝x  + y ⎠⋅(α⋅x - β⋅y) ⎥\n",
       "⎢                                  ⎥\n",
       "⎢            ⎛ 2    2⎞             ⎥\n",
       "⎣μ⋅y + ω⋅x + ⎝x  + y ⎠⋅(-α⋅y + β⋅x)⎦"
      ]
     },
     "execution_count": 221,
     "metadata": {},
     "output_type": "execute_result"
    }
   ],
   "source": [
    "f = sp.Matrix([xdot, ydot])\n",
    "f"
   ]
  },
  {
   "cell_type": "markdown",
   "metadata": {},
   "source": [
    "**Get Jacobian**"
   ]
  },
  {
   "cell_type": "code",
   "execution_count": 224,
   "metadata": {
    "collapsed": false
   },
   "outputs": [
    {
     "data": {
      "text/latex": [
       "$$\\left[\\begin{matrix}3 \\alpha x^{2} + \\alpha y^{2} - 2 \\beta x y + \\mu & 2 \\alpha x y - \\beta x^{2} - 3 \\beta y^{2} - \\omega\\\\- 2 \\alpha x y + 3 \\beta x^{2} + \\beta y^{2} + \\omega & - \\alpha x^{2} - 3 \\alpha y^{2} + 2 \\beta x y + \\mu\\end{matrix}\\right]$$"
      ],
      "text/plain": [
       "⎡     2      2                               2        2     ⎤\n",
       "⎢3⋅α⋅x  + α⋅y  - 2⋅β⋅x⋅y + μ    2⋅α⋅x⋅y - β⋅x  - 3⋅β⋅y  - ω ⎥\n",
       "⎢                                                           ⎥\n",
       "⎢                2      2           2        2              ⎥\n",
       "⎣-2⋅α⋅x⋅y + 3⋅β⋅x  + β⋅y  + ω  - α⋅x  - 3⋅α⋅y  + 2⋅β⋅x⋅y + μ⎦"
      ]
     },
     "execution_count": 224,
     "metadata": {},
     "output_type": "execute_result"
    }
   ],
   "source": [
    "F=f.jacobian([x, y])\n",
    "F.expand()"
   ]
  },
  {
   "cell_type": "markdown",
   "metadata": {},
   "source": [
    "**Next substitute in $X_0$ and $Y_0$ solutions**"
   ]
  },
  {
   "cell_type": "code",
   "execution_count": 229,
   "metadata": {
    "collapsed": false
   },
   "outputs": [
    {
     "data": {
      "text/latex": [
       "$$\\left[\\begin{matrix}- \\frac{-2}{\\alpha} \\beta \\mu \\sin{\\left (t \\left(\\omega - \\frac{\\beta \\mu}{\\alpha}\\right) + \\theta_{0} \\right )} \\cos{\\left (t \\left(\\omega - \\frac{\\beta \\mu}{\\alpha}\\right) + \\theta_{0} \\right )} - \\mu \\sin^{2}{\\left (t \\left(\\omega - \\frac{\\beta \\mu}{\\alpha}\\right) + \\theta_{0} \\right )} - 3 \\mu \\cos^{2}{\\left (t \\left(\\omega - \\frac{\\beta \\mu}{\\alpha}\\right) + \\theta_{0} \\right )} + \\mu & 2 \\alpha - \\frac{\\mu}{\\alpha} \\sin{\\left (t \\left(\\omega - \\frac{\\beta \\mu}{\\alpha}\\right) + \\theta_{0} \\right )} \\cos{\\left (t \\left(\\omega - \\frac{\\beta \\mu}{\\alpha}\\right) + \\theta_{0} \\right )} - \\omega + \\frac{3 \\beta}{\\alpha} \\mu \\sin^{2}{\\left (t \\left(\\omega - \\frac{\\beta \\mu}{\\alpha}\\right) + \\theta_{0} \\right )} + \\frac{\\beta \\mu}{\\alpha} \\cos^{2}{\\left (t \\left(\\omega - \\frac{\\beta \\mu}{\\alpha}\\right) + \\theta_{0} \\right )}\\\\- -1 \\cdot 2 \\mu \\sin{\\left (t \\left(\\omega - \\frac{\\beta \\mu}{\\alpha}\\right) + \\theta_{0} \\right )} \\cos{\\left (t \\left(\\omega - \\frac{\\beta \\mu}{\\alpha}\\right) + \\theta_{0} \\right )} + \\omega - \\frac{\\beta \\mu}{\\alpha} \\sin^{2}{\\left (t \\left(\\omega - \\frac{\\beta \\mu}{\\alpha}\\right) + \\theta_{0} \\right )} - \\frac{3 \\beta}{\\alpha} \\mu \\cos^{2}{\\left (t \\left(\\omega - \\frac{\\beta \\mu}{\\alpha}\\right) + \\theta_{0} \\right )} & 2 \\beta - \\frac{\\mu}{\\alpha} \\sin{\\left (t \\left(\\omega - \\frac{\\beta \\mu}{\\alpha}\\right) + \\theta_{0} \\right )} \\cos{\\left (t \\left(\\omega - \\frac{\\beta \\mu}{\\alpha}\\right) + \\theta_{0} \\right )} + 3 \\mu \\sin^{2}{\\left (t \\left(\\omega - \\frac{\\beta \\mu}{\\alpha}\\right) + \\theta_{0} \\right )} + \\mu \\cos^{2}{\\left (t \\left(\\omega - \\frac{\\beta \\mu}{\\alpha}\\right) + \\theta_{0} \\right )} + \\mu\\end{matrix}\\right]$$"
      ],
      "text/plain": [
       "⎡                                                                             \n",
       "⎢                                                                             \n",
       "⎢        -μ     ⎛  ⎛    β⋅μ⎞     ⎞    ⎛  ⎛    β⋅μ⎞     ⎞        2⎛  ⎛    β⋅μ⎞ \n",
       "⎢  - 2⋅β⋅───⋅sin⎜t⋅⎜ω - ───⎟ + θ₀⎟⋅cos⎜t⋅⎜ω - ───⎟ + θ₀⎟ - μ⋅sin ⎜t⋅⎜ω - ───⎟ \n",
       "⎢         α     ⎝  ⎝     α ⎠     ⎠    ⎝  ⎝     α ⎠     ⎠         ⎝  ⎝     α ⎠ \n",
       "⎢                                                                             \n",
       "⎢                                                                   2⎛  ⎛    β\n",
       "⎢                                                            β⋅μ⋅sin ⎜t⋅⎜ω - ─\n",
       "⎢      -μ     ⎛  ⎛    β⋅μ⎞     ⎞    ⎛  ⎛    β⋅μ⎞     ⎞               ⎝  ⎝     \n",
       "⎢- 2⋅α⋅───⋅sin⎜t⋅⎜ω - ───⎟ + θ₀⎟⋅cos⎜t⋅⎜ω - ───⎟ + θ₀⎟ + ω - ─────────────────\n",
       "⎣       α     ⎝  ⎝     α ⎠     ⎠    ⎝  ⎝     α ⎠     ⎠                   α    \n",
       "\n",
       "                                                                              \n",
       "                                                                              \n",
       "    ⎞          2⎛  ⎛    β⋅μ⎞     ⎞            -μ     ⎛  ⎛    β⋅μ⎞     ⎞    ⎛  \n",
       "+ θ₀⎟ - 3⋅μ⋅cos ⎜t⋅⎜ω - ───⎟ + θ₀⎟ + μ    2⋅α⋅───⋅sin⎜t⋅⎜ω - ───⎟ + θ₀⎟⋅cos⎜t⋅\n",
       "    ⎠           ⎝  ⎝     α ⎠     ⎠             α     ⎝  ⎝     α ⎠     ⎠    ⎝  \n",
       "                                                                              \n",
       "⋅μ⎞     ⎞            2⎛  ⎛    β⋅μ⎞     ⎞                                      \n",
       "──⎟ + θ₀⎟   3⋅β⋅μ⋅cos ⎜t⋅⎜ω - ───⎟ + θ₀⎟                                      \n",
       "α ⎠     ⎠             ⎝  ⎝     α ⎠     ⎠        -μ     ⎛  ⎛    β⋅μ⎞     ⎞    ⎛\n",
       "───────── - ────────────────────────────    2⋅β⋅───⋅sin⎜t⋅⎜ω - ───⎟ + θ₀⎟⋅cos⎜\n",
       "                         α                       α     ⎝  ⎝     α ⎠     ⎠    ⎝\n",
       "\n",
       "                               2⎛  ⎛    β⋅μ⎞     ⎞          2⎛  ⎛    β⋅μ⎞     \n",
       "                      3⋅β⋅μ⋅sin ⎜t⋅⎜ω - ───⎟ + θ₀⎟   β⋅μ⋅cos ⎜t⋅⎜ω - ───⎟ + θ₀\n",
       "⎛    β⋅μ⎞     ⎞                 ⎝  ⎝     α ⎠     ⎠           ⎝  ⎝     α ⎠     \n",
       "⎜ω - ───⎟ + θ₀⎟ - ω + ──────────────────────────── + ─────────────────────────\n",
       "⎝     α ⎠     ⎠                    α                             α            \n",
       "                                                                              \n",
       "                                                                              \n",
       "                                                                              \n",
       "  ⎛    β⋅μ⎞     ⎞          2⎛  ⎛    β⋅μ⎞     ⎞        2⎛  ⎛    β⋅μ⎞     ⎞     \n",
       "t⋅⎜ω - ───⎟ + θ₀⎟ + 3⋅μ⋅sin ⎜t⋅⎜ω - ───⎟ + θ₀⎟ + μ⋅cos ⎜t⋅⎜ω - ───⎟ + θ₀⎟ + μ \n",
       "  ⎝     α ⎠     ⎠           ⎝  ⎝     α ⎠     ⎠         ⎝  ⎝     α ⎠     ⎠     \n",
       "\n",
       "⎞⎤\n",
       "⎟⎥\n",
       "⎠⎥\n",
       "─⎥\n",
       " ⎥\n",
       " ⎥\n",
       " ⎥\n",
       " ⎥\n",
       " ⎥\n",
       " ⎥\n",
       " ⎦"
      ]
     },
     "execution_count": 229,
     "metadata": {},
     "output_type": "execute_result"
    }
   ],
   "source": [
    "Fs = F.expand().subs(x, X0).subs(y, Y0)\n",
    "Fs"
   ]
  },
  {
   "cell_type": "markdown",
   "metadata": {},
   "source": [
    "**Next use double angle identities to simplify the expressions**"
   ]
  },
  {
   "cell_type": "code",
   "execution_count": 274,
   "metadata": {
    "collapsed": false
   },
   "outputs": [
    {
     "data": {
      "text/latex": [
       "$$\\frac{\\mu}{\\alpha} \\left(- \\alpha \\left(\\cos{\\left (2 \\omega t + 2 \\theta_{0} - \\frac{2 \\beta}{\\alpha} \\mu t \\right )} + 1\\right) + \\beta \\sin{\\left (2 \\omega t + 2 \\theta_{0} - \\frac{2 \\beta}{\\alpha} \\mu t \\right )}\\right)$$"
      ],
      "text/plain": [
       "  ⎛    ⎛   ⎛               2⋅β⋅μ⋅t⎞    ⎞        ⎛               2⋅β⋅μ⋅t⎞⎞\n",
       "μ⋅⎜- α⋅⎜cos⎜2⋅ω⋅t + 2⋅θ₀ - ───────⎟ + 1⎟ + β⋅sin⎜2⋅ω⋅t + 2⋅θ₀ - ───────⎟⎟\n",
       "  ⎝    ⎝   ⎝                  α   ⎠    ⎠        ⎝                  α   ⎠⎠\n",
       "─────────────────────────────────────────────────────────────────────────\n",
       "                                    α                                    "
      ]
     },
     "metadata": {},
     "output_type": "display_data"
    },
    {
     "data": {
      "text/latex": [
       "$$\\frac{1}{\\alpha} \\left(- \\alpha \\mu \\sin{\\left (2 \\omega t + 2 \\theta_{0} - \\frac{2 \\beta}{\\alpha} \\mu t \\right )} - \\alpha \\omega - \\beta \\mu \\cos{\\left (2 \\omega t + 2 \\theta_{0} - \\frac{2 \\beta}{\\alpha} \\mu t \\right )} + 2 \\beta \\mu\\right)$$"
      ],
      "text/plain": [
       "         ⎛               2⋅β⋅μ⋅t⎞                ⎛               2⋅β⋅μ⋅t⎞     \n",
       "- α⋅μ⋅sin⎜2⋅ω⋅t + 2⋅θ₀ - ───────⎟ - α⋅ω - β⋅μ⋅cos⎜2⋅ω⋅t + 2⋅θ₀ - ───────⎟ + 2⋅\n",
       "         ⎝                  α   ⎠                ⎝                  α   ⎠     \n",
       "──────────────────────────────────────────────────────────────────────────────\n",
       "                                        α                                     \n",
       "\n",
       "   \n",
       "β⋅μ\n",
       "   \n",
       "───\n",
       "   "
      ]
     },
     "metadata": {},
     "output_type": "display_data"
    },
    {
     "data": {
      "text/latex": [
       "$$\\frac{1}{\\alpha} \\left(\\alpha \\mu \\sin{\\left (2 \\omega t + 2 \\theta_{0} - \\frac{2 \\beta}{\\alpha} \\mu t \\right )} + \\alpha \\omega - \\beta \\mu \\cos{\\left (2 \\omega t + 2 \\theta_{0} - \\frac{2 \\beta}{\\alpha} \\mu t \\right )} - 2 \\beta \\mu\\right)$$"
      ],
      "text/plain": [
       "       ⎛               2⋅β⋅μ⋅t⎞                ⎛               2⋅β⋅μ⋅t⎞       \n",
       "α⋅μ⋅sin⎜2⋅ω⋅t + 2⋅θ₀ - ───────⎟ + α⋅ω - β⋅μ⋅cos⎜2⋅ω⋅t + 2⋅θ₀ - ───────⎟ - 2⋅β⋅\n",
       "       ⎝                  α   ⎠                ⎝                  α   ⎠       \n",
       "──────────────────────────────────────────────────────────────────────────────\n",
       "                                       α                                      \n",
       "\n",
       " \n",
       "μ\n",
       " \n",
       "─\n",
       " "
      ]
     },
     "metadata": {},
     "output_type": "display_data"
    },
    {
     "data": {
      "text/latex": [
       "$$\\frac{\\mu}{\\alpha} \\left(\\alpha \\left(- \\cos{\\left (2 \\omega t + 2 \\theta_{0} - \\frac{2 \\beta}{\\alpha} \\mu t \\right )} + 3\\right) - \\beta \\sin{\\left (2 \\omega t + 2 \\theta_{0} - \\frac{2 \\beta}{\\alpha} \\mu t \\right )}\\right)$$"
      ],
      "text/plain": [
       "  ⎛  ⎛     ⎛               2⋅β⋅μ⋅t⎞    ⎞        ⎛               2⋅β⋅μ⋅t⎞⎞\n",
       "μ⋅⎜α⋅⎜- cos⎜2⋅ω⋅t + 2⋅θ₀ - ───────⎟ + 3⎟ - β⋅sin⎜2⋅ω⋅t + 2⋅θ₀ - ───────⎟⎟\n",
       "  ⎝  ⎝     ⎝                  α   ⎠    ⎠        ⎝                  α   ⎠⎠\n",
       "─────────────────────────────────────────────────────────────────────────\n",
       "                                    α                                    "
      ]
     },
     "metadata": {},
     "output_type": "display_data"
    }
   ],
   "source": [
    "Ft = Fs.subs(sp.sin((omega - (beta*mu)/alpha)*t + theta0)**2,\\\n",
    "                   -sp.nsimplify(1/2)*sp.cos(2*((omega-(beta*mu)/alpha)*t + theta0)) + sp.nsimplify(1/2))\\\n",
    "                    .subs(sp.cos((omega - (beta*mu)/alpha)*t + theta0)**2,\\\n",
    "                         sp.nsimplify(1/2)*sp.cos(2*((omega-(beta*mu)/alpha)*t + theta0)) + sp.nsimplify(1/2))\n",
    "display(Ft[0,0].simplify())\n",
    "display(Ft[0,1].simplify())\n",
    "display(Ft[1,0].simplify())\n",
    "display(Ft[1,1].simplify())"
   ]
  },
  {
   "cell_type": "markdown",
   "metadata": {},
   "source": [
    "**Next substitute following expression $\\theta = (\\omega - \\frac{\\beta \\mu}{\\alpha})t + \\theta_0$. Done elementwise because sympy is being a punk**"
   ]
  },
  {
   "cell_type": "code",
   "execution_count": 275,
   "metadata": {
    "collapsed": false
   },
   "outputs": [
    {
     "data": {
      "text/latex": [
       "$$\\frac{\\mu}{\\alpha} \\left(- \\alpha \\left(\\cos{\\left (2 \\theta \\right )} + 1\\right) + \\beta \\sin{\\left (2 \\theta \\right )}\\right)$$"
      ],
      "text/plain": [
       "μ⋅(-α⋅(cos(2⋅θ) + 1) + β⋅sin(2⋅θ))\n",
       "──────────────────────────────────\n",
       "                α                 "
      ]
     },
     "metadata": {},
     "output_type": "display_data"
    },
    {
     "data": {
      "text/latex": [
       "$$\\frac{1}{\\alpha} \\left(- \\alpha \\mu \\sin{\\left (2 \\theta \\right )} - \\alpha \\omega - \\beta \\mu \\cos{\\left (2 \\theta \\right )} + 2 \\beta \\mu\\right)$$"
      ],
      "text/plain": [
       "-α⋅μ⋅sin(2⋅θ) - α⋅ω - β⋅μ⋅cos(2⋅θ) + 2⋅β⋅μ\n",
       "──────────────────────────────────────────\n",
       "                    α                     "
      ]
     },
     "metadata": {},
     "output_type": "display_data"
    },
    {
     "data": {
      "text/latex": [
       "$$\\frac{1}{\\alpha} \\left(\\alpha \\mu \\sin{\\left (2 \\theta \\right )} + \\alpha \\omega - \\beta \\mu \\cos{\\left (2 \\theta \\right )} - 2 \\beta \\mu\\right)$$"
      ],
      "text/plain": [
       "α⋅μ⋅sin(2⋅θ) + α⋅ω - β⋅μ⋅cos(2⋅θ) - 2⋅β⋅μ\n",
       "─────────────────────────────────────────\n",
       "                    α                    "
      ]
     },
     "metadata": {},
     "output_type": "display_data"
    },
    {
     "data": {
      "text/latex": [
       "$$\\frac{\\mu}{\\alpha} \\left(\\alpha \\left(- \\cos{\\left (2 \\theta \\right )} + 3\\right) - \\beta \\sin{\\left (2 \\theta \\right )}\\right)$$"
      ],
      "text/plain": [
       "μ⋅(α⋅(-cos(2⋅θ) + 3) - β⋅sin(2⋅θ))\n",
       "──────────────────────────────────\n",
       "                α                 "
      ]
     },
     "metadata": {},
     "output_type": "display_data"
    }
   ],
   "source": [
    "Ft[0,0] = Ft[0,0].simplify().subs(2*omega*t + 2*theta0 - (2*beta*mu*t)/alpha, 2*theta)\n",
    "display(Ft[0,0])\n",
    "Ft[0,1] = Ft[0,1].simplify().subs(2*omega*t + 2*theta0 - (2*beta*mu*t)/alpha, 2*theta)\n",
    "display(Ft[0,1])\n",
    "Ft[1,0] = Ft[1,0].simplify().subs(2*omega*t + 2*theta0 - (2*beta*mu*t)/alpha, 2*theta)\n",
    "display(Ft[1,0])\n",
    "Ft[1,1] = Ft[1,1].simplify().subs(2*omega*t + 2*theta0 - (2*beta*mu*t)/alpha, 2*theta)\n",
    "display(Ft[1,1])"
   ]
  },
  {
   "cell_type": "markdown",
   "metadata": {},
   "source": [
    "**Finally $A(\\theta)$ takes following form:**"
   ]
  },
  {
   "cell_type": "code",
   "execution_count": 276,
   "metadata": {
    "collapsed": false
   },
   "outputs": [
    {
     "data": {
      "text/latex": [
       "$$\\left[\\begin{matrix}\\frac{\\mu}{\\alpha} \\left(- \\alpha \\left(\\cos{\\left (2 \\theta \\right )} + 1\\right) + \\beta \\sin{\\left (2 \\theta \\right )}\\right) & \\frac{1}{\\alpha} \\left(- \\alpha \\mu \\sin{\\left (2 \\theta \\right )} - \\alpha \\omega - \\beta \\mu \\cos{\\left (2 \\theta \\right )} + 2 \\beta \\mu\\right)\\\\\\frac{1}{\\alpha} \\left(\\alpha \\mu \\sin{\\left (2 \\theta \\right )} + \\alpha \\omega - \\beta \\mu \\cos{\\left (2 \\theta \\right )} - 2 \\beta \\mu\\right) & \\frac{\\mu}{\\alpha} \\left(\\alpha \\left(- \\cos{\\left (2 \\theta \\right )} + 3\\right) - \\beta \\sin{\\left (2 \\theta \\right )}\\right)\\end{matrix}\\right]$$"
      ],
      "text/plain": [
       "⎡   μ⋅(-α⋅(cos(2⋅θ) + 1) + β⋅sin(2⋅θ))      -α⋅μ⋅sin(2⋅θ) - α⋅ω - β⋅μ⋅cos(2⋅θ)\n",
       "⎢   ──────────────────────────────────      ──────────────────────────────────\n",
       "⎢                   α                                           α             \n",
       "⎢                                                                             \n",
       "⎢α⋅μ⋅sin(2⋅θ) + α⋅ω - β⋅μ⋅cos(2⋅θ) - 2⋅β⋅μ      μ⋅(α⋅(-cos(2⋅θ) + 3) - β⋅sin(2\n",
       "⎢─────────────────────────────────────────      ──────────────────────────────\n",
       "⎣                    α                                          α             \n",
       "\n",
       " + 2⋅β⋅μ⎤\n",
       "────────⎥\n",
       "        ⎥\n",
       "        ⎥\n",
       "⋅θ))    ⎥\n",
       "────    ⎥\n",
       "        ⎦"
      ]
     },
     "execution_count": 276,
     "metadata": {},
     "output_type": "execute_result"
    }
   ],
   "source": [
    "Ft"
   ]
  },
  {
   "cell_type": "markdown",
   "metadata": {},
   "source": [
    "**In order to perform the analysis need to convert the system into a autonomous system by replacing independent variable $t$ by $\\theta$.**  \n",
    "\n",
    "**As a reminder, $\\theta = (\\omega - \\frac{\\beta \\mu}{\\alpha})t + \\theta_0$ and $\\dot{\\theta} = \\omega - \\frac{\\beta\\ \\mu}{\\alpha}$**  \n",
    "\n",
    "**In order to switch independent variables do following steps, which will include Chain Rule.**\n",
    "\n",
    "**Starting with $\\dot{\\zeta} = A(\\theta)\\zeta$, need to apply Chain Rule to term $\\dot{\\zeta}$**\n",
    "\n",
    "** $\\frac{d\\zeta}{dt} = \\frac{d\\zeta}{d\\theta} \\frac{d\\theta}{dt} = \\frac{d\\zeta}{d\\theta} \\dot{\\theta} = \\frac{d\\zeta}{d\\theta} (\\omega - \\frac{\\beta\\ \\mu}{\\alpha})$**  \n",
    "\n",
    "**Now expression becomes:**  \n",
    "\n",
    "**$\\frac{d\\zeta}{d\\theta} = \\frac{1}{\\omega - \\frac{\\beta\\ \\mu}{\\alpha}}A(\\theta) \\zeta$**"
   ]
  },
  {
   "cell_type": "markdown",
   "metadata": {},
   "source": [
    "**For $\\omega = 1,\\ \\beta = 1,\\ \\mu = 1$, and $\\alpha = -1$, matrix A becomes**"
   ]
  },
  {
   "cell_type": "code",
   "execution_count": 277,
   "metadata": {
    "collapsed": false
   },
   "outputs": [
    {
     "data": {
      "text/latex": [
       "$$\\left[\\begin{matrix}- \\sin{\\left (2 \\theta \\right )} - \\cos{\\left (2 \\theta \\right )} - 1 & - \\sin{\\left (2 \\theta \\right )} + \\cos{\\left (2 \\theta \\right )} - 3\\\\\\sin{\\left (2 \\theta \\right )} + \\cos{\\left (2 \\theta \\right )} + 3 & \\sin{\\left (2 \\theta \\right )} - \\cos{\\left (2 \\theta \\right )} + 3\\end{matrix}\\right]$$"
      ],
      "text/plain": [
       "⎡-sin(2⋅θ) - cos(2⋅θ) - 1  -sin(2⋅θ) + cos(2⋅θ) - 3⎤\n",
       "⎢                                                  ⎥\n",
       "⎣sin(2⋅θ) + cos(2⋅θ) + 3   sin(2⋅θ) - cos(2⋅θ) + 3 ⎦"
      ]
     },
     "execution_count": 277,
     "metadata": {},
     "output_type": "execute_result"
    }
   ],
   "source": [
    "Fsol = Ft.subs(omega, 1).subs(beta, 1).subs(mu, 1).subs(alpha, -1)\n",
    "Fsol"
   ]
  },
  {
   "cell_type": "markdown",
   "metadata": {},
   "source": [
    "**Period for the numerical integration is: $T = \\frac{2\\pi}{\\omega - \\frac{\\beta \\mu}{\\alpha}}$**"
   ]
  },
  {
   "cell_type": "code",
   "execution_count": 280,
   "metadata": {
    "collapsed": false
   },
   "outputs": [
    {
     "data": {
      "text/latex": [
       "$$1.5707963267949$$"
      ],
      "text/plain": [
       "1.57079632679490"
      ]
     },
     "execution_count": 280,
     "metadata": {},
     "output_type": "execute_result"
    }
   ],
   "source": [
    "T = np.pi/(omega - (beta*mu)/alpha).subs(omega, 1).subs(beta, 1).subs(mu, 1).subs(alpha, -1)\n",
    "T"
   ]
  },
  {
   "cell_type": "code",
   "execution_count": 308,
   "metadata": {
    "collapsed": false
   },
   "outputs": [
    {
     "data": {
      "text/latex": [
       "$$\\left[\\begin{matrix}\\zeta_{1}\\\\\\zeta_{2}\\end{matrix}\\right]$$"
      ],
      "text/plain": [
       "⎡ζ₁⎤\n",
       "⎢  ⎥\n",
       "⎣ζ₂⎦"
      ]
     },
     "execution_count": 308,
     "metadata": {},
     "output_type": "execute_result"
    }
   ],
   "source": [
    "vec=sp.Matrix([zeta1, zeta2])\n",
    "vec"
   ]
  },
  {
   "cell_type": "code",
   "execution_count": 366,
   "metadata": {
    "collapsed": false
   },
   "outputs": [
    {
     "data": {
      "text/latex": [
       "$$\\left[\\begin{matrix}\\frac{x_{1}}{2} \\left(- \\sin{\\left (2 t \\right )} - \\cos{\\left (2 t \\right )} - 1\\right) + \\frac{x_{2}}{2} \\left(- \\sin{\\left (2 t \\right )} + \\cos{\\left (2 t \\right )} - 3\\right)\\\\\\frac{x_{1}}{2} \\left(\\sin{\\left (2 t \\right )} + \\cos{\\left (2 t \\right )} + 3\\right) + \\frac{x_{2}}{2} \\left(\\sin{\\left (2 t \\right )} - \\cos{\\left (2 t \\right )} + 3\\right)\\end{matrix}\\right]$$"
      ],
      "text/plain": [
       "⎡x₁⋅(-sin(2⋅t) - cos(2⋅t) - 1)   x₂⋅(-sin(2⋅t) + cos(2⋅t) - 3)⎤\n",
       "⎢───────────────────────────── + ─────────────────────────────⎥\n",
       "⎢              2                               2              ⎥\n",
       "⎢                                                             ⎥\n",
       "⎢ x₁⋅(sin(2⋅t) + cos(2⋅t) + 3)   x₂⋅(sin(2⋅t) - cos(2⋅t) + 3) ⎥\n",
       "⎢ ──────────────────────────── + ──────────────────────────── ⎥\n",
       "⎣              2                              2               ⎦"
      ]
     },
     "execution_count": 366,
     "metadata": {},
     "output_type": "execute_result"
    }
   ],
   "source": [
    "EqODE = (omega-(beta*mu)/alpha)**-1*(Fsol*vec).subs(theta, t).subs(zeta1, x1).subs(zeta2, x2)\n",
    "\n",
    "EqODE = EqODE.subs(omega, 1).subs(beta, 1).subs(mu, 1).subs(alpha, -1)\n",
    "EqODE"
   ]
  },
  {
   "cell_type": "code",
   "execution_count": 367,
   "metadata": {
    "collapsed": false
   },
   "outputs": [
    {
     "data": {
      "text/plain": [
       "matrix([[x1*(-sin(2*t) - cos(2*t) - 1)/2 + x2*(-sin(2*t) + cos(2*t) - 3)/2,\n",
       "         x1*(sin(2*t) + cos(2*t) + 3)/2 + x2*(sin(2*t) - cos(2*t) + 3)/2]], dtype=object)"
      ]
     },
     "execution_count": 367,
     "metadata": {},
     "output_type": "execute_result"
    }
   ],
   "source": [
    "EqODE_np = np.matrix([EqODE])\n",
    "EqODE_np"
   ]
  },
  {
   "cell_type": "code",
   "execution_count": 382,
   "metadata": {
    "collapsed": false
   },
   "outputs": [
    {
     "name": "stdout",
     "output_type": "stream",
     "text": [
      "90.9554818147\n",
      "135.347452586\n"
     ]
    }
   ],
   "source": [
    "import matplotlib.pyplot as plt\n",
    "from scipy.integrate import odeint\n",
    "\n",
    "def deriv(x1_x2, t):\n",
    "    x1, x2 = x1_x2\n",
    "    return np.array([x1*(-np.sin(2*t) - np.cos(2*t) - 1)/2 + x2*(-np.sin(2*t) + np.cos(2*t) - 3)/2,\\\n",
    "                                x1*(np.sin(2*t) + np.cos(2*t) + 3)/2 + x2*(np.sin(2*t) - np.cos(2*t) + 3)/2])\n",
    "\n",
    "time = np.linspace(0.0, 2*np.pi, 500)\n",
    "xinit=np.array([1,0])\n",
    "x = odeint(deriv, xinit, time)\n",
    "\n",
    "fig = plt.figure()\n",
    "plt.plot(time, x[:,0])\n",
    "#plt.axis([0, 150, -0.25, 0.25])\n",
    "plt.grid()\n",
    "plt.show()\n",
    "\n",
    "value1 = x[-1,0]\n",
    "print(value1)\n",
    "value2 = x[-1,1]\n",
    "print(value2)"
   ]
  },
  {
   "cell_type": "code",
   "execution_count": 329,
   "metadata": {
    "collapsed": false
   },
   "outputs": [
    {
     "data": {
      "text/latex": [
       "$$- \\frac{\\mu}{\\alpha} \\left(\\alpha \\cos{\\left (2 \\theta \\right )} + \\alpha - \\beta \\sin{\\left (2 \\theta \\right )}\\right)$$"
      ],
      "text/plain": [
       "-μ⋅(α⋅cos(2⋅θ) + α - β⋅sin(2⋅θ)) \n",
       "─────────────────────────────────\n",
       "                α                "
      ]
     },
     "metadata": {},
     "output_type": "display_data"
    },
    {
     "data": {
      "text/latex": [
       "$$- \\frac{\\mu}{\\alpha} \\left(\\alpha \\sin{\\left (2 \\theta \\right )} + \\frac{\\alpha \\omega}{\\mu} + \\beta \\cos{\\left (2 \\theta \\right )} - 2 \\beta\\right)$$"
      ],
      "text/plain": [
       "   ⎛             α⋅ω                   ⎞ \n",
       "-μ⋅⎜α⋅sin(2⋅θ) + ─── + β⋅cos(2⋅θ) - 2⋅β⎟ \n",
       "   ⎝              μ                    ⎠ \n",
       "─────────────────────────────────────────\n",
       "                    α                    "
      ]
     },
     "metadata": {},
     "output_type": "display_data"
    },
    {
     "data": {
      "text/latex": [
       "$$- \\frac{\\mu}{\\alpha} \\left(\\alpha \\mu \\omega + \\alpha \\sin{\\left (2 \\theta \\right )} + \\beta \\cos{\\left (2 \\theta \\right )} + 2 \\beta\\right)$$"
      ],
      "text/plain": [
       "-μ⋅(α⋅μ⋅ω + α⋅sin(2⋅θ) + β⋅cos(2⋅θ) + 2⋅β) \n",
       "───────────────────────────────────────────\n",
       "                     α                     "
      ]
     },
     "metadata": {},
     "output_type": "display_data"
    },
    {
     "data": {
      "text/latex": [
       "$$- \\frac{\\mu}{\\alpha} \\left(- \\alpha \\cos{\\left (2 \\theta \\right )} + \\alpha + \\beta \\sin{\\left (2 \\theta \\right )}\\right)$$"
      ],
      "text/plain": [
       "-μ⋅(-α⋅cos(2⋅θ) + α + β⋅sin(2⋅θ)) \n",
       "──────────────────────────────────\n",
       "                α                 "
      ]
     },
     "metadata": {},
     "output_type": "display_data"
    }
   ],
   "source": [
    "A11 = -(mu/alpha)*(alpha + alpha*sp.cos(2*theta) - beta*sp.sin(2*theta))\n",
    "A12 = -(mu/alpha)*((omega*alpha)/mu - 2*beta + beta*sp.cos(2*theta) + alpha*sp.sin(2*theta))\n",
    "A21 = -(mu/alpha)*(omega*alpha*mu + 2*beta + beta*sp.cos(2*theta) + alpha*sp.sin(2*theta))\n",
    "A22 = -(mu/alpha)*(alpha - alpha*sp.cos(2*theta) + beta*sp.sin(2*theta))\n",
    "display(A11, A12, A21, A22)"
   ]
  },
  {
   "cell_type": "code",
   "execution_count": 332,
   "metadata": {
    "collapsed": false
   },
   "outputs": [
    {
     "data": {
      "text/latex": [
       "$$\\left[\\begin{matrix}- \\frac{\\mu}{\\alpha \\left(\\omega - \\frac{\\beta \\mu}{\\alpha}\\right)} \\left(\\alpha \\cos{\\left (2 \\theta \\right )} + \\alpha - \\beta \\sin{\\left (2 \\theta \\right )}\\right) & - \\frac{\\mu}{\\alpha \\left(\\omega - \\frac{\\beta \\mu}{\\alpha}\\right)} \\left(\\alpha \\sin{\\left (2 \\theta \\right )} + \\frac{\\alpha \\omega}{\\mu} + \\beta \\cos{\\left (2 \\theta \\right )} - 2 \\beta\\right)\\\\- \\frac{\\mu}{\\alpha \\left(\\omega - \\frac{\\beta \\mu}{\\alpha}\\right)} \\left(\\alpha \\mu \\omega + \\alpha \\sin{\\left (2 \\theta \\right )} + \\beta \\cos{\\left (2 \\theta \\right )} + 2 \\beta\\right) & - \\frac{\\mu}{\\alpha \\left(\\omega - \\frac{\\beta \\mu}{\\alpha}\\right)} \\left(- \\alpha \\cos{\\left (2 \\theta \\right )} + \\alpha + \\beta \\sin{\\left (2 \\theta \\right )}\\right)\\end{matrix}\\right]$$"
      ],
      "text/plain": [
       "⎡                                                ⎛             α⋅ω            \n",
       "⎢                                             -μ⋅⎜α⋅sin(2⋅θ) + ─── + β⋅cos(2⋅θ\n",
       "⎢     -μ⋅(α⋅cos(2⋅θ) + α - β⋅sin(2⋅θ))           ⎝              μ             \n",
       "⎢     ─────────────────────────────────       ────────────────────────────────\n",
       "⎢                  ⎛    β⋅μ⎞                                   ⎛    β⋅μ⎞      \n",
       "⎢                α⋅⎜ω - ───⎟                                 α⋅⎜ω - ───⎟      \n",
       "⎢                  ⎝     α ⎠                                   ⎝     α ⎠      \n",
       "⎢                                                                             \n",
       "⎢-μ⋅(α⋅μ⋅ω + α⋅sin(2⋅θ) + β⋅cos(2⋅θ) + 2⋅β)      -μ⋅(-α⋅cos(2⋅θ) + α + β⋅sin(2\n",
       "⎢───────────────────────────────────────────     ─────────────────────────────\n",
       "⎢                  ⎛    β⋅μ⎞                                  ⎛    β⋅μ⎞       \n",
       "⎢                α⋅⎜ω - ───⎟                                α⋅⎜ω - ───⎟       \n",
       "⎣                  ⎝     α ⎠                                  ⎝     α ⎠       \n",
       "\n",
       "       ⎞ ⎤\n",
       ") - 2⋅β⎟ ⎥\n",
       "       ⎠ ⎥\n",
       "─────────⎥\n",
       "         ⎥\n",
       "         ⎥\n",
       "         ⎥\n",
       "         ⎥\n",
       "⋅θ))     ⎥\n",
       "─────    ⎥\n",
       "         ⎥\n",
       "         ⎥\n",
       "         ⎦"
      ]
     },
     "execution_count": 332,
     "metadata": {},
     "output_type": "execute_result"
    }
   ],
   "source": [
    "A = (omega-(beta*mu)/alpha)**-1*sp.Matrix([[A11, A12], [A21, A22]])\n",
    "A"
   ]
  },
  {
   "cell_type": "code",
   "execution_count": 333,
   "metadata": {
    "collapsed": false
   },
   "outputs": [
    {
     "data": {
      "text/latex": [
       "$$\\left[\\begin{matrix}- \\frac{1}{2} \\sin{\\left (2 t \\right )} - \\frac{1}{2} \\cos{\\left (2 t \\right )} - \\frac{1}{2} & - \\frac{1}{2} \\sin{\\left (2 t \\right )} + \\frac{1}{2} \\cos{\\left (2 t \\right )} - \\frac{3}{2}\\\\- \\frac{1}{2} \\sin{\\left (2 t \\right )} + \\frac{1}{2} \\cos{\\left (2 t \\right )} + \\frac{1}{2} & \\frac{1}{2} \\sin{\\left (2 t \\right )} + \\frac{1}{2} \\cos{\\left (2 t \\right )} - \\frac{1}{2}\\end{matrix}\\right]$$"
      ],
      "text/plain": [
       "⎡  sin(2⋅t)   cos(2⋅t)   1    sin(2⋅t)   cos(2⋅t)   3⎤\n",
       "⎢- ──────── - ──────── - ─  - ──────── + ──────── - ─⎥\n",
       "⎢     2          2       2       2          2       2⎥\n",
       "⎢                                                    ⎥\n",
       "⎢  sin(2⋅t)   cos(2⋅t)   1   sin(2⋅t)   cos(2⋅t)   1 ⎥\n",
       "⎢- ──────── + ──────── + ─   ──────── + ──────── - ─ ⎥\n",
       "⎣     2          2       2      2          2       2 ⎦"
      ]
     },
     "execution_count": 333,
     "metadata": {},
     "output_type": "execute_result"
    }
   ],
   "source": [
    "A1 = A.subs(omega, 1).subs(beta, 1).subs(mu, 1).subs(alpha, -1).subs(theta, t)\n",
    "A1"
   ]
  },
  {
   "cell_type": "code",
   "execution_count": 334,
   "metadata": {
    "collapsed": false
   },
   "outputs": [
    {
     "data": {
      "text/latex": [
       "$$\\left[\\begin{matrix}x_{1}\\\\x_{2}\\end{matrix}\\right]$$"
      ],
      "text/plain": [
       "⎡x₁⎤\n",
       "⎢  ⎥\n",
       "⎣x₂⎦"
      ]
     },
     "execution_count": 334,
     "metadata": {},
     "output_type": "execute_result"
    }
   ],
   "source": [
    "xvec = sp.Matrix([x1, x2])\n",
    "xvec"
   ]
  },
  {
   "cell_type": "code",
   "execution_count": 335,
   "metadata": {
    "collapsed": false
   },
   "outputs": [
    {
     "data": {
      "text/latex": [
       "$$\\left[\\begin{matrix}x_{1} \\left(- \\frac{1}{2} \\sin{\\left (2 t \\right )} - \\frac{1}{2} \\cos{\\left (2 t \\right )} - \\frac{1}{2}\\right) + x_{2} \\left(- \\frac{1}{2} \\sin{\\left (2 t \\right )} + \\frac{1}{2} \\cos{\\left (2 t \\right )} - \\frac{3}{2}\\right)\\\\x_{1} \\left(- \\frac{1}{2} \\sin{\\left (2 t \\right )} + \\frac{1}{2} \\cos{\\left (2 t \\right )} + \\frac{1}{2}\\right) + x_{2} \\left(\\frac{1}{2} \\sin{\\left (2 t \\right )} + \\frac{1}{2} \\cos{\\left (2 t \\right )} - \\frac{1}{2}\\right)\\end{matrix}\\right]$$"
      ],
      "text/plain": [
       "⎡   ⎛  sin(2⋅t)   cos(2⋅t)   1⎞      ⎛  sin(2⋅t)   cos(2⋅t)   3⎞⎤\n",
       "⎢x₁⋅⎜- ──────── - ──────── - ─⎟ + x₂⋅⎜- ──────── + ──────── - ─⎟⎥\n",
       "⎢   ⎝     2          2       2⎠      ⎝     2          2       2⎠⎥\n",
       "⎢                                                               ⎥\n",
       "⎢    ⎛  sin(2⋅t)   cos(2⋅t)   1⎞      ⎛sin(2⋅t)   cos(2⋅t)   1⎞ ⎥\n",
       "⎢ x₁⋅⎜- ──────── + ──────── + ─⎟ + x₂⋅⎜──────── + ──────── - ─⎟ ⎥\n",
       "⎣    ⎝     2          2       2⎠      ⎝   2          2       2⎠ ⎦"
      ]
     },
     "execution_count": 335,
     "metadata": {},
     "output_type": "execute_result"
    }
   ],
   "source": [
    "A2 = A1*xvec\n",
    "A2"
   ]
  },
  {
   "cell_type": "code",
   "execution_count": 336,
   "metadata": {
    "collapsed": false
   },
   "outputs": [
    {
     "data": {
      "text/plain": [
       "matrix([[x1*(-sin(2*t)/2 - cos(2*t)/2 - 1/2) + x2*(-sin(2*t)/2 + cos(2*t)/2 - 3/2),\n",
       "         x1*(-sin(2*t)/2 + cos(2*t)/2 + 1/2) + x2*(sin(2*t)/2 + cos(2*t)/2 - 1/2)]], dtype=object)"
      ]
     },
     "execution_count": 336,
     "metadata": {},
     "output_type": "execute_result"
    }
   ],
   "source": [
    "Anp = np.matrix([A2])\n",
    "Anp"
   ]
  },
  {
   "cell_type": "code",
   "execution_count": 379,
   "metadata": {
    "collapsed": false
   },
   "outputs": [
    {
     "name": "stdout",
     "output_type": "stream",
     "text": [
      "0.375281542413\n",
      "0.636235650685\n"
     ]
    }
   ],
   "source": [
    "import matplotlib.pyplot as plt\n",
    "from scipy.integrate import odeint\n",
    "\n",
    "def deriv(x1_x2, t):\n",
    "    x1, x2 = x1_x2\n",
    "    return np.array([x1*(-np.sin(2*t)/2 - np.cos(2*t)/2 - 1/2) + x2*(-np.sin(2*t)/2 + np.cos(2*t)/2 - 3/2),\\\n",
    "                        x1*(-np.sin(2*t)/2 + np.cos(2*t)/2 + 1/2) + x2*(np.sin(2*t)/2 + np.cos(2*t)/2 - 1/2)])\n",
    "\n",
    "time = np.linspace(0.0, 2*np.pi, 500)\n",
    "xinit=np.array([1,0])\n",
    "x = odeint(deriv, xinit, time)\n",
    "\n",
    "fig = plt.figure()\n",
    "plt.plot(time, x[:,0])\n",
    "#plt.axis([0, 150, -0.25, 0.25])\n",
    "plt.grid()\n",
    "plt.show()\n",
    "\n",
    "value1 = x[-1,0]\n",
    "print(value1)\n",
    "value2 = x[-1,1]\n",
    "print(value2)"
   ]
  },
  {
   "cell_type": "code",
   "execution_count": null,
   "metadata": {
    "collapsed": true
   },
   "outputs": [],
   "source": []
  }
 ],
 "metadata": {
  "kernelspec": {
   "display_name": "Python 3",
   "language": "python",
   "name": "python3"
  },
  "language_info": {
   "codemirror_mode": {
    "name": "ipython",
    "version": 3
   },
   "file_extension": ".py",
   "mimetype": "text/x-python",
   "name": "python",
   "nbconvert_exporter": "python",
   "pygments_lexer": "ipython3",
   "version": "3.5.0"
  }
 },
 "nbformat": 4,
 "nbformat_minor": 0
}
