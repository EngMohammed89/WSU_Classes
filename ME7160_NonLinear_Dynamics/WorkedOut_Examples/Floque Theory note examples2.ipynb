{
 "cells": [
  {
   "cell_type": "markdown",
   "metadata": {},
   "source": [
    "### Floquet Theory examples from book/notes"
   ]
  },
  {
   "cell_type": "code",
   "execution_count": 1,
   "metadata": {
    "collapsed": true
   },
   "outputs": [],
   "source": [
    "import sympy as sp\n",
    "sp.init_printing(use_latex='mathjax')\n",
    "from IPython.display import display\n",
    "import numpy as np\n",
    "from sympy.utilities.lambdify import lambdify\n",
    "\n",
    "mu = sp.Symbol('mu', real = True)\n",
    "alpha = sp.Symbol('alpha', real = True)\n",
    "omega = sp.Symbol('omega', real = True)\n",
    "beta = sp.Symbol('beta', real = True)\n",
    "theta0 = sp.Symbol('theta_0', real = True)\n",
    "t = sp.Symbol('t', real = True)\n",
    "zeta = sp.Symbol('zeta', real = True)\n",
    "X0 = sp.Symbol('X_0', real = True)\n",
    "Y0 = sp.Symbol('Y_0', real = True)\n",
    "zeta1 = sp.Symbol('zeta_1', real = True)\n",
    "zeta2 = sp.Symbol('zeta_2', real = True)\n",
    "x = sp.Symbol('x', real = True)\n",
    "y = sp.Symbol('y', real = True)\n",
    "theta = sp.Symbol('theta', real = True)\n",
    "x1 = sp.Symbol('x1', real = True)\n",
    "x2 = sp.Symbol('x2', real = True)"
   ]
  },
  {
   "cell_type": "code",
   "execution_count": 2,
   "metadata": {
    "collapsed": false
   },
   "outputs": [
    {
     "data": {
      "text/latex": [
       "$$\\sqrt{- \\frac{\\mu}{\\alpha}} \\cos{\\left (t \\left(\\omega - \\frac{\\beta \\mu}{\\alpha}\\right) + \\theta_{0} \\right )}$$"
      ],
      "text/plain": [
       "    _____                      \n",
       "   ╱ -μ      ⎛  ⎛    β⋅μ⎞     ⎞\n",
       "  ╱  ─── ⋅cos⎜t⋅⎜ω - ───⎟ + θ₀⎟\n",
       "╲╱    α      ⎝  ⎝     α ⎠     ⎠"
      ]
     },
     "execution_count": 2,
     "metadata": {},
     "output_type": "execute_result"
    }
   ],
   "source": [
    "X0 = sp.sqrt(-(mu/alpha))*sp.cos((omega-(beta*mu)/alpha)*t + theta0)\n",
    "X0"
   ]
  },
  {
   "cell_type": "code",
   "execution_count": 3,
   "metadata": {
    "collapsed": false
   },
   "outputs": [
    {
     "data": {
      "text/latex": [
       "$$\\sqrt{- \\frac{\\mu}{\\alpha}} \\sin{\\left (t \\left(\\omega - \\frac{\\beta \\mu}{\\alpha}\\right) + \\theta_{0} \\right )}$$"
      ],
      "text/plain": [
       "    _____                      \n",
       "   ╱ -μ      ⎛  ⎛    β⋅μ⎞     ⎞\n",
       "  ╱  ─── ⋅sin⎜t⋅⎜ω - ───⎟ + θ₀⎟\n",
       "╲╱    α      ⎝  ⎝     α ⎠     ⎠"
      ]
     },
     "execution_count": 3,
     "metadata": {},
     "output_type": "execute_result"
    }
   ],
   "source": [
    "Y0 = sp.sqrt(-(mu/alpha))*sp.sin((omega-(beta*mu)/alpha)*t + theta0)\n",
    "Y0"
   ]
  },
  {
   "cell_type": "markdown",
   "metadata": {},
   "source": [
    "**Define original ODE's:**"
   ]
  },
  {
   "cell_type": "code",
   "execution_count": 4,
   "metadata": {
    "collapsed": false
   },
   "outputs": [
    {
     "data": {
      "text/latex": [
       "$$\\mu x - \\omega y + \\left(x^{2} + y^{2}\\right) \\left(\\alpha x - \\beta y\\right)$$"
      ],
      "text/plain": [
       "            ⎛ 2    2⎞            \n",
       "μ⋅x - ω⋅y + ⎝x  + y ⎠⋅(α⋅x - β⋅y)"
      ]
     },
     "execution_count": 4,
     "metadata": {},
     "output_type": "execute_result"
    }
   ],
   "source": [
    "xdot = mu*x - omega*y + (alpha*x - beta*y)*(x**2 + y**2)\n",
    "xdot.simplify()"
   ]
  },
  {
   "cell_type": "code",
   "execution_count": 5,
   "metadata": {
    "collapsed": false
   },
   "outputs": [
    {
     "data": {
      "text/latex": [
       "$$\\mu y + \\omega x + \\left(x^{2} + y^{2}\\right) \\left(\\alpha y + \\beta x\\right)$$"
      ],
      "text/plain": [
       "            ⎛ 2    2⎞            \n",
       "μ⋅y + ω⋅x + ⎝x  + y ⎠⋅(α⋅y + β⋅x)"
      ]
     },
     "execution_count": 5,
     "metadata": {},
     "output_type": "execute_result"
    }
   ],
   "source": [
    "ydot = omega*x + mu*y + (beta*x + alpha*y)*(x**2 + y**2)\n",
    "ydot.simplify()"
   ]
  },
  {
   "cell_type": "markdown",
   "metadata": {},
   "source": [
    "**Define problem in state space vector form to make it easier to calculate Jacobian**"
   ]
  },
  {
   "cell_type": "code",
   "execution_count": 6,
   "metadata": {
    "collapsed": false
   },
   "outputs": [
    {
     "data": {
      "text/latex": [
       "$$\\left[\\begin{matrix}\\mu x - \\omega y + \\left(x^{2} + y^{2}\\right) \\left(\\alpha x - \\beta y\\right)\\\\\\mu y + \\omega x + \\left(x^{2} + y^{2}\\right) \\left(\\alpha y + \\beta x\\right)\\end{matrix}\\right]$$"
      ],
      "text/plain": [
       "⎡            ⎛ 2    2⎞            ⎤\n",
       "⎢μ⋅x - ω⋅y + ⎝x  + y ⎠⋅(α⋅x - β⋅y)⎥\n",
       "⎢                                 ⎥\n",
       "⎢            ⎛ 2    2⎞            ⎥\n",
       "⎣μ⋅y + ω⋅x + ⎝x  + y ⎠⋅(α⋅y + β⋅x)⎦"
      ]
     },
     "execution_count": 6,
     "metadata": {},
     "output_type": "execute_result"
    }
   ],
   "source": [
    "f = sp.Matrix([xdot, ydot])\n",
    "f"
   ]
  },
  {
   "cell_type": "markdown",
   "metadata": {},
   "source": [
    "**Get Jacobian**"
   ]
  },
  {
   "cell_type": "code",
   "execution_count": 7,
   "metadata": {
    "collapsed": false
   },
   "outputs": [
    {
     "data": {
      "text/latex": [
       "$$\\left[\\begin{matrix}3 \\alpha x^{2} + \\alpha y^{2} - 2 \\beta x y + \\mu & 2 \\alpha x y - \\beta x^{2} - 3 \\beta y^{2} - \\omega\\\\2 \\alpha x y + 3 \\beta x^{2} + \\beta y^{2} + \\omega & \\alpha x^{2} + 3 \\alpha y^{2} + 2 \\beta x y + \\mu\\end{matrix}\\right]$$"
      ],
      "text/plain": [
       "⎡     2      2                             2        2    ⎤\n",
       "⎢3⋅α⋅x  + α⋅y  - 2⋅β⋅x⋅y + μ  2⋅α⋅x⋅y - β⋅x  - 3⋅β⋅y  - ω⎥\n",
       "⎢                                                        ⎥\n",
       "⎢               2      2         2        2              ⎥\n",
       "⎣2⋅α⋅x⋅y + 3⋅β⋅x  + β⋅y  + ω  α⋅x  + 3⋅α⋅y  + 2⋅β⋅x⋅y + μ⎦"
      ]
     },
     "execution_count": 7,
     "metadata": {},
     "output_type": "execute_result"
    }
   ],
   "source": [
    "F=f.jacobian([x, y])\n",
    "F.expand()"
   ]
  },
  {
   "cell_type": "markdown",
   "metadata": {},
   "source": [
    "**Next substitute in $X_0$ and $Y_0$ solutions**"
   ]
  },
  {
   "cell_type": "code",
   "execution_count": 8,
   "metadata": {
    "collapsed": false
   },
   "outputs": [
    {
     "data": {
      "text/latex": [
       "$$\\left[\\begin{matrix}- \\frac{-2}{\\alpha} \\beta \\mu \\sin{\\left (t \\left(\\omega - \\frac{\\beta \\mu}{\\alpha}\\right) + \\theta_{0} \\right )} \\cos{\\left (t \\left(\\omega - \\frac{\\beta \\mu}{\\alpha}\\right) + \\theta_{0} \\right )} - \\mu \\sin^{2}{\\left (t \\left(\\omega - \\frac{\\beta \\mu}{\\alpha}\\right) + \\theta_{0} \\right )} - 3 \\mu \\cos^{2}{\\left (t \\left(\\omega - \\frac{\\beta \\mu}{\\alpha}\\right) + \\theta_{0} \\right )} + \\mu & 2 \\alpha - \\frac{\\mu}{\\alpha} \\sin{\\left (t \\left(\\omega - \\frac{\\beta \\mu}{\\alpha}\\right) + \\theta_{0} \\right )} \\cos{\\left (t \\left(\\omega - \\frac{\\beta \\mu}{\\alpha}\\right) + \\theta_{0} \\right )} - \\omega + \\frac{3 \\beta}{\\alpha} \\mu \\sin^{2}{\\left (t \\left(\\omega - \\frac{\\beta \\mu}{\\alpha}\\right) + \\theta_{0} \\right )} + \\frac{\\beta \\mu}{\\alpha} \\cos^{2}{\\left (t \\left(\\omega - \\frac{\\beta \\mu}{\\alpha}\\right) + \\theta_{0} \\right )}\\\\2 \\alpha - \\frac{\\mu}{\\alpha} \\sin{\\left (t \\left(\\omega - \\frac{\\beta \\mu}{\\alpha}\\right) + \\theta_{0} \\right )} \\cos{\\left (t \\left(\\omega - \\frac{\\beta \\mu}{\\alpha}\\right) + \\theta_{0} \\right )} + \\omega - \\frac{\\beta \\mu}{\\alpha} \\sin^{2}{\\left (t \\left(\\omega - \\frac{\\beta \\mu}{\\alpha}\\right) + \\theta_{0} \\right )} - \\frac{3 \\beta}{\\alpha} \\mu \\cos^{2}{\\left (t \\left(\\omega - \\frac{\\beta \\mu}{\\alpha}\\right) + \\theta_{0} \\right )} & 2 \\beta - \\frac{\\mu}{\\alpha} \\sin{\\left (t \\left(\\omega - \\frac{\\beta \\mu}{\\alpha}\\right) + \\theta_{0} \\right )} \\cos{\\left (t \\left(\\omega - \\frac{\\beta \\mu}{\\alpha}\\right) + \\theta_{0} \\right )} - 3 \\mu \\sin^{2}{\\left (t \\left(\\omega - \\frac{\\beta \\mu}{\\alpha}\\right) + \\theta_{0} \\right )} - \\mu \\cos^{2}{\\left (t \\left(\\omega - \\frac{\\beta \\mu}{\\alpha}\\right) + \\theta_{0} \\right )} + \\mu\\end{matrix}\\right]$$"
      ],
      "text/plain": [
       "⎡                                                                             \n",
       "⎢                                                                             \n",
       "⎢       -μ     ⎛  ⎛    β⋅μ⎞     ⎞    ⎛  ⎛    β⋅μ⎞     ⎞        2⎛  ⎛    β⋅μ⎞  \n",
       "⎢ - 2⋅β⋅───⋅sin⎜t⋅⎜ω - ───⎟ + θ₀⎟⋅cos⎜t⋅⎜ω - ───⎟ + θ₀⎟ - μ⋅sin ⎜t⋅⎜ω - ───⎟ +\n",
       "⎢        α     ⎝  ⎝     α ⎠     ⎠    ⎝  ⎝     α ⎠     ⎠         ⎝  ⎝     α ⎠  \n",
       "⎢                                                                             \n",
       "⎢                                                                 2⎛  ⎛    β⋅μ\n",
       "⎢                                                          β⋅μ⋅sin ⎜t⋅⎜ω - ───\n",
       "⎢    -μ     ⎛  ⎛    β⋅μ⎞     ⎞    ⎛  ⎛    β⋅μ⎞     ⎞               ⎝  ⎝     α \n",
       "⎢2⋅α⋅───⋅sin⎜t⋅⎜ω - ───⎟ + θ₀⎟⋅cos⎜t⋅⎜ω - ───⎟ + θ₀⎟ + ω - ───────────────────\n",
       "⎣     α     ⎝  ⎝     α ⎠     ⎠    ⎝  ⎝     α ⎠     ⎠                   α      \n",
       "\n",
       "                                                                              \n",
       "                                                                              \n",
       "   ⎞          2⎛  ⎛    β⋅μ⎞     ⎞           -μ     ⎛  ⎛    β⋅μ⎞     ⎞    ⎛  ⎛ \n",
       " θ₀⎟ - 3⋅μ⋅cos ⎜t⋅⎜ω - ───⎟ + θ₀⎟ + μ   2⋅α⋅───⋅sin⎜t⋅⎜ω - ───⎟ + θ₀⎟⋅cos⎜t⋅⎜ω\n",
       "   ⎠           ⎝  ⎝     α ⎠     ⎠            α     ⎝  ⎝     α ⎠     ⎠    ⎝  ⎝ \n",
       "                                                                              \n",
       "⎞     ⎞            2⎛  ⎛    β⋅μ⎞     ⎞                                        \n",
       "⎟ + θ₀⎟   3⋅β⋅μ⋅cos ⎜t⋅⎜ω - ───⎟ + θ₀⎟                                        \n",
       "⎠     ⎠             ⎝  ⎝     α ⎠     ⎠        -μ     ⎛  ⎛    β⋅μ⎞     ⎞    ⎛  \n",
       "─────── - ────────────────────────────    2⋅β⋅───⋅sin⎜t⋅⎜ω - ───⎟ + θ₀⎟⋅cos⎜t⋅\n",
       "                       α                       α     ⎝  ⎝     α ⎠     ⎠    ⎝  \n",
       "\n",
       "                             2⎛  ⎛    β⋅μ⎞     ⎞          2⎛  ⎛    β⋅μ⎞     ⎞⎤\n",
       "                    3⋅β⋅μ⋅sin ⎜t⋅⎜ω - ───⎟ + θ₀⎟   β⋅μ⋅cos ⎜t⋅⎜ω - ───⎟ + θ₀⎟⎥\n",
       "   β⋅μ⎞     ⎞                 ⎝  ⎝     α ⎠     ⎠           ⎝  ⎝     α ⎠     ⎠⎥\n",
       " - ───⎟ + θ₀⎟ - ω + ──────────────────────────── + ──────────────────────────⎥\n",
       "    α ⎠     ⎠                    α                             α             ⎥\n",
       "                                                                             ⎥\n",
       "                                                                             ⎥\n",
       "                                                                             ⎥\n",
       "⎛    β⋅μ⎞     ⎞          2⎛  ⎛    β⋅μ⎞     ⎞        2⎛  ⎛    β⋅μ⎞     ⎞      ⎥\n",
       "⎜ω - ───⎟ + θ₀⎟ - 3⋅μ⋅sin ⎜t⋅⎜ω - ───⎟ + θ₀⎟ - μ⋅cos ⎜t⋅⎜ω - ───⎟ + θ₀⎟ + μ  ⎥\n",
       "⎝     α ⎠     ⎠           ⎝  ⎝     α ⎠     ⎠         ⎝  ⎝     α ⎠     ⎠      ⎦"
      ]
     },
     "execution_count": 8,
     "metadata": {},
     "output_type": "execute_result"
    }
   ],
   "source": [
    "Fs = F.expand().subs(x, X0).subs(y, Y0)\n",
    "Fs"
   ]
  },
  {
   "cell_type": "markdown",
   "metadata": {},
   "source": [
    "**Next use double angle identities to simplify the expressions**"
   ]
  },
  {
   "cell_type": "code",
   "execution_count": 9,
   "metadata": {
    "collapsed": false
   },
   "outputs": [
    {
     "data": {
      "text/latex": [
       "$$\\frac{\\mu}{\\alpha} \\left(- \\alpha \\left(\\cos{\\left (2 \\omega t + 2 \\theta_{0} - \\frac{2 \\beta}{\\alpha} \\mu t \\right )} + 1\\right) + \\beta \\sin{\\left (2 \\omega t + 2 \\theta_{0} - \\frac{2 \\beta}{\\alpha} \\mu t \\right )}\\right)$$"
      ],
      "text/plain": [
       "  ⎛    ⎛   ⎛               2⋅β⋅μ⋅t⎞    ⎞        ⎛               2⋅β⋅μ⋅t⎞⎞\n",
       "μ⋅⎜- α⋅⎜cos⎜2⋅ω⋅t + 2⋅θ₀ - ───────⎟ + 1⎟ + β⋅sin⎜2⋅ω⋅t + 2⋅θ₀ - ───────⎟⎟\n",
       "  ⎝    ⎝   ⎝                  α   ⎠    ⎠        ⎝                  α   ⎠⎠\n",
       "─────────────────────────────────────────────────────────────────────────\n",
       "                                    α                                    "
      ]
     },
     "metadata": {},
     "output_type": "display_data"
    },
    {
     "data": {
      "text/latex": [
       "$$\\frac{1}{\\alpha} \\left(- \\alpha \\mu \\sin{\\left (2 \\omega t + 2 \\theta_{0} - \\frac{2 \\beta}{\\alpha} \\mu t \\right )} - \\alpha \\omega - \\beta \\mu \\cos{\\left (2 \\omega t + 2 \\theta_{0} - \\frac{2 \\beta}{\\alpha} \\mu t \\right )} + 2 \\beta \\mu\\right)$$"
      ],
      "text/plain": [
       "         ⎛               2⋅β⋅μ⋅t⎞                ⎛               2⋅β⋅μ⋅t⎞     \n",
       "- α⋅μ⋅sin⎜2⋅ω⋅t + 2⋅θ₀ - ───────⎟ - α⋅ω - β⋅μ⋅cos⎜2⋅ω⋅t + 2⋅θ₀ - ───────⎟ + 2⋅\n",
       "         ⎝                  α   ⎠                ⎝                  α   ⎠     \n",
       "──────────────────────────────────────────────────────────────────────────────\n",
       "                                        α                                     \n",
       "\n",
       "   \n",
       "β⋅μ\n",
       "   \n",
       "───\n",
       "   "
      ]
     },
     "metadata": {},
     "output_type": "display_data"
    },
    {
     "data": {
      "text/latex": [
       "$$\\frac{1}{\\alpha} \\left(- \\alpha \\mu \\sin{\\left (2 \\omega t + 2 \\theta_{0} - \\frac{2 \\beta}{\\alpha} \\mu t \\right )} + \\alpha \\omega - \\beta \\mu \\cos{\\left (2 \\omega t + 2 \\theta_{0} - \\frac{2 \\beta}{\\alpha} \\mu t \\right )} - 2 \\beta \\mu\\right)$$"
      ],
      "text/plain": [
       "         ⎛               2⋅β⋅μ⋅t⎞                ⎛               2⋅β⋅μ⋅t⎞     \n",
       "- α⋅μ⋅sin⎜2⋅ω⋅t + 2⋅θ₀ - ───────⎟ + α⋅ω - β⋅μ⋅cos⎜2⋅ω⋅t + 2⋅θ₀ - ───────⎟ - 2⋅\n",
       "         ⎝                  α   ⎠                ⎝                  α   ⎠     \n",
       "──────────────────────────────────────────────────────────────────────────────\n",
       "                                        α                                     \n",
       "\n",
       "   \n",
       "β⋅μ\n",
       "   \n",
       "───\n",
       "   "
      ]
     },
     "metadata": {},
     "output_type": "display_data"
    },
    {
     "data": {
      "text/latex": [
       "$$\\frac{\\mu}{\\alpha} \\left(\\alpha \\left(\\cos{\\left (2 \\omega t + 2 \\theta_{0} - \\frac{2 \\beta}{\\alpha} \\mu t \\right )} - 1\\right) - \\beta \\sin{\\left (2 \\omega t + 2 \\theta_{0} - \\frac{2 \\beta}{\\alpha} \\mu t \\right )}\\right)$$"
      ],
      "text/plain": [
       "  ⎛  ⎛   ⎛               2⋅β⋅μ⋅t⎞    ⎞        ⎛               2⋅β⋅μ⋅t⎞⎞\n",
       "μ⋅⎜α⋅⎜cos⎜2⋅ω⋅t + 2⋅θ₀ - ───────⎟ - 1⎟ - β⋅sin⎜2⋅ω⋅t + 2⋅θ₀ - ───────⎟⎟\n",
       "  ⎝  ⎝   ⎝                  α   ⎠    ⎠        ⎝                  α   ⎠⎠\n",
       "───────────────────────────────────────────────────────────────────────\n",
       "                                   α                                   "
      ]
     },
     "metadata": {},
     "output_type": "display_data"
    }
   ],
   "source": [
    "Ft = Fs.subs(sp.sin((omega - (beta*mu)/alpha)*t + theta0)**2,\\\n",
    "                   -sp.nsimplify(1/2)*sp.cos(2*((omega-(beta*mu)/alpha)*t + theta0)) + sp.nsimplify(1/2))\\\n",
    "                    .subs(sp.cos((omega - (beta*mu)/alpha)*t + theta0)**2,\\\n",
    "                         sp.nsimplify(1/2)*sp.cos(2*((omega-(beta*mu)/alpha)*t + theta0)) + sp.nsimplify(1/2))\n",
    "display(Ft[0,0].simplify())\n",
    "display(Ft[0,1].simplify())\n",
    "display(Ft[1,0].simplify())\n",
    "display(Ft[1,1].simplify())"
   ]
  },
  {
   "cell_type": "markdown",
   "metadata": {},
   "source": [
    "**Next substitute following expression $\\theta = (\\omega - \\frac{\\beta \\mu}{\\alpha})t + \\theta_0$. Done elementwise because sympy is being a punk**"
   ]
  },
  {
   "cell_type": "code",
   "execution_count": 10,
   "metadata": {
    "collapsed": false
   },
   "outputs": [
    {
     "data": {
      "text/latex": [
       "$$\\frac{\\mu}{\\alpha} \\left(- \\alpha \\left(\\cos{\\left (2 \\theta \\right )} + 1\\right) + \\beta \\sin{\\left (2 \\theta \\right )}\\right)$$"
      ],
      "text/plain": [
       "μ⋅(-α⋅(cos(2⋅θ) + 1) + β⋅sin(2⋅θ))\n",
       "──────────────────────────────────\n",
       "                α                 "
      ]
     },
     "metadata": {},
     "output_type": "display_data"
    },
    {
     "data": {
      "text/latex": [
       "$$\\frac{1}{\\alpha} \\left(- \\alpha \\mu \\sin{\\left (2 \\theta \\right )} - \\alpha \\omega - \\beta \\mu \\cos{\\left (2 \\theta \\right )} + 2 \\beta \\mu\\right)$$"
      ],
      "text/plain": [
       "-α⋅μ⋅sin(2⋅θ) - α⋅ω - β⋅μ⋅cos(2⋅θ) + 2⋅β⋅μ\n",
       "──────────────────────────────────────────\n",
       "                    α                     "
      ]
     },
     "metadata": {},
     "output_type": "display_data"
    },
    {
     "data": {
      "text/latex": [
       "$$\\frac{1}{\\alpha} \\left(- \\alpha \\mu \\sin{\\left (2 \\theta \\right )} + \\alpha \\omega - \\beta \\mu \\cos{\\left (2 \\theta \\right )} - 2 \\beta \\mu\\right)$$"
      ],
      "text/plain": [
       "-α⋅μ⋅sin(2⋅θ) + α⋅ω - β⋅μ⋅cos(2⋅θ) - 2⋅β⋅μ\n",
       "──────────────────────────────────────────\n",
       "                    α                     "
      ]
     },
     "metadata": {},
     "output_type": "display_data"
    },
    {
     "data": {
      "text/latex": [
       "$$\\frac{\\mu}{\\alpha} \\left(\\alpha \\left(\\cos{\\left (2 \\theta \\right )} - 1\\right) - \\beta \\sin{\\left (2 \\theta \\right )}\\right)$$"
      ],
      "text/plain": [
       "μ⋅(α⋅(cos(2⋅θ) - 1) - β⋅sin(2⋅θ))\n",
       "─────────────────────────────────\n",
       "                α                "
      ]
     },
     "metadata": {},
     "output_type": "display_data"
    }
   ],
   "source": [
    "Ft[0,0] = Ft[0,0].simplify().subs(2*omega*t + 2*theta0 - (2*beta*mu*t)/alpha, 2*theta)\n",
    "display(Ft[0,0])\n",
    "Ft[0,1] = Ft[0,1].simplify().subs(2*omega*t + 2*theta0 - (2*beta*mu*t)/alpha, 2*theta)\n",
    "display(Ft[0,1])\n",
    "Ft[1,0] = Ft[1,0].simplify().subs(2*omega*t + 2*theta0 - (2*beta*mu*t)/alpha, 2*theta)\n",
    "display(Ft[1,0])\n",
    "Ft[1,1] = Ft[1,1].simplify().subs(2*omega*t + 2*theta0 - (2*beta*mu*t)/alpha, 2*theta)\n",
    "display(Ft[1,1])"
   ]
  },
  {
   "cell_type": "markdown",
   "metadata": {},
   "source": [
    "**Finally $A(\\theta)$ takes following form:**"
   ]
  },
  {
   "cell_type": "code",
   "execution_count": 114,
   "metadata": {
    "collapsed": false
   },
   "outputs": [
    {
     "data": {
      "text/latex": [
       "$$\\left[\\begin{matrix}\\frac{\\mu}{\\alpha} \\left(- \\alpha \\left(\\cos{\\left (2 \\theta \\right )} + 1\\right) + \\beta \\sin{\\left (2 \\theta \\right )}\\right) & \\frac{1}{\\alpha} \\left(- \\alpha \\mu \\sin{\\left (2 \\theta \\right )} - \\alpha \\omega - \\beta \\mu \\cos{\\left (2 \\theta \\right )} + 2 \\beta \\mu\\right)\\\\\\frac{1}{\\alpha} \\left(- \\alpha \\mu \\sin{\\left (2 \\theta \\right )} + \\alpha \\omega - \\beta \\mu \\cos{\\left (2 \\theta \\right )} - 2 \\beta \\mu\\right) & \\frac{\\mu}{\\alpha} \\left(\\alpha \\left(\\cos{\\left (2 \\theta \\right )} - 1\\right) - \\beta \\sin{\\left (2 \\theta \\right )}\\right)\\end{matrix}\\right]$$"
      ],
      "text/plain": [
       "⎡    μ⋅(-α⋅(cos(2⋅θ) + 1) + β⋅sin(2⋅θ))      -α⋅μ⋅sin(2⋅θ) - α⋅ω - β⋅μ⋅cos(2⋅θ\n",
       "⎢    ──────────────────────────────────      ─────────────────────────────────\n",
       "⎢                    α                                           α            \n",
       "⎢                                                                             \n",
       "⎢-α⋅μ⋅sin(2⋅θ) + α⋅ω - β⋅μ⋅cos(2⋅θ) - 2⋅β⋅μ      μ⋅(α⋅(cos(2⋅θ) - 1) - β⋅sin(2\n",
       "⎢──────────────────────────────────────────      ─────────────────────────────\n",
       "⎣                    α                                           α            \n",
       "\n",
       ") + 2⋅β⋅μ⎤\n",
       "─────────⎥\n",
       "         ⎥\n",
       "         ⎥\n",
       "⋅θ))     ⎥\n",
       "────     ⎥\n",
       "         ⎦"
      ]
     },
     "execution_count": 114,
     "metadata": {},
     "output_type": "execute_result"
    }
   ],
   "source": [
    "Ft"
   ]
  },
  {
   "cell_type": "markdown",
   "metadata": {},
   "source": [
    "**In order to perform the analysis need to convert the system into a autonomous system by replacing independent variable $t$ by $\\theta$.**  \n",
    "\n",
    "**As a reminder, $\\theta = (\\omega - \\frac{\\beta \\mu}{\\alpha})t + \\theta_0$ and $\\dot{\\theta} = \\omega - \\frac{\\beta\\ \\mu}{\\alpha}$**  \n",
    "\n",
    "**In order to switch independent variables do following steps, which will include Chain Rule.**\n",
    "\n",
    "**Starting with $\\dot{\\zeta} = A(\\theta)\\zeta$, need to apply Chain Rule to term $\\dot{\\zeta}$**\n",
    "\n",
    "** $\\frac{d\\zeta}{dt} = \\frac{d\\zeta}{d\\theta} \\frac{d\\theta}{dt} = \\frac{d\\zeta}{d\\theta} \\dot{\\theta} = \\frac{d\\zeta}{d\\theta} (\\omega - \\frac{\\beta\\ \\mu}{\\alpha})$**  \n",
    "\n",
    "**Now expression becomes:**  \n",
    "\n",
    "**$\\frac{d\\zeta}{d\\theta} = \\frac{1}{\\omega - \\frac{\\beta\\ \\mu}{\\alpha}}A(\\theta) \\zeta$**"
   ]
  },
  {
   "cell_type": "markdown",
   "metadata": {},
   "source": [
    "**For $\\omega = 1,\\ \\beta = 1,\\ \\mu = 1$, and $\\alpha = -1$, matrix A becomes**"
   ]
  },
  {
   "cell_type": "code",
   "execution_count": 115,
   "metadata": {
    "collapsed": false
   },
   "outputs": [
    {
     "data": {
      "text/latex": [
       "$$\\frac{\\mu}{\\alpha \\left(\\omega - \\frac{\\beta \\mu}{\\alpha}\\right)} \\left(- \\alpha \\left(\\cos{\\left (2 \\theta \\right )} + 1\\right) + \\beta \\sin{\\left (2 \\theta \\right )}\\right)$$"
      ],
      "text/plain": [
       "μ⋅(-α⋅(cos(2⋅θ) + 1) + β⋅sin(2⋅θ))\n",
       "──────────────────────────────────\n",
       "             ⎛    β⋅μ⎞            \n",
       "           α⋅⎜ω - ───⎟            \n",
       "             ⎝     α ⎠            "
      ]
     },
     "metadata": {},
     "output_type": "display_data"
    },
    {
     "data": {
      "text/latex": [
       "$$\\frac{1}{\\alpha \\left(\\omega - \\frac{\\beta \\mu}{\\alpha}\\right)} \\left(- \\alpha \\mu \\sin{\\left (2 \\theta \\right )} - \\alpha \\omega - \\beta \\mu \\cos{\\left (2 \\theta \\right )} + 2 \\beta \\mu\\right)$$"
      ],
      "text/plain": [
       "-α⋅μ⋅sin(2⋅θ) - α⋅ω - β⋅μ⋅cos(2⋅θ) + 2⋅β⋅μ\n",
       "──────────────────────────────────────────\n",
       "                 ⎛    β⋅μ⎞                \n",
       "               α⋅⎜ω - ───⎟                \n",
       "                 ⎝     α ⎠                "
      ]
     },
     "metadata": {},
     "output_type": "display_data"
    },
    {
     "data": {
      "text/latex": [
       "$$\\frac{1}{\\alpha \\left(\\omega - \\frac{\\beta \\mu}{\\alpha}\\right)} \\left(- \\alpha \\mu \\sin{\\left (2 \\theta \\right )} + \\alpha \\omega - \\beta \\mu \\cos{\\left (2 \\theta \\right )} - 2 \\beta \\mu\\right)$$"
      ],
      "text/plain": [
       "-α⋅μ⋅sin(2⋅θ) + α⋅ω - β⋅μ⋅cos(2⋅θ) - 2⋅β⋅μ\n",
       "──────────────────────────────────────────\n",
       "                 ⎛    β⋅μ⎞                \n",
       "               α⋅⎜ω - ───⎟                \n",
       "                 ⎝     α ⎠                "
      ]
     },
     "metadata": {},
     "output_type": "display_data"
    },
    {
     "data": {
      "text/latex": [
       "$$\\frac{\\mu}{\\alpha \\left(\\omega - \\frac{\\beta \\mu}{\\alpha}\\right)} \\left(\\alpha \\left(\\cos{\\left (2 \\theta \\right )} - 1\\right) - \\beta \\sin{\\left (2 \\theta \\right )}\\right)$$"
      ],
      "text/plain": [
       "μ⋅(α⋅(cos(2⋅θ) - 1) - β⋅sin(2⋅θ))\n",
       "─────────────────────────────────\n",
       "             ⎛    β⋅μ⎞           \n",
       "           α⋅⎜ω - ───⎟           \n",
       "             ⎝     α ⎠           "
      ]
     },
     "metadata": {},
     "output_type": "display_data"
    }
   ],
   "source": [
    "Fsol = (omega-(beta*mu)/alpha)**-1*Ft\n",
    "display(Fsol[0,0])\n",
    "display(Fsol[0,1])\n",
    "display(Fsol[1,0])\n",
    "display(Fsol[1,1])"
   ]
  },
  {
   "cell_type": "code",
   "execution_count": 165,
   "metadata": {
    "collapsed": false
   },
   "outputs": [
    {
     "data": {
      "text/latex": [
       "$$\\left[\\begin{matrix}- \\frac{1}{2} \\sin{\\left (2 t \\right )} - \\frac{1}{2} \\cos{\\left (2 t \\right )} - \\frac{1}{2} & - \\frac{1}{2} \\sin{\\left (2 t \\right )} + \\frac{1}{2} \\cos{\\left (2 t \\right )} - \\frac{3}{2}\\\\- \\frac{1}{2} \\sin{\\left (2 t \\right )} + \\frac{1}{2} \\cos{\\left (2 t \\right )} + \\frac{3}{2} & \\frac{1}{2} \\sin{\\left (2 t \\right )} + \\frac{1}{2} \\cos{\\left (2 t \\right )} - \\frac{1}{2}\\end{matrix}\\right]$$"
      ],
      "text/plain": [
       "⎡  sin(2⋅t)   cos(2⋅t)   1    sin(2⋅t)   cos(2⋅t)   3⎤\n",
       "⎢- ──────── - ──────── - ─  - ──────── + ──────── - ─⎥\n",
       "⎢     2          2       2       2          2       2⎥\n",
       "⎢                                                    ⎥\n",
       "⎢  sin(2⋅t)   cos(2⋅t)   3   sin(2⋅t)   cos(2⋅t)   1 ⎥\n",
       "⎢- ──────── + ──────── + ─   ──────── + ──────── - ─ ⎥\n",
       "⎣     2          2       2      2          2       2 ⎦"
      ]
     },
     "execution_count": 165,
     "metadata": {},
     "output_type": "execute_result"
    }
   ],
   "source": [
    "Fsol1 = Fsol.subs(omega, 1).subs(beta, 1).subs(mu, 1).subs(alpha, -1).subs(theta, t)\n",
    "Fsol1"
   ]
  },
  {
   "cell_type": "code",
   "execution_count": 166,
   "metadata": {
    "collapsed": false
   },
   "outputs": [
    {
     "data": {
      "text/latex": [
       "$$\\left[\\begin{matrix}x_{1}\\\\x_{2}\\end{matrix}\\right]$$"
      ],
      "text/plain": [
       "⎡x₁⎤\n",
       "⎢  ⎥\n",
       "⎣x₂⎦"
      ]
     },
     "execution_count": 166,
     "metadata": {},
     "output_type": "execute_result"
    }
   ],
   "source": [
    "vec=sp.Matrix([x1, x2])\n",
    "vec"
   ]
  },
  {
   "cell_type": "code",
   "execution_count": 167,
   "metadata": {
    "collapsed": false
   },
   "outputs": [
    {
     "data": {
      "text/latex": [
       "$$\\left[\\begin{matrix}x_{1} \\left(- \\frac{1}{2} \\sin{\\left (2 t \\right )} - \\frac{1}{2} \\cos{\\left (2 t \\right )} - \\frac{1}{2}\\right) + x_{2} \\left(- \\frac{1}{2} \\sin{\\left (2 t \\right )} + \\frac{1}{2} \\cos{\\left (2 t \\right )} - \\frac{3}{2}\\right)\\\\x_{1} \\left(- \\frac{1}{2} \\sin{\\left (2 t \\right )} + \\frac{1}{2} \\cos{\\left (2 t \\right )} + \\frac{3}{2}\\right) + x_{2} \\left(\\frac{1}{2} \\sin{\\left (2 t \\right )} + \\frac{1}{2} \\cos{\\left (2 t \\right )} - \\frac{1}{2}\\right)\\end{matrix}\\right]$$"
      ],
      "text/plain": [
       "⎡   ⎛  sin(2⋅t)   cos(2⋅t)   1⎞      ⎛  sin(2⋅t)   cos(2⋅t)   3⎞⎤\n",
       "⎢x₁⋅⎜- ──────── - ──────── - ─⎟ + x₂⋅⎜- ──────── + ──────── - ─⎟⎥\n",
       "⎢   ⎝     2          2       2⎠      ⎝     2          2       2⎠⎥\n",
       "⎢                                                               ⎥\n",
       "⎢    ⎛  sin(2⋅t)   cos(2⋅t)   3⎞      ⎛sin(2⋅t)   cos(2⋅t)   1⎞ ⎥\n",
       "⎢ x₁⋅⎜- ──────── + ──────── + ─⎟ + x₂⋅⎜──────── + ──────── - ─⎟ ⎥\n",
       "⎣    ⎝     2          2       2⎠      ⎝   2          2       2⎠ ⎦"
      ]
     },
     "execution_count": 167,
     "metadata": {},
     "output_type": "execute_result"
    }
   ],
   "source": [
    "EqODE = Fsol1*vec\n",
    "\n",
    "EqODE"
   ]
  },
  {
   "cell_type": "code",
   "execution_count": 168,
   "metadata": {
    "collapsed": false
   },
   "outputs": [
    {
     "data": {
      "text/plain": [
       "['x1*(-sin(2*t)/2 - cos(2*t)/2 - 1/2) + x2*(-sin(2*t)/2 + cos(2*t)/2 - 3/2)',\n",
       " 'x1*(-sin(2*t)/2 + cos(2*t)/2 + 3/2) + x2*(sin(2*t)/2 + cos(2*t)/2 - 1/2)']"
      ]
     },
     "metadata": {},
     "output_type": "display_data"
    }
   ],
   "source": [
    "Asol = []\n",
    "\n",
    "for i, item in enumerate(EqODE):\n",
    "       Asol.append(str(item))\n",
    "\n",
    "display(Asol)"
   ]
  },
  {
   "cell_type": "code",
   "execution_count": 169,
   "metadata": {
    "collapsed": false
   },
   "outputs": [
    {
     "name": "stdout",
     "output_type": "stream",
     "text": [
      "My solution\n",
      "Monodromy matrix:\n"
     ]
    },
    {
     "data": {
      "text/latex": [
       "$$\\left[\\begin{matrix}0.00186747682202867 & 9.06307390247107 \\cdot 10^{-9}\\\\0.998132601103948 & 1.00000006711916\\end{matrix}\\right]$$"
      ],
      "text/plain": [
       "⎡0.00186747682202867  9.06307390247107e-9⎤\n",
       "⎢                                        ⎥\n",
       "⎣ 0.998132601103948    1.00000006711916  ⎦"
      ]
     },
     "metadata": {},
     "output_type": "display_data"
    },
    {
     "name": "stdout",
     "output_type": "stream",
     "text": [
      "Eigenvalues:\n"
     ]
    },
    {
     "data": {
      "text/latex": [
       "$$\\left \\{ 0.00186746775895476 : 1, \\quad 1.00000007618224 : 1\\right \\}$$"
      ],
      "text/plain": [
       "{0.00186746775895476: 1, 1.00000007618224: 1}"
      ]
     },
     "metadata": {},
     "output_type": "display_data"
    }
   ],
   "source": [
    "import matplotlib.pyplot as plt\n",
    "from scipy.integrate import odeint\n",
    "from numpy import sin\n",
    "from numpy import cos\n",
    "\n",
    "def deriv(x1_x2, t):\n",
    "    x1, x2 = x1_x2\n",
    "    return np.array([eval(Asol[0]),\\\n",
    "                                eval(Asol[1])])\n",
    "\n",
    "time = np.linspace(0.0, 2*np.pi, 500)\n",
    "xinit=np.array([1,0])\n",
    "x = odeint(deriv, xinit, time)\n",
    "\n",
    "z1 = sp.Matrix([x[-1,0], x[-1,1]])\n",
    "\n",
    "time = np.linspace(0.0, 2*np.pi, 500)\n",
    "xinit=np.array([0,1])\n",
    "x = odeint(deriv, xinit, time)\n",
    "\n",
    "z2 = sp.Matrix([x[-1,0], x[-1,1]])\n",
    "\n",
    "phi = sp.Matrix([z1, z2])\n",
    "phi = phi.reshape(2,2).transpose()\n",
    "\n",
    "print('My solution')\n",
    "print('Monodromy matrix:')\n",
    "display(phi)\n",
    "print('Eigenvalues:')\n",
    "display(phi.eigenvals(rational = False))\n"
   ]
  },
  {
   "cell_type": "markdown",
   "metadata": {},
   "source": [
    "**This is the example straight out of the book and the final result matches the book output**"
   ]
  },
  {
   "cell_type": "code",
   "execution_count": 18,
   "metadata": {
    "collapsed": false
   },
   "outputs": [
    {
     "data": {
      "text/latex": [
       "$$- \\frac{\\mu}{\\alpha} \\left(\\alpha \\cos{\\left (2 \\theta \\right )} + \\alpha - \\beta \\sin{\\left (2 \\theta \\right )}\\right)$$"
      ],
      "text/plain": [
       "-μ⋅(α⋅cos(2⋅θ) + α - β⋅sin(2⋅θ)) \n",
       "─────────────────────────────────\n",
       "                α                "
      ]
     },
     "metadata": {},
     "output_type": "display_data"
    },
    {
     "data": {
      "text/latex": [
       "$$- \\frac{\\mu}{\\alpha} \\left(\\alpha \\sin{\\left (2 \\theta \\right )} + \\frac{\\alpha \\omega}{\\mu} + \\beta \\cos{\\left (2 \\theta \\right )} - 2 \\beta\\right)$$"
      ],
      "text/plain": [
       "   ⎛             α⋅ω                   ⎞ \n",
       "-μ⋅⎜α⋅sin(2⋅θ) + ─── + β⋅cos(2⋅θ) - 2⋅β⎟ \n",
       "   ⎝              μ                    ⎠ \n",
       "─────────────────────────────────────────\n",
       "                    α                    "
      ]
     },
     "metadata": {},
     "output_type": "display_data"
    },
    {
     "data": {
      "text/latex": [
       "$$- \\frac{\\mu}{\\alpha} \\left(- \\alpha \\mu \\omega + \\alpha \\sin{\\left (2 \\theta \\right )} + \\beta \\cos{\\left (2 \\theta \\right )} + 2 \\beta\\right)$$"
      ],
      "text/plain": [
       "-μ⋅(-α⋅μ⋅ω + α⋅sin(2⋅θ) + β⋅cos(2⋅θ) + 2⋅β) \n",
       "────────────────────────────────────────────\n",
       "                     α                      "
      ]
     },
     "metadata": {},
     "output_type": "display_data"
    },
    {
     "data": {
      "text/latex": [
       "$$- \\frac{\\mu}{\\alpha} \\left(- \\alpha \\cos{\\left (2 \\theta \\right )} + \\alpha + \\beta \\sin{\\left (2 \\theta \\right )}\\right)$$"
      ],
      "text/plain": [
       "-μ⋅(-α⋅cos(2⋅θ) + α + β⋅sin(2⋅θ)) \n",
       "──────────────────────────────────\n",
       "                α                 "
      ]
     },
     "metadata": {},
     "output_type": "display_data"
    }
   ],
   "source": [
    "A11 = -(mu/alpha)*(alpha + alpha*sp.cos(2*theta) - beta*sp.sin(2*theta))\n",
    "A12 = -(mu/alpha)*((omega*alpha)/mu - 2*beta + beta*sp.cos(2*theta) + alpha*sp.sin(2*theta))\n",
    "A21 = -(mu/alpha)*(-omega*alpha*mu + 2*beta + beta*sp.cos(2*theta) + alpha*sp.sin(2*theta))\n",
    "A22 = -(mu/alpha)*(alpha - alpha*sp.cos(2*theta) + beta*sp.sin(2*theta))\n",
    "display(A11, A12, A21, A22)"
   ]
  },
  {
   "cell_type": "code",
   "execution_count": 19,
   "metadata": {
    "collapsed": false
   },
   "outputs": [
    {
     "data": {
      "text/latex": [
       "$$\\left[\\begin{matrix}- \\frac{\\mu}{\\alpha \\left(\\omega - \\frac{\\beta \\mu}{\\alpha}\\right)} \\left(\\alpha \\cos{\\left (2 \\theta \\right )} + \\alpha - \\beta \\sin{\\left (2 \\theta \\right )}\\right) & - \\frac{\\mu}{\\alpha \\left(\\omega - \\frac{\\beta \\mu}{\\alpha}\\right)} \\left(\\alpha \\sin{\\left (2 \\theta \\right )} + \\frac{\\alpha \\omega}{\\mu} + \\beta \\cos{\\left (2 \\theta \\right )} - 2 \\beta\\right)\\\\- \\frac{\\mu}{\\alpha \\left(\\omega - \\frac{\\beta \\mu}{\\alpha}\\right)} \\left(- \\alpha \\mu \\omega + \\alpha \\sin{\\left (2 \\theta \\right )} + \\beta \\cos{\\left (2 \\theta \\right )} + 2 \\beta\\right) & - \\frac{\\mu}{\\alpha \\left(\\omega - \\frac{\\beta \\mu}{\\alpha}\\right)} \\left(- \\alpha \\cos{\\left (2 \\theta \\right )} + \\alpha + \\beta \\sin{\\left (2 \\theta \\right )}\\right)\\end{matrix}\\right]$$"
      ],
      "text/plain": [
       "⎡                                                 ⎛             α⋅ω           \n",
       "⎢                                              -μ⋅⎜α⋅sin(2⋅θ) + ─── + β⋅cos(2⋅\n",
       "⎢     -μ⋅(α⋅cos(2⋅θ) + α - β⋅sin(2⋅θ))            ⎝              μ            \n",
       "⎢     ─────────────────────────────────        ───────────────────────────────\n",
       "⎢                  ⎛    β⋅μ⎞                                    ⎛    β⋅μ⎞     \n",
       "⎢                α⋅⎜ω - ───⎟                                  α⋅⎜ω - ───⎟     \n",
       "⎢                  ⎝     α ⎠                                    ⎝     α ⎠     \n",
       "⎢                                                                             \n",
       "⎢-μ⋅(-α⋅μ⋅ω + α⋅sin(2⋅θ) + β⋅cos(2⋅θ) + 2⋅β)      -μ⋅(-α⋅cos(2⋅θ) + α + β⋅sin(\n",
       "⎢────────────────────────────────────────────     ────────────────────────────\n",
       "⎢                  ⎛    β⋅μ⎞                                   ⎛    β⋅μ⎞      \n",
       "⎢                α⋅⎜ω - ───⎟                                 α⋅⎜ω - ───⎟      \n",
       "⎣                  ⎝     α ⎠                                   ⎝     α ⎠      \n",
       "\n",
       "        ⎞ ⎤\n",
       "θ) - 2⋅β⎟ ⎥\n",
       "        ⎠ ⎥\n",
       "──────────⎥\n",
       "          ⎥\n",
       "          ⎥\n",
       "          ⎥\n",
       "          ⎥\n",
       "2⋅θ))     ⎥\n",
       "──────    ⎥\n",
       "          ⎥\n",
       "          ⎥\n",
       "          ⎦"
      ]
     },
     "execution_count": 19,
     "metadata": {},
     "output_type": "execute_result"
    }
   ],
   "source": [
    "A = (omega-(beta*mu)/alpha)**-1*sp.Matrix([[A11, A12], [A21, A22]])\n",
    "A"
   ]
  },
  {
   "cell_type": "code",
   "execution_count": 170,
   "metadata": {
    "collapsed": false
   },
   "outputs": [
    {
     "data": {
      "text/latex": [
       "$$\\left[\\begin{matrix}- \\frac{1}{2} \\sin{\\left (2 t \\right )} - \\frac{1}{2} \\cos{\\left (2 t \\right )} - \\frac{1}{2} & - \\frac{1}{2} \\sin{\\left (2 t \\right )} + \\frac{1}{2} \\cos{\\left (2 t \\right )} - \\frac{3}{2}\\\\- \\frac{1}{2} \\sin{\\left (2 t \\right )} + \\frac{1}{2} \\cos{\\left (2 t \\right )} + \\frac{3}{2} & \\frac{1}{2} \\sin{\\left (2 t \\right )} + \\frac{1}{2} \\cos{\\left (2 t \\right )} - \\frac{1}{2}\\end{matrix}\\right]$$"
      ],
      "text/plain": [
       "⎡  sin(2⋅t)   cos(2⋅t)   1    sin(2⋅t)   cos(2⋅t)   3⎤\n",
       "⎢- ──────── - ──────── - ─  - ──────── + ──────── - ─⎥\n",
       "⎢     2          2       2       2          2       2⎥\n",
       "⎢                                                    ⎥\n",
       "⎢  sin(2⋅t)   cos(2⋅t)   3   sin(2⋅t)   cos(2⋅t)   1 ⎥\n",
       "⎢- ──────── + ──────── + ─   ──────── + ──────── - ─ ⎥\n",
       "⎣     2          2       2      2          2       2 ⎦"
      ]
     },
     "execution_count": 170,
     "metadata": {},
     "output_type": "execute_result"
    }
   ],
   "source": [
    "A1 = A.subs(omega, 1).subs(beta, 1).subs(mu, 1).subs(alpha, -1).subs(theta, t)\n",
    "A1"
   ]
  },
  {
   "cell_type": "code",
   "execution_count": 171,
   "metadata": {
    "collapsed": false
   },
   "outputs": [
    {
     "data": {
      "text/latex": [
       "$$\\left[\\begin{matrix}x_{1}\\\\x_{2}\\end{matrix}\\right]$$"
      ],
      "text/plain": [
       "⎡x₁⎤\n",
       "⎢  ⎥\n",
       "⎣x₂⎦"
      ]
     },
     "execution_count": 171,
     "metadata": {},
     "output_type": "execute_result"
    }
   ],
   "source": [
    "xvec = sp.Matrix([x1, x2])\n",
    "xvec"
   ]
  },
  {
   "cell_type": "code",
   "execution_count": 172,
   "metadata": {
    "collapsed": false
   },
   "outputs": [
    {
     "data": {
      "text/latex": [
       "$$\\left[\\begin{matrix}x_{1} \\left(- \\frac{1}{2} \\sin{\\left (2 t \\right )} - \\frac{1}{2} \\cos{\\left (2 t \\right )} - \\frac{1}{2}\\right) + x_{2} \\left(- \\frac{1}{2} \\sin{\\left (2 t \\right )} + \\frac{1}{2} \\cos{\\left (2 t \\right )} - \\frac{3}{2}\\right)\\\\x_{1} \\left(- \\frac{1}{2} \\sin{\\left (2 t \\right )} + \\frac{1}{2} \\cos{\\left (2 t \\right )} + \\frac{3}{2}\\right) + x_{2} \\left(\\frac{1}{2} \\sin{\\left (2 t \\right )} + \\frac{1}{2} \\cos{\\left (2 t \\right )} - \\frac{1}{2}\\right)\\end{matrix}\\right]$$"
      ],
      "text/plain": [
       "⎡   ⎛  sin(2⋅t)   cos(2⋅t)   1⎞      ⎛  sin(2⋅t)   cos(2⋅t)   3⎞⎤\n",
       "⎢x₁⋅⎜- ──────── - ──────── - ─⎟ + x₂⋅⎜- ──────── + ──────── - ─⎟⎥\n",
       "⎢   ⎝     2          2       2⎠      ⎝     2          2       2⎠⎥\n",
       "⎢                                                               ⎥\n",
       "⎢    ⎛  sin(2⋅t)   cos(2⋅t)   3⎞      ⎛sin(2⋅t)   cos(2⋅t)   1⎞ ⎥\n",
       "⎢ x₁⋅⎜- ──────── + ──────── + ─⎟ + x₂⋅⎜──────── + ──────── - ─⎟ ⎥\n",
       "⎣    ⎝     2          2       2⎠      ⎝   2          2       2⎠ ⎦"
      ]
     },
     "metadata": {},
     "output_type": "display_data"
    },
    {
     "name": "stdout",
     "output_type": "stream",
     "text": [
      "(2, 1)\n"
     ]
    }
   ],
   "source": [
    "A2 = A1*xvec\n",
    "display(A2)\n",
    "print(A2.shape)"
   ]
  },
  {
   "cell_type": "code",
   "execution_count": 173,
   "metadata": {
    "collapsed": false
   },
   "outputs": [
    {
     "data": {
      "text/plain": [
       "['x1*(-sin(2*t)/2 - cos(2*t)/2 - 1/2) + x2*(-sin(2*t)/2 + cos(2*t)/2 - 3/2)',\n",
       " 'x1*(-sin(2*t)/2 + cos(2*t)/2 + 3/2) + x2*(sin(2*t)/2 + cos(2*t)/2 - 1/2)']"
      ]
     },
     "metadata": {},
     "output_type": "display_data"
    }
   ],
   "source": [
    "A3 = []\n",
    "\n",
    "for i, item in enumerate(A2):\n",
    "       A3.append(str(item))\n",
    "\n",
    "display(A3)"
   ]
  },
  {
   "cell_type": "code",
   "execution_count": 174,
   "metadata": {
    "collapsed": false
   },
   "outputs": [
    {
     "name": "stdout",
     "output_type": "stream",
     "text": [
      "Book solution\n",
      "Monodromy matrix:\n"
     ]
    },
    {
     "data": {
      "text/latex": [
       "$$\\left[\\begin{matrix}0.00186747682202867 & 9.06307390247107 \\cdot 10^{-9}\\\\0.998132601103948 & 1.00000006711916\\end{matrix}\\right]$$"
      ],
      "text/plain": [
       "⎡0.00186747682202867  9.06307390247107e-9⎤\n",
       "⎢                                        ⎥\n",
       "⎣ 0.998132601103948    1.00000006711916  ⎦"
      ]
     },
     "metadata": {},
     "output_type": "display_data"
    },
    {
     "name": "stdout",
     "output_type": "stream",
     "text": [
      "Eigenvalues:\n"
     ]
    },
    {
     "data": {
      "text/latex": [
       "$$\\left \\{ 0.00186746775895476 : 1, \\quad 1.00000007618224 : 1\\right \\}$$"
      ],
      "text/plain": [
       "{0.00186746775895476: 1, 1.00000007618224: 1}"
      ]
     },
     "metadata": {},
     "output_type": "display_data"
    }
   ],
   "source": [
    "import matplotlib.pyplot as plt\n",
    "from scipy.integrate import odeint\n",
    "from numpy import sin\n",
    "from numpy import cos\n",
    "\n",
    "def deriv(x1_x2, t):\n",
    "    x1, x2 = x1_x2\n",
    "    return np.array([eval(A3[0]),\\\n",
    "                        eval(A3[1])])\n",
    "\n",
    "time = np.linspace(0.0, 2*np.pi, 500)\n",
    "xinit=np.array([1,0])\n",
    "x = odeint(deriv, xinit, time)\n",
    "\n",
    "z1 = sp.Matrix([x[-1,0], x[-1,1]])\n",
    "\n",
    "time = np.linspace(0.0, 2*np.pi, 500)\n",
    "xinit=np.array([0,1])\n",
    "x = odeint(deriv, xinit, time)\n",
    "\n",
    "z2 = sp.Matrix([x[-1,0], x[-1,1]])\n",
    "\n",
    "phi1 = sp.Matrix([z1, z2])\n",
    "phi1 = phi1.reshape(2,2).transpose()\n",
    "print('Book solution')\n",
    "print('Monodromy matrix:')\n",
    "display(phi1)\n",
    "print('Eigenvalues:')\n",
    "display(phi1.eigenvals(rational = False))\n"
   ]
  },
  {
   "cell_type": "markdown",
   "metadata": {
    "collapsed": true
   },
   "source": [
    "### Solution for Ex 3.11"
   ]
  },
  {
   "cell_type": "markdown",
   "metadata": {},
   "source": [
    "**State Space**  \n",
    "\n",
    "$\\dot{x_1} = x_2$  \n",
    "$\\dot{x_2} = -x_1 - 2x_1^3$  \n",
    "\n",
    "**Approximate Solution**  \n",
    "$x_{10}(t) = 0.1cos(1.0075t)$  \n",
    "$x_{20}(t) = -0.10075sin(1.0075t)$"
   ]
  },
  {
   "cell_type": "code",
   "execution_count": 183,
   "metadata": {
    "collapsed": true,
    "run_control": {
     "marked": false
    }
   },
   "outputs": [],
   "source": [
    "import sympy as sp\n",
    "sp.init_printing(use_latex='mathjax')\n",
    "from IPython.display import display\n",
    "import numpy as np\n",
    "\n",
    "x1 = sp.Symbol('x1', real = True)\n",
    "x2 = sp.Symbol('x2', real = True)\n",
    "y1 = sp.Symbol('y1', real = True)\n",
    "y2 = sp.Symbol('y2', real = True)\n",
    "t = sp.Symbol('t', real = True)"
   ]
  },
  {
   "cell_type": "code",
   "execution_count": 176,
   "metadata": {
    "collapsed": false
   },
   "outputs": [
    {
     "data": {
      "text/latex": [
       "$$x_{2}$$"
      ],
      "text/plain": [
       "x₂"
      ]
     },
     "execution_count": 176,
     "metadata": {},
     "output_type": "execute_result"
    }
   ],
   "source": [
    "x1dot = x2\n",
    "x1dot"
   ]
  },
  {
   "cell_type": "code",
   "execution_count": 177,
   "metadata": {
    "collapsed": false
   },
   "outputs": [
    {
     "data": {
      "text/latex": [
       "$$- 2 x_{1}^{3} - x_{1}$$"
      ],
      "text/plain": [
       "      3     \n",
       "- 2⋅x₁  - x₁"
      ]
     },
     "execution_count": 177,
     "metadata": {},
     "output_type": "execute_result"
    }
   ],
   "source": [
    "x2dot = -x1 - 2*x1**3\n",
    "x2dot"
   ]
  },
  {
   "cell_type": "markdown",
   "metadata": {},
   "source": [
    "**Define problem in state space vector form to make it easier to calculate Jacobian**"
   ]
  },
  {
   "cell_type": "code",
   "execution_count": 178,
   "metadata": {
    "collapsed": false
   },
   "outputs": [
    {
     "data": {
      "text/latex": [
       "$$\\left[\\begin{matrix}x_{2}\\\\- 2 x_{1}^{3} - x_{1}\\end{matrix}\\right]$$"
      ],
      "text/plain": [
       "⎡     x₂     ⎤\n",
       "⎢            ⎥\n",
       "⎢      3     ⎥\n",
       "⎣- 2⋅x₁  - x₁⎦"
      ]
     },
     "execution_count": 178,
     "metadata": {},
     "output_type": "execute_result"
    }
   ],
   "source": [
    "f = sp.Matrix([x1dot, x2dot])\n",
    "f"
   ]
  },
  {
   "cell_type": "markdown",
   "metadata": {},
   "source": [
    "**Get Jacobian**"
   ]
  },
  {
   "cell_type": "code",
   "execution_count": 179,
   "metadata": {
    "collapsed": false
   },
   "outputs": [
    {
     "data": {
      "text/latex": [
       "$$\\left[\\begin{matrix}0 & 1\\\\- 6 x_{1}^{2} - 1 & 0\\end{matrix}\\right]$$"
      ],
      "text/plain": [
       "⎡     0       1⎤\n",
       "⎢              ⎥\n",
       "⎢      2       ⎥\n",
       "⎣- 6⋅x₁  - 1  0⎦"
      ]
     },
     "execution_count": 179,
     "metadata": {},
     "output_type": "execute_result"
    }
   ],
   "source": [
    "F = f.jacobian([x1, x2])\n",
    "F"
   ]
  },
  {
   "cell_type": "markdown",
   "metadata": {},
   "source": [
    "**Define approximate solutions**"
   ]
  },
  {
   "cell_type": "code",
   "execution_count": 180,
   "metadata": {
    "collapsed": false
   },
   "outputs": [
    {
     "data": {
      "text/latex": [
       "$$0.1 \\cos{\\left (1.0075 t \\right )}$$"
      ],
      "text/plain": [
       "0.1⋅cos(1.0075⋅t)"
      ]
     },
     "execution_count": 180,
     "metadata": {},
     "output_type": "execute_result"
    }
   ],
   "source": [
    "x10 = 0.1*sp.cos(1.0075*t)\n",
    "x10"
   ]
  },
  {
   "cell_type": "code",
   "execution_count": 181,
   "metadata": {
    "collapsed": false
   },
   "outputs": [
    {
     "data": {
      "text/latex": [
       "$$- 0.10075 \\sin{\\left (1.0075 t \\right )}$$"
      ],
      "text/plain": [
       "-0.10075⋅sin(1.0075⋅t)"
      ]
     },
     "execution_count": 181,
     "metadata": {},
     "output_type": "execute_result"
    }
   ],
   "source": [
    "x20 = -0.10075*sp.sin(1.0075*t)\n",
    "x20"
   ]
  },
  {
   "cell_type": "markdown",
   "metadata": {},
   "source": [
    "**Next substitute solution into A matrix**"
   ]
  },
  {
   "cell_type": "code",
   "execution_count": 182,
   "metadata": {
    "collapsed": false
   },
   "outputs": [
    {
     "data": {
      "text/latex": [
       "$$\\left[\\begin{matrix}0 & 1\\\\- 0.06 \\cos^{2}{\\left (1.0075 t \\right )} - 1 & 0\\end{matrix}\\right]$$"
      ],
      "text/plain": [
       "⎡             0                1⎤\n",
       "⎢                               ⎥\n",
       "⎢             2                 ⎥\n",
       "⎣- - -0.06⋅cos (1.0075⋅t) - 1  0⎦"
      ]
     },
     "execution_count": 182,
     "metadata": {},
     "output_type": "execute_result"
    }
   ],
   "source": [
    "Ft = F.subs(x1, x10)\n",
    "Ft"
   ]
  },
  {
   "cell_type": "markdown",
   "metadata": {},
   "source": [
    "**Apply double angle identities**"
   ]
  },
  {
   "cell_type": "code",
   "execution_count": 184,
   "metadata": {
    "collapsed": false
   },
   "outputs": [
    {
     "data": {
      "text/latex": [
       "$$\\left[\\begin{matrix}0 & 1\\\\- 0.03 \\cos{\\left (2.015 t \\right )} - 1.03 & 0\\end{matrix}\\right]$$"
      ],
      "text/plain": [
       "⎡             0                1⎤\n",
       "⎢                               ⎥\n",
       "⎣-- -0.03⋅cos(2.015⋅t) - 1.03  0⎦"
      ]
     },
     "execution_count": 184,
     "metadata": {},
     "output_type": "execute_result"
    }
   ],
   "source": [
    "Ft = Ft.subs(sp.cos(1.0075*t)**2, sp.nsimplify(1/2)*sp.cos(2*1.0075*t) + sp.nsimplify(1/2))\n",
    "Ft"
   ]
  },
  {
   "cell_type": "code",
   "execution_count": 185,
   "metadata": {
    "collapsed": false
   },
   "outputs": [
    {
     "data": {
      "text/latex": [
       "$$\\left[\\begin{matrix}y_{1}\\\\y_{2}\\end{matrix}\\right]$$"
      ],
      "text/plain": [
       "⎡y₁⎤\n",
       "⎢  ⎥\n",
       "⎣y₂⎦"
      ]
     },
     "execution_count": 185,
     "metadata": {},
     "output_type": "execute_result"
    }
   ],
   "source": [
    "yvec = sp.Matrix([y1, y2])\n",
    "yvec"
   ]
  },
  {
   "cell_type": "code",
   "execution_count": 186,
   "metadata": {
    "collapsed": false
   },
   "outputs": [
    {
     "data": {
      "text/latex": [
       "$$\\left[\\begin{matrix}y_{2}\\\\y_{1} \\left(- 0.03 \\cos{\\left (2.015 t \\right )} - 1.03\\right)\\end{matrix}\\right]$$"
      ],
      "text/plain": [
       "⎡               y₂                ⎤\n",
       "⎢                                 ⎥\n",
       "⎣y₁⋅(-- -0.03⋅cos(2.015⋅t) - 1.03)⎦"
      ]
     },
     "execution_count": 186,
     "metadata": {},
     "output_type": "execute_result"
    }
   ],
   "source": [
    "Asol = Ft*yvec\n",
    "Asol"
   ]
  },
  {
   "cell_type": "code",
   "execution_count": 187,
   "metadata": {
    "collapsed": false
   },
   "outputs": [
    {
     "data": {
      "text/plain": [
       "['y2', 'y1*(-0.03*cos(2.015*t) - 1.03)']"
      ]
     },
     "metadata": {},
     "output_type": "display_data"
    }
   ],
   "source": [
    "A4 = []\n",
    "\n",
    "for i, item in enumerate(Asol):\n",
    "    A4.append(str(item))\n",
    "    \n",
    "display(A4)"
   ]
  },
  {
   "cell_type": "code",
   "execution_count": 195,
   "metadata": {
    "collapsed": false
   },
   "outputs": [
    {
     "name": "stdout",
     "output_type": "stream",
     "text": [
      "My Solution\n",
      "Monodromy matrix:\n"
     ]
    },
    {
     "data": {
      "text/latex": [
       "$$\\left[\\begin{matrix}1.00000398228401 & 0.0466685718809061\\\\-0.0938034931383364 & 0.998849108699027\\end{matrix}\\right]$$"
      ],
      "text/plain": [
       "⎡ 1.00000398228401    0.0466685718809061⎤\n",
       "⎢                                       ⎥\n",
       "⎣-0.0938034931383364  0.998849108699027 ⎦"
      ]
     },
     "metadata": {},
     "output_type": "display_data"
    },
    {
     "name": "stdout",
     "output_type": "stream",
     "text": [
      "Eigenvalues:\n"
     ]
    },
    {
     "data": {
      "text/latex": [
       "$$\\left \\{ 0.999426545491521 - 0.0661614814598122 i : 1, \\quad 0.999426545491521 + 0.0661614814598122 i : 1\\right \\}$$"
      ],
      "text/plain": [
       "{0.999426545491521 - - -0.0661614814598122⋅ⅈ: 1, 0.999426545491521 + 0.0661614\n",
       "814598122⋅ⅈ: 1}"
      ]
     },
     "metadata": {},
     "output_type": "display_data"
    }
   ],
   "source": [
    "import matplotlib.pyplot as plt\n",
    "from scipy.integrate import odeint\n",
    "from numpy import sin\n",
    "from numpy import cos\n",
    "\n",
    "def deriv(y1_y2, t):\n",
    "    y1, y2 = y1_y2\n",
    "    return np.array([eval(A4[0]),\\\n",
    "                        eval(A4[1])])\n",
    "\n",
    "time = np.linspace(0.0, (2*np.pi)/1.0075, 1000)\n",
    "xinit=np.array([1,0])\n",
    "x = odeint(deriv, xinit, time)\n",
    "\n",
    "z1 = sp.Matrix([x[-1,0], x[-1,1]])\n",
    "\n",
    "time = np.linspace(0.0, 2*np.pi, 500)\n",
    "xinit=np.array([0,1])\n",
    "x = odeint(deriv, xinit, time)\n",
    "\n",
    "z2 = sp.Matrix([x[-1,0], x[-1,1]])\n",
    "\n",
    "phi1 = sp.Matrix([z1, z2])\n",
    "phi1 = phi1.reshape(2,2).transpose()\n",
    "print('My Solution')\n",
    "print('Monodromy matrix:')\n",
    "display(phi1)\n",
    "print('Eigenvalues:')\n",
    "display(phi1.eigenvals(rational = False))\n",
    "\n"
   ]
  },
  {
   "cell_type": "code",
   "execution_count": null,
   "metadata": {
    "collapsed": true
   },
   "outputs": [],
   "source": []
  }
 ],
 "metadata": {
  "kernelspec": {
   "display_name": "Python 3",
   "language": "python",
   "name": "python3"
  },
  "language_info": {
   "codemirror_mode": {
    "name": "ipython",
    "version": 3
   },
   "file_extension": ".py",
   "mimetype": "text/x-python",
   "name": "python",
   "nbconvert_exporter": "python",
   "pygments_lexer": "ipython3",
   "version": "3.5.0"
  }
 },
 "nbformat": 4,
 "nbformat_minor": 0
}
