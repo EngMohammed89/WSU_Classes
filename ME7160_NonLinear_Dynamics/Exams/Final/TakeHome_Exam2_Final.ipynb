{
 "cells": [
  {
   "cell_type": "code",
   "execution_count": 139,
   "metadata": {
    "collapsed": true,
    "hide_input": false,
    "run_control": {
     "marked": false
    }
   },
   "outputs": [],
   "source": [
    "import sympy as sp\n",
    "sp.init_printing(use_latex='mathjax')\n",
    "from IPython.display import display"
   ]
  },
  {
   "cell_type": "code",
   "execution_count": 140,
   "metadata": {
    "collapsed": false,
    "hide_input": false,
    "run_control": {
     "marked": false
    }
   },
   "outputs": [],
   "source": [
    "t = sp.Symbol('t', real  = True)\n",
    "omega_o = sp.Symbol('\\omega_o', real = True)\n",
    "xdot = sp.Symbol('\\dot{x}', real = True)\n",
    "xddot = sp.Symbol('\\ddot{x}', real = True)\n",
    "To = sp.Symbol('T_o', real = True)\n",
    "T1 = sp.Symbol('T_1', real = True)\n",
    "T2 = sp.Symbol('T_2', real = True)\n",
    "Do = sp.Symbol('D_o', real = True)\n",
    "D1 = sp.Symbol('D_1', real = True)\n",
    "D2 = sp.Symbol('D_2', real = True)\n",
    "x1 = sp.Symbol('x_1', real = True)\n",
    "x2 = sp.Symbol('x_2', real = True)\n",
    "xo = sp.Symbol('x_o', real = True)\n",
    "x = sp.Symbol('x', real = True)\n",
    "xddot = sp.Symbol('\\ddot{x}', real = True)\n",
    "epsilon = sp.Symbol('\\epsilon', real = True)\n",
    "A = sp.Symbol('A', real = True)\n",
    "Abar = sp.Symbol('Abar', real = True)\n",
    "alpha = sp.Symbol('alpha', real = True)\n",
    "alpha_o = sp.Symbol('alpha_o', real = True)\n",
    "beta = sp.Symbol('beta', real = True)\n",
    "beta_o = sp.Symbol('beta_o', real = True)\n",
    "m = sp.Symbol('m', real = True)\n",
    "k1 = sp.Symbol('k_1', real = True)\n",
    "k3 = sp.Symbol('k_3', real  = True)\n",
    "g = sp.Symbol('g', real = True)\n",
    "phi = sp.Symbol('phi', real = True)\n",
    "\n",
    "G = sp.Symbol('G', real = True)\n",
    "E = sp.Symbol('E', real = True)\n",
    "F = sp.Symbol('F', real = True)"
   ]
  },
  {
   "cell_type": "markdown",
   "metadata": {},
   "source": [
    "## Admir Makas  \n",
    "## Take Home Exam #2"
   ]
  },
  {
   "cell_type": "markdown",
   "metadata": {},
   "source": [
    "### Problem 1\n",
    "\n",
    "Below is the equation to be solved using methhod of multiple scales"
   ]
  },
  {
   "cell_type": "markdown",
   "metadata": {},
   "source": [
    "### $\\ddot{x} + \\frac{k_1}{m}x = g - \\epsilon(\\frac{k_3}{m}x^3)$"
   ]
  },
  {
   "cell_type": "markdown",
   "metadata": {},
   "source": [
    "Since there is a constant forcing term the above expression will have to be shifted to the equilibrium position before method of multiple scales can be applied.\n",
    "\n",
    "Equilibrium position position can be calculated by setting $\\ddot{x} = 0$ and solving for equilibrium points.  \n",
    "\n",
    "For this instance the shifing term will be denoted as $\\phi$ such that $x_1 = x + \\phi$"
   ]
  },
  {
   "cell_type": "code",
   "execution_count": 141,
   "metadata": {
    "collapsed": false
   },
   "outputs": [
    {
     "data": {
      "text/latex": [
       "$$\\ddot{x} - g + \\frac{k_{1} x_{1}}{m} + \\frac{k_{3} x_{1}^{3}}{m}$$"
      ],
      "text/plain": [
       "                            3\n",
       "               k₁⋅x₁   k₃⋅x₁ \n",
       "\\ddot{x} - g + ───── + ──────\n",
       "                 m       m   "
      ]
     },
     "execution_count": 141,
     "metadata": {},
     "output_type": "execute_result"
    }
   ],
   "source": [
    "FShift=xddot + (k1/m)*x1 + (k3/m)*x1**3 - g\n",
    "FShift"
   ]
  },
  {
   "cell_type": "code",
   "execution_count": 142,
   "metadata": {
    "collapsed": false
   },
   "outputs": [
    {
     "data": {
      "text/latex": [
       "$$\\ddot{x} - g + \\frac{k_{1} \\phi}{m} + \\frac{k_{1} x}{m} + \\frac{k_{3} \\phi^{3}}{m} + \\frac{3 k_{3}}{m} \\phi^{2} x + \\frac{3 k_{3}}{m} \\phi x^{2} + \\frac{k_{3} x^{3}}{m}$$"
      ],
      "text/plain": [
       "                                 3         2             2       3\n",
       "               k₁⋅φ   k₁⋅x   k₃⋅φ    3⋅k₃⋅φ ⋅x   3⋅k₃⋅φ⋅x    k₃⋅x \n",
       "\\ddot{x} - g + ──── + ──── + ───── + ───────── + ───────── + ─────\n",
       "                m      m       m         m           m         m  "
      ]
     },
     "execution_count": 142,
     "metadata": {},
     "output_type": "execute_result"
    }
   ],
   "source": [
    "FShift=FShift.subs(x1, x + phi)\n",
    "FShift.expand()"
   ]
  },
  {
   "cell_type": "markdown",
   "metadata": {},
   "source": [
    "In the above expression following terms sum to zero ($\\frac{k_1 \\phi}{m} + \\frac{k_3 \\phi^3}{m} - g$).  \n",
    "This leaves the following equation that can be used for analysis"
   ]
  },
  {
   "cell_type": "code",
   "execution_count": 143,
   "metadata": {
    "collapsed": false
   },
   "outputs": [
    {
     "data": {
      "text/latex": [
       "$$\\ddot{x} + \\frac{3 k_{3}}{m} \\phi x^{2} + \\frac{k_{3} x^{3}}{m} + x \\left(\\frac{k_{1}}{m} + \\frac{3 k_{3}}{m} \\phi^{2}\\right)$$"
      ],
      "text/plain": [
       "                   2       3     ⎛           2⎞\n",
       "           3⋅k₃⋅φ⋅x    k₃⋅x      ⎜k₁   3⋅k₃⋅φ ⎟\n",
       "\\ddot{x} + ───────── + ───── + x⋅⎜── + ───────⎟\n",
       "               m         m       ⎝m       m   ⎠"
      ]
     },
     "execution_count": 143,
     "metadata": {},
     "output_type": "execute_result"
    }
   ],
   "source": [
    "Feq = xddot + FShift.expand().coeff(x)*x + FShift.expand().coeff(x**2)*x**2 + FShift.expand().coeff(x**3)*x**3\n",
    "Feq"
   ]
  },
  {
   "cell_type": "markdown",
   "metadata": {},
   "source": [
    "To make the algebra easier to deal with the above equation will be simplified to the following form:"
   ]
  },
  {
   "cell_type": "code",
   "execution_count": 144,
   "metadata": {
    "collapsed": false
   },
   "outputs": [
    {
     "data": {
      "text/latex": [
       "$$E x^{2} + F x^{3} + G x + \\ddot{x}$$"
      ],
      "text/plain": [
       "   2      3                 \n",
       "E⋅x  + F⋅x  + G⋅x + \\ddot{x}"
      ]
     },
     "execution_count": 144,
     "metadata": {},
     "output_type": "execute_result"
    }
   ],
   "source": [
    "Feq_Simp = xddot + G*x + E*x**2 + F*x**3\n",
    "Feq_Simp"
   ]
  },
  {
   "cell_type": "markdown",
   "metadata": {},
   "source": [
    "Where $G = \\frac{k_1}{m} + \\frac{3k_3\\phi^2}{m}$, $E = \\frac{3k_3\\phi}{m}$, and $F = \\frac{k_3}{m}$"
   ]
  },
  {
   "cell_type": "markdown",
   "metadata": {},
   "source": [
    "Next define definitions for the differential operators $\\frac{d}{dt}$ and $\\frac{d^2}{dt^2}$"
   ]
  },
  {
   "cell_type": "code",
   "execution_count": 145,
   "metadata": {
    "collapsed": false
   },
   "outputs": [
    {
     "data": {
      "text/latex": [
       "$$D_{1} \\epsilon + D_{2} \\epsilon^{2} + D_{o}$$"
      ],
      "text/plain": [
       "                         2     \n",
       "D₁⋅\\epsilon + D₂⋅\\epsilon  + Dₒ"
      ]
     },
     "execution_count": 145,
     "metadata": {},
     "output_type": "execute_result"
    }
   ],
   "source": [
    "ddt = Do + epsilon*D1 + epsilon**2*D2\n",
    "ddt"
   ]
  },
  {
   "cell_type": "code",
   "execution_count": 146,
   "metadata": {
    "collapsed": false
   },
   "outputs": [
    {
     "data": {
      "text/latex": [
       "$$2 D_{1} D_{o} \\epsilon + D_{o}^{2} + \\epsilon^{2} \\left(D_{1}^{2} + 2 D_{2} D_{o}\\right)$$"
      ],
      "text/plain": [
       "                     2           2 ⎛  2          ⎞\n",
       "2⋅D₁⋅Dₒ⋅\\epsilon + Dₒ  + \\epsilon ⋅⎝D₁  + 2⋅D₂⋅Dₒ⎠"
      ]
     },
     "execution_count": 146,
     "metadata": {},
     "output_type": "execute_result"
    }
   ],
   "source": [
    "ddt2 = (ddt*ddt).expand().subs(epsilon, 0) +\\\n",
    "(ddt*ddt).expand().coeff(epsilon)*epsilon +\\\n",
    "(ddt*ddt).expand().coeff(epsilon**2)*epsilon**2\n",
    "ddt2"
   ]
  },
  {
   "cell_type": "markdown",
   "metadata": {},
   "source": [
    "Next step is to define assumed solution for the system, which can be seen below:"
   ]
  },
  {
   "cell_type": "code",
   "execution_count": 203,
   "metadata": {
    "collapsed": false
   },
   "outputs": [
    {
     "data": {
      "text/latex": [
       "$$\\epsilon x_{1} + x_{o}$$"
      ],
      "text/plain": [
       "\\epsilon⋅x₁ + xₒ"
      ]
     },
     "execution_count": 203,
     "metadata": {},
     "output_type": "execute_result"
    }
   ],
   "source": [
    "x = xo + epsilon*x1\n",
    "x"
   ]
  },
  {
   "cell_type": "markdown",
   "metadata": {},
   "source": [
    "Next define the complete expression using definitions above"
   ]
  },
  {
   "cell_type": "code",
   "execution_count": 208,
   "metadata": {
    "collapsed": false
   },
   "outputs": [
    {
     "data": {
      "text/latex": [
       "$$G \\left(\\epsilon x_{1} + x_{o}\\right) + \\epsilon \\left(E \\left(\\epsilon x_{1} + x_{o}\\right)^{2} + F \\left(\\epsilon x_{1} + x_{o}\\right)^{3}\\right) + \\left(\\epsilon x_{1} + x_{o}\\right) \\left(2 D_{1} D_{o} \\epsilon + D_{o}^{2} + \\epsilon^{2} \\left(D_{1}^{2} + 2 D_{2} D_{o}\\right)\\right)$$"
      ],
      "text/plain": [
       "                                ⎛                    2                       3\n",
       "G⋅(\\epsilon⋅x₁ + xₒ) + \\epsilon⋅⎝E⋅(\\epsilon⋅x₁ + xₒ)  + F⋅(\\epsilon⋅x₁ + xₒ) \n",
       "\n",
       "⎞                      ⎛                     2           2 ⎛  2          ⎞⎞\n",
       "⎠ + (\\epsilon⋅x₁ + xₒ)⋅⎝2⋅D₁⋅Dₒ⋅\\epsilon + Dₒ  + \\epsilon ⋅⎝D₁  + 2⋅D₂⋅Dₒ⎠⎠"
      ]
     },
     "execution_count": 208,
     "metadata": {},
     "output_type": "execute_result"
    }
   ],
   "source": [
    "Fe = x*ddt2 + G*x + epsilon*(E*x**2 + F*x**3)\n",
    "Fe"
   ]
  },
  {
   "cell_type": "code",
   "execution_count": 209,
   "metadata": {
    "collapsed": false
   },
   "outputs": [
    {
     "data": {
      "text/latex": [
       "$$D_{1}^{2} \\epsilon^{3} x_{1} + D_{1}^{2} \\epsilon^{2} x_{o} + 2 D_{1} D_{o} \\epsilon^{2} x_{1} + 2 D_{1} D_{o} \\epsilon x_{o} + 2 D_{2} D_{o} \\epsilon^{3} x_{1} + 2 D_{2} D_{o} \\epsilon^{2} x_{o} + D_{o}^{2} \\epsilon x_{1} + D_{o}^{2} x_{o} + E \\epsilon^{3} x_{1}^{2} + 2 E \\epsilon^{2} x_{1} x_{o} + E \\epsilon x_{o}^{2} + F \\epsilon^{4} x_{1}^{3} + 3 F \\epsilon^{3} x_{1}^{2} x_{o} + 3 F \\epsilon^{2} x_{1} x_{o}^{2} + F \\epsilon x_{o}^{3} + G \\epsilon x_{1} + G x_{o}$$"
      ],
      "text/plain": [
       "  2         3        2         2                      2                       \n",
       "D₁ ⋅\\epsilon ⋅x₁ + D₁ ⋅\\epsilon ⋅xₒ + 2⋅D₁⋅Dₒ⋅\\epsilon ⋅x₁ + 2⋅D₁⋅Dₒ⋅\\epsilon⋅\n",
       "\n",
       "                     3                      2        2                 2      \n",
       "xₒ + 2⋅D₂⋅Dₒ⋅\\epsilon ⋅x₁ + 2⋅D₂⋅Dₒ⋅\\epsilon ⋅xₒ + Dₒ ⋅\\epsilon⋅x₁ + Dₒ ⋅xₒ + \n",
       "\n",
       "          3   2               2                      2             4   3      \n",
       "E⋅\\epsilon ⋅x₁  + 2⋅E⋅\\epsilon ⋅x₁⋅xₒ + E⋅\\epsilon⋅xₒ  + F⋅\\epsilon ⋅x₁  + 3⋅F\n",
       "\n",
       "         3   2                  2      2                3                     \n",
       "⋅\\epsilon ⋅x₁ ⋅xₒ + 3⋅F⋅\\epsilon ⋅x₁⋅xₒ  + F⋅\\epsilon⋅xₒ  + G⋅\\epsilon⋅x₁ + G⋅\n",
       "\n",
       "  \n",
       "xₒ"
      ]
     },
     "execution_count": 209,
     "metadata": {},
     "output_type": "execute_result"
    }
   ],
   "source": [
    "Fe = Fe.expand()\n",
    "Fe"
   ]
  },
  {
   "cell_type": "markdown",
   "metadata": {},
   "source": [
    "From the expression above extract terms associated with $\\epsilon^0$, $\\epsilon^1$"
   ]
  },
  {
   "cell_type": "markdown",
   "metadata": {},
   "source": [
    "### Expression for $x_o$"
   ]
  },
  {
   "cell_type": "code",
   "execution_count": 206,
   "metadata": {
    "collapsed": false
   },
   "outputs": [
    {
     "data": {
      "text/latex": [
       "$$D_{o}^{2} x_{o} + G x_{o}$$"
      ],
      "text/plain": [
       "  2          \n",
       "Dₒ ⋅xₒ + G⋅xₒ"
      ]
     },
     "execution_count": 206,
     "metadata": {},
     "output_type": "execute_result"
    }
   ],
   "source": [
    "f1 = Fe.subs(epsilon, 0)\n",
    "f1"
   ]
  },
  {
   "cell_type": "markdown",
   "metadata": {},
   "source": [
    "### Next define equation for $x_1$"
   ]
  },
  {
   "cell_type": "code",
   "execution_count": 207,
   "metadata": {
    "collapsed": false
   },
   "outputs": [
    {
     "data": {
      "text/latex": [
       "$$2 D_{1} D_{o} x_{o} + D_{o}^{2} x_{1} + E x_{o}^{2} + F x_{o}^{3} + G x_{1}$$"
      ],
      "text/plain": [
       "               2          2       3       \n",
       "2⋅D₁⋅Dₒ⋅xₒ + Dₒ ⋅x₁ + E⋅xₒ  + F⋅xₒ  + G⋅x₁"
      ]
     },
     "execution_count": 207,
     "metadata": {},
     "output_type": "execute_result"
    }
   ],
   "source": [
    "f2 = Fe.coeff(epsilon)\n",
    "f2"
   ]
  },
  {
   "cell_type": "code",
   "execution_count": 152,
   "metadata": {
    "collapsed": false
   },
   "outputs": [
    {
     "data": {
      "text/latex": [
       "$$D_{o}^{2} x_{1} + G x_{1}$$"
      ],
      "text/plain": [
       "  2          \n",
       "Dₒ ⋅x₁ + G⋅x₁"
      ]
     },
     "execution_count": 152,
     "metadata": {},
     "output_type": "execute_result"
    }
   ],
   "source": [
    "f2_lhs = sp.expand(f2.coeff(x1)*x1)\n",
    "f2_lhs"
   ]
  },
  {
   "cell_type": "code",
   "execution_count": 153,
   "metadata": {
    "collapsed": false
   },
   "outputs": [
    {
     "data": {
      "text/latex": [
       "$$2 D_{1} D_{o} x_{o} + E x_{o}^{2} + F x_{o}^{3}$$"
      ],
      "text/plain": [
       "                 2       3\n",
       "2⋅D₁⋅Dₒ⋅xₒ + E⋅xₒ  + F⋅xₒ "
      ]
     },
     "execution_count": 153,
     "metadata": {},
     "output_type": "execute_result"
    }
   ],
   "source": [
    "f2_rhs = sp.expand(f2.coeff(xo**3)*xo**3 + f2.coeff(xo)*xo) + f2.coeff(xo**2)*xo**2\n",
    "f2_rhs"
   ]
  },
  {
   "cell_type": "code",
   "execution_count": 154,
   "metadata": {
    "collapsed": false
   },
   "outputs": [
    {
     "data": {
      "text/latex": [
       "$$D_{o}^{2} x_{1} + G x_{1}$$"
      ],
      "text/plain": [
       "  2          \n",
       "Dₒ ⋅x₁ + G⋅x₁"
      ]
     },
     "metadata": {},
     "output_type": "display_data"
    },
    {
     "data": {
      "text/plain": [
       "'='"
      ]
     },
     "metadata": {},
     "output_type": "display_data"
    },
    {
     "data": {
      "text/latex": [
       "$$- 2 D_{1} D_{o} x_{o} - E x_{o}^{2} - F x_{o}^{3}$$"
      ],
      "text/plain": [
       "                  2       3\n",
       "-2⋅D₁⋅Dₒ⋅xₒ - E⋅xₒ  - F⋅xₒ "
      ]
     },
     "metadata": {},
     "output_type": "display_data"
    }
   ],
   "source": [
    "display(f2_lhs, '=', -f2_rhs)"
   ]
  },
  {
   "cell_type": "markdown",
   "metadata": {},
   "source": [
    "#### For the first ODE $D_{o}^{2} x_{o} + G x_{o} = 0$ assume following solution"
   ]
  },
  {
   "cell_type": "code",
   "execution_count": 155,
   "metadata": {
    "collapsed": false
   },
   "outputs": [
    {
     "data": {
      "text/latex": [
       "$$A{\\left (T_{1},T_{2} \\right )} e^{i \\sqrt{G} T_{o}} + e^{- i \\sqrt{G} T_{o}} \\overline{A{\\left (T_{1},T_{2} \\right )}}$$"
      ],
      "text/plain": [
       "               ___            ___             \n",
       "           ⅈ⋅╲╱ G ⋅Tₒ    -ⅈ⋅╲╱ G ⋅Tₒ _________\n",
       "A(T₁, T₂)⋅ℯ           + ℯ           ⋅A(T₁, T₂)"
      ]
     },
     "execution_count": 155,
     "metadata": {},
     "output_type": "execute_result"
    }
   ],
   "source": [
    "x_o = A(T1, T2)*sp.exp(sp.I*sp.sqrt(G)*To) +\\\n",
    "        sp.conjugate(A(T1, T2))*sp.exp(-sp.I*sp.sqrt(G)*To)\n",
    "x_o"
   ]
  },
  {
   "cell_type": "markdown",
   "metadata": {},
   "source": [
    "Assumed solution satisfies the characteristic portion of the ODE"
   ]
  },
  {
   "cell_type": "code",
   "execution_count": 156,
   "metadata": {
    "collapsed": false
   },
   "outputs": [
    {
     "data": {
      "text/latex": [
       "$$0$$"
      ],
      "text/plain": [
       "0"
      ]
     },
     "execution_count": 156,
     "metadata": {},
     "output_type": "execute_result"
    }
   ],
   "source": [
    "(sp.diff(x_o, To, To) + (G)*x_o).expand()"
   ]
  },
  {
   "cell_type": "markdown",
   "metadata": {},
   "source": [
    "### Next substitute expression into $x_1$  "
   ]
  },
  {
   "cell_type": "code",
   "execution_count": 200,
   "metadata": {
    "collapsed": false
   },
   "outputs": [
    {
     "data": {
      "text/latex": [
       "$$- 2 D_{1} D_{o} A{\\left (T_{1},T_{2} \\right )} e^{i \\sqrt{G} T_{o}} - 2 D_{1} D_{o} e^{- i \\sqrt{G} T_{o}} \\overline{A{\\left (T_{1},T_{2} \\right )}} - E A^{2}{\\left (T_{1},T_{2} \\right )} e^{2 i \\sqrt{G} T_{o}} - 2 E A{\\left (T_{1},T_{2} \\right )} \\overline{A{\\left (T_{1},T_{2} \\right )}} - E e^{- 2 i \\sqrt{G} T_{o}} \\overline{A{\\left (T_{1},T_{2} \\right )}}^{2} - F A^{3}{\\left (T_{1},T_{2} \\right )} e^{3 i \\sqrt{G} T_{o}} - 3 F A^{2}{\\left (T_{1},T_{2} \\right )} e^{i \\sqrt{G} T_{o}} \\overline{A{\\left (T_{1},T_{2} \\right )}} - 3 F A{\\left (T_{1},T_{2} \\right )} e^{- i \\sqrt{G} T_{o}} \\overline{A{\\left (T_{1},T_{2} \\right )}}^{2} - F e^{- 3 i \\sqrt{G} T_{o}} \\overline{A{\\left (T_{1},T_{2} \\right )}}^{3}$$"
      ],
      "text/plain": [
       "                         ___                    ___                           \n",
       "                     ⅈ⋅╲╱ G ⋅Tₒ            -ⅈ⋅╲╱ G ⋅Tₒ _________      2       \n",
       "- 2⋅D₁⋅Dₒ⋅A(T₁, T₂)⋅ℯ           - 2⋅D₁⋅Dₒ⋅ℯ           ⋅A(T₁, T₂) - E⋅A (T₁, T₂\n",
       "\n",
       "         ___                                          ___             2       \n",
       "   2⋅ⅈ⋅╲╱ G ⋅Tₒ                 _________      -2⋅ⅈ⋅╲╱ G ⋅Tₒ _________       3\n",
       ")⋅ℯ             - 2⋅E⋅A(T₁, T₂)⋅A(T₁, T₂) - E⋅ℯ             ⋅A(T₁, T₂)  - F⋅A \n",
       "\n",
       "                ___                          ___                              \n",
       "          3⋅ⅈ⋅╲╱ G ⋅Tₒ        2          ⅈ⋅╲╱ G ⋅Tₒ _________                 \n",
       "(T₁, T₂)⋅ℯ             - 3⋅F⋅A (T₁, T₂)⋅ℯ          ⋅A(T₁, T₂) - 3⋅F⋅A(T₁, T₂)⋅\n",
       "\n",
       "      ___             2             ___             3\n",
       " -ⅈ⋅╲╱ G ⋅Tₒ _________       -3⋅ⅈ⋅╲╱ G ⋅Tₒ _________ \n",
       "ℯ           ⋅A(T₁, T₂)  - F⋅ℯ             ⋅A(T₁, T₂) "
      ]
     },
     "execution_count": 200,
     "metadata": {},
     "output_type": "execute_result"
    }
   ],
   "source": [
    "f2_rhs1 = sp.expand(-f2_rhs.subs(xo, x_o))\n",
    "f2_rhs1"
   ]
  },
  {
   "cell_type": "markdown",
   "metadata": {},
   "source": [
    "### Keep only real part"
   ]
  },
  {
   "cell_type": "code",
   "execution_count": 199,
   "metadata": {
    "collapsed": false
   },
   "outputs": [
    {
     "data": {
      "text/latex": [
       "$$- 2 D_{1} D_{o} A{\\left (T_{1},T_{2} \\right )} e^{i \\sqrt{G} T_{o}} - E A^{2}{\\left (T_{1},T_{2} \\right )} e^{2 i \\sqrt{G} T_{o}} - E A{\\left (T_{1},T_{2} \\right )} \\overline{A{\\left (T_{1},T_{2} \\right )}} - F A^{3}{\\left (T_{1},T_{2} \\right )} e^{3 i \\sqrt{G} T_{o}} - 3 F A^{2}{\\left (T_{1},T_{2} \\right )} e^{i \\sqrt{G} T_{o}} \\overline{A{\\left (T_{1},T_{2} \\right )}}$$"
      ],
      "text/plain": [
       "                         ___                          ___                     \n",
       "                     ⅈ⋅╲╱ G ⋅Tₒ      2          2⋅ⅈ⋅╲╱ G ⋅Tₒ               ___\n",
       "- 2⋅D₁⋅Dₒ⋅A(T₁, T₂)⋅ℯ           - E⋅A (T₁, T₂)⋅ℯ             - E⋅A(T₁, T₂)⋅A(T\n",
       "\n",
       "                             ___                          ___             \n",
       "______      3          3⋅ⅈ⋅╲╱ G ⋅Tₒ        2          ⅈ⋅╲╱ G ⋅Tₒ _________\n",
       "₁, T₂) - F⋅A (T₁, T₂)⋅ℯ             - 3⋅F⋅A (T₁, T₂)⋅ℯ          ⋅A(T₁, T₂)"
      ]
     },
     "execution_count": 199,
     "metadata": {},
     "output_type": "execute_result"
    }
   ],
   "source": [
    "f2_rhs_re = sp.expand(f2_rhs1.coeff(2*D1*A(T1, T2))*(2*D1*A(T1, T2)))\\\n",
    "            + sp.expand(f2_rhs1.coeff(A(T1, T2)**2)*(A(T1, T2)**2))\\\n",
    "                + sp.expand(f2_rhs1.coeff(A(T1, T2)**3)*(A(T1, T2)**3))\\\n",
    "                    + sp.expand(f2_rhs1.coeff(E*A(T1, T2))*(sp.nsimplify(1/2)*E*A(T1, T2)))\n",
    "f2_rhs_re"
   ]
  },
  {
   "cell_type": "markdown",
   "metadata": {},
   "source": [
    "From above exprssion two terms will drive the system at resonance, therefore we must ensure that they sum to zero."
   ]
  },
  {
   "cell_type": "markdown",
   "metadata": {},
   "source": [
    "**extract resonant term**"
   ]
  },
  {
   "cell_type": "code",
   "execution_count": 159,
   "metadata": {
    "collapsed": false
   },
   "outputs": [
    {
     "data": {
      "text/latex": [
       "$$- 2 D_{1} D_{o} A{\\left (T_{1},T_{2} \\right )} e^{i \\sqrt{G} T_{o}} - 3 F A^{2}{\\left (T_{1},T_{2} \\right )} e^{i \\sqrt{G} T_{o}} \\overline{A{\\left (T_{1},T_{2} \\right )}}$$"
      ],
      "text/plain": [
       "                         ___                          ___             \n",
       "                     ⅈ⋅╲╱ G ⋅Tₒ        2          ⅈ⋅╲╱ G ⋅Tₒ _________\n",
       "- 2⋅D₁⋅Dₒ⋅A(T₁, T₂)⋅ℯ           - 3⋅F⋅A (T₁, T₂)⋅ℯ          ⋅A(T₁, T₂)"
      ]
     },
     "execution_count": 159,
     "metadata": {},
     "output_type": "execute_result"
    }
   ],
   "source": [
    "f2_res = (f2_rhs_re.coeff(sp.exp(sp.I*To*sp.sqrt(G)))*\\\n",
    "            sp.exp(sp.I*To*sp.sqrt(G))).expand()\n",
    "f2_res"
   ]
  },
  {
   "cell_type": "markdown",
   "metadata": {},
   "source": [
    "Summation of the two terms above must be equal to zero."
   ]
  },
  {
   "cell_type": "markdown",
   "metadata": {},
   "source": [
    "**Define non-resonant terms for later use:**"
   ]
  },
  {
   "cell_type": "code",
   "execution_count": 160,
   "metadata": {
    "collapsed": false
   },
   "outputs": [
    {
     "data": {
      "text/latex": [
       "$$- E A^{2}{\\left (T_{1},T_{2} \\right )} e^{2 i \\sqrt{G} T_{o}} - E A{\\left (T_{1},T_{2} \\right )} \\overline{A{\\left (T_{1},T_{2} \\right )}} - F A^{3}{\\left (T_{1},T_{2} \\right )} e^{3 i \\sqrt{G} T_{o}}$$"
      ],
      "text/plain": [
       "                      ___                                                  ___\n",
       "     2          2⋅ⅈ⋅╲╱ G ⋅Tₒ               _________      3          3⋅ⅈ⋅╲╱ G \n",
       "- E⋅A (T₁, T₂)⋅ℯ             - E⋅A(T₁, T₂)⋅A(T₁, T₂) - F⋅A (T₁, T₂)⋅ℯ         \n",
       "\n",
       "   \n",
       "⋅Tₒ\n",
       "   "
      ]
     },
     "execution_count": 160,
     "metadata": {},
     "output_type": "execute_result"
    }
   ],
   "source": [
    "f2_non_res = f2_rhs_re - f2_res\n",
    "f2_non_res"
   ]
  },
  {
   "cell_type": "markdown",
   "metadata": {},
   "source": [
    "Assume A is of the form $\\frac{1}{2} \\alpha e^{i \\beta}$ and substitute into right hand side of equation for $x_1$ "
   ]
  },
  {
   "cell_type": "code",
   "execution_count": 161,
   "metadata": {
    "collapsed": false
   },
   "outputs": [
    {
     "data": {
      "text/latex": [
       "$$\\frac{1}{2} \\alpha{\\left (T_{1} \\right )} e^{i \\beta{\\left (T_{1} \\right )}}$$"
      ],
      "text/plain": [
       "       ⅈ⋅β(T₁)\n",
       "α(T₁)⋅ℯ       \n",
       "──────────────\n",
       "      2       "
      ]
     },
     "execution_count": 161,
     "metadata": {},
     "output_type": "execute_result"
    }
   ],
   "source": [
    "A_guess = sp.nsimplify(1/2)*alpha(T1)*sp.exp(sp.I*beta(T1))\n",
    "A_guess"
   ]
  },
  {
   "cell_type": "markdown",
   "metadata": {},
   "source": [
    "$\\bar{A}$ definition"
   ]
  },
  {
   "cell_type": "code",
   "execution_count": 162,
   "metadata": {
    "collapsed": false
   },
   "outputs": [
    {
     "data": {
      "text/latex": [
       "$$\\frac{1}{2} \\alpha{\\left (T_{1} \\right )} e^{- i \\beta{\\left (T_{1} \\right )}}$$"
      ],
      "text/plain": [
       "       -ⅈ⋅β(T₁)\n",
       "α(T₁)⋅ℯ        \n",
       "───────────────\n",
       "       2       "
      ]
     },
     "execution_count": 162,
     "metadata": {},
     "output_type": "execute_result"
    }
   ],
   "source": [
    "Abar_guess = sp.nsimplify(1/2)*alpha(T1)*sp.exp(-sp.I*beta(T1))\n",
    "Abar_guess"
   ]
  },
  {
   "cell_type": "markdown",
   "metadata": {},
   "source": [
    "Substitute assumed solution into the right hand side of equation for $x_1$"
   ]
  },
  {
   "cell_type": "code",
   "execution_count": 163,
   "metadata": {
    "collapsed": false
   },
   "outputs": [
    {
     "data": {
      "text/latex": [
       "$$- D_{1} D_{o} \\alpha{\\left (T_{1} \\right )} e^{i \\beta{\\left (T_{1} \\right )}} e^{i \\sqrt{G} T_{o}} - \\frac{3 F}{8} \\alpha^{3}{\\left (T_{1} \\right )} e^{i \\beta{\\left (T_{1} \\right )}} e^{i \\sqrt{G} T_{o}}$$"
      ],
      "text/plain": [
       "                                                              ___   \n",
       "                            ___           3      ⅈ⋅β(T₁)  ⅈ⋅╲╱ G ⋅Tₒ\n",
       "               ⅈ⋅β(T₁)  ⅈ⋅╲╱ G ⋅Tₒ   3⋅F⋅α (T₁)⋅ℯ       ⋅ℯ          \n",
       "- D₁⋅Dₒ⋅α(T₁)⋅ℯ       ⋅ℯ           - ───────────────────────────────\n",
       "                                                    8               "
      ]
     },
     "execution_count": 163,
     "metadata": {},
     "output_type": "execute_result"
    }
   ],
   "source": [
    "f2_res2 = f2_res.subs(A(T1, T2), A_guess)\n",
    "\n",
    "f2_res2 = f2_res2.subs(sp.conjugate(alpha(T1)), alpha(T1))\n",
    "\n",
    "f2_res2 = f2_res2.subs(sp.conjugate(sp.exp(sp.I*beta(T1))),\\\n",
    "                       sp.exp(-sp.I*beta(T1)))\n",
    "f2_res2"
   ]
  },
  {
   "cell_type": "markdown",
   "metadata": {},
   "source": [
    "Next get the derivatives per the expression above, there is only one.\n",
    "\n",
    "To perform the differentiation, need to extract the values that need to be differentiated."
   ]
  },
  {
   "cell_type": "markdown",
   "metadata": {},
   "source": [
    "#### Term for $D_o D_1$ differentiation:"
   ]
  },
  {
   "cell_type": "code",
   "execution_count": 164,
   "metadata": {
    "collapsed": false
   },
   "outputs": [
    {
     "data": {
      "text/latex": [
       "$$- \\alpha{\\left (T_{1} \\right )} e^{i \\beta{\\left (T_{1} \\right )}} e^{i \\sqrt{G} T_{o}}$$"
      ],
      "text/plain": [
       "                     ___   \n",
       "        ⅈ⋅β(T₁)  ⅈ⋅╲╱ G ⋅Tₒ\n",
       "-α(T₁)⋅ℯ       ⋅ℯ          "
      ]
     },
     "execution_count": 164,
     "metadata": {},
     "output_type": "execute_result"
    }
   ],
   "source": [
    "f2_res2_DoD1 = f2_res2.coeff(-D1*Do)\n",
    "f2_res2_DoD1 = -f2_res2_DoD1.expand()\n",
    "f2_res2_DoD1"
   ]
  },
  {
   "cell_type": "markdown",
   "metadata": {},
   "source": [
    "Next perform differentiation with respect to $D_o D_1$ term "
   ]
  },
  {
   "cell_type": "code",
   "execution_count": 165,
   "metadata": {
    "collapsed": false
   },
   "outputs": [
    {
     "data": {
      "text/latex": [
       "$$\\sqrt{G} \\left(\\alpha{\\left (T_{1} \\right )} \\frac{d}{d T_{1}} \\beta{\\left (T_{1} \\right )} - i \\frac{d}{d T_{1}} \\alpha{\\left (T_{1} \\right )}\\right) e^{i \\left(\\sqrt{G} T_{o} + \\beta{\\left (T_{1} \\right )}\\right)}$$"
      ],
      "text/plain": [
       "                                           ⎛  ___           ⎞\n",
       "  ___ ⎛       d              d        ⎞  ⅈ⋅⎝╲╱ G ⋅Tₒ + β(T₁)⎠\n",
       "╲╱ G ⋅⎜α(T₁)⋅───(β(T₁)) - ⅈ⋅───(α(T₁))⎟⋅ℯ                    \n",
       "      ⎝      dT₁            dT₁       ⎠                      "
      ]
     },
     "execution_count": 165,
     "metadata": {},
     "output_type": "execute_result"
    }
   ],
   "source": [
    "f2_res2_DoD1_D = sp.diff(f2_res2_DoD1, To, T1)\n",
    "f2_res2_DoD1_D.simplify()"
   ]
  },
  {
   "cell_type": "markdown",
   "metadata": {},
   "source": [
    "Extract constant term:"
   ]
  },
  {
   "cell_type": "code",
   "execution_count": 166,
   "metadata": {
    "collapsed": false
   },
   "outputs": [
    {
     "data": {
      "text/latex": [
       "$$- \\frac{3 F}{8} \\alpha^{3}{\\left (T_{1} \\right )} e^{i \\beta{\\left (T_{1} \\right )}} e^{i \\sqrt{G} T_{o}}$$"
      ],
      "text/plain": [
       "                          ___    \n",
       "      3      ⅈ⋅β(T₁)  ⅈ⋅╲╱ G ⋅Tₒ \n",
       "-3⋅F⋅α (T₁)⋅ℯ       ⋅ℯ           \n",
       "─────────────────────────────────\n",
       "                8                "
      ]
     },
     "execution_count": 166,
     "metadata": {},
     "output_type": "execute_result"
    }
   ],
   "source": [
    "f2_res2_C = f2_res2.coeff(alpha(T1)**3)*(alpha(T1)**3)\n",
    "f2_res2_C.expand()"
   ]
  },
  {
   "cell_type": "markdown",
   "metadata": {},
   "source": [
    "Combine all terms together to get differentiated expression"
   ]
  },
  {
   "cell_type": "code",
   "execution_count": 197,
   "metadata": {
    "collapsed": false
   },
   "outputs": [
    {
     "data": {
      "text/latex": [
       "$$\\left(- \\frac{3 F}{8} \\alpha^{3}{\\left (T_{1} \\right )} + \\sqrt{G} \\alpha{\\left (T_{1} \\right )} \\frac{d}{d T_{1}} \\beta{\\left (T_{1} \\right )} - i \\sqrt{G} \\frac{d}{d T_{1}} \\alpha{\\left (T_{1} \\right )}\\right) e^{i \\left(\\sqrt{G} T_{o} + \\beta{\\left (T_{1} \\right )}\\right)}$$"
      ],
      "text/plain": [
       "⎛       3                                                  ⎞    ⎛  ___        \n",
       "⎜  3⋅F⋅α (T₁)     ___        d               ___  d        ⎟  ⅈ⋅⎝╲╱ G ⋅Tₒ + β(\n",
       "⎜- ────────── + ╲╱ G ⋅α(T₁)⋅───(β(T₁)) - ⅈ⋅╲╱ G ⋅───(α(T₁))⎟⋅ℯ                \n",
       "⎝      8                    dT₁                  dT₁       ⎠                  \n",
       "\n",
       "   ⎞\n",
       "T₁)⎠\n",
       "    \n",
       "    "
      ]
     },
     "execution_count": 197,
     "metadata": {},
     "output_type": "execute_result"
    }
   ],
   "source": [
    "f2_rhs_final = sp.expand(f2_res2_DoD1_D + f2_res2_C)\n",
    "f2_rhs_final.simplify()"
   ]
  },
  {
   "cell_type": "markdown",
   "metadata": {},
   "source": [
    "Extract real and imaginary parts needed to solve for $\\alpha$ and $\\beta$."
   ]
  },
  {
   "cell_type": "code",
   "execution_count": 198,
   "metadata": {
    "collapsed": false
   },
   "outputs": [
    {
     "data": {
      "text/latex": [
       "$$- \\frac{3 F}{8} \\alpha^{3}{\\left (T_{1} \\right )} + \\sqrt{G} \\alpha{\\left (T_{1} \\right )} \\frac{d}{d T_{1}} \\beta{\\left (T_{1} \\right )}$$"
      ],
      "text/plain": [
       "       3                             \n",
       "  3⋅F⋅α (T₁)     ___        d        \n",
       "- ────────── + ╲╱ G ⋅α(T₁)⋅───(β(T₁))\n",
       "      8                    dT₁       "
      ]
     },
     "execution_count": 198,
     "metadata": {},
     "output_type": "execute_result"
    }
   ],
   "source": [
    "f2_rhs_final_re = f2_rhs_final.expand().subs(sp.I,0)\n",
    "f2_rhs_final_re.simplify()"
   ]
  },
  {
   "cell_type": "code",
   "execution_count": 169,
   "metadata": {
    "collapsed": false
   },
   "outputs": [
    {
     "data": {
      "text/latex": [
       "$$- \\sqrt{G} \\frac{d}{d T_{1}} \\alpha{\\left (T_{1} \\right )}$$"
      ],
      "text/plain": [
       "   ___  d        \n",
       "-╲╱ G ⋅───(α(T₁))\n",
       "       dT₁       "
      ]
     },
     "execution_count": 169,
     "metadata": {},
     "output_type": "execute_result"
    }
   ],
   "source": [
    "test = f2_rhs_final.expand()\n",
    "test\n",
    "f2_rhs_final_im = sp.expand(test.coeff(sp.I))*sp.exp(-sp.I*(sp.sqrt(G)*To + beta(T1)))\n",
    "\n",
    "f2_rhs_final_im.simplify()"
   ]
  },
  {
   "cell_type": "markdown",
   "metadata": {},
   "source": [
    "From the imaginary part $\\alpha$ is a constant $\\alpha = \\alpha_c$\n",
    "\n",
    "Next solve for $\\beta$:"
   ]
  },
  {
   "cell_type": "code",
   "execution_count": 170,
   "metadata": {
    "collapsed": false
   },
   "outputs": [
    {
     "data": {
      "text/latex": [
       "$$\\left [ \\frac{3 F}{8 \\sqrt{G}} \\alpha^{2}{\\left (T_{1} \\right )}\\right ]$$"
      ],
      "text/plain": [
       "⎡     2    ⎤\n",
       "⎢3⋅F⋅α (T₁)⎥\n",
       "⎢──────────⎥\n",
       "⎢     ___  ⎥\n",
       "⎣ 8⋅╲╱ G   ⎦"
      ]
     },
     "execution_count": 170,
     "metadata": {},
     "output_type": "execute_result"
    }
   ],
   "source": [
    "betaP = sp.solve(f2_rhs_final_re, sp.diff(beta(T1), T1))\n",
    "betaP"
   ]
  },
  {
   "cell_type": "code",
   "execution_count": 171,
   "metadata": {
    "collapsed": false
   },
   "outputs": [
    {
     "data": {
      "text/latex": [
       "$$\\frac{3 F \\alpha^{2}}{8 \\sqrt{G}}$$"
      ],
      "text/plain": [
       "      2\n",
       " 3⋅F⋅α \n",
       "───────\n",
       "    ___\n",
       "8⋅╲╱ G "
      ]
     },
     "execution_count": 171,
     "metadata": {},
     "output_type": "execute_result"
    }
   ],
   "source": [
    "betaP1 = betaP[0].subs(alpha(T1), alpha)\n",
    "betaP1"
   ]
  },
  {
   "cell_type": "markdown",
   "metadata": {},
   "source": [
    "Next solve for $\\beta$ by integrating"
   ]
  },
  {
   "cell_type": "code",
   "execution_count": 172,
   "metadata": {
    "collapsed": false
   },
   "outputs": [
    {
     "data": {
      "text/latex": [
       "$$\\frac{3 F T_{1} \\alpha^{2}}{8 \\sqrt{G}}$$"
      ],
      "text/plain": [
       "        2\n",
       "3⋅F⋅T₁⋅α \n",
       "─────────\n",
       "     ___ \n",
       " 8⋅╲╱ G  "
      ]
     },
     "execution_count": 172,
     "metadata": {},
     "output_type": "execute_result"
    }
   ],
   "source": [
    "beta_sol = sp.integrate(betaP1, T1)\n",
    "beta_sol"
   ]
  },
  {
   "cell_type": "markdown",
   "metadata": {},
   "source": [
    "Next plug in the solution for A into the expression for $x_1$.   \n",
    "\n",
    "First start by defining the solution for A and $\\bar{A}$"
   ]
  },
  {
   "cell_type": "code",
   "execution_count": 173,
   "metadata": {
    "collapsed": false
   },
   "outputs": [
    {
     "data": {
      "text/latex": [
       "$$\\frac{\\alpha}{2} e^{\\frac{3 i F T_{1}}{8 \\sqrt{G}} \\alpha^{2}}$$"
      ],
      "text/plain": [
       "             2\n",
       "   3⋅ⅈ⋅F⋅T₁⋅α \n",
       "   ───────────\n",
       "         ___  \n",
       "     8⋅╲╱ G   \n",
       "α⋅ℯ           \n",
       "──────────────\n",
       "      2       "
      ]
     },
     "execution_count": 173,
     "metadata": {},
     "output_type": "execute_result"
    }
   ],
   "source": [
    "A_sol = sp.nsimplify(1/2)*alpha*sp.exp(sp.I*(beta_sol))\n",
    "A_sol"
   ]
  },
  {
   "cell_type": "code",
   "execution_count": 174,
   "metadata": {
    "collapsed": false
   },
   "outputs": [
    {
     "data": {
      "text/latex": [
       "$$\\frac{\\alpha}{2} e^{- \\frac{3 i F T_{1}}{8 \\sqrt{G}} \\alpha^{2}}$$"
      ],
      "text/plain": [
       "              2 \n",
       "   -3⋅ⅈ⋅F⋅T₁⋅α  \n",
       "   ─────────────\n",
       "          ___   \n",
       "      8⋅╲╱ G    \n",
       "α⋅ℯ             \n",
       "────────────────\n",
       "       2        "
      ]
     },
     "execution_count": 174,
     "metadata": {},
     "output_type": "execute_result"
    }
   ],
   "source": [
    "Abar_Sol = sp.nsimplify(1/2)*alpha*sp.exp(-sp.I*(beta_sol))\n",
    "Abar_Sol"
   ]
  },
  {
   "cell_type": "markdown",
   "metadata": {},
   "source": [
    "Above solution for A checks out since the secular term in expression for $x_1$ sums to zero as seen below.\n",
    "\n",
    "In short: $- 2 D_{1} D_{o} A{\\left (T_{1},T_{2} \\right )} e^{i \\sqrt{G} T_{o}} - 3 F A^{2}{\\left (T_{1},T_{2} \\right )} e^{i \\sqrt{G} T_{o}} \\overline{A{\\left (T_{1},T_{2} \\right )}} = 0$"
   ]
  },
  {
   "cell_type": "code",
   "execution_count": 175,
   "metadata": {
    "collapsed": false
   },
   "outputs": [
    {
     "data": {
      "text/latex": [
       "$$0$$"
      ],
      "text/plain": [
       "0"
      ]
     },
     "execution_count": 175,
     "metadata": {},
     "output_type": "execute_result"
    }
   ],
   "source": [
    "test = A_sol*sp.exp(sp.I*sp.sqrt(G)*To)\n",
    "test = 2*sp.diff(test, To, T1)\n",
    "\n",
    "check = -test - (3*F)*A_sol**2*Abar_Sol*sp.exp(sp.I*To*sp.sqrt(G))\n",
    "check"
   ]
  },
  {
   "cell_type": "markdown",
   "metadata": {},
   "source": [
    "Since solution for A above will make the secular terms sum to zero, expression for $x_1$ on the right hand side will become the following (i.e. non-resonant terms):\n",
    "\n",
    "$- E A^{2}{\\left (T_{1},T_{2} \\right )} e^{2 i \\sqrt{G} T_{o}} - E A{\\left (T_{1},T_{2} \\right )} \\overline{A{\\left (T_{1},T_{2} \\right )}} - F A^{3}{\\left (T_{1},T_{2} \\right )} e^{3 i \\sqrt{G} T_{o}}$"
   ]
  },
  {
   "cell_type": "code",
   "execution_count": 176,
   "metadata": {
    "collapsed": false
   },
   "outputs": [
    {
     "data": {
      "text/latex": [
       "$$- \\frac{E \\alpha^{2}}{4} e^{2 i \\sqrt{G} T_{o}} e^{\\frac{3 i F T_{1}}{4 \\sqrt{G}} \\alpha^{2}} - \\frac{E \\alpha^{2}}{4} - \\frac{F \\alpha^{3}}{8} e^{3 i \\sqrt{G} T_{o}} e^{\\frac{9 i F T_{1}}{8 \\sqrt{G}} \\alpha^{2}}$$"
      ],
      "text/plain": [
       "                                2                                        2\n",
       "                      3⋅ⅈ⋅F⋅T₁⋅α                               9⋅ⅈ⋅F⋅T₁⋅α \n",
       "                      ───────────                              ───────────\n",
       "              ___           ___                        ___           ___  \n",
       "     2  2⋅ⅈ⋅╲╱ G ⋅Tₒ    4⋅╲╱ G         2      3  3⋅ⅈ⋅╲╱ G ⋅Tₒ    8⋅╲╱ G   \n",
       "  E⋅α ⋅ℯ            ⋅ℯ              E⋅α    F⋅α ⋅ℯ            ⋅ℯ           \n",
       "- ─────────────────────────────── - ──── - ───────────────────────────────\n",
       "                 4                   4                    8               "
      ]
     },
     "execution_count": 176,
     "metadata": {},
     "output_type": "execute_result"
    }
   ],
   "source": [
    "f2_rhs_wtA = f2_non_res.subs(sp.conjugate(A(T1,T2)), Abar_Sol)\n",
    "f2_rhs_wtA = f2_rhs_wtA.subs(A(T1,T2), A_sol)\n",
    "f2_rhs_wtA.expand()"
   ]
  },
  {
   "cell_type": "markdown",
   "metadata": {},
   "source": [
    "**Extract 3 terms above for simplicity:**"
   ]
  },
  {
   "cell_type": "code",
   "execution_count": 177,
   "metadata": {
    "collapsed": false
   },
   "outputs": [
    {
     "data": {
      "text/latex": [
       "$$- \\frac{F \\alpha^{3}}{8} e^{\\frac{3 i}{8 \\sqrt{G}} \\left(3 F T_{1} \\alpha^{2} + 8 G T_{o}\\right)}$$"
      ],
      "text/plain": [
       "           ⎛        2         ⎞ \n",
       "       3⋅ⅈ⋅⎝3⋅F⋅T₁⋅α  + 8⋅G⋅Tₒ⎠ \n",
       "       ──────────────────────── \n",
       "                   ___          \n",
       "    3          8⋅╲╱ G           \n",
       "-F⋅α ⋅ℯ                         \n",
       "────────────────────────────────\n",
       "               8                "
      ]
     },
     "execution_count": 177,
     "metadata": {},
     "output_type": "execute_result"
    }
   ],
   "source": [
    "f2_rhs_wtA1 = f2_rhs_wtA.coeff(alpha**3)*alpha**3\n",
    "f2_rhs_wtA1.simplify()"
   ]
  },
  {
   "cell_type": "code",
   "execution_count": 178,
   "metadata": {
    "collapsed": false
   },
   "outputs": [
    {
     "data": {
      "text/latex": [
       "$$- \\frac{E \\alpha^{2}}{4} e^{\\frac{i}{4 \\sqrt{G}} \\left(3 F T_{1} \\alpha^{2} + 8 G T_{o}\\right)}$$"
      ],
      "text/plain": [
       "         ⎛        2         ⎞ \n",
       "       ⅈ⋅⎝3⋅F⋅T₁⋅α  + 8⋅G⋅Tₒ⎠ \n",
       "       ────────────────────── \n",
       "                  ___         \n",
       "    2         4⋅╲╱ G          \n",
       "-E⋅α ⋅ℯ                       \n",
       "──────────────────────────────\n",
       "              4               "
      ]
     },
     "execution_count": 178,
     "metadata": {},
     "output_type": "execute_result"
    }
   ],
   "source": [
    "f2_rhs_wtA2 = f2_rhs_wtA.coeff(sp.exp(sp.I*2*To*sp.sqrt(G)))\\\n",
    "        *sp.exp(sp.I*2*To*sp.sqrt(G))\n",
    "f2_rhs_wtA2.simplify()"
   ]
  },
  {
   "cell_type": "code",
   "execution_count": 179,
   "metadata": {
    "collapsed": false
   },
   "outputs": [
    {
     "data": {
      "text/latex": [
       "$$- \\frac{E \\alpha^{2}}{4}$$"
      ],
      "text/plain": [
       "    2 \n",
       "-E⋅α  \n",
       "──────\n",
       "  4   "
      ]
     },
     "execution_count": 179,
     "metadata": {},
     "output_type": "execute_result"
    }
   ],
   "source": [
    "f2_rhs_wtA3 = -(E*alpha**2)/4\n",
    "f2_rhs_wtA3.simplify()"
   ]
  },
  {
   "cell_type": "markdown",
   "metadata": {},
   "source": [
    "Since expression for $x_1$ is a linear ODE the particular solution can be solved  in 3 parts.  \n",
    "\n",
    "- Part 1, particular solution for:\n",
    "$- \\frac{F \\alpha^{3}}{8} e^{\\frac{3 i}{8 \\sqrt{G}} \\left(3 F T_{1} \\alpha^{2} + 8 G T_{o}\\right)}$\n",
    "\n",
    "- Part 2, particular solution for:\n",
    "$- \\frac{E \\alpha^{2}}{4} e^{\\frac{i}{4 \\sqrt{G}} \\left(3 F T_{1} \\alpha^{2} + 8 G T_{o}\\right)}$  \n",
    "\n",
    "- Part 3, particular solution for:\n",
    "$- \\frac{E \\alpha^{2}}{4}$\n",
    "\n",
    "**For part 1 the solution becomes:**"
   ]
  },
  {
   "cell_type": "code",
   "execution_count": 180,
   "metadata": {
    "collapsed": false
   },
   "outputs": [
    {
     "data": {
      "text/latex": [
       "$$\\frac{F \\alpha^{3}}{64 G} e^{\\frac{3 i}{8 \\sqrt{G}} \\left(3 F T_{1} \\alpha^{2} + 8 G T_{o}\\right)}$$"
      ],
      "text/plain": [
       "          ⎛        2         ⎞\n",
       "      3⋅ⅈ⋅⎝3⋅F⋅T₁⋅α  + 8⋅G⋅Tₒ⎠\n",
       "      ────────────────────────\n",
       "                  ___         \n",
       "   3          8⋅╲╱ G          \n",
       "F⋅α ⋅ℯ                        \n",
       "──────────────────────────────\n",
       "             64⋅G             "
      ]
     },
     "execution_count": 180,
     "metadata": {},
     "output_type": "execute_result"
    }
   ],
   "source": [
    "x_11 = sp.simplify(-f2_rhs_wtA1*((1)/(G*8)))\n",
    "x_11"
   ]
  },
  {
   "cell_type": "markdown",
   "metadata": {},
   "source": [
    "Check"
   ]
  },
  {
   "cell_type": "code",
   "execution_count": 181,
   "metadata": {
    "collapsed": false
   },
   "outputs": [
    {
     "data": {
      "text/latex": [
       "$$- \\frac{F \\alpha^{3}}{8} e^{\\frac{3 i}{8 \\sqrt{G}} \\left(3 F T_{1} \\alpha^{2} + 8 G T_{o}\\right)}$$"
      ],
      "text/plain": [
       "           ⎛        2         ⎞ \n",
       "       3⋅ⅈ⋅⎝3⋅F⋅T₁⋅α  + 8⋅G⋅Tₒ⎠ \n",
       "       ──────────────────────── \n",
       "                   ___          \n",
       "    3          8⋅╲╱ G           \n",
       "-F⋅α ⋅ℯ                         \n",
       "────────────────────────────────\n",
       "               8                "
      ]
     },
     "execution_count": 181,
     "metadata": {},
     "output_type": "execute_result"
    }
   ],
   "source": [
    "sp.diff(x_11, To, To) + G*x_11"
   ]
  },
  {
   "cell_type": "markdown",
   "metadata": {},
   "source": [
    "**For part 2 solution becomes:**"
   ]
  },
  {
   "cell_type": "code",
   "execution_count": 182,
   "metadata": {
    "collapsed": false
   },
   "outputs": [
    {
     "data": {
      "text/latex": [
       "$$\\frac{E \\alpha^{2}}{12 G} e^{\\frac{i}{4 \\sqrt{G}} \\left(3 F T_{1} \\alpha^{2} + 8 G T_{o}\\right)}$$"
      ],
      "text/plain": [
       "        ⎛        2         ⎞\n",
       "      ⅈ⋅⎝3⋅F⋅T₁⋅α  + 8⋅G⋅Tₒ⎠\n",
       "      ──────────────────────\n",
       "                 ___        \n",
       "   2         4⋅╲╱ G         \n",
       "E⋅α ⋅ℯ                      \n",
       "────────────────────────────\n",
       "            12⋅G            "
      ]
     },
     "execution_count": 182,
     "metadata": {},
     "output_type": "execute_result"
    }
   ],
   "source": [
    "x_12 = sp.simplify(-f2_rhs_wtA2*((1)/(3*G)))\n",
    "x_12"
   ]
  },
  {
   "cell_type": "markdown",
   "metadata": {},
   "source": [
    "Check"
   ]
  },
  {
   "cell_type": "code",
   "execution_count": 183,
   "metadata": {
    "collapsed": false
   },
   "outputs": [
    {
     "data": {
      "text/latex": [
       "$$- \\frac{E \\alpha^{2}}{4} e^{\\frac{i}{4 \\sqrt{G}} \\left(3 F T_{1} \\alpha^{2} + 8 G T_{o}\\right)}$$"
      ],
      "text/plain": [
       "         ⎛        2         ⎞ \n",
       "       ⅈ⋅⎝3⋅F⋅T₁⋅α  + 8⋅G⋅Tₒ⎠ \n",
       "       ────────────────────── \n",
       "                  ___         \n",
       "    2         4⋅╲╱ G          \n",
       "-E⋅α ⋅ℯ                       \n",
       "──────────────────────────────\n",
       "              4               "
      ]
     },
     "execution_count": 183,
     "metadata": {},
     "output_type": "execute_result"
    }
   ],
   "source": [
    "sp.diff(x_12, To, To) + G*x_12"
   ]
  },
  {
   "cell_type": "markdown",
   "metadata": {},
   "source": [
    "**For part 3 solution becomes:**"
   ]
  },
  {
   "cell_type": "code",
   "execution_count": 184,
   "metadata": {
    "collapsed": false
   },
   "outputs": [
    {
     "data": {
      "text/latex": [
       "$$- \\frac{E \\alpha^{2}}{4 G}$$"
      ],
      "text/plain": [
       "    2 \n",
       "-E⋅α  \n",
       "──────\n",
       " 4⋅G  "
      ]
     },
     "execution_count": 184,
     "metadata": {},
     "output_type": "execute_result"
    }
   ],
   "source": [
    "x_13 = sp.simplify(f2_rhs_wtA3*((1)/(1*G)))\n",
    "x_13"
   ]
  },
  {
   "cell_type": "markdown",
   "metadata": {},
   "source": [
    "Check"
   ]
  },
  {
   "cell_type": "code",
   "execution_count": 185,
   "metadata": {
    "collapsed": false
   },
   "outputs": [
    {
     "data": {
      "text/latex": [
       "$$- \\frac{E \\alpha^{2}}{4}$$"
      ],
      "text/plain": [
       "    2 \n",
       "-E⋅α  \n",
       "──────\n",
       "  4   "
      ]
     },
     "execution_count": 185,
     "metadata": {},
     "output_type": "execute_result"
    }
   ],
   "source": [
    "sp.diff(x_13, To, To) + G*x_13"
   ]
  },
  {
   "cell_type": "markdown",
   "metadata": {},
   "source": [
    "**Complete solution for $x_1$ becomes, keeping only real terms:**"
   ]
  },
  {
   "cell_type": "code",
   "execution_count": 186,
   "metadata": {
    "collapsed": false
   },
   "outputs": [
    {
     "data": {
      "text/latex": [
       "$$\\frac{E \\alpha^{2}}{12 G} e^{\\frac{i}{4 \\sqrt{G}} \\left(3 F T_{1} \\alpha^{2} + 8 G T_{o}\\right)} - \\frac{E \\alpha^{2}}{4 G} + \\frac{F \\alpha^{3}}{64 G} e^{\\frac{3 i}{8 \\sqrt{G}} \\left(3 F T_{1} \\alpha^{2} + 8 G T_{o}\\right)}$$"
      ],
      "text/plain": [
       "        ⎛        2         ⎞                    ⎛        2         ⎞\n",
       "      ⅈ⋅⎝3⋅F⋅T₁⋅α  + 8⋅G⋅Tₒ⎠                3⋅ⅈ⋅⎝3⋅F⋅T₁⋅α  + 8⋅G⋅Tₒ⎠\n",
       "      ──────────────────────                ────────────────────────\n",
       "                 ___                                    ___         \n",
       "   2         4⋅╲╱ G               2      3          8⋅╲╱ G          \n",
       "E⋅α ⋅ℯ                         E⋅α    F⋅α ⋅ℯ                        \n",
       "──────────────────────────── - ──── + ──────────────────────────────\n",
       "            12⋅G               4⋅G                 64⋅G             "
      ]
     },
     "execution_count": 186,
     "metadata": {},
     "output_type": "execute_result"
    }
   ],
   "source": [
    "x_1 = x_11 + x_12 + x_13\n",
    "x_1"
   ]
  },
  {
   "cell_type": "markdown",
   "metadata": {},
   "source": [
    "Solution for $x_1$ satisfies the condition on the right hand side as seen below"
   ]
  },
  {
   "cell_type": "code",
   "execution_count": 187,
   "metadata": {
    "collapsed": false
   },
   "outputs": [
    {
     "data": {
      "text/latex": [
       "$$- \\frac{E \\alpha^{2}}{4} e^{2 i \\sqrt{G} T_{o}} e^{\\frac{3 i F T_{1}}{4 \\sqrt{G}} \\alpha^{2}} - \\frac{E \\alpha^{2}}{4} - \\frac{F \\alpha^{3}}{8} e^{3 i \\sqrt{G} T_{o}} e^{\\frac{9 i F T_{1}}{8 \\sqrt{G}} \\alpha^{2}}$$"
      ],
      "text/plain": [
       "                                2                                        2\n",
       "                      3⋅ⅈ⋅F⋅T₁⋅α                               9⋅ⅈ⋅F⋅T₁⋅α \n",
       "                      ───────────                              ───────────\n",
       "              ___           ___                        ___           ___  \n",
       "     2  2⋅ⅈ⋅╲╱ G ⋅Tₒ    4⋅╲╱ G         2      3  3⋅ⅈ⋅╲╱ G ⋅Tₒ    8⋅╲╱ G   \n",
       "  E⋅α ⋅ℯ            ⋅ℯ              E⋅α    F⋅α ⋅ℯ            ⋅ℯ           \n",
       "- ─────────────────────────────── - ──── - ───────────────────────────────\n",
       "                 4                   4                    8               "
      ]
     },
     "execution_count": 187,
     "metadata": {},
     "output_type": "execute_result"
    }
   ],
   "source": [
    "(sp.diff(x_1, To, To) + G*x_1).expand()"
   ]
  },
  {
   "cell_type": "markdown",
   "metadata": {},
   "source": [
    "#### Finally $x_1$ expressed in complete form takes the following expression:"
   ]
  },
  {
   "cell_type": "code",
   "execution_count": 188,
   "metadata": {
    "collapsed": false,
    "hide_input": false,
    "run_control": {
     "marked": false
    }
   },
   "outputs": [],
   "source": [
    "x_11CC = x_11.subs(sp.I, -sp.I)\n",
    "x_12CC = x_12.subs(sp.I, -sp.I)"
   ]
  },
  {
   "cell_type": "code",
   "execution_count": 194,
   "metadata": {
    "collapsed": false,
    "hide_input": false,
    "run_control": {
     "marked": false
    }
   },
   "outputs": [
    {
     "data": {
      "text/latex": [
       "$$\\frac{E \\alpha^{2}}{6 G} \\cos{\\left (\\frac{1}{4 \\sqrt{G}} \\left(3 F T_{1} \\alpha^{2} + 8 G T_{o}\\right) \\right )} - \\frac{E \\alpha^{2}}{2 G} + \\frac{F \\alpha^{3}}{32 G} \\cos{\\left (\\frac{1}{8 \\sqrt{G}} \\left(9 F T_{1} \\alpha^{2} + 24 G T_{o}\\right) \\right )}$$"
      ],
      "text/plain": [
       "        ⎛        2         ⎞                  ⎛        2          ⎞\n",
       "   2    ⎜3⋅F⋅T₁⋅α  + 8⋅G⋅Tₒ⎟             3    ⎜9⋅F⋅T₁⋅α  + 24⋅G⋅Tₒ⎟\n",
       "E⋅α ⋅cos⎜──────────────────⎟          F⋅α ⋅cos⎜───────────────────⎟\n",
       "        ⎜         ___      ⎟      2           ⎜          ___      ⎟\n",
       "        ⎝     4⋅╲╱ G       ⎠   E⋅α            ⎝      8⋅╲╱ G       ⎠\n",
       "──────────────────────────── - ──── + ─────────────────────────────\n",
       "            6⋅G                2⋅G                 32⋅G            "
      ]
     },
     "execution_count": 194,
     "metadata": {},
     "output_type": "execute_result"
    }
   ],
   "source": [
    "x_1Final = sp.simplify(x_11 + x_11CC) + sp.simplify(x_12 + x_12CC) + 2*x_13\n",
    "x_1Final"
   ]
  },
  {
   "cell_type": "markdown",
   "metadata": {},
   "source": [
    "#### In similar form $x_o$ is expressed as:"
   ]
  },
  {
   "cell_type": "code",
   "execution_count": 195,
   "metadata": {
    "collapsed": false,
    "hide_input": false,
    "run_control": {
     "marked": false
    }
   },
   "outputs": [
    {
     "data": {
      "text/latex": [
       "$$\\alpha \\cos{\\left (\\frac{1}{8 \\sqrt{G}} \\left(3 F T_{1} \\alpha^{2} + 8 G T_{o}\\right) \\right )}$$"
      ],
      "text/plain": [
       "     ⎛        2         ⎞\n",
       "     ⎜3⋅F⋅T₁⋅α  + 8⋅G⋅Tₒ⎟\n",
       "α⋅cos⎜──────────────────⎟\n",
       "     ⎜         ___      ⎟\n",
       "     ⎝     8⋅╲╱ G       ⎠"
      ]
     },
     "execution_count": 195,
     "metadata": {},
     "output_type": "execute_result"
    }
   ],
   "source": [
    "x_oFinal = sp.simplify(x_o.subs(sp.conjugate(A(T1, T2)), Abar_Sol)\\\n",
    "            .subs(A(T1, T2), A_sol))\n",
    "x_oFinal"
   ]
  },
  {
   "cell_type": "markdown",
   "metadata": {},
   "source": [
    "### Finally $x(t, \\epsilon) = x_o + \\epsilon x_1$ can be expressed as:"
   ]
  },
  {
   "cell_type": "code",
   "execution_count": 196,
   "metadata": {
    "collapsed": false,
    "hide_input": false,
    "run_control": {
     "marked": false
    }
   },
   "outputs": [
    {
     "data": {
      "text/latex": [
       "$$\\epsilon \\left(\\frac{E \\alpha^{2}}{6 G} \\cos{\\left (\\frac{1}{4 \\sqrt{G}} \\left(3 F T_{1} \\alpha^{2} + 8 G T_{o}\\right) \\right )} - \\frac{E \\alpha^{2}}{2 G} + \\frac{F \\alpha^{3}}{32 G} \\cos{\\left (\\frac{1}{8 \\sqrt{G}} \\left(9 F T_{1} \\alpha^{2} + 24 G T_{o}\\right) \\right )}\\right) + \\alpha \\cos{\\left (\\frac{1}{8 \\sqrt{G}} \\left(3 F T_{1} \\alpha^{2} + 8 G T_{o}\\right) \\right )}$$"
      ],
      "text/plain": [
       "         ⎛        ⎛        2         ⎞                  ⎛        2          ⎞⎞\n",
       "         ⎜   2    ⎜3⋅F⋅T₁⋅α  + 8⋅G⋅Tₒ⎟             3    ⎜9⋅F⋅T₁⋅α  + 24⋅G⋅Tₒ⎟⎟\n",
       "         ⎜E⋅α ⋅cos⎜──────────────────⎟          F⋅α ⋅cos⎜───────────────────⎟⎟\n",
       "         ⎜        ⎜         ___      ⎟      2           ⎜          ___      ⎟⎟\n",
       "         ⎜        ⎝     4⋅╲╱ G       ⎠   E⋅α            ⎝      8⋅╲╱ G       ⎠⎟\n",
       "\\epsilon⋅⎜──────────────────────────── - ──── + ─────────────────────────────⎟\n",
       "         ⎝            6⋅G                2⋅G                 32⋅G            ⎠\n",
       "                                                                              \n",
       "\n",
       "                            \n",
       "                            \n",
       "                            \n",
       "        ⎛        2         ⎞\n",
       "        ⎜3⋅F⋅T₁⋅α  + 8⋅G⋅Tₒ⎟\n",
       " + α⋅cos⎜──────────────────⎟\n",
       "        ⎜         ___      ⎟\n",
       "        ⎝     8⋅╲╱ G       ⎠"
      ]
     },
     "execution_count": 196,
     "metadata": {},
     "output_type": "execute_result"
    }
   ],
   "source": [
    "x_oFinal + epsilon*x_1Final"
   ]
  },
  {
   "cell_type": "markdown",
   "metadata": {},
   "source": [
    "Where E, F, and G are the following:  \n",
    "\n",
    "- $E = \\frac{3k_3\\phi}{m}$  \n",
    "\n",
    "- $F = \\frac{k_3}{m}$\n",
    "\n",
    "- $G = \\frac{k_1}{m} + \\frac{3k_3\\phi^2}{m}$"
   ]
  },
  {
   "cell_type": "markdown",
   "metadata": {},
   "source": [
    "**The above solution shall now be compared to the numerical solution. For simplicity only the first term will be ploted for the comparison. Numerical solution will be shifted by half amplitude to oscilate about 0.**  \n",
    "\n",
    "**Value for $\\phi$ is the fixed point of the original expression with following values $m = 1$, $k_1 = 2$, $k_3 = 0.1$, and $g = 9.81$**  \n",
    "\n",
    "**With above values the fixed point value is $\\phi = 3.22$**"
   ]
  },
  {
   "cell_type": "code",
   "execution_count": 123,
   "metadata": {
    "collapsed": false
   },
   "outputs": [
    {
     "data": {
      "image/png": "[encoded data removed]",
      "text/plain": [
       "<matplotlib.figure.Figure at 0x9ed2e48>"
      ]
     },
     "metadata": {},
     "output_type": "display_data"
    }
   ],
   "source": [
    "import numpy as np\n",
    "import matplotlib.pyplot as plt\n",
    "from scipy.integrate import odeint\n",
    "\n",
    "alpha = -2.8\n",
    "epsilon = 0.1\n",
    "\n",
    "m = 1\n",
    "k1 = 2\n",
    "k3 = 0.1\n",
    "g = 9.81\n",
    "\n",
    "t = np.linspace(0, 100, 2000)\n",
    "response = alpha*np.cos((3*(k3/m)*epsilon*t*alpha**2 + 8*t*(k1/m + (3*k3*3.22**2)/m))/(8*np.sqrt(k1/m + (3*k3*3.22**2)/m)))\n",
    "\n",
    "def deriv(x,t):\n",
    "    return np.array([x[1], -(k1/m)*x[0] - (k3/m)*x[0]**3 + g])\n",
    "\n",
    "yinit = np.array([0, 0])\n",
    "y=odeint(deriv, yinit, t)\n",
    "\n",
    "fig = plt.figure()\n",
    "plt.plot(t, response, 'b-', linewidth = 2)\n",
    "plt.plot(t, y[:,0]-2.8, 'r--', linewidth = 2)\n",
    "plt.axis([0, 40, -4, 4])\n",
    "fig.suptitle('Plot of numerical and approximate solution', fontsize = 15)\n",
    "plt.xlabel('Time', fontsize = 15)\n",
    "plt.ylabel('Amplitude', fontsize = 15)\n",
    "plt.grid()\n",
    "plt.show()"
   ]
  },
  {
   "cell_type": "markdown",
   "metadata": {},
   "source": [
    "### Problem 2)  \n",
    "\n",
    "$\\dot{x} = x^3 + \\delta x^2 - \\mu x$"
   ]
  },
  {
   "cell_type": "code",
   "execution_count": 55,
   "metadata": {
    "collapsed": true
   },
   "outputs": [],
   "source": [
    "x = sp.Symbol('x', real = True)\n",
    "delta = sp.Symbol('delta', real = True)\n",
    "mu = sp.Symbol('mu', real = True)"
   ]
  },
  {
   "cell_type": "markdown",
   "metadata": {},
   "source": [
    "Find fixed points:"
   ]
  },
  {
   "cell_type": "code",
   "execution_count": 56,
   "metadata": {
    "collapsed": false
   },
   "outputs": [
    {
     "data": {
      "text/latex": [
       "$$\\left [ 0, \\quad - \\frac{\\delta}{2} - \\frac{1}{2} \\sqrt{\\delta^{2} + 4 \\mu}, \\quad - \\frac{\\delta}{2} + \\frac{1}{2} \\sqrt{\\delta^{2} + 4 \\mu}\\right ]$$"
      ],
      "text/plain": [
       "⎡            __________           __________⎤\n",
       "⎢           ╱  2                 ╱  2       ⎥\n",
       "⎢     δ   ╲╱  δ  + 4⋅μ     δ   ╲╱  δ  + 4⋅μ ⎥\n",
       "⎢0, - ─ - ─────────────, - ─ + ─────────────⎥\n",
       "⎣     2         2          2         2      ⎦"
      ]
     },
     "execution_count": 56,
     "metadata": {},
     "output_type": "execute_result"
    }
   ],
   "source": [
    "F=x**3 + delta*x**2 - mu*x\n",
    "\n",
    "roots = sp.solve(F, x)\n",
    "roots"
   ]
  },
  {
   "cell_type": "markdown",
   "metadata": {},
   "source": [
    "Next linearize the system to determine system behavior at fixed points:"
   ]
  },
  {
   "cell_type": "code",
   "execution_count": 57,
   "metadata": {
    "collapsed": false
   },
   "outputs": [
    {
     "data": {
      "text/latex": [
       "$$2 \\delta x - \\mu + 3 x^{2}$$"
      ],
      "text/plain": [
       "               2\n",
       "2⋅δ⋅x - μ + 3⋅x "
      ]
     },
     "execution_count": 57,
     "metadata": {},
     "output_type": "execute_result"
    }
   ],
   "source": [
    "Flin = sp.diff(F, x)\n",
    "Flin"
   ]
  },
  {
   "cell_type": "markdown",
   "metadata": {},
   "source": [
    "Following the result from the linearization above the expression becomes $\\dot{y} = (2 \\delta x - \\mu + 3 x^{2})y$, so $\\lambda = 2 \\delta x - \\mu + 3 x^{2}$.  \n",
    "\n",
    "**At the trivial point $x=0$, $\\lambda$ becomes:**"
   ]
  },
  {
   "cell_type": "code",
   "execution_count": 58,
   "metadata": {
    "collapsed": false
   },
   "outputs": [
    {
     "data": {
      "text/latex": [
       "$$- \\mu$$"
      ],
      "text/plain": [
       "-μ"
      ]
     },
     "execution_count": 58,
     "metadata": {},
     "output_type": "execute_result"
    }
   ],
   "source": [
    "lambda0 = Flin.subs(x, roots[0])\n",
    "lambda0"
   ]
  },
  {
   "cell_type": "markdown",
   "metadata": {},
   "source": [
    "For $x = 0$ when $\\mu \\le 0$ system is unstable and becomes stable when $\\mu \\ge 0$.\n",
    "\n",
    "**At $x = -\\frac{\\delta}{2} - \\frac{1}{2} \\sqrt{\\delta^{2} + 4 \\mu}$, $\\lambda$ becomes:**"
   ]
  },
  {
   "cell_type": "code",
   "execution_count": 59,
   "metadata": {
    "collapsed": false
   },
   "outputs": [
    {
     "data": {
      "text/latex": [
       "$$\\frac{\\delta^{2}}{2} + \\frac{\\delta}{2} \\sqrt{\\delta^{2} + 4 \\mu} + 2 \\mu$$"
      ],
      "text/plain": [
       "          __________      \n",
       " 2       ╱  2             \n",
       "δ    δ⋅╲╱  δ  + 4⋅μ       \n",
       "── + ─────────────── + 2⋅μ\n",
       "2           2             "
      ]
     },
     "execution_count": 59,
     "metadata": {},
     "output_type": "execute_result"
    }
   ],
   "source": [
    "lambda1 = Flin.subs(x, roots[1])\n",
    "lambda1.simplify()"
   ]
  },
  {
   "cell_type": "markdown",
   "metadata": {},
   "source": [
    "**At $x = -\\frac{\\delta}{2} + \\frac{1}{2} \\sqrt{\\delta^{2} + 4 \\mu}$, $\\lambda$ becomes:**"
   ]
  },
  {
   "cell_type": "code",
   "execution_count": 60,
   "metadata": {
    "collapsed": false
   },
   "outputs": [
    {
     "data": {
      "text/latex": [
       "$$\\frac{\\delta^{2}}{2} - \\frac{\\delta}{2} \\sqrt{\\delta^{2} + 4 \\mu} + 2 \\mu$$"
      ],
      "text/plain": [
       "          __________      \n",
       " 2       ╱  2             \n",
       "δ    δ⋅╲╱  δ  + 4⋅μ       \n",
       "── - ─────────────── + 2⋅μ\n",
       "2           2             "
      ]
     },
     "execution_count": 60,
     "metadata": {},
     "output_type": "execute_result"
    }
   ],
   "source": [
    "lambda2 = Flin.subs(x, roots[2])\n",
    "lambda2.simplify()"
   ]
  },
  {
   "cell_type": "markdown",
   "metadata": {},
   "source": [
    "### Plot bifurcation diagram for various values of $\\delta$:  \n",
    "\n",
    "#### For $\\delta = 0$"
   ]
  },
  {
   "cell_type": "code",
   "execution_count": 132,
   "metadata": {
    "collapsed": false
   },
   "outputs": [
    {
     "data": {
      "image/png": "[encoded data removed]",
      "text/plain": [
       "<matplotlib.figure.Figure at 0x9ecd128>"
      ]
     },
     "metadata": {},
     "output_type": "display_data"
    }
   ],
   "source": [
    "import warnings\n",
    "warnings.filterwarnings('ignore')\n",
    "\n",
    "%matplotlib inline\n",
    "\n",
    "import numpy as np\n",
    "import matplotlib.pyplot as plt\n",
    "\n",
    "delta = 0\n",
    "mu_neg = np.linspace(-8, 0, 500000)\n",
    "mu_pos = np.linspace(0, 8, 500000)\n",
    "\n",
    "mu_pos1 = np.linspace(-delta, 0, 500000)\n",
    "mu_pos2 = np.linspace(-delta, 8, 500000)\n",
    "\n",
    "ones = np.ones(500000, dtype=np.int)\n",
    "\n",
    "fig=plt.figure()\n",
    "#at x=0\n",
    "plt.plot(mu_neg, ones*0, 'b--', linewidth=2)\n",
    "plt.plot(mu_pos, ones*0, 'b-', linewidth=2)\n",
    "#at x1\n",
    "plt.plot(mu_pos2, -(delta/2) - (1/2)*np.sqrt(delta**2+4*mu_pos2), 'g--', linewidth=2)\n",
    "plt.plot(mu_pos, -(delta/2) + (1/2)*np.sqrt(delta**2+4*mu_pos), 'g--', linewidth=2)\n",
    "\n",
    "if delta>0.01:\n",
    "    plt.plot(mu_pos1, -(delta/2) + (1/2)*np.sqrt(delta**2+4*mu_pos1), 'r-', linewidth=2)\n",
    "\n",
    "\n",
    "fig.suptitle('Bifurcation Diagram for $\\delta = 0$ and $\\mu > 0$', fontsize=20)\n",
    "plt.xlabel('$\\mu$', fontsize=20)\n",
    "plt.ylabel('$x$', fontsize=20)\n",
    "\n",
    "plt.axis([-8, 8, -4, 4])\n",
    "plt.grid()\n",
    "plt.show()"
   ]
  },
  {
   "cell_type": "code",
   "execution_count": 62,
   "metadata": {
    "collapsed": false,
    "hide_input": false,
    "run_control": {
     "marked": false
    }
   },
   "outputs": [
    {
     "data": {
      "image/png": "[encoded data removed]",
      "text/plain": [
       "<matplotlib.figure.Figure at 0x555ba90>"
      ]
     },
     "metadata": {},
     "output_type": "display_data"
    }
   ],
   "source": [
    "%matplotlib inline\n",
    "\n",
    "import numpy as np\n",
    "import matplotlib.pyplot as plt\n",
    "\n",
    "delta = 0\n",
    "mu_neg = np.linspace(-8, 0, 500)\n",
    "mu_pos = np.linspace(-delta, 8, 500)\n",
    "ones = np.ones(500, dtype=np.int)\n",
    "\n",
    "fig=plt.figure()\n",
    "\n",
    "plt.plot(mu_pos, (delta**2/2) + (delta/2)*np.sqrt(delta**2 + 4*mu_pos) + 2*mu_pos, 'b-', linewidth=2)\n",
    "plt.plot(mu_pos, (delta**2/2) - (delta/2)*np.sqrt(delta**2 + 4*mu_pos) + 2*mu_pos, 'r-', linewidth=2)\n",
    "\n",
    "plt.axis([-delta, 8, -4, 10])\n",
    "fig.suptitle('Non-Trivial $\\lambda$ curves', fontsize=20)\n",
    "plt.xlabel('$\\mu$', fontsize=20)\n",
    "plt.ylabel('$\\lambda$', fontsize=20)\n",
    "plt.grid()\n",
    "plt.show()"
   ]
  },
  {
   "cell_type": "markdown",
   "metadata": {
    "collapsed": true
   },
   "source": [
    "#### For $\\delta = 0.1$"
   ]
  },
  {
   "cell_type": "code",
   "execution_count": 134,
   "metadata": {
    "collapsed": false
   },
   "outputs": [
    {
     "data": {
      "image/png": "[encoded data removed]",
      "text/plain": [
       "<matplotlib.figure.Figure at 0x9f682e8>"
      ]
     },
     "metadata": {},
     "output_type": "display_data"
    }
   ],
   "source": [
    "%matplotlib inline\n",
    "\n",
    "import numpy as np\n",
    "import matplotlib.pyplot as plt\n",
    "\n",
    "delta = 0.1\n",
    "mu_neg = np.linspace(-8, 0, 500)\n",
    "mu_pos = np.linspace(0, 8, 500)\n",
    "\n",
    "mu_pos1 = np.linspace(-delta, 0, 500)\n",
    "mu_pos2 = np.linspace(-delta, 8, 500)\n",
    "\n",
    "\n",
    "ones = np.ones(500, dtype=np.int)\n",
    "\n",
    "fig=plt.figure()\n",
    "#at x=0\n",
    "plt.plot(mu_neg, ones*0, 'b--', linewidth=2)\n",
    "plt.plot(mu_pos, ones*0, 'b-', linewidth=2)\n",
    "#at x1\n",
    "plt.plot(mu_pos2, -(delta/2) - (1/2)*np.sqrt(delta**2+4*mu_pos2), 'g--', linewidth=2)\n",
    "plt.plot(mu_pos, -(delta/2) + (1/2)*np.sqrt(delta**2+4*mu_pos), 'g--', linewidth=2)\n",
    "\n",
    "if delta>0.01:\n",
    "    plt.plot(mu_pos1, -(delta/2) + (1/2)*np.sqrt(delta**2+4*mu_pos1), 'r-', linewidth=2)\n",
    "\n",
    "\n",
    "fig.suptitle('Bifurcation Diagram for $\\delta = 0.1$', fontsize=20)\n",
    "plt.xlabel('$\\mu$', fontsize=20)\n",
    "plt.ylabel('$x$', fontsize=20)\n",
    "\n",
    "plt.axis([-8, 8, -4, 4])\n",
    "plt.grid()\n",
    "plt.show()"
   ]
  },
  {
   "cell_type": "markdown",
   "metadata": {},
   "source": [
    "#### Plot zooming on to $\\mu = 0$ for $\\delta = 0.1$\n",
    "\n",
    "<img src=\"figure delta_0_11.png\" width=\"400\">"
   ]
  },
  {
   "cell_type": "code",
   "execution_count": 131,
   "metadata": {
    "collapsed": false
   },
   "outputs": [
    {
     "data": {
      "image/png": "[encoded data removed]",
      "text/plain": [
       "<matplotlib.figure.Figure at 0x9f04780>"
      ]
     },
     "metadata": {},
     "output_type": "display_data"
    }
   ],
   "source": [
    "%matplotlib inline\n",
    "\n",
    "import numpy as np\n",
    "import matplotlib.pyplot as plt\n",
    "\n",
    "delta = 0.1\n",
    "mu_neg = np.linspace(-8, 0, 500000)\n",
    "mu_pos = np.linspace(-delta, 8, 500000)\n",
    "ones = np.ones(500000, dtype=np.int)\n",
    "\n",
    "fig=plt.figure()\n",
    "\n",
    "plt.plot(mu_pos, (delta**2/2) + (delta/2)*np.sqrt(delta**2 + 4*mu_pos) + 2*mu_pos, 'b-', linewidth=2)\n",
    "plt.plot(mu_pos, (delta**2/2) - (delta/2)*np.sqrt(delta**2 + 4*mu_pos) + 2*mu_pos, 'r-', linewidth=2)\n",
    "\n",
    "plt.axis([-.01, 0.01, -0.01, .01])\n",
    "fig.suptitle('Non-Trivial $\\lambda$ curves', fontsize=20)\n",
    "plt.xlabel('$\\mu$', fontsize=20)\n",
    "plt.ylabel('$\\lambda$', fontsize=20)\n",
    "plt.grid()\n",
    "plt.show()"
   ]
  },
  {
   "cell_type": "markdown",
   "metadata": {},
   "source": [
    "#### For $\\delta = 0.5$"
   ]
  },
  {
   "cell_type": "code",
   "execution_count": 135,
   "metadata": {
    "collapsed": false
   },
   "outputs": [
    {
     "data": {
      "image/png": "[encoded data removed]",
      "text/plain": [
       "<matplotlib.figure.Figure at 0xa005e80>"
      ]
     },
     "metadata": {},
     "output_type": "display_data"
    }
   ],
   "source": [
    "%matplotlib inline\n",
    "\n",
    "import numpy as np\n",
    "import matplotlib.pyplot as plt\n",
    "\n",
    "delta = 0.5\n",
    "mu_neg = np.linspace(-8, 0, 50000)\n",
    "mu_pos = np.linspace(0, 8, 50000)\n",
    "\n",
    "mu_pos1 = np.linspace(-delta, 0, 50000)\n",
    "mu_pos2 = np.linspace(-delta, 8, 50000)\n",
    "\n",
    "ones = np.ones(50000, dtype=np.int)\n",
    "\n",
    "fig=plt.figure()\n",
    "#at x=0\n",
    "plt.plot(mu_neg, ones*0, 'b--', linewidth=2)\n",
    "plt.plot(mu_pos, ones*0, 'b-', linewidth=2)\n",
    "#at x1\n",
    "plt.plot(mu_pos2, -(delta/2) - (1/2)*np.sqrt(delta**2+4*mu_pos2), 'g--', linewidth=2)\n",
    "plt.plot(mu_pos, -(delta/2) + (1/2)*np.sqrt(delta**2+4*mu_pos), 'g--', linewidth=2)\n",
    "\n",
    "if delta>0.01:\n",
    "    plt.plot(mu_pos1, -(delta/2) + (1/2)*np.sqrt(delta**2+4*mu_pos1), 'r-', linewidth=2)\n",
    "\n",
    "\n",
    "fig.suptitle('Bifurcation Diagram for $\\delta = 0.5$', fontsize=20)\n",
    "plt.xlabel('$\\mu$', fontsize=20)\n",
    "plt.ylabel('$x$', fontsize=20)\n",
    "\n",
    "plt.axis([-8, 8, -4, 4])\n",
    "plt.grid()\n",
    "plt.show()"
   ]
  },
  {
   "cell_type": "markdown",
   "metadata": {},
   "source": [
    "#### Plot zooming on to $\\mu = 0$ for $\\delta = 0.5$\n",
    "\n",
    "<img src=\"figure delta_0_5.png\" width=\"400\">"
   ]
  },
  {
   "cell_type": "code",
   "execution_count": 126,
   "metadata": {
    "collapsed": false
   },
   "outputs": [
    {
     "data": {
      "image/png": "[encoded data removed]",
      "text/plain": [
       "<matplotlib.figure.Figure at 0x9dac160>"
      ]
     },
     "metadata": {},
     "output_type": "display_data"
    }
   ],
   "source": [
    "%matplotlib inline\n",
    "\n",
    "import numpy as np\n",
    "import matplotlib.pyplot as plt\n",
    "\n",
    "delta = 0.5\n",
    "mu_neg = np.linspace(-8, 0, 500000)\n",
    "mu_pos = np.linspace(-delta, 8, 500000)\n",
    "ones = np.ones(500000, dtype=np.int)\n",
    "\n",
    "fig=plt.figure()\n",
    "\n",
    "plt.plot(mu_pos, (delta**2/2) + (delta/2)*np.sqrt(delta**2 + 4*mu_pos) + 2*mu_pos, 'b-', linewidth=2)\n",
    "plt.plot(mu_pos, (delta**2/2) - (delta/2)*np.sqrt(delta**2 + 4*mu_pos) + 2*mu_pos, 'r-', linewidth=2)\n",
    "\n",
    "plt.axis([-.1, 0.1, -0.1, 0.1])\n",
    "fig.suptitle('Non-Trivial $\\lambda$ curves', fontsize=20)\n",
    "plt.xlabel('$\\mu$', fontsize=20)\n",
    "plt.ylabel('$\\lambda$', fontsize=20)\n",
    "plt.grid()\n",
    "plt.show()"
   ]
  },
  {
   "cell_type": "markdown",
   "metadata": {},
   "source": [
    "#### For $\\delta = 2$"
   ]
  },
  {
   "cell_type": "code",
   "execution_count": 136,
   "metadata": {
    "collapsed": false,
    "run_control": {
     "marked": false
    }
   },
   "outputs": [
    {
     "data": {
      "image/png": "[encoded data removed]",
      "text/plain": [
       "<matplotlib.figure.Figure at 0x9c0de48>"
      ]
     },
     "metadata": {},
     "output_type": "display_data"
    }
   ],
   "source": [
    "%matplotlib inline\n",
    "\n",
    "import numpy as np\n",
    "import matplotlib.pyplot as plt\n",
    "\n",
    "delta = 2\n",
    "mu_neg = np.linspace(-8, 0, 500000)\n",
    "mu_pos = np.linspace(0, 8, 500000)\n",
    "\n",
    "mu_pos1 = np.linspace(-delta, 0, 500000)\n",
    "mu_pos2 = np.linspace(-delta, 8, 500000)\n",
    "\n",
    "ones = np.ones(500000, dtype=np.int)\n",
    "\n",
    "fig=plt.figure()\n",
    "#at x=0\n",
    "plt.plot(mu_neg, ones*0, 'b--', linewidth=2)\n",
    "plt.plot(mu_pos, ones*0, 'b-', linewidth=2)\n",
    "#at x1\n",
    "plt.plot(mu_pos2, -(delta/2) - (1/2)*np.sqrt(delta**2+4*mu_pos2), 'g--', linewidth=2)\n",
    "plt.plot(mu_pos, -(delta/2) + (1/2)*np.sqrt(delta**2+4*mu_pos), 'g--', linewidth=2)\n",
    "\n",
    "if delta>0.01:\n",
    "    plt.plot(mu_pos1, -(delta/2) + (1/2)*np.sqrt(delta**2+4*mu_pos1), 'r-', linewidth=2)\n",
    "\n",
    "\n",
    "fig.suptitle('Bifurcation Diagram for $\\delta = 2$', fontsize=20)\n",
    "plt.xlabel('$\\mu$', fontsize=20)\n",
    "plt.ylabel('$x$', fontsize=20)\n",
    "\n",
    "plt.axis([-8, 8, -4, 4])\n",
    "plt.grid()\n",
    "plt.show()"
   ]
  },
  {
   "cell_type": "code",
   "execution_count": 128,
   "metadata": {
    "collapsed": false
   },
   "outputs": [
    {
     "data": {
      "image/png": "[encoded data removed]",
      "text/plain": [
       "<matplotlib.figure.Figure at 0x9ed88d0>"
      ]
     },
     "metadata": {},
     "output_type": "display_data"
    }
   ],
   "source": [
    "%matplotlib inline\n",
    "\n",
    "import numpy as np\n",
    "import matplotlib.pyplot as plt\n",
    "\n",
    "delta = 2\n",
    "mu_neg = np.linspace(-8, 0, 500000)\n",
    "mu_pos = np.linspace(-delta, 8, 500000)\n",
    "ones = np.ones(500000, dtype=np.int)\n",
    "\n",
    "fig=plt.figure()\n",
    "\n",
    "plt.plot(mu_pos, (delta**2/2) + (delta/2)*np.sqrt(delta**2 + 4*mu_pos) + 2*mu_pos, 'b-', linewidth=2)\n",
    "plt.plot(mu_pos, (delta**2/2) - (delta/2)*np.sqrt(delta**2 + 4*mu_pos) + 2*mu_pos, 'r-', linewidth=2)\n",
    "\n",
    "plt.axis([-delta, 1, -1, 1])\n",
    "fig.suptitle('Non-Trivial $\\lambda$ curves', fontsize=20)\n",
    "plt.xlabel('$\\mu$', fontsize=20)\n",
    "plt.ylabel('$\\lambda$', fontsize=20)\n",
    "plt.grid()\n",
    "plt.show()"
   ]
  },
  {
   "cell_type": "markdown",
   "metadata": {},
   "source": [
    "#### For $\\delta = 4$"
   ]
  },
  {
   "cell_type": "code",
   "execution_count": 137,
   "metadata": {
    "collapsed": false
   },
   "outputs": [
    {
     "data": {
      "image/png": "[encoded data removed]",
      "text/plain": [
       "<matplotlib.figure.Figure at 0x9da5240>"
      ]
     },
     "metadata": {},
     "output_type": "display_data"
    }
   ],
   "source": [
    "%matplotlib inline\n",
    "\n",
    "import numpy as np\n",
    "import matplotlib.pyplot as plt\n",
    "\n",
    "delta = 4\n",
    "mu_neg = np.linspace(-8, 0, 500000)\n",
    "mu_pos = np.linspace(0, 8, 500000)\n",
    "\n",
    "mu_pos1 = np.linspace(-delta, 0, 500000)\n",
    "mu_pos2 = np.linspace(-delta, 8, 500000)\n",
    "\n",
    "ones = np.ones(500000, dtype=np.int)\n",
    "\n",
    "fig=plt.figure()\n",
    "#at x=0\n",
    "plt.plot(mu_neg, ones*0, 'b--', linewidth=2)\n",
    "plt.plot(mu_pos, ones*0, 'b-', linewidth=2)\n",
    "#at x1\n",
    "plt.plot(mu_pos2, -(delta/2) - (1/2)*np.sqrt(delta**2+4*mu_pos2), 'g--', linewidth=2)\n",
    "plt.plot(mu_pos, -(delta/2) + (1/2)*np.sqrt(delta**2+4*mu_pos), 'g--', linewidth=2)\n",
    "\n",
    "if delta>0.01:\n",
    "    plt.plot(mu_pos1, -(delta/2) + (1/2)*np.sqrt(delta**2+4*mu_pos1), 'r-', linewidth=2)\n",
    "\n",
    "\n",
    "fig.suptitle('Bifurcation Diagram for $\\delta = 4$', fontsize=20)\n",
    "plt.xlabel('$\\mu$', fontsize=20)\n",
    "plt.ylabel('$x$', fontsize=20)\n",
    "\n",
    "plt.axis([-8, 8, -4, 4])\n",
    "plt.grid()\n",
    "plt.show()"
   ]
  },
  {
   "cell_type": "code",
   "execution_count": 130,
   "metadata": {
    "collapsed": false
   },
   "outputs": [
    {
     "data": {
      "image/png": "[encoded data removed]",
      "text/plain": [
       "<matplotlib.figure.Figure at 0x55c3278>"
      ]
     },
     "metadata": {},
     "output_type": "display_data"
    }
   ],
   "source": [
    "%matplotlib inline\n",
    "\n",
    "import numpy as np\n",
    "import matplotlib.pyplot as plt\n",
    "\n",
    "delta = 4\n",
    "mu_neg = np.linspace(-8, 0, 500000)\n",
    "mu_pos = np.linspace(-delta, 8, 500000)\n",
    "ones = np.ones(500000, dtype=np.int)\n",
    "\n",
    "fig=plt.figure()\n",
    "\n",
    "plt.plot(mu_pos, (delta**2/2) + (delta/2)*np.sqrt(delta**2 + 4*mu_pos) + 2*mu_pos, 'b-', linewidth=2)\n",
    "plt.plot(mu_pos, (delta**2/2) - (delta/2)*np.sqrt(delta**2 + 4*mu_pos) + 2*mu_pos, 'r-', linewidth=2)\n",
    "\n",
    "plt.axis([-delta-.25, 2, -2.5, 3])\n",
    "fig.suptitle('Non-Trivial $\\lambda$ curves', fontsize=20)\n",
    "plt.xlabel('$\\mu$', fontsize=20)\n",
    "plt.ylabel('$\\lambda$', fontsize=20)\n",
    "plt.grid()\n",
    "plt.show()"
   ]
  },
  {
   "cell_type": "code",
   "execution_count": 69,
   "metadata": {
    "collapsed": false
   },
   "outputs": [
    {
     "data": {
      "text/html": [
       "<script>\n",
       "code_show=true; \n",
       "function code_toggle() {\n",
       " if (code_show){\n",
       " $('div.input').hide();\n",
       " } else {\n",
       " $('div.input').show();\n",
       " }\n",
       " code_show = !code_show\n",
       "} \n",
       "$( document ).ready(code_toggle);\n",
       "</script>\n",
       "The raw code for this IPython notebook is by default hidden for easier reading.\n",
       "To toggle on/off the raw code, click <a href=\"javascript:code_toggle()\">here</a>."
      ],
      "text/plain": [
       "<IPython.core.display.HTML object>"
      ]
     },
     "execution_count": 69,
     "metadata": {},
     "output_type": "execute_result"
    }
   ],
   "source": [
    "from IPython.display import HTML\n",
    "\n",
    "HTML('''<script>\n",
    "code_show=true; \n",
    "function code_toggle() {\n",
    " if (code_show){\n",
    " $('div.input').hide();\n",
    " } else {\n",
    " $('div.input').show();\n",
    " }\n",
    " code_show = !code_show\n",
    "} \n",
    "$( document ).ready(code_toggle);\n",
    "</script>\n",
    "The raw code for this IPython notebook is by default hidden for easier reading.\n",
    "To toggle on/off the raw code, click <a href=\"javascript:code_toggle()\">here</a>.''')"
   ]
  },
  {
   "cell_type": "code",
   "execution_count": null,
   "metadata": {
    "collapsed": true
   },
   "outputs": [],
   "source": []
  }
 ],
 "metadata": {
  "kernelspec": {
   "display_name": "Python 3",
   "language": "python",
   "name": "python3"
  },
  "language_info": {
   "codemirror_mode": {
    "name": "ipython",
    "version": 3
   },
   "file_extension": ".py",
   "mimetype": "text/x-python",
   "name": "python",
   "nbconvert_exporter": "python",
   "pygments_lexer": "ipython3",
   "version": "3.5.0"
  }
 },
 "nbformat": 4,
 "nbformat_minor": 0
}
