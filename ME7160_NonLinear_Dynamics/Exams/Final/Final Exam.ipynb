{
 "cells": [
  {
   "cell_type": "markdown",
   "metadata": {},
   "source": [
    "### Admir Makas\n",
    "### Final Exam, Non-Linear Dynamics"
   ]
  },
  {
   "cell_type": "markdown",
   "metadata": {},
   "source": [
    "### Problem 1\n",
    "\n",
    "Write program for fixed point continuation to generate both the stable and unstable branch of following equation:\n",
    "\n",
    "$\\dot{x} = \\mu - x^2$"
   ]
  },
  {
   "cell_type": "code",
   "execution_count": 1,
   "metadata": {
    "collapsed": true
   },
   "outputs": [],
   "source": [
    "import numpy as np\n",
    "import sympy as sp\n",
    "sp.init_printing(use_latex='mathjax')\n",
    "from IPython.display import display\n",
    "import matplotlib.pyplot as plt\n",
    "%matplotlib inline\n",
    "\n",
    "mu = sp.Symbol('mu', real = True)\n",
    "x = sp.Symbol('x', real = True)"
   ]
  },
  {
   "cell_type": "markdown",
   "metadata": {},
   "source": [
    "$F$ is defined as:"
   ]
  },
  {
   "cell_type": "code",
   "execution_count": 2,
   "metadata": {
    "collapsed": false
   },
   "outputs": [
    {
     "data": {
      "text/latex": [
       "$$\\mu - x^{2}$$"
      ],
      "text/plain": [
       "     2\n",
       "μ - x "
      ]
     },
     "execution_count": 2,
     "metadata": {},
     "output_type": "execute_result"
    }
   ],
   "source": [
    "f = mu-x**2\n",
    "f"
   ]
  },
  {
   "cell_type": "markdown",
   "metadata": {},
   "source": [
    "$F_x$ is defined as:"
   ]
  },
  {
   "cell_type": "code",
   "execution_count": 3,
   "metadata": {
    "collapsed": false
   },
   "outputs": [
    {
     "data": {
      "text/latex": [
       "$$- 2 x$$"
      ],
      "text/plain": [
       "-2⋅x"
      ]
     },
     "execution_count": 3,
     "metadata": {},
     "output_type": "execute_result"
    }
   ],
   "source": [
    "sp.diff(f, x)"
   ]
  },
  {
   "cell_type": "markdown",
   "metadata": {},
   "source": [
    "Having defined function $F$ and the corresponding $F_x$, equation for the time marching scheme can be defined as:  \n",
    "\n",
    "$x_{j+1}^{k+1} = x_{j+1}^{k} - r\\frac{\\mu_{j+1} - x_{j+1}^{2\\  k}}{-2x_{j+1}^{k}}$  \n",
    "\n",
    "Above expression is implemented in the code below to generate the sequential continuation.  \n",
    "Relaxation paramater $r$ is modified as required by varying it from 0 to 1."
   ]
  },
  {
   "cell_type": "code",
   "execution_count": 4,
   "metadata": {
    "collapsed": false
   },
   "outputs": [
    {
     "data": {
      "image/png": "[encoded data removed]",
      "text/plain": [
       "<matplotlib.figure.Figure at 0x8177240>"
      ]
     },
     "metadata": {},
     "output_type": "display_data"
    }
   ],
   "source": [
    "#define mu range from 0 to 2\n",
    "mu=np.linspace(0, 2, 60)\n",
    "#mu=np.append(-1, mu)\n",
    "#print(mu)\n",
    "#define initial guess for x\n",
    "x0 = 0.01\n",
    "\n",
    "x=[]\n",
    "\n",
    "#print(x)\n",
    "\n",
    "for i in range(0, len(mu)):\n",
    "    r=1\n",
    "    \n",
    "    if i==0:\n",
    "        test = x0 - r*((mu[i] - x0**2)/(-2*x0))\n",
    "        check1 = mu[i]-test**2\n",
    "        check2 = mu[i]-x0**2\n",
    "    else:\n",
    "        test = x[i-1] - r*((mu[i] - x[i-1]**2)/(-2*x[i-1]))\n",
    "        check1 = mu[i]-test**2\n",
    "        check2 = mu[i]-x[i-1]**2\n",
    "    \n",
    "    if check1 < check2:\n",
    "        val=[]\n",
    "        val.append(test)\n",
    "        for k in range (0, 100):\n",
    "            val.append(val[k] - r*((mu[i] - val[k]**2)/(-2*val[k])))\n",
    "            break_cond = np.abs(val[k]-val[k-1])\n",
    "            if break_cond<0.00001:\n",
    "                break\n",
    "        x.append(val[k])\n",
    "        #print('First condition', x)\n",
    "    else:\n",
    "        while(check1 > check2):\n",
    "            if i==0:\n",
    "                test2 = x0 - r*((mu[i] - x0**2)/(-2*x0))\n",
    "                check1 = mu[i]-test2**2\n",
    "                check2 = mu[i]-x0**2\n",
    "                r=r/2\n",
    "            else:\n",
    "                test2 = x[i-1] - r*((mu[i] - x[i-1]**2)/(-2*x[i-1]))\n",
    "                check1 = mu[i]-test2**2\n",
    "                check2 = mu[i]-x[i-1]**2\n",
    "                r=r/2\n",
    "        val=[]\n",
    "        val.append(test)\n",
    "        for k in range (0, 100):\n",
    "            val.append(val[k] - r*((mu[i] - val[k]**2)/(-2*val[k])))\n",
    "            break_cond = np.abs(val[k]-val[k-1])\n",
    "            if break_cond<0.00001:\n",
    "                break\n",
    "        x.append(val[k])\n",
    "        #print('Second Condition', x)\n",
    "    \n",
    "#print(x)\n",
    "\n",
    "x_neg = np.array(x)\n",
    "#print(x_neg)\n",
    "fig = plt.figure()\n",
    "plt.plot(mu[0:len(mu):4], x[0:len(mu):4], 'ro') #time marching scheme\n",
    "plt.plot(mu[0:len(mu):4], -x_neg[0:len(mu):4], 'yo') #time marching scheme\n",
    "plt.plot(mu[0:len(mu)], np.sqrt(mu), 'b', linewidth=2) #actual solution\n",
    "plt.plot(mu[0:len(mu)], -np.sqrt(mu), 'b--', linewidth=2) #actual solution\n",
    "fig.suptitle('Time Marching Scheme (PLOT 1)', fontsize = 14)\n",
    "plt.xlabel('$\\mu$')\n",
    "plt.ylabel('x')\n",
    "plt.axis([-1, 3, -2, 2])\n",
    "plt.grid()\n",
    "plt.show()"
   ]
  },
  {
   "cell_type": "markdown",
   "metadata": {},
   "source": [
    "Based on the time marching equation defined above **PLOT 1** shows the results. However, at the turning point there will be an issue because the denominator will be equal to 0 leading to an undefined condition. Therefore, **PLOT 1** was constructed by mirrorring top curve in order to generate full graph. Since this is a symmetric condition it can be acceptable but not best way to do things.  \n",
    "\n",
    "Another way to generate bottom curve is to re-run the code with initial $x_0$ being negative. This condition is shown below in **PLOT 2**."
   ]
  },
  {
   "cell_type": "code",
   "execution_count": 5,
   "metadata": {
    "collapsed": false
   },
   "outputs": [
    {
     "data": {
      "image/png": "[encoded data removed]",
      "text/plain": [
       "<matplotlib.figure.Figure at 0x84a68d0>"
      ]
     },
     "metadata": {},
     "output_type": "display_data"
    }
   ],
   "source": [
    "mu=np.linspace(0, 2, 60)\n",
    "#mu=np.append(-1, mu)\n",
    "#print(mu)\n",
    "#define initial guess for x\n",
    "x0 = -0.01\n",
    "\n",
    "x=[]\n",
    "\n",
    "#print(x)\n",
    "\n",
    "for i in range(0, len(mu)):\n",
    "    r=1\n",
    "    \n",
    "    if i==0:\n",
    "        test = x0 - r*((mu[i] - x0**2)/(-2*x0))\n",
    "        check1 = mu[i]-test**2\n",
    "        check2 = mu[i]-x0**2\n",
    "    else:\n",
    "        test = x[i-1] - r*((mu[i] - x[i-1]**2)/(-2*x[i-1]))\n",
    "        check1 = mu[i]-test**2\n",
    "        check2 = mu[i]-x[i-1]**2\n",
    "    \n",
    "    if check1 < check2:\n",
    "        val=[]\n",
    "        val.append(test)\n",
    "        for k in range (0, 100):\n",
    "            val.append(val[k] - r*((mu[i] - val[k]**2)/(-2*val[k])))\n",
    "            break_cond = np.abs(val[k]-val[k-1])\n",
    "            if break_cond<0.00001:\n",
    "                break\n",
    "        x.append(val[k])\n",
    "        #print('First condition', x)\n",
    "    else:\n",
    "        while(check1 > check2):\n",
    "            if i==0:\n",
    "                test2 = x0 - r*((mu[i] - x0**2)/(-2*x0))\n",
    "                check1 = mu[i]-test2**2\n",
    "                check2 = mu[i]-x0**2\n",
    "                r=r/2\n",
    "            else:\n",
    "                test2 = x[i-1] - r*((mu[i] - x[i-1]**2)/(-2*x[i-1]))\n",
    "                check1 = mu[i]-test2**2\n",
    "                check2 = mu[i]-x[i-1]**2\n",
    "                r=r/2\n",
    "        val=[]\n",
    "        val.append(test)\n",
    "        for k in range (0, 100):\n",
    "            val.append(val[k] - r*((mu[i] - val[k]**2)/(-2*val[k])))\n",
    "            break_cond = np.abs(val[k]-val[k-1])\n",
    "            if break_cond<0.00001:\n",
    "                break\n",
    "        x.append(val[k])\n",
    "        #print('Second Condition', x)\n",
    "    \n",
    "#print(x)\n",
    "\n",
    "fig = plt.figure()\n",
    "plt.plot(mu[0:len(mu):4], x[0:len(mu):4], 'ro') #time marching scheme\n",
    "#plt.plot(mu[0:len(mu):4], -x_neg[0:len(mu):4], 'yo') #time marching scheme\n",
    "#plt.plot(mu[0:len(mu)], np.sqrt(mu), 'b', linewidth=2) #actual solution\n",
    "plt.plot(mu[0:len(mu)], -np.sqrt(mu), 'b--', linewidth=2) #actual solution\n",
    "fig.suptitle('Time Marching Scheme (PLOT 2)', fontsize = 14)\n",
    "plt.xlabel('$\\mu$')\n",
    "plt.ylabel('x')\n",
    "plt.axis([-1, 3, -2, 2])\n",
    "plt.grid()\n",
    "plt.show()"
   ]
  },
  {
   "cell_type": "markdown",
   "metadata": {},
   "source": [
    "While two methods used above can work, there is still a better way to generate the complete time marching sequence without running into issues at the turning point.  \n",
    "\n",
    "Instead of using control parameter $\\mu$ as the continuation parameter, state variable $x$ can be used. Time marching equation for this case is defined below:  \n",
    "\n",
    "$\\mu_{j+1}^{k+1} = \\mu_{j+1}^{k} - r\\frac{\\mu_{j+1}^{k} - x_{j+1}^{2}}{1}$  \n",
    "\n",
    "Since denominator is a constant (i.e. $F_{\\mu} = 1$) it is not going to cause an issue at the turning point.  \n",
    "Code using the above equation can be seen below. Variable $x$ is defined from -2 to 2 and the code was executed to generate **PLOT 3** seen below. It is clear that no issues were encountered at the turining point and complete curve was generated."
   ]
  },
  {
   "cell_type": "code",
   "execution_count": 218,
   "metadata": {
    "collapsed": false
   },
   "outputs": [
    {
     "data": {
      "image/png": "[encoded data removed]",
      "text/plain": [
       "<matplotlib.figure.Figure at 0xaade978>"
      ]
     },
     "metadata": {},
     "output_type": "display_data"
    }
   ],
   "source": [
    "x=np.linspace(-2, 2, 80)\n",
    "#mu=np.append(-1, mu)\n",
    "#print(mu)\n",
    "#define initial guess for x\n",
    "mu0 = -1.0\n",
    "\n",
    "mu=[]\n",
    "\n",
    "for i in range(0, len(x)):\n",
    "    r=1\n",
    "    \n",
    "    if i==0:\n",
    "        test = mu0 - r*((mu0 - x[i]**2)/(1))\n",
    "        check1 = test-x[i]**2\n",
    "        check2 = mu0-x[i]**2\n",
    "    else:\n",
    "        test = mu[i-1] - r*((mu[i-1] - x[i]**2)/(1))\n",
    "        check1 = test-x[i]**2\n",
    "        check2 = mu[i-1]-x[i]**2\n",
    "    \n",
    "    if check1 < check2:\n",
    "        val=[]\n",
    "        val.append(test)\n",
    "        for k in range (0, 10):\n",
    "            val.append(val[k] - r*((val[k] - x[i]**2)/(1)))\n",
    "            break_cond = np.abs(val[k]-val[k-1])\n",
    "            if break_cond<0.00001:\n",
    "                break\n",
    "        mu.append(val[k])\n",
    "        #print('First condition', x)\n",
    "    else:\n",
    "        while(check1 > check2):\n",
    "            if i==0:\n",
    "                test2 = mu0 - r*((mu0 - x[i]**2)/(1))\n",
    "                check1 = test2-x[i]**2\n",
    "                check2 = mu0-x[i]**2\n",
    "                r=r/2\n",
    "            else:\n",
    "                test2 = mu[i-1] - r*((mu[i-1] - x[i]**2)/(1))\n",
    "                check1 = test2-x[i]**2\n",
    "                check2 = mu[i-1]-x[i]**2\n",
    "                r=r/2\n",
    "        val=[]\n",
    "        val.append(test)\n",
    "        for k in range (0, 10):\n",
    "            val.append(val[k] - r*((val[k] - x[i]**2)/(1)))\n",
    "            break_cond = np.abs(val[k]-val[k-1])\n",
    "            if break_cond<0.00001:\n",
    "                break\n",
    "        mu.append(val[k])\n",
    "        #print('Second Condition', x)\n",
    "    \n",
    "#print(mu)\n",
    "\n",
    "#print(x_neg)\n",
    "fig = plt.figure()\n",
    "plt.plot(mu[0:len(mu):2], x[0:len(mu):2], 'ro') #time marching scheme\n",
    "#plt.plot(mu[0:len(mu):4], -x_neg[0:len(mu):4], 'yo') #time marching scheme\n",
    "plt.plot(mu[0:len(mu)], np.sqrt(mu), 'b', linewidth=2) #actual solution\n",
    "plt.plot(mu[0:len(mu)], -np.sqrt(mu), 'g--', linewidth=2) #actual solution\n",
    "fig.suptitle('Time Marching Scheme (PLOT 3)', fontsize = 14)\n",
    "plt.xlabel('$\\mu$')\n",
    "plt.ylabel('x')\n",
    "plt.axis([-1, 3, -2, 2])\n",
    "plt.grid()\n",
    "plt.show()"
   ]
  },
  {
   "cell_type": "markdown",
   "metadata": {},
   "source": [
    "### Problem 2  \n",
    "\n",
    "Apply harmonic balance to obtain subharmonic response of Duffing oscillator equation below.  \n",
    "\n",
    "$\\ddot{x} + (0.01 + \\frac{\\alpha}{100})\\dot{x} + x + \\frac{\\alpha x^3}{10} = sin(3t)$, where $\\alpha = 11$  \n",
    "State space:  \n",
    "\n",
    "$\\begin{bmatrix}\n",
    "\\dot{x_1}\\\\\n",
    "\\dot{x_2}\\\\\n",
    "\\end{bmatrix}$\n",
    "$=$\n",
    "$\\begin{bmatrix}\n",
    "x_2\\\\\n",
    "-(0.01 + \\frac{\\alpha}{100})x_2 - x_1 - \\frac{\\alpha x_1^3}{10} + sin(3t)\\\\\n",
    "\\end{bmatrix}$\n",
    "\n",
    "**Using project code yields following result:**"
   ]
  },
  {
   "cell_type": "code",
   "execution_count": 7,
   "metadata": {
    "collapsed": false
   },
   "outputs": [
    {
     "name": "stdout",
     "output_type": "stream",
     "text": [
      "Warning: Desired error not necessarily achieved due to precision loss.\n",
      "         Current function value: 0.000013\n",
      "         Iterations: 77\n",
      "         Function evaluations: 5775\n",
      "         Gradient evaluations: 113\n",
      "Values of x after optimization:\n",
      "[-0.0061286  -0.05260047 -0.09146373 -0.11703544 -0.12557018 -0.11581662\n",
      " -0.08920503 -0.0496328  -0.00288582  0.04420919  0.08477502  0.11288143\n",
      "  0.12441286  0.11767869  0.0936663   0.05589295  0.00988254 -0.03764518\n",
      " -0.07975058 -0.11027983 -0.12476382 -0.12107943 -0.09976715 -0.06394982\n",
      " -0.01886714  0.0288953   0.07236382  0.10518691  0.12256112  0.12194019\n",
      "  0.10341534  0.06970141  0.02573162 -0.02206993 -0.0667238  -0.10170632\n",
      " -0.12189909 -0.12434303 -0.10867971 -0.07720505 -0.0345259   0.01312088\n",
      "  0.05877849  0.09577814  0.11870828  0.12420982  0.11147624  0.08237437\n",
      "  0.04116494]\n"
     ]
    },
    {
     "data": {
      "image/png": "[encoded data removed]",
      "text/plain": [
       "<matplotlib.figure.Figure at 0xa02bc88>"
      ]
     },
     "metadata": {},
     "output_type": "display_data"
    }
   ],
   "source": [
    "%matplotlib inline\n",
    "import numpy as np\n",
    "import matplotlib.pyplot as plt\n",
    "import sympy as sp\n",
    "\n",
    "N = 50 #define number of sample points\n",
    "t=np.linspace(0, 2*np.pi, N)\n",
    "t=t[0:-1]\n",
    "\n",
    "F = 1\n",
    "a = 11\n",
    "\n",
    "#x0=1*np.ones(N-1)\n",
    "x0=1*np.sin((2*t)/1)\n",
    "#x0=2.0*np.sin(1*t)*np.cos(1*t)\n",
    "\n",
    "f = F*np.sin(3*t)\n",
    "freq = np.fft.fftfreq(N-1, 1/(N-1))+.00000000001 #define Fourier Transform sample frequencies\n",
    "\n",
    "# Function resFun defines a residual term that will be used in the optimization operation\n",
    "def resFun(x):\n",
    "    X = np.fft.fft(x)\n",
    "    xddot = np.fft.ifft(-freq**2*X)\n",
    "    xdot = np.fft.ifft(1j*freq*X)\n",
    "    res = xddot + (0.01 + a/100)*xdot + x + (a*x**3)/10 - f\n",
    "    RES = np.sum(np.abs(res**2))\n",
    "    return RES\n",
    "\n",
    "# Goal of the function is to minimize error between solution guess x0 and response in order to\n",
    "# converge to a solution\n",
    "from scipy.optimize import minimize\n",
    "sol = minimize(resFun, x0, method = 'BFGS', options={'maxiter':50000, 'disp':True})\n",
    "#sol = minimize(resFun, x0)\n",
    "\n",
    "print('Values of x after optimization:')\n",
    "print(sol.x)\n",
    "\n",
    "#Optional to plot Jacobian of the minimize function\n",
    "#print(sol.jac)\n",
    "\n",
    "#Numerical solution\n",
    "from scipy.integrate import odeint\n",
    "def deriv(x,t):\n",
    "    return np.array([x[1], -(0.01 + a/100)*x[1] - x[0] - (a*x[0]**3)/10 + F*np.sin(3*t)])\n",
    "\n",
    "time=np.linspace(0.0,200,2000)\n",
    "xinit=np.array([0, 0])\n",
    "x=odeint(deriv, xinit, time)\n",
    "\n",
    "#Plot of numerical and analytical solutions\n",
    "fig = plt.figure()\n",
    "plt.plot((57.33*np.pi)+t, sol.x, 'bo') #FFT solution plot\n",
    "plt.plot(time, x[:,0] , 'r--') #analytical steady state solution to the above posed problem\n",
    "fig.suptitle('Plot of numerical and analytical solutions', fontsize = 14)\n",
    "plt.xlabel('Time')\n",
    "plt.ylabel('Displacement')\n",
    "plt.axis([178, 188, -0.2, 0.2])\n",
    "plt.grid()\n",
    "plt.show()"
   ]
  },
  {
   "cell_type": "markdown",
   "metadata": {},
   "source": [
    "Next extract amplitude and frequency of the response by evaluating resulting $x$ in frequency domain."
   ]
  },
  {
   "cell_type": "code",
   "execution_count": 8,
   "metadata": {
    "collapsed": false
   },
   "outputs": [
    {
     "data": {
      "image/png": "[encoded data removed]",
      "text/plain": [
       "<matplotlib.figure.Figure at 0x814ce80>"
      ]
     },
     "metadata": {},
     "output_type": "display_data"
    }
   ],
   "source": [
    "import warnings\n",
    "warnings.filterwarnings('ignore')\n",
    "\n",
    "from scipy.fftpack import fft\n",
    "# Number of samplepoints\n",
    "N = 50\n",
    "# sample spacing\n",
    "T = (2*np.pi)/N\n",
    "xf = sol.x\n",
    "#print(xf)\n",
    "Xf = fft(xf)\n",
    "#print(Xf)\n",
    "Yf = np.linspace(0.0, 1.0/(2.0*T), N/2)\n",
    "import matplotlib.pyplot as plt\n",
    "plt.plot(Yf, 2.0/N * np.abs(Xf[0:N/2]))\n",
    "fig.suptitle('Plot of response in frequency domain', fontsize = 14)\n",
    "plt.xlabel('$\\omega$', fontsize = 14)\n",
    "plt.ylabel('$F(\\omega)$', fontsize = 14)\n",
    "plt.axis([0, 5, 0, 0.2])\n",
    "plt.grid()\n",
    "plt.show()"
   ]
  },
  {
   "cell_type": "markdown",
   "metadata": {},
   "source": [
    "Based on plot above, amplitude and frequency appear to be the following:  \n",
    "\n",
    "- Amplitude ($A$) = $0.125$\n",
    "- Frequecy ($\\omega$) = $(0.477)2\\pi\\ \\approx\\ 3$  \n",
    "\n",
    "To verify the above approximation the resulting output of $x$ in time domain can be fitted with a Fourier cosine series as was done in code below:  \n",
    "\n",
    "### Results from the optimization above can be used to approximate a fitted function that can be used as desired. Assume the following solution:\n",
    "\n",
    "### $x(t) = A_o + A_1cos(\\omega t + \\beta) + A_2cos(2\\omega t + 2\\beta) + A_3cos(3\\omega t + 3\\beta) + A_4cos(4\\omega t + 4\\beta) + A_5cos(5\\omega t + 5\\beta) + A_6cos(6\\omega t + 6\\beta) + A_7cos(7\\omega t + 7\\beta) + A_8cos(8\\omega t + 8\\beta)$\n",
    "\n",
    "#### Here coefficients $A_o$, $A_1$, $A_2$, $A_3$, $A_4$,$A_5$,$A_6$,$A_7$,$A_8$,$\\omega$, $\\beta$ are the unknowns and will be solved for using least square fitting"
   ]
  },
  {
   "cell_type": "code",
   "execution_count": 9,
   "metadata": {
    "collapsed": false
   },
   "outputs": [
    {
     "data": {
      "image/png": "[encoded data removed]",
      "text/plain": [
       "<matplotlib.figure.Figure at 0xaacebe0>"
      ]
     },
     "metadata": {},
     "output_type": "display_data"
    },
    {
     "name": "stdout",
     "output_type": "stream",
     "text": [
      "Coefficient values listed below\n",
      "[ -5.05917751e-04   5.93407271e-06  -4.34079670e-07   1.25075028e-01\n",
      "   5.72667424e-07   2.31278890e-07  -3.10144150e-07  -4.59705771e-08\n",
      "  -1.08244519e-07   1.00000148e+00   5.38608347e-01]\n"
     ]
    }
   ],
   "source": [
    "#Define function to be called in the \"leastsq\" function\n",
    "def errorFun(p, t):\n",
    "    A0, A1, A2, A3, A4, A5, A6, A7, A8, omega, beta = p\n",
    "    err = sol.x - (A0 + A1*np.cos(omega*t + beta) + A2*np.cos(2*omega*t + 2*beta)\\\n",
    "                   + A3*np.cos(3*omega*t + 3*beta) + A4*np.cos(4*omega*t + 4*beta)\\\n",
    "                   + A5*np.cos(5*omega*t + 5*beta) + A6*np.cos(6*omega*t + 6*beta)\\\n",
    "                   + A7*np.cos(7*omega*t + 7*beta) + A8*np.cos(8*omega*t + 8*beta))\n",
    "    return err\n",
    "\n",
    "#Initial guess for coefficients\n",
    "p0 = [1, 1, 1, 1, 1, 1, 1, 1, 1, 1, 1]\n",
    "#print(np.array(p0))\n",
    "\n",
    "#Least square calculation\n",
    "from scipy.optimize import leastsq\n",
    "plsq = leastsq(errorFun, p0, args=(t))\n",
    "\n",
    "#Function used for plotting purposes\n",
    "def peval(t, p):\n",
    "    return p[0] + p[1]*np.cos(p[9]*t + p[10]) + p[2]*np.cos(2*p[9]*t + 2*p[10])\\\n",
    "                + p[3]*np.cos(3*p[9]*t + 3*p[10]) + p[4]*np.cos(4*p[9]*t + 4*p[10])\\\n",
    "                + p[5]*np.cos(5*p[9]*t + 5*p[10]) + p[6]*np.cos(6*p[9]*t + 6*p[10])\\\n",
    "                + p[7]*np.cos(7*p[9]*t + 7*p[10]) + p[8]*np.cos(8*p[9]*t + 8*p[10])\n",
    "\n",
    "#Plot numerical and least square results\n",
    "import matplotlib.pyplot as plt\n",
    "fig = plt.figure()\n",
    "plt.plot(t, peval(t, plsq[0]), 'b--', linewidth = 4)\n",
    "plt.plot(t, sol.x, 'ro')\n",
    "plt.axis([-1, 7, -0.2, 0.2])\n",
    "fig.suptitle('Fourier series fit', fontsize = 14)\n",
    "plt.xlabel('$t$', fontsize = 14)\n",
    "plt.ylabel('$x(t)$', fontsize = 14)\n",
    "plt.grid()\n",
    "plt.show()\n",
    "\n",
    "coeff = plsq[0]\n",
    "\n",
    "#Plot calculated results the coefficients\n",
    "print('Coefficient values listed below')\n",
    "print(plsq[0])"
   ]
  },
  {
   "cell_type": "markdown",
   "metadata": {},
   "source": [
    "The approximated fit is quite good with respect to the numerical solution:\n",
    "\n",
    "### Fitted equation can be seen below:"
   ]
  },
  {
   "cell_type": "code",
   "execution_count": 10,
   "metadata": {
    "collapsed": false
   },
   "outputs": [
    {
     "data": {
      "text/latex": [
       "$$\\frac{1}{8} \\cos{\\left (3 t + \\frac{1617}{1000} \\right )}$$"
      ],
      "text/plain": [
       "   ⎛      1617⎞\n",
       "cos⎜3⋅t + ────⎟\n",
       "   ⎝      1000⎠\n",
       "───────────────\n",
       "       8       "
      ]
     },
     "execution_count": 10,
     "metadata": {},
     "output_type": "execute_result"
    }
   ],
   "source": [
    "import sympy as sp\n",
    "sp.init_printing(use_latex='mathjax')\n",
    "\n",
    "time=sp.Symbol('t', real = True)\n",
    "\n",
    "A0=sp.nsimplify(round(coeff[0], 2))\n",
    "A1=sp.nsimplify(round(coeff[1], 3))\n",
    "A2=sp.nsimplify(round(coeff[2], 3))\n",
    "A3=sp.nsimplify(round(coeff[3], 3))\n",
    "A4=sp.nsimplify(round(coeff[4], 3))\n",
    "A5=sp.nsimplify(round(coeff[5], 3))\n",
    "A6=sp.nsimplify(round(coeff[6], 3))\n",
    "A7=sp.nsimplify(round(coeff[7], 3))\n",
    "A8=sp.nsimplify(round(coeff[8], 3))\n",
    "omega=sp.nsimplify(round(coeff[9], 2))\n",
    "beta=sp.nsimplify(round(coeff[10], 3))\n",
    "\n",
    "ans = A0 + A1*sp.cos(omega*time + beta) + A2*sp.cos(2*omega*time + 2*beta)\\\n",
    "         + A3*sp.cos(3*omega*time + 3*beta) + A4*sp.cos(4*omega*time + 4*beta)\\\n",
    "         + A5*sp.cos(5*omega*time + 5*beta) + A6*sp.cos(6*omega*time + 6*beta)\\\n",
    "         + A7*sp.cos(7*omega*time + 7*beta) + A8*sp.cos(8*omega*time + 8*beta)\n",
    "ans"
   ]
  },
  {
   "cell_type": "markdown",
   "metadata": {},
   "source": [
    "The above expression agrees with the frequency analysis."
   ]
  },
  {
   "cell_type": "markdown",
   "metadata": {},
   "source": [
    "### Expression using exponential Fourier series with optimized Fourier coefficients. \n",
    "\n",
    "Finally, yet another way to obtain the expression is to define a exponential fourier series by using the optimized Fourier coefficients. For this method 11 sample points were used and it was sufficient to capture the response.  \n",
    "\n",
    "A seperate instance of the project code was used for this work."
   ]
  },
  {
   "cell_type": "code",
   "execution_count": 11,
   "metadata": {
    "collapsed": false
   },
   "outputs": [
    {
     "name": "stdout",
     "output_type": "stream",
     "text": [
      "Optimization terminated successfully.\n",
      "         Current function value: 0.000000\n",
      "         Iterations: 38\n",
      "         Function evaluations: 564\n",
      "         Gradient evaluations: 47\n",
      "Values of x after optimization:\n",
      "[-0.01000914 -0.12045288  0.07695123  0.07055616 -0.11682788  0.01000749\n",
      "  0.12045119 -0.07695291 -0.0705578   0.11682625]\n"
     ]
    }
   ],
   "source": [
    "%matplotlib inline\n",
    "import numpy as np\n",
    "import matplotlib.pyplot as plt\n",
    "import sympy as sp\n",
    "sp.init_printing(use_latex='mathjax')\n",
    "\n",
    "N = 11 #define number of sample points\n",
    "t1=np.linspace(0, 2*np.pi, N)\n",
    "t1=t1[0:-1]\n",
    "\n",
    "F = 1\n",
    "a = 11\n",
    "\n",
    "#x0=1*np.ones(N-1)\n",
    "x0=1*np.sin((2*t1)/1)\n",
    "#x0=2.0*np.sin(1*t)*np.cos(1*t)\n",
    "\n",
    "f = F*np.sin(3*t1)\n",
    "freq = np.fft.fftfreq(N-1, 1/(N-1))+.00000000001 #define Fourier Transform sample frequencies\n",
    "\n",
    "# Function resFun defines a residual term that will be used in the optimization operation\n",
    "def resFun(x):\n",
    "    X = np.fft.fft(x)\n",
    "    xddot = np.fft.ifft(-freq**2*X)\n",
    "    xdot = np.fft.ifft(1j*freq*X)\n",
    "    res = xddot + (0.01 + a/100)*xdot + x + (a*x**3)/10 - f\n",
    "    RES = np.sum(np.abs(res**2))\n",
    "    return RES\n",
    "\n",
    "# Goal of the function is to minimize error between solution guess x0 and response in order to\n",
    "# converge to a solution\n",
    "from scipy.optimize import minimize\n",
    "sol = minimize(resFun, x0, method = 'BFGS', options={'maxiter':50000, 'disp':True})\n",
    "#sol = minimize(resFun, x0)\n",
    "\n",
    "print('Values of x after optimization:')\n",
    "print(sol.x)\n",
    "\n",
    "#Optional to plot Jacobian of the minimize function\n",
    "#print(sol.jac)\n",
    "\n",
    "#Numerical solution\n",
    "from scipy.integrate import odeint\n",
    "def deriv(x,t):\n",
    "    return np.array([x[1], -(0.01 + a/100)*x[1] - x[0] - (a*x[0]**3)/10 + F*np.sin(3*t)])\n",
    "\n",
    "time=np.linspace(0.0,200,2000)\n",
    "xinit=np.array([0, 0])\n",
    "x=odeint(deriv, xinit, time)"
   ]
  },
  {
   "cell_type": "markdown",
   "metadata": {},
   "source": [
    "Equation below generated by following expression:  \n",
    "\n",
    "$x = \\frac{1}{N} \\sum_{-n}^{n} X_n e^{j \\omega_n t}$"
   ]
  },
  {
   "cell_type": "code",
   "execution_count": 12,
   "metadata": {
    "collapsed": false
   },
   "outputs": [
    {
     "data": {
      "text/latex": [
       "$$0.00439817117789118 \\cos{\\left (1.0 t \\right )} + 1.44342019872827 \\cdot 10^{-8} \\cos{\\left (2.0 t \\right )} + 0.125074329238501 \\cos{\\left (3.0 t \\right )} + 2.41066349617183 \\cdot 10^{-9} \\cos{\\left (4.0 t \\right )} + 8.27686096636221 \\cdot 10^{-7}$$"
      ],
      "text/plain": [
       "0.00439817117789118⋅cos(1.0⋅t) + 1.44342019872827e-8⋅cos(2.0⋅t) + 0.1250743292\n",
       "38501⋅cos(3.0⋅t) + 2.41066349617183e-9⋅cos(4.0⋅t) + 8.27686096636221e-7"
      ]
     },
     "metadata": {},
     "output_type": "display_data"
    }
   ],
   "source": [
    "Xn = np.fft.fft(sol.x)\n",
    "\n",
    "Xn1 = (1)/(N-1) * abs(Xn[0:N/2])\n",
    "\n",
    "t=sp.Symbol('t', real = True)\n",
    "from IPython.display import display\n",
    "\n",
    "f_negT = 0\n",
    "for i in range(len(Xn1)-1, 0, -1):\n",
    "    #print(i)\n",
    "    f_neg = Xn1[i]*sp.exp(-1j*i*t)\n",
    "    f_negT = f_neg + f_negT\n",
    "\n",
    "#display(f_negT)    \n",
    "    \n",
    "f_posT = 0\n",
    "for i in range(len(Xn1)):\n",
    "    #print(i)\n",
    "    f_pos = Xn1[i]*sp.exp(1j*i*t)\n",
    "    f_posT = f_pos + f_posT\n",
    "    \n",
    "fsol = f_negT + f_posT\n",
    "display(fsol.simplify())"
   ]
  },
  {
   "cell_type": "markdown",
   "metadata": {},
   "source": [
    "It is evident by expression above that only one term is relevant and is extracted below.\n",
    "\n",
    "This result matches what was obtainted by the frequency analysis and fitting function above."
   ]
  },
  {
   "cell_type": "code",
   "execution_count": 13,
   "metadata": {
    "collapsed": false
   },
   "outputs": [
    {
     "data": {
      "text/latex": [
       "$$0.1250743294 \\cos{\\left (3.0 t \\right )}$$"
      ],
      "text/plain": [
       "0.1250743294⋅cos(3.0⋅t)"
      ]
     },
     "execution_count": 13,
     "metadata": {},
     "output_type": "execute_result"
    }
   ],
   "source": [
    "fsol2 = 0.1250743294*sp.cos(3.0*t)\n",
    "fsol2"
   ]
  },
  {
   "cell_type": "markdown",
   "metadata": {},
   "source": [
    "Plot below shows the result of the expression above but a shift of $\\frac{\\pi}{2}$ is added, which is also evident in the fitted equation above."
   ]
  },
  {
   "cell_type": "code",
   "execution_count": 14,
   "metadata": {
    "collapsed": false
   },
   "outputs": [
    {
     "data": {
      "image/png": "[encoded data removed]",
      "text/plain": [
       "<matplotlib.figure.Figure at 0xaaecc18>"
      ]
     },
     "metadata": {},
     "output_type": "display_data"
    }
   ],
   "source": [
    "#Plot of numerical and analytical solutions\n",
    "fig = plt.figure()\n",
    "plt.plot((57.33*np.pi)+t1, sol.x, 'bo') #FFT solution plot\n",
    "plt.plot(time, x[:,0] , 'r--') #analytical steady state solution to the above posed problem\n",
    "plt.plot(time, 0.125074329*np.cos(3*time+np.pi/2) , 'y--', linewidth = 4)\n",
    "fig.suptitle('Plot of numerical solution and Fourier series', fontsize = 14)\n",
    "plt.xlabel('Time')\n",
    "plt.ylabel('Displacement')\n",
    "plt.axis([178, 188, -0.2, 0.2])\n",
    "plt.grid()\n",
    "plt.show()"
   ]
  },
  {
   "cell_type": "markdown",
   "metadata": {},
   "source": [
    "### Floquet analysis  \n",
    "\n",
    "First define the solution in order to use in analysis"
   ]
  },
  {
   "cell_type": "code",
   "execution_count": 220,
   "metadata": {
    "collapsed": false
   },
   "outputs": [
    {
     "name": "stdout",
     "output_type": "stream",
     "text": [
      "Below is the solution for x\n"
     ]
    },
    {
     "data": {
      "text/latex": [
       "$$\\frac{625371647111}{5000000000000} \\sin{\\left (3 t \\right )}$$"
      ],
      "text/plain": [
       "625371647111⋅sin(3⋅t)\n",
       "─────────────────────\n",
       "    5000000000000    "
      ]
     },
     "metadata": {},
     "output_type": "display_data"
    }
   ],
   "source": [
    "t = sp.Symbol('t', real = True)\n",
    "phi = sp.Symbol('phi', real = True)\n",
    "x1 = sp.Symbol('x_1', real = True)\n",
    "x2 = sp.Symbol('x_2', real = True)\n",
    "z1 = sp.Symbol('z1', real = True)\n",
    "z2 = sp.Symbol('z2', real = True)\n",
    "\n",
    "print('Below is the solution for x')\n",
    "x = sp.nsimplify(0.1250743294222)*sp.cos(3*t-sp.pi/2)\n",
    "display(x)"
   ]
  },
  {
   "cell_type": "markdown",
   "metadata": {},
   "source": [
    "### Time to linearize the system.\n",
    "\n",
    "Define original ODE:"
   ]
  },
  {
   "cell_type": "code",
   "execution_count": 178,
   "metadata": {
    "collapsed": false
   },
   "outputs": [
    {
     "data": {
      "text/latex": [
       "$$x_{2}$$"
      ],
      "text/plain": [
       "x₂"
      ]
     },
     "execution_count": 178,
     "metadata": {},
     "output_type": "execute_result"
    }
   ],
   "source": [
    "x1dot = x2\n",
    "x1dot"
   ]
  },
  {
   "cell_type": "code",
   "execution_count": 179,
   "metadata": {
    "collapsed": false
   },
   "outputs": [
    {
     "data": {
      "text/latex": [
       "$$- \\frac{11 x_{1}^{3}}{10} - x_{1} - \\frac{3 x_{2}}{25}$$"
      ],
      "text/plain": [
       "       3            \n",
       "  11⋅x₁         3⋅x₂\n",
       "- ────── - x₁ - ────\n",
       "    10           25 "
      ]
     },
     "execution_count": 179,
     "metadata": {},
     "output_type": "execute_result"
    }
   ],
   "source": [
    "x2dot = -(0.01 + 11/100)*x2 - x1 - (11/10)*x1**3\n",
    "sp.nsimplify(x2dot)"
   ]
  },
  {
   "cell_type": "markdown",
   "metadata": {},
   "source": [
    "**Define problem in state space**"
   ]
  },
  {
   "cell_type": "code",
   "execution_count": 184,
   "metadata": {
    "collapsed": false
   },
   "outputs": [
    {
     "data": {
      "text/latex": [
       "$$\\left[\\begin{matrix}x_{2}\\\\- \\frac{11 x_{1}^{3}}{10} - x_{1} - \\frac{3 x_{2}}{25}\\end{matrix}\\right]$$"
      ],
      "text/plain": [
       "⎡         x₂         ⎤\n",
       "⎢                    ⎥\n",
       "⎢       3            ⎥\n",
       "⎢  11⋅x₁         3⋅x₂⎥\n",
       "⎢- ────── - x₁ - ────⎥\n",
       "⎣    10           25 ⎦"
      ]
     },
     "execution_count": 184,
     "metadata": {},
     "output_type": "execute_result"
    }
   ],
   "source": [
    "f = sp.Matrix([x1dot, x2dot])\n",
    "sp.nsimplify(f)"
   ]
  },
  {
   "cell_type": "markdown",
   "metadata": {},
   "source": [
    "**Get Jacobian**"
   ]
  },
  {
   "cell_type": "code",
   "execution_count": 185,
   "metadata": {
    "collapsed": false
   },
   "outputs": [
    {
     "data": {
      "text/latex": [
       "$$\\left[\\begin{matrix}0 & 1\\\\- \\frac{33 x_{1}^{2}}{10} - 1 & - \\frac{3}{25}\\end{matrix}\\right]$$"
      ],
      "text/plain": [
       "⎡     0          1  ⎤\n",
       "⎢                   ⎥\n",
       "⎢       2           ⎥\n",
       "⎢  33⋅x₁            ⎥\n",
       "⎢- ────── - 1  -3/25⎥\n",
       "⎣    10             ⎦"
      ]
     },
     "execution_count": 185,
     "metadata": {},
     "output_type": "execute_result"
    }
   ],
   "source": [
    "F=f.jacobian([x1, x2])\n",
    "sp.nsimplify(F)"
   ]
  },
  {
   "cell_type": "markdown",
   "metadata": {},
   "source": [
    "**Substitute solution into the $x_1$ term**"
   ]
  },
  {
   "cell_type": "code",
   "execution_count": 186,
   "metadata": {
    "collapsed": false
   },
   "outputs": [
    {
     "data": {
      "text/latex": [
       "$$\\left[\\begin{matrix}0 & 1\\\\- \\frac{516238400053629}{10000000000000000} \\sin^{2}{\\left (3 t \\right )} - 1 & - \\frac{3}{25}\\end{matrix}\\right]$$"
      ],
      "text/plain": [
       "⎡               0                   1  ⎤\n",
       "⎢                                      ⎥\n",
       "⎢                     2                ⎥\n",
       "⎢  516238400053629⋅sin (3⋅t)           ⎥\n",
       "⎢- ───────────────────────── - 1  -3/25⎥\n",
       "⎣      10000000000000000               ⎦"
      ]
     },
     "execution_count": 186,
     "metadata": {},
     "output_type": "execute_result"
    }
   ],
   "source": [
    "F=F.subs(x1, x)\n",
    "sp.nsimplify(F)"
   ]
  },
  {
   "cell_type": "markdown",
   "metadata": {},
   "source": [
    "**Define $\\phi = 3t$ and apply.**"
   ]
  },
  {
   "cell_type": "code",
   "execution_count": 187,
   "metadata": {
    "collapsed": false
   },
   "outputs": [
    {
     "data": {
      "text/latex": [
       "$$\\left[\\begin{matrix}0 & 1\\\\- \\frac{516238400053629}{10000000000000000} \\sin^{2}{\\left (\\phi \\right )} - 1 & - \\frac{3}{25}\\end{matrix}\\right]$$"
      ],
      "text/plain": [
       "⎡              0                  1  ⎤\n",
       "⎢                                    ⎥\n",
       "⎢                     2              ⎥\n",
       "⎢  516238400053629⋅sin (φ)           ⎥\n",
       "⎢- ─────────────────────── - 1  -3/25⎥\n",
       "⎣     10000000000000000              ⎦"
      ]
     },
     "execution_count": 187,
     "metadata": {},
     "output_type": "execute_result"
    }
   ],
   "source": [
    "F = F.subs(3*t, phi)\n",
    "sp.nsimplify(F)"
   ]
  },
  {
   "cell_type": "markdown",
   "metadata": {},
   "source": [
    "**Next apply double angle formula:**"
   ]
  },
  {
   "cell_type": "code",
   "execution_count": 188,
   "metadata": {
    "collapsed": false
   },
   "outputs": [
    {
     "data": {
      "text/latex": [
       "$$\\left[\\begin{matrix}0 & 1\\\\- \\frac{51623840005363}{2000000000000000} \\cos{\\left (2 \\phi \\right )} - \\frac{487094039998659}{500000000000000} & - \\frac{3}{25}\\end{matrix}\\right]$$"
      ],
      "text/plain": [
       "⎡                     0                         1  ⎤\n",
       "⎢                                                  ⎥\n",
       "⎢  51623840005363⋅cos(2⋅φ)   487094039998659       ⎥\n",
       "⎢- ─────────────────────── - ───────────────  -3/25⎥\n",
       "⎣      2000000000000000      500000000000000       ⎦"
      ]
     },
     "execution_count": 188,
     "metadata": {},
     "output_type": "execute_result"
    }
   ],
   "source": [
    "F = F.subs(sp.sin(phi)**2, 0.5*sp.cos(2*phi) - 0.5)\n",
    "sp.nsimplify(F)"
   ]
  },
  {
   "cell_type": "markdown",
   "metadata": {},
   "source": [
    "Since a change in variables was added where $\\phi = 3t$, another state needs to be added to the above expression, which will yield state space definition seen below.  \n",
    "\n",
    "$\\begin{bmatrix}\n",
    "\\frac{z_1}{d\\phi}\\\\\n",
    "\\frac{z_2}{d\\phi}\\\\\n",
    "\\dot{\\phi}\n",
    "\\end{bmatrix}\n",
    "$\n",
    "$=$\n",
    "$\\begin{bmatrix}\n",
    "F\n",
    "\\end{bmatrix}\n",
    "$\n",
    "$\\begin{bmatrix}\n",
    "z_1\\\\\n",
    "z_2\\\\\n",
    "\\phi\n",
    "\\end{bmatrix}\n",
    "$\n"
   ]
  },
  {
   "cell_type": "code",
   "execution_count": 189,
   "metadata": {
    "collapsed": false
   },
   "outputs": [
    {
     "data": {
      "text/latex": [
       "$$\\left[\\begin{matrix}0 & 1 & 0\\\\- \\frac{51623840005363}{2000000000000000} \\cos{\\left (2 \\phi \\right )} - \\frac{487094039998659}{500000000000000} & - \\frac{3}{25} & 0\\\\0 & 0 & 3\\end{matrix}\\right]$$"
      ],
      "text/plain": [
       "⎡                     0                         1    0⎤\n",
       "⎢                                                     ⎥\n",
       "⎢  51623840005363⋅cos(2⋅φ)   487094039998659          ⎥\n",
       "⎢- ─────────────────────── - ───────────────  -3/25  0⎥\n",
       "⎢      2000000000000000      500000000000000          ⎥\n",
       "⎢                                                     ⎥\n",
       "⎣                     0                         0    3⎦"
      ]
     },
     "metadata": {},
     "output_type": "display_data"
    }
   ],
   "source": [
    "F1 = F.row_insert(2, sp.Matrix([[0, 0]]))\n",
    "#isplay(sp.nsimplify(F1))\n",
    "F2 = F1.col_insert(2, sp.Matrix([[0], [0], [3]]))\n",
    "display(sp.nsimplify(F2))"
   ]
  },
  {
   "cell_type": "markdown",
   "metadata": {},
   "source": [
    "**As a reminder, $\\phi = 3t$ and $\\dot{\\phi} = 3$**  \n",
    "\n",
    "**In order to switch independent variables do following steps, which will include Chain Rule.**\n",
    "\n",
    "**Starting with $\\dot{\\zeta} = A(\\theta)\\zeta$, need to apply Chain Rule to term $\\dot{\\zeta}$**\n",
    "\n",
    "** $\\frac{d\\zeta}{dt} = \\frac{d\\zeta}{d\\phi} \\frac{d\\phi}{dt} = \\frac{d\\zeta}{d\\phi} \\dot{\\phi} = \\frac{d\\zeta}{d\\phi} 3$**  \n",
    "\n",
    "**Now expression becomes:**  \n",
    "\n",
    "**$\\frac{d\\zeta}{d\\phi} = \\frac{1}{3}A(\\phi) \\zeta$**\n",
    "\n",
    "**Expression for $\\frac{1}{3}A(\\phi)$ seen below**"
   ]
  },
  {
   "cell_type": "code",
   "execution_count": 190,
   "metadata": {
    "collapsed": false
   },
   "outputs": [
    {
     "data": {
      "text/latex": [
       "$$\\left[\\begin{matrix}0 & \\frac{1}{3} & 0\\\\- \\frac{172079466684543}{20000000000000000} \\cos{\\left (2 \\phi \\right )} - \\frac{162364679999553}{500000000000000} & - \\frac{1}{25} & 0\\\\0 & 0 & 1\\end{matrix}\\right]$$"
      ],
      "text/plain": [
       "⎡                     0                         1/3   0⎤\n",
       "⎢                                                      ⎥\n",
       "⎢  172079466684543⋅cos(2⋅φ)   162364679999553          ⎥\n",
       "⎢- ──────────────────────── - ───────────────  -1/25  0⎥\n",
       "⎢     20000000000000000       500000000000000          ⎥\n",
       "⎢                                                      ⎥\n",
       "⎣                     0                          0    1⎦"
      ]
     },
     "execution_count": 190,
     "metadata": {},
     "output_type": "execute_result"
    }
   ],
   "source": [
    "F2 = (1/3)*F2\n",
    "sp.nsimplify(F2)"
   ]
  },
  {
   "cell_type": "code",
   "execution_count": 191,
   "metadata": {
    "collapsed": false
   },
   "outputs": [
    {
     "data": {
      "text/latex": [
       "$$\\left[\\begin{matrix}z_{1}\\\\z_{2}\\\\\\phi\\end{matrix}\\right]$$"
      ],
      "text/plain": [
       "⎡z₁⎤\n",
       "⎢  ⎥\n",
       "⎢z₂⎥\n",
       "⎢  ⎥\n",
       "⎣φ ⎦"
      ]
     },
     "execution_count": 191,
     "metadata": {},
     "output_type": "execute_result"
    }
   ],
   "source": [
    "z1 = sp.Symbol('z1', real = True)\n",
    "z2 = sp.Symbol('z2', real = True)\n",
    "\n",
    "vec = sp.Matrix([z1, z2, phi])\n",
    "vec"
   ]
  },
  {
   "cell_type": "markdown",
   "metadata": {},
   "source": [
    "**Final result for $\\frac{1}{3}A(\\phi)\\zeta$**"
   ]
  },
  {
   "cell_type": "code",
   "execution_count": 192,
   "metadata": {
    "collapsed": false
   },
   "outputs": [
    {
     "data": {
      "text/latex": [
       "$$\\left[\\begin{matrix}\\frac{z_{2}}{3}\\\\z_{1} \\left(- \\frac{172079466684543}{20000000000000000} \\cos{\\left (2 \\phi \\right )} - \\frac{162364679999553}{500000000000000}\\right) - \\frac{z_{2}}{25}\\\\\\phi\\end{matrix}\\right]$$"
      ],
      "text/plain": [
       "⎡                          z₂                          ⎤\n",
       "⎢                          ──                          ⎥\n",
       "⎢                          3                           ⎥\n",
       "⎢                                                      ⎥\n",
       "⎢   ⎛  172079466684543⋅cos(2⋅φ)   162364679999553⎞   z₂⎥\n",
       "⎢z₁⋅⎜- ──────────────────────── - ───────────────⎟ - ──⎥\n",
       "⎢   ⎝     20000000000000000       500000000000000⎠   25⎥\n",
       "⎢                                                      ⎥\n",
       "⎣                          φ                           ⎦"
      ]
     },
     "execution_count": 192,
     "metadata": {},
     "output_type": "execute_result"
    }
   ],
   "source": [
    "Ft = F2*vec\n",
    "sp.nsimplify(Ft)"
   ]
  },
  {
   "cell_type": "code",
   "execution_count": 193,
   "metadata": {
    "collapsed": false
   },
   "outputs": [
    {
     "data": {
      "text/plain": [
       "['0.333333333333333*z2',\n",
       " 'z1*(-0.00860397333422715*cos(2*phi) - 0.324729359999106) - 0.04*z2',\n",
       " '1.0*phi']"
      ]
     },
     "metadata": {},
     "output_type": "display_data"
    }
   ],
   "source": [
    "Asol = []\n",
    "\n",
    "for i, item in enumerate(Ft):\n",
    "       Asol.append(str(item))\n",
    "\n",
    "display(Asol)"
   ]
  },
  {
   "cell_type": "markdown",
   "metadata": {},
   "source": [
    "**After time integration**"
   ]
  },
  {
   "cell_type": "code",
   "execution_count": 219,
   "metadata": {
    "collapsed": false
   },
   "outputs": [
    {
     "name": "stdout",
     "output_type": "stream",
     "text": [
      "Monodromy matrix:\n"
     ]
    },
    {
     "data": {
      "text/latex": [
       "$$\\left[\\begin{matrix}0.777023539430368 & 0.618362920299435 & 0.0\\\\-0.598572553128768 & 0.707188759288507 & 0.0\\\\0.0 & 0.0 & 1.0\\end{matrix}\\right]$$"
      ],
      "text/plain": [
       "⎡0.777023539430368   0.618362920299435  0.0⎤\n",
       "⎢                                          ⎥\n",
       "⎢-0.598572553128768  0.707188759288507  0.0⎥\n",
       "⎢                                          ⎥\n",
       "⎣       0.0                 0.0         1.0⎦"
      ]
     },
     "metadata": {},
     "output_type": "display_data"
    },
    {
     "name": "stdout",
     "output_type": "stream",
     "text": [
      "Eigenvalues:\n"
     ]
    },
    {
     "data": {
      "text/latex": [
       "$$\\left \\{ 0.999999999999999 : 1, \\quad 0.742106149359438 - 0.607384431669456 i : 1, \\quad 0.742106149359438 + 0.607384431669456 i : 1\\right \\}$$"
      ],
      "text/plain": [
       "{0.999999999999999: 1, 0.742106149359438 - - -0.607384431669456⋅ⅈ: 1, 0.742106\n",
       "149359438 + 0.607384431669456⋅ⅈ: 1}"
      ]
     },
     "metadata": {},
     "output_type": "display_data"
    }
   ],
   "source": [
    "import matplotlib.pyplot as plt\n",
    "from scipy.integrate import odeint\n",
    "from numpy import sin\n",
    "from numpy import cos\n",
    "\n",
    "def deriv(z1_z2_dphi, phi):\n",
    "    z1, z2, dphi= z1_z2_dphi\n",
    "    return np.array([eval(Asol[0]),\\\n",
    "                        eval(Asol[1]),\\\n",
    "                            0])\n",
    "\n",
    "time = np.linspace(0.0, (2*np.pi)/3, 500)\n",
    "xinit=np.array([1, 0, 0])\n",
    "x = odeint(deriv, xinit, time)\n",
    "\n",
    "z1 = sp.Matrix([x[-1, 0], x[-1, 1], x[-1, 2]])\n",
    "#display(z1)\n",
    "\n",
    "time = np.linspace(0.0, (2*np.pi)/3, 500)\n",
    "xinit=np.array([0, 1, 0])\n",
    "x = odeint(deriv, xinit, time)\n",
    "\n",
    "z2 = sp.Matrix([x[-1, 0], x[-1, 1], x[-1, 2]])\n",
    "#display(z2)\n",
    "\n",
    "time = np.linspace(0.0, (2*np.pi)/3, 500)\n",
    "xinit=np.array([0, 0, 1])\n",
    "x = odeint(deriv, xinit, time)\n",
    "\n",
    "z3 = sp.Matrix([x[-1, 0], x[-1, 1], x[-1, 2]])\n",
    "#display(z3)\n",
    "\n",
    "phi1 = sp.Matrix([z1, z2, z3])\n",
    "phi1 = phi1.reshape(3,3).transpose()\n",
    "\n",
    "print('Monodromy matrix:')\n",
    "display(phi1)\n",
    "print('Eigenvalues:')\n",
    "display(phi1.eigenvals(rational = False))\n"
   ]
  },
  {
   "cell_type": "markdown",
   "metadata": {
    "collapsed": true
   },
   "source": [
    "**For $\\alpha = 11$, There are 3 eigenvalues:**  \n",
    "\n",
    "**$\\lambda_1 = 1$**  \n",
    "**$\\lambda_{2,3} = 0.7421 \\pm 0.6074i$**  \n",
    "\n",
    "**$\\lambda_1 = 1$ indicates the steady state solution.**  \n",
    "\n",
    "**Remaining 2 eigenvalues are in the complex plane where their respective norm is $0.960$. Therefore if the steady state solution is perturbed it will return to the original response.**  \n",
    "\n",
    "**Solution for $X_0$ is a hyperbolic periodic solution since only one Floquet multiplier is located on the unit circle. The remaining 2 Floquet multipliers are complex conjugates that lie inside the unit circle. As such the solution is asymptotically stable.**"
   ]
  },
  {
   "cell_type": "code",
   "execution_count": 29,
   "metadata": {
    "collapsed": false
   },
   "outputs": [
    {
     "data": {
      "text/html": [
       "<script>\n",
       "code_show=true; \n",
       "function code_toggle() {\n",
       " if (code_show){\n",
       " $('div.input').hide();\n",
       " } else {\n",
       " $('div.input').show();\n",
       " }\n",
       " code_show = !code_show\n",
       "} \n",
       "$( document ).ready(code_toggle);\n",
       "</script>\n",
       "<form action=\"javascript:code_toggle()\"><input type=\"submit\" value=\"Click here to toggle on/off the raw code.\"></form>"
      ],
      "text/plain": [
       "<IPython.core.display.HTML object>"
      ]
     },
     "execution_count": 29,
     "metadata": {},
     "output_type": "execute_result"
    }
   ],
   "source": [
    "from IPython.display import HTML\n",
    "\n",
    "HTML('''<script>\n",
    "code_show=true; \n",
    "function code_toggle() {\n",
    " if (code_show){\n",
    " $('div.input').hide();\n",
    " } else {\n",
    " $('div.input').show();\n",
    " }\n",
    " code_show = !code_show\n",
    "} \n",
    "$( document ).ready(code_toggle);\n",
    "</script>\n",
    "<form action=\"javascript:code_toggle()\"><input type=\"submit\" value=\"Click here to toggle on/off the raw code.\"></form>''')"
   ]
  }
 ],
 "metadata": {
  "kernelspec": {
   "display_name": "Python 3",
   "language": "python",
   "name": "python3"
  },
  "language_info": {
   "codemirror_mode": {
    "name": "ipython",
    "version": 3
   },
   "file_extension": ".py",
   "mimetype": "text/x-python",
   "name": "python",
   "nbconvert_exporter": "python",
   "pygments_lexer": "ipython3",
   "version": "3.5.0"
  }
 },
 "nbformat": 4,
 "nbformat_minor": 0
}
