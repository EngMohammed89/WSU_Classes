{
 "cells": [
  {
   "cell_type": "code",
   "execution_count": 21,
   "metadata": {
    "collapsed": true
   },
   "outputs": [],
   "source": [
    "import sympy as sp\n",
    "from sympy import I\n",
    "sp.init_printing(use_latex='mathjax')\n",
    "from IPython.display import display"
   ]
  },
  {
   "cell_type": "code",
   "execution_count": 4,
   "metadata": {
    "collapsed": true
   },
   "outputs": [],
   "source": [
    "GxxHat = sp.Symbol('\\hat{Gxx}', real = True)\n",
    "GffHat = sp.Symbol('\\hat{Gff}', real = True)\n",
    "Gfx = sp.Symbol('Gfx', real = True)\n",
    "Gxf = sp.Symbol('Gxf', real = True)"
   ]
  },
  {
   "cell_type": "code",
   "execution_count": 53,
   "metadata": {
    "collapsed": false
   },
   "outputs": [
    {
     "data": {
      "text/latex": [
       "$$\\left[\\begin{matrix}\\hat{Gxx} & Gfx\\\\Gxf & \\hat{Gff}\\end{matrix}\\right]$$"
      ],
      "text/plain": [
       "⎡\\hat{Gxx}     Gfx   ⎤\n",
       "⎢                    ⎥\n",
       "⎣   Gxf     \\hat{Gff}⎦"
      ]
     },
     "execution_count": 53,
     "metadata": {},
     "output_type": "execute_result"
    }
   ],
   "source": [
    "S = sp.Matrix([[GxxHat, Gfx],[Gxf, GffHat]])\n",
    "S"
   ]
  },
  {
   "cell_type": "code",
   "execution_count": 54,
   "metadata": {
    "collapsed": false
   },
   "outputs": [
    {
     "data": {
      "text/latex": [
       "$$\\left[\\begin{matrix}\\hat{Gff} & Gfx\\\\Gxf & \\hat{Gxx}\\end{matrix}\\right]$$"
      ],
      "text/plain": [
       "⎡\\hat{Gff}     Gfx   ⎤\n",
       "⎢                    ⎥\n",
       "⎣   Gxf     \\hat{Gxx}⎦"
      ]
     },
     "execution_count": 54,
     "metadata": {},
     "output_type": "execute_result"
    }
   ],
   "source": [
    "S1 = sp.Matrix([[GffHat, Gfx],[Gxf, GxxHat]])\n",
    "S1"
   ]
  },
  {
   "cell_type": "code",
   "execution_count": 55,
   "metadata": {
    "collapsed": false
   },
   "outputs": [
    {
     "data": {
      "text/latex": [
       "$$\\left \\{ \\frac{\\hat{Gff}}{2} + \\frac{\\hat{Gxx}}{2} - \\frac{1}{2} \\sqrt{4 Gfx Gxf + \\hat{Gff}^{2} - 2 \\hat{Gff} \\hat{Gxx} + \\hat{Gxx}^{2}} : 1, \\quad \\frac{\\hat{Gff}}{2} + \\frac{\\hat{Gxx}}{2} + \\frac{1}{2} \\sqrt{4 Gfx Gxf + \\hat{Gff}^{2} - 2 \\hat{Gff} \\hat{Gxx} + \\hat{Gxx}^{2}} : 1\\right \\}$$"
      ],
      "text/plain": [
       "⎧                           __________________________________________________\n",
       "⎪                          ╱                      2                           \n",
       "⎨\\hat{Gff}   \\hat{Gxx}   ╲╱  4⋅Gfx⋅Gxf + \\hat{Gff}  - 2⋅\\hat{Gff}⋅\\hat{Gxx} + \n",
       "⎪───────── + ───────── - ─────────────────────────────────────────────────────\n",
       "⎩    2           2                                      2                     \n",
       "\n",
       "___________                                ___________________________________\n",
       "         2                                ╱                      2            \n",
       "\\hat{Gxx}       \\hat{Gff}   \\hat{Gxx}   ╲╱  4⋅Gfx⋅Gxf + \\hat{Gff}  - 2⋅\\hat{Gf\n",
       "───────────: 1, ───────── + ───────── + ──────────────────────────────────────\n",
       "                    2           2                                      2      \n",
       "\n",
       "__________________________   ⎫\n",
       "                        2    ⎪\n",
       "f}⋅\\hat{Gxx} + \\hat{Gxx}     ⎬\n",
       "──────────────────────────: 1⎪\n",
       "                             ⎭"
      ]
     },
     "execution_count": 55,
     "metadata": {},
     "output_type": "execute_result"
    }
   ],
   "source": [
    "S.eigenvals()"
   ]
  },
  {
   "cell_type": "code",
   "execution_count": 56,
   "metadata": {
    "collapsed": false
   },
   "outputs": [
    {
     "data": {
      "text/latex": [
       "$$\\left \\{ \\frac{\\hat{Gff}}{2} + \\frac{\\hat{Gxx}}{2} - \\frac{1}{2} \\sqrt{4 Gfx Gxf + \\hat{Gff}^{2} - 2 \\hat{Gff} \\hat{Gxx} + \\hat{Gxx}^{2}} : 1, \\quad \\frac{\\hat{Gff}}{2} + \\frac{\\hat{Gxx}}{2} + \\frac{1}{2} \\sqrt{4 Gfx Gxf + \\hat{Gff}^{2} - 2 \\hat{Gff} \\hat{Gxx} + \\hat{Gxx}^{2}} : 1\\right \\}$$"
      ],
      "text/plain": [
       "⎧                           __________________________________________________\n",
       "⎪                          ╱                      2                           \n",
       "⎨\\hat{Gff}   \\hat{Gxx}   ╲╱  4⋅Gfx⋅Gxf + \\hat{Gff}  - 2⋅\\hat{Gff}⋅\\hat{Gxx} + \n",
       "⎪───────── + ───────── - ─────────────────────────────────────────────────────\n",
       "⎩    2           2                                      2                     \n",
       "\n",
       "___________                                ___________________________________\n",
       "         2                                ╱                      2            \n",
       "\\hat{Gxx}       \\hat{Gff}   \\hat{Gxx}   ╲╱  4⋅Gfx⋅Gxf + \\hat{Gff}  - 2⋅\\hat{Gf\n",
       "───────────: 1, ───────── + ───────── + ──────────────────────────────────────\n",
       "                    2           2                                      2      \n",
       "\n",
       "__________________________   ⎫\n",
       "                        2    ⎪\n",
       "f}⋅\\hat{Gxx} + \\hat{Gxx}     ⎬\n",
       "──────────────────────────: 1⎪\n",
       "                             ⎭"
      ]
     },
     "execution_count": 56,
     "metadata": {},
     "output_type": "execute_result"
    }
   ],
   "source": [
    "S1.eigenvals()"
   ]
  },
  {
   "cell_type": "code",
   "execution_count": 45,
   "metadata": {
    "collapsed": false
   },
   "outputs": [
    {
     "data": {
      "text/latex": [
       "$$\\left [ \\left ( \\frac{\\hat{Gff}}{2} + \\frac{\\hat{Gxx}}{2} - \\frac{1}{2} \\sqrt{4 Gfx Gxf + \\hat{Gff}^{2} - 2 \\hat{Gff} \\hat{Gxx} + \\hat{Gxx}^{2}}, \\quad 1, \\quad \\left [ \\left[\\begin{matrix}- \\frac{Gfx}{- \\frac{\\hat{Gff}}{2} + \\frac{\\hat{Gxx}}{2} + \\frac{1}{2} \\sqrt{4 Gfx Gxf + \\hat{Gff}^{2} - 2 \\hat{Gff} \\hat{Gxx} + \\hat{Gxx}^{2}}}\\\\1\\end{matrix}\\right]\\right ]\\right ), \\quad \\left ( \\frac{\\hat{Gff}}{2} + \\frac{\\hat{Gxx}}{2} + \\frac{1}{2} \\sqrt{4 Gfx Gxf + \\hat{Gff}^{2} - 2 \\hat{Gff} \\hat{Gxx} + \\hat{Gxx}^{2}}, \\quad 1, \\quad \\left [ \\left[\\begin{matrix}- \\frac{Gfx}{- \\frac{\\hat{Gff}}{2} + \\frac{\\hat{Gxx}}{2} - \\frac{1}{2} \\sqrt{4 Gfx Gxf + \\hat{Gff}^{2} - 2 \\hat{Gff} \\hat{Gxx} + \\hat{Gxx}^{2}}}\\\\1\\end{matrix}\\right]\\right ]\\right )\\right ]$$"
      ],
      "text/plain": [
       "⎡⎛                           _________________________________________________\n",
       "⎢⎜                          ╱                      2                          \n",
       "⎢⎜\\hat{Gff}   \\hat{Gxx}   ╲╱  4⋅Gfx⋅Gxf + \\hat{Gff}  - 2⋅\\hat{Gff}⋅\\hat{Gxx} +\n",
       "⎢⎜───────── + ───────── - ────────────────────────────────────────────────────\n",
       "⎢⎜    2           2                                      2                    \n",
       "⎢⎜                                                                            \n",
       "⎢⎜                                                                            \n",
       "⎢⎜                                                                            \n",
       "⎢⎜                                                                            \n",
       "⎢⎜                                                                            \n",
       "⎣⎝                                                                            \n",
       "\n",
       "____________                                                                  \n",
       "          2                                                                   \n",
       " \\hat{Gxx}       ⎡⎡                                          -Gfx             \n",
       "────────────, 1, ⎢⎢───────────────────────────────────────────────────────────\n",
       "                 ⎢⎢                             ______________________________\n",
       "                 ⎢⎢                            ╱                      2       \n",
       "                 ⎢⎢  \\hat{Gff}   \\hat{Gxx}   ╲╱  4⋅Gfx⋅Gxf + \\hat{Gff}  - 2⋅\\h\n",
       "                 ⎢⎢- ───────── + ───────── + ─────────────────────────────────\n",
       "                 ⎢⎢      2           2                                      2 \n",
       "                 ⎢⎢                                                           \n",
       "                 ⎣⎣                                            1              \n",
       "\n",
       "                                 ⎞  ⎛                           ______________\n",
       "                                 ⎟  ⎜                          ╱              \n",
       "                               ⎤⎤⎟  ⎜\\hat{Gff}   \\hat{Gxx}   ╲╱  4⋅Gfx⋅Gxf + \\\n",
       "───────────────────────────────⎥⎥⎟, ⎜───────── + ───────── + ─────────────────\n",
       "_______________________________⎥⎥⎟  ⎜    2           2                        \n",
       "                             2 ⎥⎥⎟  ⎜                                         \n",
       "at{Gff}⋅\\hat{Gxx} + \\hat{Gxx}  ⎥⎥⎟  ⎜                                         \n",
       "───────────────────────────────⎥⎥⎟  ⎜                                         \n",
       "                               ⎥⎥⎟  ⎜                                         \n",
       "                               ⎥⎥⎟  ⎜                                         \n",
       "                               ⎦⎦⎠  ⎝                                         \n",
       "\n",
       "_______________________________________________                               \n",
       "        2                                    2                                \n",
       "hat{Gff}  - 2⋅\\hat{Gff}⋅\\hat{Gxx} + \\hat{Gxx}       ⎡⎡                        \n",
       "───────────────────────────────────────────────, 1, ⎢⎢────────────────────────\n",
       "              2                                     ⎢⎢                        \n",
       "                                                    ⎢⎢                        \n",
       "                                                    ⎢⎢  \\hat{Gff}   \\hat{Gxx} \n",
       "                                                    ⎢⎢- ───────── + ───────── \n",
       "                                                    ⎢⎢      2           2     \n",
       "                                                    ⎢⎢                        \n",
       "                                                    ⎣⎣                        \n",
       "\n",
       "                                                                    ⎞⎤\n",
       "                                                                    ⎟⎥\n",
       "                  -Gfx                                            ⎤⎤⎟⎥\n",
       "──────────────────────────────────────────────────────────────────⎥⎥⎟⎥\n",
       "     _____________________________________________________________⎥⎥⎟⎥\n",
       "    ╱                      2                                    2 ⎥⎥⎟⎥\n",
       "  ╲╱  4⋅Gfx⋅Gxf + \\hat{Gff}  - 2⋅\\hat{Gff}⋅\\hat{Gxx} + \\hat{Gxx}  ⎥⎥⎟⎥\n",
       "- ────────────────────────────────────────────────────────────────⎥⎥⎟⎥\n",
       "                                 2                                ⎥⎥⎟⎥\n",
       "                                                                  ⎥⎥⎟⎥\n",
       "                    1                                             ⎦⎦⎠⎦"
      ]
     },
     "execution_count": 45,
     "metadata": {},
     "output_type": "execute_result"
    }
   ],
   "source": [
    "vals = S.eigenvects()\n",
    "vals"
   ]
  },
  {
   "cell_type": "code",
   "execution_count": 46,
   "metadata": {
    "collapsed": true
   },
   "outputs": [],
   "source": [
    "(val1,n,[vect1]),(val2,n2,[vect2])=vals"
   ]
  },
  {
   "cell_type": "code",
   "execution_count": 47,
   "metadata": {
    "collapsed": false
   },
   "outputs": [
    {
     "data": {
      "text/latex": [
       "$$\\left[\\begin{matrix}\\frac{Gfx}{- \\frac{\\hat{Gff}}{2} + \\frac{\\hat{Gxx}}{2} + \\frac{1}{2} \\sqrt{4 Gfx Gxf + \\hat{Gff}^{2} - 2 \\hat{Gff} \\hat{Gxx} + \\hat{Gxx}^{2}}}\\\\-1\\end{matrix}\\right]$$"
      ],
      "text/plain": [
       "⎡                                           Gfx                               \n",
       "⎢─────────────────────────────────────────────────────────────────────────────\n",
       "⎢                             ________________________________________________\n",
       "⎢                            ╱                      2                         \n",
       "⎢  \\hat{Gff}   \\hat{Gxx}   ╲╱  4⋅Gfx⋅Gxf + \\hat{Gff}  - 2⋅\\hat{Gff}⋅\\hat{Gxx} \n",
       "⎢- ───────── + ───────── + ───────────────────────────────────────────────────\n",
       "⎢      2           2                                      2                   \n",
       "⎢                                                                             \n",
       "⎣                                            -1                               \n",
       "\n",
       "             ⎤\n",
       "─────────────⎥\n",
       "_____________⎥\n",
       "           2 ⎥\n",
       "+ \\hat{Gxx}  ⎥\n",
       "─────────────⎥\n",
       "             ⎥\n",
       "             ⎥\n",
       "             ⎦"
      ]
     },
     "execution_count": 47,
     "metadata": {},
     "output_type": "execute_result"
    }
   ],
   "source": [
    "vect1*-1"
   ]
  },
  {
   "cell_type": "code",
   "execution_count": 48,
   "metadata": {
    "collapsed": false
   },
   "outputs": [
    {
     "data": {
      "text/latex": [
       "$$\\left[\\begin{matrix}\\frac{Gfx}{- \\frac{\\hat{Gff}}{2} + \\frac{\\hat{Gxx}}{2} - \\frac{1}{2} \\sqrt{4 Gfx Gxf + \\hat{Gff}^{2} - 2 \\hat{Gff} \\hat{Gxx} + \\hat{Gxx}^{2}}}\\\\-1\\end{matrix}\\right]$$"
      ],
      "text/plain": [
       "⎡                                           Gfx                               \n",
       "⎢─────────────────────────────────────────────────────────────────────────────\n",
       "⎢                             ________________________________________________\n",
       "⎢                            ╱                      2                         \n",
       "⎢  \\hat{Gff}   \\hat{Gxx}   ╲╱  4⋅Gfx⋅Gxf + \\hat{Gff}  - 2⋅\\hat{Gff}⋅\\hat{Gxx} \n",
       "⎢- ───────── + ───────── - ───────────────────────────────────────────────────\n",
       "⎢      2           2                                      2                   \n",
       "⎢                                                                             \n",
       "⎣                                            -1                               \n",
       "\n",
       "             ⎤\n",
       "─────────────⎥\n",
       "_____________⎥\n",
       "           2 ⎥\n",
       "+ \\hat{Gxx}  ⎥\n",
       "─────────────⎥\n",
       "             ⎥\n",
       "             ⎥\n",
       "             ⎦"
      ]
     },
     "execution_count": 48,
     "metadata": {},
     "output_type": "execute_result"
    }
   ],
   "source": [
    "vect2*-1"
   ]
  },
  {
   "cell_type": "code",
   "execution_count": 49,
   "metadata": {
    "collapsed": false
   },
   "outputs": [
    {
     "data": {
      "text/latex": [
       "$$\\left[\\begin{matrix}\\frac{Gfx}{- \\frac{\\hat{Gff}}{2} + \\frac{\\hat{Gxx}}{2} - \\frac{1}{2} \\overline{\\sqrt{4 Gfx Gxf + \\hat{Gff}^{2} - 2 \\hat{Gff} \\hat{Gxx} + \\hat{Gxx}^{2}}}}\\\\-1\\end{matrix}\\right]$$"
      ],
      "text/plain": [
       "⎡                                           Gfx                               \n",
       "⎢─────────────────────────────────────────────────────────────────────────────\n",
       "⎢                          ___________________________________________________\n",
       "⎢                             ________________________________________________\n",
       "⎢                            ╱                      2                         \n",
       "⎢  \\hat{Gff}   \\hat{Gxx}   ╲╱  4⋅Gfx⋅Gxf + \\hat{Gff}  - 2⋅\\hat{Gff}⋅\\hat{Gxx} \n",
       "⎢- ───────── + ───────── - ───────────────────────────────────────────────────\n",
       "⎢      2           2                                      2                   \n",
       "⎢                                                                             \n",
       "⎣                                            -1                               \n",
       "\n",
       "             ⎤\n",
       "─────────────⎥\n",
       "_____________⎥\n",
       "_____________⎥\n",
       "           2 ⎥\n",
       "+ \\hat{Gxx}  ⎥\n",
       "─────────────⎥\n",
       "             ⎥\n",
       "             ⎥\n",
       "             ⎦"
      ]
     },
     "execution_count": 49,
     "metadata": {},
     "output_type": "execute_result"
    }
   ],
   "source": [
    "test = sp.conjugate(vect2*-1)\n",
    "test"
   ]
  },
  {
   "cell_type": "code",
   "execution_count": 50,
   "metadata": {
    "collapsed": false
   },
   "outputs": [],
   "source": [
    "res = vect2.T*S1*(vect2*-1)"
   ]
  },
  {
   "cell_type": "code",
   "execution_count": 51,
   "metadata": {
    "collapsed": false
   },
   "outputs": [
    {
     "data": {
      "text/latex": [
       "$$\\left[\\begin{matrix}\\frac{Gfx^{2}}{- \\frac{\\hat{Gff}}{2} + \\frac{\\hat{Gxx}}{2} - \\frac{1}{2} \\sqrt{4 Gfx Gxf + \\hat{Gff}^{2} - 2 \\hat{Gff} \\hat{Gxx} + \\hat{Gxx}^{2}}} + \\frac{Gfx \\left(- \\frac{Gfx \\hat{Gff}}{- \\frac{\\hat{Gff}}{2} + \\frac{\\hat{Gxx}}{2} - \\frac{1}{2} \\sqrt{4 Gfx Gxf + \\hat{Gff}^{2} - 2 \\hat{Gff} \\hat{Gxx} + \\hat{Gxx}^{2}}} + Gxf\\right)}{- \\frac{\\hat{Gff}}{2} + \\frac{\\hat{Gxx}}{2} - \\frac{1}{2} \\sqrt{4 Gfx Gxf + \\hat{Gff}^{2} - 2 \\hat{Gff} \\hat{Gxx} + \\hat{Gxx}^{2}}} - \\hat{Gxx}\\end{matrix}\\right]$$"
      ],
      "text/plain": [
       "⎡                                                                             \n",
       "⎢                                                                             \n",
       "⎢                                                                             \n",
       "⎢                                                                             \n",
       "⎢                                                                             \n",
       "⎢                                              2                              \n",
       "⎢                                           Gfx                               \n",
       "⎢─────────────────────────────────────────────────────────────────────────────\n",
       "⎢                             ________________________________________________\n",
       "⎢                            ╱                      2                         \n",
       "⎢  \\hat{Gff}   \\hat{Gxx}   ╲╱  4⋅Gfx⋅Gxf + \\hat{Gff}  - 2⋅\\hat{Gff}⋅\\hat{Gxx} \n",
       "⎢- ───────── + ───────── - ───────────────────────────────────────────────────\n",
       "⎣      2           2                                      2                   \n",
       "\n",
       "                    ⎛                                        Gfx⋅\\hat{Gff}    \n",
       "                Gfx⋅⎜- ───────────────────────────────────────────────────────\n",
       "                    ⎜                               __________________________\n",
       "                    ⎜                              ╱                      2   \n",
       "                    ⎜    \\hat{Gff}   \\hat{Gxx}   ╲╱  4⋅Gfx⋅Gxf + \\hat{Gff}  - \n",
       "                    ⎜  - ───────── + ───────── - ─────────────────────────────\n",
       "                    ⎝        2           2                                    \n",
       "───────────── + ──────────────────────────────────────────────────────────────\n",
       "_____________                                       __________________________\n",
       "           2                                       ╱                      2   \n",
       "+ \\hat{Gxx}              \\hat{Gff}   \\hat{Gxx}   ╲╱  4⋅Gfx⋅Gxf + \\hat{Gff}  - \n",
       "─────────────          - ───────── + ───────── - ─────────────────────────────\n",
       "                             2           2                                    \n",
       "\n",
       "                                         ⎞            ⎤\n",
       "─────────────────────────────────── + Gxf⎟            ⎥\n",
       "___________________________________      ⎟            ⎥\n",
       "                                 2       ⎟            ⎥\n",
       "2⋅\\hat{Gff}⋅\\hat{Gxx} + \\hat{Gxx}        ⎟            ⎥\n",
       "───────────────────────────────────      ⎟            ⎥\n",
       "  2                                      ⎠            ⎥\n",
       "────────────────────────────────────────── - \\hat{Gxx}⎥\n",
       "___________________________________                   ⎥\n",
       "                                 2                    ⎥\n",
       "2⋅\\hat{Gff}⋅\\hat{Gxx} + \\hat{Gxx}                     ⎥\n",
       "───────────────────────────────────                   ⎥\n",
       "  2                                                   ⎦"
      ]
     },
     "execution_count": 51,
     "metadata": {},
     "output_type": "execute_result"
    }
   ],
   "source": [
    "res"
   ]
  },
  {
   "cell_type": "code",
   "execution_count": 23,
   "metadata": {
    "collapsed": false
   },
   "outputs": [
    {
     "data": {
      "text/latex": [
       "$$1 + i$$"
      ],
      "text/plain": [
       "1 + ⅈ"
      ]
     },
     "execution_count": 23,
     "metadata": {},
     "output_type": "execute_result"
    }
   ],
   "source": [
    "H = 1+1*I\n",
    "H"
   ]
  },
  {
   "cell_type": "code",
   "execution_count": 24,
   "metadata": {
    "collapsed": false
   },
   "outputs": [
    {
     "data": {
      "text/latex": [
       "$$1 - i$$"
      ],
      "text/plain": [
       "1 - ⅈ"
      ]
     },
     "execution_count": 24,
     "metadata": {},
     "output_type": "execute_result"
    }
   ],
   "source": [
    "Hbar=sp.conjugate(H)\n",
    "Hbar"
   ]
  },
  {
   "cell_type": "code",
   "execution_count": 26,
   "metadata": {
    "collapsed": false
   },
   "outputs": [
    {
     "data": {
      "text/latex": [
       "$$\\left[\\begin{matrix}1 - i\\\\-1\\end{matrix}\\right]$$"
      ],
      "text/plain": [
       "⎡1 - ⅈ⎤\n",
       "⎢     ⎥\n",
       "⎣ -1  ⎦"
      ]
     },
     "execution_count": 26,
     "metadata": {},
     "output_type": "execute_result"
    }
   ],
   "source": [
    "v1 = sp.Matrix([[Hbar],[-1]])\n",
    "v1"
   ]
  },
  {
   "cell_type": "code",
   "execution_count": 27,
   "metadata": {
    "collapsed": false
   },
   "outputs": [
    {
     "data": {
      "text/latex": [
       "$$\\left[\\begin{matrix}1 + i\\\\-1\\end{matrix}\\right]$$"
      ],
      "text/plain": [
       "⎡1 + ⅈ⎤\n",
       "⎢     ⎥\n",
       "⎣ -1  ⎦"
      ]
     },
     "execution_count": 27,
     "metadata": {},
     "output_type": "execute_result"
    }
   ],
   "source": [
    "v2 = sp.Matrix([[H],[-1]])\n",
    "v2"
   ]
  },
  {
   "cell_type": "code",
   "execution_count": 28,
   "metadata": {
    "collapsed": false
   },
   "outputs": [
    {
     "data": {
      "text/latex": [
       "$$\\left[\\begin{matrix}- Gfx \\left(1 - i\\right) + \\hat{Gxx} + \\left(1 + i\\right) \\left(- Gxf + \\hat{Gff} \\left(1 - i\\right)\\right)\\end{matrix}\\right]$$"
      ],
      "text/plain": [
       "[-Gfx⋅(1 - ⅈ) + \\hat{Gxx} + (1 + ⅈ)⋅(-Gxf + \\hat{Gff}⋅(1 - ⅈ))]"
      ]
     },
     "execution_count": 28,
     "metadata": {},
     "output_type": "execute_result"
    }
   ],
   "source": [
    "res2 = v1.T*S*v2\n",
    "res2"
   ]
  },
  {
   "cell_type": "code",
   "execution_count": 32,
   "metadata": {
    "collapsed": false
   },
   "outputs": [
    {
     "data": {
      "text/latex": [
       "$$\\left[\\begin{matrix}- Gfx + i Gfx - Gxf - i Gxf + 2 \\hat{Gff} + \\hat{Gxx}\\end{matrix}\\right]$$"
      ],
      "text/plain": [
       "[-Gfx + ⅈ⋅Gfx - Gxf - ⅈ⋅Gxf + 2⋅\\hat{Gff} + \\hat{Gxx}]"
      ]
     },
     "execution_count": 32,
     "metadata": {},
     "output_type": "execute_result"
    }
   ],
   "source": [
    "res2.expand()"
   ]
  },
  {
   "cell_type": "code",
   "execution_count": 60,
   "metadata": {
    "collapsed": true
   },
   "outputs": [],
   "source": [
    "Gxx = sp.Symbol('Gxx', real = True)\n",
    "Gff = sp.Symbol('Gff', real = True)\n",
    "Exx = sp.Symbol('Exx', real = True)\n",
    "Eff = sp.Symbol('Eff', real = True)\n",
    "H = sp.Symbol('H', real = True)\n",
    "Hbar = sp.Symbol('Hbar', real = True)"
   ]
  },
  {
   "cell_type": "code",
   "execution_count": 61,
   "metadata": {
    "collapsed": false
   },
   "outputs": [
    {
     "data": {
      "text/latex": [
       "$$Eff H \\bar{H} + Exx$$"
      ],
      "text/plain": [
       "Eff⋅H⋅H̅ + Exx"
      ]
     },
     "execution_count": 61,
     "metadata": {},
     "output_type": "execute_result"
    }
   ],
   "source": [
    "y=Exx + H*Eff*Hbar\n",
    "y"
   ]
  },
  {
   "cell_type": "code",
   "execution_count": 62,
   "metadata": {
    "collapsed": false
   },
   "outputs": [
    {
     "data": {
      "text/latex": [
       "$$1$$"
      ],
      "text/plain": [
       "1"
      ]
     },
     "execution_count": 62,
     "metadata": {},
     "output_type": "execute_result"
    }
   ],
   "source": [
    "sp.diff(y, Exx)"
   ]
  },
  {
   "cell_type": "code",
   "execution_count": 63,
   "metadata": {
    "collapsed": false
   },
   "outputs": [
    {
     "data": {
      "text/latex": [
       "$$H \\bar{H}$$"
      ],
      "text/plain": [
       "H⋅H̅"
      ]
     },
     "execution_count": 63,
     "metadata": {},
     "output_type": "execute_result"
    }
   ],
   "source": [
    "sp.diff(y, Eff)"
   ]
  },
  {
   "cell_type": "code",
   "execution_count": 71,
   "metadata": {
    "collapsed": false
   },
   "outputs": [
    {
     "data": {
      "text/latex": [
       "$$\\pi$$"
      ],
      "text/plain": [
       "π"
      ]
     },
     "execution_count": 71,
     "metadata": {},
     "output_type": "execute_result"
    }
   ],
   "source": [
    "x = sp.Symbol('x', real = True)\n",
    "e = sp.integrate(sp.sin(x)**2, (x, 0, 2*sp.pi))\n",
    "e"
   ]
  },
  {
   "cell_type": "code",
   "execution_count": 72,
   "metadata": {
    "collapsed": false
   },
   "outputs": [
    {
     "data": {
      "text/latex": [
       "$$\\frac{1}{2}$$"
      ],
      "text/plain": [
       "1/2"
      ]
     },
     "execution_count": 72,
     "metadata": {},
     "output_type": "execute_result"
    }
   ],
   "source": [
    "(1/(2*sp.pi))*e"
   ]
  },
  {
   "cell_type": "code",
   "execution_count": null,
   "metadata": {
    "collapsed": true
   },
   "outputs": [],
   "source": []
  }
 ],
 "metadata": {
  "kernelspec": {
   "display_name": "Python 3",
   "language": "python",
   "name": "python3"
  },
  "language_info": {
   "codemirror_mode": {
    "name": "ipython",
    "version": 3
   },
   "file_extension": ".py",
   "mimetype": "text/x-python",
   "name": "python",
   "nbconvert_exporter": "python",
   "pygments_lexer": "ipython3",
   "version": "3.5.1"
  }
 },
 "nbformat": 4,
 "nbformat_minor": 0
}
