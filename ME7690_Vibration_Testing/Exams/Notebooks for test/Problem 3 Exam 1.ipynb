{
 "cells": [
  {
   "cell_type": "code",
   "execution_count": 1,
   "metadata": {
    "collapsed": false
   },
   "outputs": [],
   "source": [
    "import sympy as sp\n",
    "from sympy import sqrt, I\n",
    "sp.init_printing(use_latex='mathjax')\n",
    "from IPython.display import display"
   ]
  },
  {
   "cell_type": "code",
   "execution_count": 66,
   "metadata": {
    "collapsed": true
   },
   "outputs": [],
   "source": [
    "omega = sp.Symbol('omega', real = True)\n",
    "omegad = sp.Symbol('omega_d', real = True)\n",
    "t = sp.Symbol('t', real = True)\n",
    "a = sp.Symbol('a', real = True)\n",
    "x = sp.Symbol('x', real = True)\n",
    "z1 = sp.Symbol('zeta_1', real = True)\n",
    "z2 = sp.Symbol('zeta_2', real = True)"
   ]
  },
  {
   "cell_type": "markdown",
   "metadata": {},
   "source": [
    "### Problem 1  \n",
    "\n",
    "**Fourier transform for the double strike looks like the following.**  \n",
    "\n",
    "**$F = 1 + e^{-\\omega \\Delta T J}$**  \n",
    "\n",
    "**The issue with a double strike is that at a certain $\\Delta T$ when the second strike occurs the conditions can be such that the two strikes cancel each other and cause the system to come to a rest or very close to a rest position.**  \n",
    "\n",
    "**This condition is illustrated in the graph below. If the frequency of the system $\\omega = 2\\pi$, then if a second hit occurs at $\\Delta T = 0.5$ seconds the two strikes will cancel out and the system comes to rest.**  \n",
    "\n",
    "**There will be other combinations of $\\Delta T$ and $\\omega$ for which this will be the case.**"
   ]
  },
  {
   "cell_type": "code",
   "execution_count": 117,
   "metadata": {
    "collapsed": false
   },
   "outputs": [
    {
     "data": {
      "image/png": "[encoded data removed]",
      "text/plain": [
       "<matplotlib.figure.Figure at 0x23744d52b70>"
      ]
     },
     "metadata": {},
     "output_type": "display_data"
    }
   ],
   "source": [
    "import numpy as np\n",
    "import matplotlib.pyplot as plt\n",
    "%matplotlib inline\n",
    "\n",
    "w1 = np.linspace(0, 2*np.pi, 1000)\n",
    "w2 = np.linspace(2*np.pi, 20, 500)\n",
    "\n",
    "#Define imaginary unit\n",
    "J=np.sqrt(-1+0j)\n",
    "\n",
    "F = 1 + np.exp(-w1*.5*J)\n",
    "F1 = 1 + np.exp(-w2*.5*J)\n",
    "\n",
    "fig=plt.figure()\n",
    "plt.plot(w1, F.real, 'b-', linewidth=2)\n",
    "#plt.plot(w1, F.imag, 'r--', linewidth=3)\n",
    "plt.plot(w2, F1.real-F1.real, 'y-', linewidth=2)\n",
    "\n",
    "fig.suptitle('F Mag.', fontsize=20)\n",
    "plt.xlabel('Freq', fontsize=20)\n",
    "plt.ylabel('Mag', fontsize=20)\n",
    "plt.axis([0, 15, -1.5, 2.5])\n",
    "\n",
    "plt.grid()\n",
    "plt.show()"
   ]
  },
  {
   "cell_type": "markdown",
   "metadata": {},
   "source": [
    "### Problem 2\n",
    "\n",
    "**Because of the absolute value in the PDF expression it was seperated into two distinct ranges as seen below:**  \n",
    "\n",
    "- $PDF = A(1+\\frac{x}{a})$, for range $-a\\le x \\le 0$.\n",
    "- $PDF = A(1-\\frac{x}{a})$, for range $0\\le x \\le a$.  \n",
    "\n",
    "**Part (a) was obtained during class test duration and is $A=\\frac{1}{a}$. This value is used in calculations below.**"
   ]
  },
  {
   "cell_type": "code",
   "execution_count": 73,
   "metadata": {
    "collapsed": false
   },
   "outputs": [
    {
     "data": {
      "text/latex": [
       "$$1$$"
      ],
      "text/plain": [
       "1"
      ]
     },
     "execution_count": 73,
     "metadata": {},
     "output_type": "execute_result"
    }
   ],
   "source": [
    "CDF=sp.integrate((1/a)*(1-x/a), (x, 0, a))+sp.integrate((1/a)*(1+x/a), (x, -a, 0))\n",
    "CDF.expand()"
   ]
  },
  {
   "cell_type": "markdown",
   "metadata": {},
   "source": [
    "**Calculate mean.**"
   ]
  },
  {
   "cell_type": "code",
   "execution_count": 83,
   "metadata": {
    "collapsed": false
   },
   "outputs": [
    {
     "data": {
      "text/latex": [
       "$$0$$"
      ],
      "text/plain": [
       "0"
      ]
     },
     "execution_count": 83,
     "metadata": {},
     "output_type": "execute_result"
    }
   ],
   "source": [
    "mean = sp.integrate(x*((1/a)*(1+x/a)), (x, -a, 0)) + sp.integrate(x*((1/a)*(1-x/a)), (x, 0, a))\n",
    "mean"
   ]
  },
  {
   "cell_type": "markdown",
   "metadata": {},
   "source": [
    "**Calculate standard deviation.**"
   ]
  },
  {
   "cell_type": "code",
   "execution_count": 129,
   "metadata": {
    "collapsed": false
   },
   "outputs": [
    {
     "data": {
      "text/latex": [
       "$$\\frac{\\sqrt{6} \\left\\lvert{a}\\right\\rvert}{6}$$"
      ],
      "text/plain": [
       "  ___    \n",
       "╲╱ 6 ⋅│a│\n",
       "─────────\n",
       "    6    "
      ]
     },
     "execution_count": 129,
     "metadata": {},
     "output_type": "execute_result"
    }
   ],
   "source": [
    "var = (sp.integrate(x**2*((1/a)*(1+x/a)), (x, -a, 0)) + sp.integrate(x**2*((1/a)*(1-x/a)), (x, 0, a)))\n",
    "stdev = sqrt(var)\n",
    "#display(var)\n",
    "stdev"
   ]
  },
  {
   "cell_type": "markdown",
   "metadata": {},
   "source": [
    "**Calculate kurtosis.**"
   ]
  },
  {
   "cell_type": "code",
   "execution_count": 130,
   "metadata": {
    "collapsed": false
   },
   "outputs": [
    {
     "data": {
      "text/latex": [
       "$$\\frac{12}{5}$$"
      ],
      "text/plain": [
       "12/5"
      ]
     },
     "execution_count": 130,
     "metadata": {},
     "output_type": "execute_result"
    }
   ],
   "source": [
    "k = sp.integrate(x**4*((1/a)*(1+x/a)), (x, -a, 0)) + sp.integrate(x**4*((1/a)*(1-x/a)), (x, 0, a))\n",
    "#display(k)\n",
    "k/(var**2)"
   ]
  },
  {
   "cell_type": "markdown",
   "metadata": {},
   "source": [
    "### Problem 3"
   ]
  },
  {
   "cell_type": "markdown",
   "metadata": {},
   "source": [
    "**The calculated mode shapes are defined below based on the hand written work.**"
   ]
  },
  {
   "cell_type": "code",
   "execution_count": 50,
   "metadata": {
    "collapsed": false
   },
   "outputs": [
    {
     "data": {
      "text/latex": [
       "$$\\left[\\begin{matrix}0.014142135623731 \\sqrt{\\zeta_{1}}\\\\0.0106066017177982 \\sqrt{\\zeta_{1}}\\end{matrix}\\right]$$"
      ],
      "text/plain": [
       "⎡                    ____ ⎤\n",
       "⎢0.014142135623731⋅╲╱ ζ₁  ⎥\n",
       "⎢                         ⎥\n",
       "⎢                     ____⎥\n",
       "⎣0.0106066017177982⋅╲╱ ζ₁ ⎦"
      ]
     },
     "execution_count": 50,
     "metadata": {},
     "output_type": "execute_result"
    }
   ],
   "source": [
    "phi1 = sp.Matrix([sqrt(0.0002*z1), 0.00015*z1/(sqrt(0.0002*z1))])\n",
    "phi1"
   ]
  },
  {
   "cell_type": "code",
   "execution_count": 51,
   "metadata": {
    "collapsed": false
   },
   "outputs": [
    {
     "data": {
      "text/latex": [
       "$$\\left[\\begin{matrix}0.025298221281347 \\sqrt{\\zeta_{2}}\\\\- 0.0189736659610103 \\sqrt{\\zeta_{2}}\\end{matrix}\\right]$$"
      ],
      "text/plain": [
       "⎡                     ____ ⎤\n",
       "⎢ 0.025298221281347⋅╲╱ ζ₂  ⎥\n",
       "⎢                          ⎥\n",
       "⎢                      ____⎥\n",
       "⎣-0.0189736659610103⋅╲╱ ζ₂ ⎦"
      ]
     },
     "execution_count": 51,
     "metadata": {},
     "output_type": "execute_result"
    }
   ],
   "source": [
    "phi2 = sp.Matrix([sqrt(0.00064*z2), -0.00048*z2/(sqrt(0.00064*z2))])\n",
    "phi2"
   ]
  },
  {
   "cell_type": "markdown",
   "metadata": {},
   "source": [
    "**Next create matrix $\\Psi$ in order to obtain Mass and Stiffness matrices ($M\\ and\\ K$).**"
   ]
  },
  {
   "cell_type": "code",
   "execution_count": 52,
   "metadata": {
    "collapsed": false
   },
   "outputs": [
    {
     "data": {
      "text/latex": [
       "$$\\left[\\begin{matrix}0.014142135623731 \\sqrt{\\zeta_{1}} & 0.025298221281347 \\sqrt{\\zeta_{2}}\\\\0.0106066017177982 \\sqrt{\\zeta_{1}} & - 0.0189736659610103 \\sqrt{\\zeta_{2}}\\end{matrix}\\right]$$"
      ],
      "text/plain": [
       "⎡                    ____                        ____ ⎤\n",
       "⎢0.014142135623731⋅╲╱ ζ₁     0.025298221281347⋅╲╱ ζ₂  ⎥\n",
       "⎢                                                     ⎥\n",
       "⎢                     ____                        ____⎥\n",
       "⎣0.0106066017177982⋅╲╱ ζ₁   -0.0189736659610103⋅╲╱ ζ₂ ⎦"
      ]
     },
     "execution_count": 52,
     "metadata": {},
     "output_type": "execute_result"
    }
   ],
   "source": [
    "Phi = sp.Matrix([[sqrt(0.0002*z1), sqrt(0.00064*z2)],[0.00015*z1/(sqrt(0.0002*z1)), -0.00048*z2/(sqrt(0.00064*z2))]])\n",
    "Phi"
   ]
  },
  {
   "cell_type": "markdown",
   "metadata": {},
   "source": [
    "**Based on equation 1.180 form the manuscript we know following relationships:**  \n",
    "\n",
    "- $\\Psi^T M\\Psi = I$, so $M = \\Psi^{-T}I\\Psi^{-1}$\n",
    "- $\\Psi^T K\\Psi = \\Omega^2$, so $K = \\Psi^{-T}\\Omega^2\\Psi^{-1}$  \n",
    "\n",
    "**Next take inverse of $\\Psi$. I know we should not take inverses but for 2 by 2 case it is acceptable.**"
   ]
  },
  {
   "cell_type": "code",
   "execution_count": 53,
   "metadata": {
    "collapsed": false
   },
   "outputs": [
    {
     "data": {
      "text/latex": [
       "$$\\left[\\begin{matrix}\\frac{35.3553390593274}{\\sqrt{\\zeta_{1}}} & \\frac{47.1404520791032}{\\sqrt{\\zeta_{1}}}\\\\\\frac{19.7642353760524}{\\sqrt{\\zeta_{2}}} & - \\frac{26.3523138347365}{\\sqrt{\\zeta_{2}}}\\end{matrix}\\right]$$"
      ],
      "text/plain": [
       "⎡35.3553390593274   47.1404520791032 ⎤\n",
       "⎢────────────────   ──────────────── ⎥\n",
       "⎢       ____               ____      ⎥\n",
       "⎢     ╲╱ ζ₁              ╲╱ ζ₁       ⎥\n",
       "⎢                                    ⎥\n",
       "⎢19.7642353760524  -26.3523138347365 ⎥\n",
       "⎢────────────────  ──────────────────⎥\n",
       "⎢       ____               ____      ⎥\n",
       "⎣     ╲╱ ζ₂              ╲╱ ζ₂       ⎦"
      ]
     },
     "execution_count": 53,
     "metadata": {},
     "output_type": "execute_result"
    }
   ],
   "source": [
    "Phi_inv = Phi.inv()\n",
    "Phi_inv"
   ]
  },
  {
   "cell_type": "markdown",
   "metadata": {},
   "source": [
    "**Since mode shapes are mass normalized the mass matrix $M$ will be the identity matrix as seen below.**"
   ]
  },
  {
   "cell_type": "code",
   "execution_count": 54,
   "metadata": {
    "collapsed": false
   },
   "outputs": [
    {
     "data": {
      "text/latex": [
       "$$\\left[\\begin{matrix}1 & 0\\\\0 & 1\\end{matrix}\\right]$$"
      ],
      "text/plain": [
       "⎡1  0⎤\n",
       "⎢    ⎥\n",
       "⎣0  1⎦"
      ]
     },
     "execution_count": 54,
     "metadata": {},
     "output_type": "execute_result"
    }
   ],
   "source": [
    "I1=sp.Matrix([[1,0],[0,1]])\n",
    "I1"
   ]
  },
  {
   "cell_type": "markdown",
   "metadata": {},
   "source": [
    "**Applying expression $M = \\Psi^{-T}I\\Psi^{-1}$ gives following expression for $M$.**"
   ]
  },
  {
   "cell_type": "code",
   "execution_count": 56,
   "metadata": {
    "collapsed": false
   },
   "outputs": [
    {
     "data": {
      "text/latex": [
       "$$\\left[\\begin{matrix}\\frac{390.6}{\\zeta_{2}} + \\frac{1250.0}{\\zeta_{1}} & - \\frac{520.8}{\\zeta_{2}} + \\frac{1667.0}{\\zeta_{1}}\\\\- \\frac{520.8}{\\zeta_{2}} + \\frac{1667.0}{\\zeta_{1}} & \\frac{694.4}{\\zeta_{2}} + \\frac{2222.0}{\\zeta_{1}}\\end{matrix}\\right]$$"
      ],
      "text/plain": [
       "⎡    390.6   1250.0        -520.8⋅(-1)   1667.0⎤\n",
       "⎢    ───── + ──────      - ─────────── + ──────⎥\n",
       "⎢      ζ₂      ζ₁               ζ₂         ζ₁  ⎥\n",
       "⎢                                              ⎥\n",
       "⎢  -520.8⋅(-1)   1667.0      694.4   2222.0    ⎥\n",
       "⎢- ─────────── + ──────      ───── + ──────    ⎥\n",
       "⎣       ζ₂         ζ₁          ζ₂      ζ₁      ⎦"
      ]
     },
     "execution_count": 56,
     "metadata": {},
     "output_type": "execute_result"
    }
   ],
   "source": [
    "M=Phi_inv.T*I1*Phi_inv\n",
    "M.evalf(4)"
   ]
  },
  {
   "cell_type": "markdown",
   "metadata": {},
   "source": [
    "**Next check following conditions.**  \n",
    "\n",
    "- $\\psi_1^TM\\psi_1 = 1$\n",
    "- $\\psi_2^TM\\psi_2 = 1$"
   ]
  },
  {
   "cell_type": "code",
   "execution_count": 58,
   "metadata": {
    "collapsed": false
   },
   "outputs": [
    {
     "data": {
      "text/latex": [
       "$$1.0$$"
      ],
      "text/plain": [
       "1.00000000000000"
      ]
     },
     "execution_count": 58,
     "metadata": {},
     "output_type": "execute_result"
    }
   ],
   "source": [
    "check1 = phi1.T*M*phi1\n",
    "check1[0].simplify()"
   ]
  },
  {
   "cell_type": "code",
   "execution_count": 60,
   "metadata": {
    "collapsed": false
   },
   "outputs": [
    {
     "data": {
      "text/latex": [
       "$$1.0$$"
      ],
      "text/plain": [
       "1.00000000000000"
      ]
     },
     "execution_count": 60,
     "metadata": {},
     "output_type": "execute_result"
    }
   ],
   "source": [
    "check2 = phi2.T*M*phi2\n",
    "check2[0].simplify()"
   ]
  },
  {
   "cell_type": "markdown",
   "metadata": {},
   "source": [
    "**Now get $K$ matrix with expression $K = \\Psi^{-T}\\Omega^2\\Psi^{-1}$.**"
   ]
  },
  {
   "cell_type": "code",
   "execution_count": 36,
   "metadata": {
    "collapsed": false
   },
   "outputs": [
    {
     "data": {
      "text/latex": [
       "$$\\left[\\begin{matrix}5625 & 0\\\\0 & 240100\\end{matrix}\\right]$$"
      ],
      "text/plain": [
       "⎡5625    0   ⎤\n",
       "⎢            ⎥\n",
       "⎣ 0    240100⎦"
      ]
     },
     "execution_count": 36,
     "metadata": {},
     "output_type": "execute_result"
    }
   ],
   "source": [
    "Omega=sp.Matrix([[75**2, 0],[0, 490**2]])\n",
    "Omega"
   ]
  },
  {
   "cell_type": "code",
   "execution_count": 62,
   "metadata": {
    "collapsed": false
   },
   "outputs": [
    {
     "data": {
      "text/latex": [
       "$$\\left[\\begin{matrix}\\frac{93789062.5}{\\zeta_{2}} + \\frac{7031250.0}{\\zeta_{1}} & - \\frac{125052083.333333}{\\zeta_{2}} + \\frac{9375000.0}{\\zeta_{1}}\\\\- \\frac{125052083.333333}{\\zeta_{2}} + \\frac{9375000.0}{\\zeta_{1}} & \\frac{166736111.111111}{\\zeta_{2}} + \\frac{12500000.0}{\\zeta_{1}}\\end{matrix}\\right]$$"
      ],
      "text/plain": [
       "⎡       93789062.5   7031250.0           -125052083.333333⋅(-1)   9375000.0⎤\n",
       "⎢       ────────── + ─────────         - ────────────────────── + ─────────⎥\n",
       "⎢           ζ₂           ζ₁                        ζ₂                 ζ₁   ⎥\n",
       "⎢                                                                          ⎥\n",
       "⎢  -125052083.333333⋅(-1)   9375000.0     166736111.111111   12500000.0    ⎥\n",
       "⎢- ────────────────────── + ─────────     ──────────────── + ──────────    ⎥\n",
       "⎣            ζ₂                 ζ₁               ζ₂              ζ₁        ⎦"
      ]
     },
     "execution_count": 62,
     "metadata": {},
     "output_type": "execute_result"
    }
   ],
   "source": [
    "K=Phi_inv.T*Omega*Phi_inv\n",
    "K"
   ]
  },
  {
   "cell_type": "markdown",
   "metadata": {},
   "source": [
    "### Problem 4\n",
    "\n",
    "**It is next to impossible to hit the exact same spot while using the hammer to excite the system. Therefore, zero locations will be different for each dataset collected. The best outcome possible is to define a confidence interval of where the zero may lie based on multiple datasets.**"
   ]
  },
  {
   "cell_type": "code",
   "execution_count": 64,
   "metadata": {
    "collapsed": false
   },
   "outputs": [
    {
     "data": {
      "text/html": [
       "<script>\n",
       "code_show=true; \n",
       "function code_toggle() {\n",
       " if (code_show){\n",
       " $('div.input').hide();\n",
       " } else {\n",
       " $('div.input').show();\n",
       " }\n",
       " code_show = !code_show\n",
       "} \n",
       "$( document ).ready(code_toggle);\n",
       "</script>\n",
       "The raw code for this IPython notebook is by default hidden for easier reading.\n",
       "To toggle on/off the raw code, click <a href=\"javascript:code_toggle()\">here</a>."
      ],
      "text/plain": [
       "<IPython.core.display.HTML object>"
      ]
     },
     "execution_count": 64,
     "metadata": {},
     "output_type": "execute_result"
    }
   ],
   "source": [
    "from IPython.display import HTML\n",
    "\n",
    "HTML('''<script>\n",
    "code_show=true; \n",
    "function code_toggle() {\n",
    " if (code_show){\n",
    " $('div.input').hide();\n",
    " } else {\n",
    " $('div.input').show();\n",
    " }\n",
    " code_show = !code_show\n",
    "} \n",
    "$( document ).ready(code_toggle);\n",
    "</script>\n",
    "The raw code for this IPython notebook is by default hidden for easier reading.\n",
    "To toggle on/off the raw code, click <a href=\"javascript:code_toggle()\">here</a>.''')"
   ]
  }
 ],
 "metadata": {
  "kernelspec": {
   "display_name": "Python 3",
   "language": "python",
   "name": "python3"
  },
  "language_info": {
   "codemirror_mode": {
    "name": "ipython",
    "version": 3
   },
   "file_extension": ".py",
   "mimetype": "text/x-python",
   "name": "python",
   "nbconvert_exporter": "python",
   "pygments_lexer": "ipython3",
   "version": "3.5.1"
  }
 },
 "nbformat": 4,
 "nbformat_minor": 0
}
