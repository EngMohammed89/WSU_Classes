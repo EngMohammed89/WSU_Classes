{
 "cells": [
  {
   "cell_type": "code",
   "execution_count": 8,
   "metadata": {
    "collapsed": false
   },
   "outputs": [],
   "source": [
    "import sympy as sp\n",
    "from sympy import I, pi\n",
    "sp.init_printing(use_latex='mathjax')\n",
    "from IPython.display import display"
   ]
  },
  {
   "cell_type": "code",
   "execution_count": 43,
   "metadata": {
    "collapsed": true
   },
   "outputs": [],
   "source": [
    "omega = sp.Symbol('omega', real = True)\n",
    "omegad = sp.Symbol('omega_d', real = True)\n",
    "t = sp.Symbol('t', real = True)\n",
    "n = sp.Symbol('n', real = True)\n",
    "zeta = sp.Symbol('zeta', real = True)\n",
    "x = sp.Symbol('x', real = True)\n",
    "A = sp.Symbol('A', real = True)\n",
    "a = sp.Symbol('a', real = True)"
   ]
  },
  {
   "cell_type": "code",
   "execution_count": 10,
   "metadata": {
    "collapsed": false
   },
   "outputs": [
    {
     "data": {
      "text/latex": [
       "$$\\frac{1}{4} \\begin{cases} 2 & \\text{for}\\: \\pi n = 0 \\\\- \\frac{2 i}{\\pi n} + \\frac{2 i}{\\pi n} e^{- i \\pi n} & \\text{otherwise} \\end{cases}$$"
      ],
      "text/plain": [
       "⎧         2           for π⋅n = 0\n",
       "⎪                                \n",
       "⎪             -ⅈ⋅π⋅n             \n",
       "⎨  2⋅ⅈ   2⋅ⅈ⋅ℯ                   \n",
       "⎪- ─── + ───────────   otherwise \n",
       "⎪  π⋅n       π⋅n                 \n",
       "⎩                                \n",
       "─────────────────────────────────\n",
       "                4                "
      ]
     },
     "execution_count": 10,
     "metadata": {},
     "output_type": "execute_result"
    }
   ],
   "source": [
    "sp.nsimplify(1/4)*sp.integrate(sp.exp((-I*2*pi*n*t)/4), (t, 0, 2))"
   ]
  },
  {
   "cell_type": "code",
   "execution_count": 11,
   "metadata": {
    "collapsed": false
   },
   "outputs": [
    {
     "data": {
      "text/latex": [
       "$$\\begin{cases} t & \\text{for}\\: \\pi n = 0 \\\\\\frac{2 i}{\\pi n} e^{- \\frac{i \\pi}{2} n t} & \\text{otherwise} \\end{cases}$$"
      ],
      "text/plain": [
       "⎧      t         for π⋅n = 0\n",
       "⎪                           \n",
       "⎪     -ⅈ⋅π⋅n⋅t              \n",
       "⎪     ─────────             \n",
       "⎨         2                 \n",
       "⎪2⋅ⅈ⋅ℯ                      \n",
       "⎪──────────────   otherwise \n",
       "⎪     π⋅n                   \n",
       "⎩                           "
      ]
     },
     "execution_count": 11,
     "metadata": {},
     "output_type": "execute_result"
    }
   ],
   "source": [
    "sp.integrate(sp.exp((-I*2*pi*n*t)/4), t)"
   ]
  },
  {
   "cell_type": "code",
   "execution_count": 12,
   "metadata": {
    "collapsed": false
   },
   "outputs": [
    {
     "data": {
      "text/latex": [
       "$$\\begin{cases} 2 & \\text{for}\\: \\pi n = 0 \\\\- \\frac{2 i}{\\pi n} + \\frac{2 i}{\\pi n} e^{- i \\pi n} & \\text{otherwise} \\end{cases}$$"
      ],
      "text/plain": [
       "⎧         2           for π⋅n = 0\n",
       "⎪                                \n",
       "⎪             -ⅈ⋅π⋅n             \n",
       "⎨  2⋅ⅈ   2⋅ⅈ⋅ℯ                   \n",
       "⎪- ─── + ───────────   otherwise \n",
       "⎪  π⋅n       π⋅n                 \n",
       "⎩                                "
      ]
     },
     "execution_count": 12,
     "metadata": {},
     "output_type": "execute_result"
    }
   ],
   "source": [
    "sp.integrate(sp.exp((-I*2*pi*n*t)/4), (t, 0, 2))"
   ]
  },
  {
   "cell_type": "code",
   "execution_count": 19,
   "metadata": {
    "collapsed": false
   },
   "outputs": [
    {
     "data": {
      "text/latex": [
       "$$-1$$"
      ],
      "text/plain": [
       "-1"
      ]
     },
     "execution_count": 19,
     "metadata": {},
     "output_type": "execute_result"
    }
   ],
   "source": [
    "sp.exp(-I*pi*1)"
   ]
  },
  {
   "cell_type": "markdown",
   "metadata": {},
   "source": [
    "Some problem examples:"
   ]
  },
  {
   "cell_type": "code",
   "execution_count": 20,
   "metadata": {
    "collapsed": true
   },
   "outputs": [],
   "source": [
    "omega = sp.Symbol('omega', real = True)\n",
    "omegad = sp.Symbol('omega_d', real = True)\n",
    "t = sp.Symbol('t', real = True)\n",
    "A = sp.Symbol('A', real = True)\n",
    "zeta = sp.Symbol('zeta', real = True)"
   ]
  },
  {
   "cell_type": "code",
   "execution_count": 21,
   "metadata": {
    "collapsed": false
   },
   "outputs": [
    {
     "data": {
      "text/latex": [
       "$$\\left[\\begin{matrix}10 & 0\\\\0 & 15\\end{matrix}\\right]$$"
      ],
      "text/plain": [
       "⎡10  0 ⎤\n",
       "⎢      ⎥\n",
       "⎣0   15⎦"
      ]
     },
     "metadata": {},
     "output_type": "display_data"
    },
    {
     "data": {
      "text/latex": [
       "$$\\left[\\begin{matrix}550 & -200\\\\-200 & 200\\end{matrix}\\right]$$"
      ],
      "text/plain": [
       "⎡550   -200⎤\n",
       "⎢          ⎥\n",
       "⎣-200  200 ⎦"
      ]
     },
     "metadata": {},
     "output_type": "display_data"
    }
   ],
   "source": [
    "M = sp.Matrix([[10, 0], [0, 15]])\n",
    "display(M)\n",
    "K = sp.Matrix([[550, -200], [-200, 200]])\n",
    "display(K)"
   ]
  },
  {
   "cell_type": "markdown",
   "metadata": {},
   "source": [
    "Need to get $M^{\\frac{-1}{2}}$"
   ]
  },
  {
   "cell_type": "code",
   "execution_count": 22,
   "metadata": {
    "collapsed": false
   },
   "outputs": [
    {
     "data": {
      "text/latex": [
       "$$\\left[\\begin{matrix}3.16227766016838 & 0\\\\0 & 3.87298334620742\\end{matrix}\\right]$$"
      ],
      "text/plain": [
       "⎡3.16227766016838         0        ⎤\n",
       "⎢                                  ⎥\n",
       "⎣       0          3.87298334620742⎦"
      ]
     },
     "metadata": {},
     "output_type": "display_data"
    },
    {
     "data": {
      "text/latex": [
       "$$\\left[\\begin{matrix}0.316227766016838 & 0\\\\0 & 0.258198889747161\\end{matrix}\\right]$$"
      ],
      "text/plain": [
       "⎡0.316227766016838          0        ⎤\n",
       "⎢                                    ⎥\n",
       "⎣        0          0.258198889747161⎦"
      ]
     },
     "metadata": {},
     "output_type": "display_data"
    }
   ],
   "source": [
    "t=sp.Matrix(sp.mpmath.sqrtm(M)).T\n",
    "Msqrt=t.reshape(2,2)\n",
    "display(Msqrt)\n",
    "display(Msqrt.inv())"
   ]
  },
  {
   "cell_type": "markdown",
   "metadata": {},
   "source": [
    "Now can get equation $I\\ddot{q} + \\bar{K}q = 0$, where $\\bar{K} = M^{\\frac{-T}{2}}*K*M^{\\frac{-1}{2}}$."
   ]
  },
  {
   "cell_type": "code",
   "execution_count": 25,
   "metadata": {
    "collapsed": false
   },
   "outputs": [
    {
     "data": {
      "text/latex": [
       "$$\\left[\\begin{matrix}55.0 & -16.3299316185545\\\\-16.3299316185545 & 13.3333333333333\\end{matrix}\\right]$$"
      ],
      "text/plain": [
       "⎡      55.0         -16.3299316185545⎤\n",
       "⎢                                    ⎥\n",
       "⎣-16.3299316185545  13.3333333333333 ⎦"
      ]
     },
     "execution_count": 25,
     "metadata": {},
     "output_type": "execute_result"
    }
   ],
   "source": [
    "Kbar = Msqrt.inv()*K*Msqrt.inv()\n",
    "Kbar"
   ]
  },
  {
   "cell_type": "code",
   "execution_count": 26,
   "metadata": {
    "collapsed": false
   },
   "outputs": [
    {
     "data": {
      "text/latex": [
       "$$\\left [ \\left ( 7.69603304288569, \\quad 1, \\quad \\left [ \\left[\\begin{matrix}0.345212730961003\\\\1.0\\end{matrix}\\right]\\right ]\\right ), \\quad \\left ( 60.6373002904476, \\quad 1, \\quad \\left [ \\left[\\begin{matrix}-2.89676454636015\\\\1.0\\end{matrix}\\right]\\right ]\\right )\\right ]$$"
      ],
      "text/plain": [
       "⎡⎛7.69603304288569, 1, ⎡⎡0.345212730961003⎤⎤⎞, ⎛60.6373002904476, 1, ⎡⎡-2.8967\n",
       "⎢⎜                     ⎢⎢                 ⎥⎥⎟  ⎜                     ⎢⎢       \n",
       "⎣⎝                     ⎣⎣       1.0       ⎦⎦⎠  ⎝                     ⎣⎣       \n",
       "\n",
       "6454636015⎤⎤⎞⎤\n",
       "          ⎥⎥⎟⎥\n",
       "1.0       ⎦⎦⎠⎦"
      ]
     },
     "execution_count": 26,
     "metadata": {},
     "output_type": "execute_result"
    }
   ],
   "source": [
    "Kbar.eigenvects()"
   ]
  },
  {
   "cell_type": "code",
   "execution_count": 30,
   "metadata": {
    "collapsed": false
   },
   "outputs": [
    {
     "data": {
      "text/latex": [
       "$$\\left[\\begin{matrix}-0.94525848507921\\\\0.326322534290472\\end{matrix}\\right]$$"
      ],
      "text/plain": [
       "⎡-0.94525848507921⎤\n",
       "⎢                 ⎥\n",
       "⎣0.326322534290472⎦"
      ]
     },
     "execution_count": 30,
     "metadata": {},
     "output_type": "execute_result"
    }
   ],
   "source": [
    "v1=sp.Matrix([-2.8967, 1.0])\n",
    "v1.normalized()"
   ]
  },
  {
   "cell_type": "code",
   "execution_count": 31,
   "metadata": {
    "collapsed": false
   },
   "outputs": [
    {
     "data": {
      "text/latex": [
       "$$\\left[\\begin{matrix}0.326305284631903\\\\0.945264439837495\\end{matrix}\\right]$$"
      ],
      "text/plain": [
       "⎡0.326305284631903⎤\n",
       "⎢                 ⎥\n",
       "⎣0.945264439837495⎦"
      ]
     },
     "execution_count": 31,
     "metadata": {},
     "output_type": "execute_result"
    }
   ],
   "source": [
    "v2=sp.Matrix([0.3452, 1.0])\n",
    "v2.normalized()"
   ]
  },
  {
   "cell_type": "markdown",
   "metadata": {},
   "source": [
    "define matrix V which is comprised of eigenvectors of $\\bar{K}$"
   ]
  },
  {
   "cell_type": "code",
   "execution_count": 34,
   "metadata": {
    "collapsed": false,
    "scrolled": false
   },
   "outputs": [
    {
     "data": {
      "text/latex": [
       "$$\\left[\\begin{matrix}-0.94525848507921 & 0.326305284631903\\\\0.326322534290472 & 0.945264439837495\\end{matrix}\\right]$$"
      ],
      "text/plain": [
       "⎡-0.94525848507921  0.326305284631903⎤\n",
       "⎢                                    ⎥\n",
       "⎣0.326322534290472  0.945264439837495⎦"
      ]
     },
     "execution_count": 34,
     "metadata": {},
     "output_type": "execute_result"
    }
   ],
   "source": [
    "V=sp.Matrix([v1.normalized(), v2.normalized()]).reshape(2,2).T\n",
    "V"
   ]
  },
  {
   "cell_type": "markdown",
   "metadata": {},
   "source": [
    "Then use following expression to get $\\Psi = M^{\\frac{-1}{2}}V$"
   ]
  },
  {
   "cell_type": "code",
   "execution_count": 36,
   "metadata": {
    "collapsed": false
   },
   "outputs": [
    {
     "data": {
      "text/latex": [
       "$$\\left[\\begin{matrix}-0.298916979045059 & 0.103186791198635\\\\0.0842561160532798 & 0.244066228883513\\end{matrix}\\right]$$"
      ],
      "text/plain": [
       "⎡-0.298916979045059  0.103186791198635⎤\n",
       "⎢                                     ⎥\n",
       "⎣0.0842561160532798  0.244066228883513⎦"
      ]
     },
     "execution_count": 36,
     "metadata": {},
     "output_type": "execute_result"
    }
   ],
   "source": [
    "Psi = Msqrt.inv()*V\n",
    "Psi"
   ]
  },
  {
   "cell_type": "markdown",
   "metadata": {},
   "source": [
    "This concludes part a.  \n",
    "\n",
    "Next part b."
   ]
  },
  {
   "cell_type": "code",
   "execution_count": 42,
   "metadata": {
    "collapsed": false
   },
   "outputs": [
    {
     "data": {
      "text/latex": [
       "$$\\begin{cases} 2 \\pi & \\text{for}\\: \\pi n = 0 \\\\\\frac{2}{\\pi n} \\sin{\\left (\\pi^{2} n \\right )} & \\text{otherwise} \\end{cases}$$"
      ],
      "text/plain": [
       "⎧    2⋅π      for π⋅n = 0\n",
       "⎪                        \n",
       "⎪     ⎛ 2  ⎞             \n",
       "⎨2⋅sin⎝π ⋅n⎠             \n",
       "⎪───────────   otherwise \n",
       "⎪    π⋅n                 \n",
       "⎩                        "
      ]
     },
     "execution_count": 42,
     "metadata": {},
     "output_type": "execute_result"
    }
   ],
   "source": [
    "sp.integrate(sp.cos(pi*n*x), (x,-pi,pi))"
   ]
  },
  {
   "cell_type": "code",
   "execution_count": 44,
   "metadata": {
    "collapsed": false
   },
   "outputs": [
    {
     "data": {
      "text/latex": [
       "$$\\frac{A}{a} \\left(\\int_{- a}^{a} a\\, dx + \\int_{- a}^{a} - \\left\\lvert{x}\\right\\rvert\\, dx\\right)$$"
      ],
      "text/plain": [
       "  ⎛a         a         ⎞\n",
       "  ⎜⌠         ⌠         ⎟\n",
       "A⋅⎜⎮  a dx + ⎮  -│x│ dx⎟\n",
       "  ⎜⌡         ⌡         ⎟\n",
       "  ⎝-a        -a        ⎠\n",
       "────────────────────────\n",
       "           a            "
      ]
     },
     "execution_count": 44,
     "metadata": {},
     "output_type": "execute_result"
    }
   ],
   "source": [
    "sp.integrate(A*(1-abs(x)/a), (x, -a, a))"
   ]
  },
  {
   "cell_type": "code",
   "execution_count": 45,
   "metadata": {
    "collapsed": false
   },
   "outputs": [
    {
     "data": {
      "text/latex": [
       "$$- \\frac{1}{a} \\left(\\int_{- a}^{a} - x\\, dx + \\int_{- a}^{a} x \\left\\lvert{x}\\right\\rvert\\, dx\\right)$$"
      ],
      "text/plain": [
       " ⎛a          a          ⎞ \n",
       " ⎜⌠          ⌠          ⎟ \n",
       "-⎜⎮  -x dx + ⎮  x⋅│x│ dx⎟ \n",
       " ⎜⌡          ⌡          ⎟ \n",
       " ⎝-a         -a         ⎠ \n",
       "──────────────────────────\n",
       "            a             "
      ]
     },
     "execution_count": 45,
     "metadata": {},
     "output_type": "execute_result"
    }
   ],
   "source": [
    "sp.integrate(x*((1/a)-abs(x)/a), (x, -a, a))"
   ]
  },
  {
   "cell_type": "code",
   "execution_count": 46,
   "metadata": {
    "collapsed": false
   },
   "outputs": [
    {
     "data": {
      "text/latex": [
       "$$- \\frac{1}{a} \\left(\\int - x\\, dx + \\int x \\left\\lvert{x}\\right\\rvert\\, dx\\right)$$"
      ],
      "text/plain": [
       " ⎛⌠         ⌠         ⎞ \n",
       "-⎜⎮ -x dx + ⎮ x⋅│x│ dx⎟ \n",
       " ⎝⌡         ⌡         ⎠ \n",
       "────────────────────────\n",
       "           a            "
      ]
     },
     "execution_count": 46,
     "metadata": {},
     "output_type": "execute_result"
    }
   ],
   "source": [
    "sp.integrate(x*((1/a)-abs(x)/a), x)"
   ]
  },
  {
   "cell_type": "code",
   "execution_count": 52,
   "metadata": {
    "collapsed": false
   },
   "outputs": [
    {
     "data": {
      "text/latex": [
       "$$\\int_{-1}^{1} x \\left\\lvert{x}\\right\\rvert\\, dx$$"
      ],
      "text/plain": [
       "1          \n",
       "⌠          \n",
       "⎮  x⋅│x│ dx\n",
       "⌡          \n",
       "-1         "
      ]
     },
     "execution_count": 52,
     "metadata": {},
     "output_type": "execute_result"
    }
   ],
   "source": [
    "sp.integrate(x*abs(x), (x, -1, 1))"
   ]
  },
  {
   "cell_type": "code",
   "execution_count": 51,
   "metadata": {
    "collapsed": false
   },
   "outputs": [
    {
     "data": {
      "text/latex": [
       "$$1.0 \\cdot 10^{-100}$$"
      ],
      "text/plain": [
       "0.e-100"
      ]
     },
     "execution_count": 51,
     "metadata": {},
     "output_type": "execute_result"
    }
   ],
   "source": [
    "d.evalf()"
   ]
  },
  {
   "cell_type": "code",
   "execution_count": 53,
   "metadata": {
    "collapsed": false
   },
   "outputs": [
    {
     "data": {
      "text/latex": [
       "$$- \\frac{1}{a} \\left(\\int_{- a}^{a} - x^{2}\\, dx + \\int_{- a}^{a} x^{2} \\left\\lvert{x}\\right\\rvert\\, dx\\right)$$"
      ],
      "text/plain": [
       " ⎛a           a           ⎞ \n",
       " ⎜⌠           ⌠           ⎟ \n",
       " ⎜⎮    2      ⎮   2       ⎟ \n",
       "-⎜⎮  -x  dx + ⎮  x ⋅│x│ dx⎟ \n",
       " ⎜⌡           ⌡           ⎟ \n",
       " ⎝-a          -a          ⎠ \n",
       "────────────────────────────\n",
       "             a              "
      ]
     },
     "execution_count": 53,
     "metadata": {},
     "output_type": "execute_result"
    }
   ],
   "source": [
    "sp.integrate(x**2*((1/a)-abs(x)/a), (x, -a, a))"
   ]
  },
  {
   "cell_type": "code",
   "execution_count": 54,
   "metadata": {
    "collapsed": false
   },
   "outputs": [
    {
     "data": {
      "text/latex": [
       "$$- \\frac{1}{a} \\left(\\int_{- a}^{a} - x^{3}\\, dx + \\int_{- a}^{a} x^{3} \\left\\lvert{x}\\right\\rvert\\, dx\\right)$$"
      ],
      "text/plain": [
       " ⎛a           a           ⎞ \n",
       " ⎜⌠           ⌠           ⎟ \n",
       " ⎜⎮    3      ⎮   3       ⎟ \n",
       "-⎜⎮  -x  dx + ⎮  x ⋅│x│ dx⎟ \n",
       " ⎜⌡           ⌡           ⎟ \n",
       " ⎝-a          -a          ⎠ \n",
       "────────────────────────────\n",
       "             a              "
      ]
     },
     "execution_count": 54,
     "metadata": {},
     "output_type": "execute_result"
    }
   ],
   "source": [
    "sp.integrate(x**3*((1/a)-abs(x)/a), (x, -a, a))"
   ]
  },
  {
   "cell_type": "code",
   "execution_count": 55,
   "metadata": {
    "collapsed": false
   },
   "outputs": [
    {
     "data": {
      "text/latex": [
       "$$- a \\omega^{2} \\sin{\\left (n + \\omega x \\right )}$$"
      ],
      "text/plain": [
       "    2             \n",
       "-a⋅ω ⋅sin(n + ω⋅x)"
      ]
     },
     "execution_count": 55,
     "metadata": {},
     "output_type": "execute_result"
    }
   ],
   "source": [
    "sp.diff(a*sp.sin(omega*x+n), x, x)"
   ]
  },
  {
   "cell_type": "code",
   "execution_count": 56,
   "metadata": {
    "collapsed": false
   },
   "outputs": [
    {
     "data": {
      "text/latex": [
       "$$\\left[\\begin{matrix}4900 & 0\\\\0 & 250000\\end{matrix}\\right]$$"
      ],
      "text/plain": [
       "⎡4900    0   ⎤\n",
       "⎢            ⎥\n",
       "⎣ 0    250000⎦"
      ]
     },
     "metadata": {},
     "output_type": "display_data"
    }
   ],
   "source": [
    "K = sp.Matrix([[70**2, 0], [0, 500**2]])\n",
    "display(K)"
   ]
  },
  {
   "cell_type": "code",
   "execution_count": 57,
   "metadata": {
    "collapsed": false
   },
   "outputs": [
    {
     "data": {
      "text/latex": [
       "$$\\left [ \\left ( 4900, \\quad 1, \\quad \\left [ \\left[\\begin{matrix}1\\\\0\\end{matrix}\\right]\\right ]\\right ), \\quad \\left ( 250000, \\quad 1, \\quad \\left [ \\left[\\begin{matrix}0\\\\1\\end{matrix}\\right]\\right ]\\right )\\right ]$$"
      ],
      "text/plain": [
       "⎡⎛4900, 1, ⎡⎡1⎤⎤⎞, ⎛250000, 1, ⎡⎡0⎤⎤⎞⎤\n",
       "⎢⎜         ⎢⎢ ⎥⎥⎟  ⎜           ⎢⎢ ⎥⎥⎟⎥\n",
       "⎣⎝         ⎣⎣0⎦⎦⎠  ⎝           ⎣⎣1⎦⎦⎠⎦"
      ]
     },
     "execution_count": 57,
     "metadata": {},
     "output_type": "execute_result"
    }
   ],
   "source": [
    "K.eigenvects()"
   ]
  },
  {
   "cell_type": "code",
   "execution_count": null,
   "metadata": {
    "collapsed": true
   },
   "outputs": [],
   "source": []
  }
 ],
 "metadata": {
  "kernelspec": {
   "display_name": "Python 3",
   "language": "python",
   "name": "python3"
  },
  "language_info": {
   "codemirror_mode": {
    "name": "ipython",
    "version": 3
   },
   "file_extension": ".py",
   "mimetype": "text/x-python",
   "name": "python",
   "nbconvert_exporter": "python",
   "pygments_lexer": "ipython3",
   "version": "3.5.1"
  }
 },
 "nbformat": 4,
 "nbformat_minor": 0
}
