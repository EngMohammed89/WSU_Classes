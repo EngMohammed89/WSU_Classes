{
 "cells": [
  {
   "cell_type": "markdown",
   "metadata": {},
   "source": [
    "# Vibration Testing,  Test 1, Spring 2016\n",
    "\n",
    "\\noindent Closed book, closed notes.  Test booklets will be provided. Problems are 10 points each unless otherwise stated. \n",
    "Formula sheet must be turned in with the exam."
   ]
  },
  {
   "cell_type": "markdown",
   "metadata": {},
   "source": [
    "Problem 1. A common occurrence when using an impulse hammer is an accidental double strike. \n",
    "\n",
    "a.  Determine the Fourier Transform of $f(t) = \\delta(t)+\\delta(t-\\Delta t)$ where $\\Delta t$ is the time difference between first and second strike. \n",
    "b. Compare this to the Fourier Transform of $f(t) = \\delta(t)$ by explaining how and when this difference can cause errors in the expected response of a multiple-mode linear system. \n"
   ]
  },
  {
   "cell_type": "markdown",
   "metadata": {},
   "source": [
    "The Fourier Transform of $\\delta(t)$ is \n",
    "\n",
    "$$\\int_{-\\infty}^{\\infty}\\delta(t)e^{j 2 \\pi f t}dt = e^{j 2 \\pi f 0} = e^0 = 1$$\n",
    "\n",
    "The Fourier Transform of $\\delta(t)+\\delta(t-\\Delta t)$ is \n",
    "\n",
    "$$\\int_{-\\infty}^{\\infty}(\\delta(t)+\\delta(t-\\Delta t)+e^{j 2 \\pi f t}dt = e^{j 2 \\pi f 0} + e^{j 2 \\pi f \\Delta t}= e^0+ e^{j 2 \\pi f \\Delta t}$$\n",
    "\n",
    "Applying the Euler Equation\n",
    "$$\\int_{-\\infty}^{\\infty}(\\delta(t)+\\delta(t-\\Delta t)+e^{j 2 \\pi f t}dt = 1+\\cos 2\\pi f \\Delta t+j\\sin 2\\pi f \\Delta t$$\n",
    "\n",
    "The magnitude is\n",
    "\n",
    "$$\\sqrt{\\left( 1+\\cos 2\\pi f \\Delta t \\right)^2\n",
    "+\\sin^2 2\\pi f \\Delta t\n",
    "}$$\n",
    "\n",
    "Since $\\Delta t$ is presumed a fixed value, the amplitude will fluctuate as a function of $f$. \n",
    "\n",
    "This means you won't get constant excitation at all frequencies. The extreme case is when $f\\Delta t=\\frac{n}{2}$ where $n$ is an integer  (not equal to zero). In those cases\n",
    "\n",
    "$$\\sqrt{\\left( 1+\\cos 2\\pi \\frac{n}{2} \\right)^2\n",
    "+\\sin^2 2\\pi \\frac{n}{2}\n",
    "} = \\sqrt{\\left( 1+\\cos 2\\pi \\frac{n}{2} \\right)^2\n",
    "+0\n",
    "}$$\n",
    "\n",
    "Note that for odd values of $n$, $\\cos 2\\pi \\frac{n}{2}=-1$, and the amplitude of the excitation will be zero. \n",
    "\n",
    "So, at frequencies such that $f\\Delta t=\\frac{n}{2}$ where $n$ is an odd integer there will be no excitation of that frequency leaving you will unexcited frequencies, and potential blind spots in your response. \n"
   ]
  },
  {
   "cell_type": "code",
   "execution_count": 15,
   "metadata": {
    "collapsed": false
   },
   "outputs": [
    {
     "data": {
      "text/plain": [
       "<matplotlib.text.Text at 0x10666a0b8>"
      ]
     },
     "execution_count": 15,
     "metadata": {},
     "output_type": "execute_result"
    },
    {
     "data": {
      "image/png": "[encoded data removed]",
      "text/plain": [
       "<matplotlib.figure.Figure at 0x106252978>"
      ]
     },
     "metadata": {},
     "output_type": "display_data"
    }
   ],
   "source": [
    "% matplotlib inline\n",
    "import scipy as sp\n",
    "import matplotlib.pyplot as plt\n",
    "n = sp.linspace(0,10,500)\n",
    "plt.plot(n,sp.sqrt((1+sp.cos(2*sp.pi*n/2))**2+(sp.sin(2*sp.pi*n/2))**2),'-')\n",
    "plt.xlabel('n')\n",
    "plt.title('Magnitude of $F(j\\omega)$')"
   ]
  },
  {
   "cell_type": "markdown",
   "metadata": {},
   "source": [
    " \n",
    "\n",
    "\n",
    "Problem 2. A random variable has a triangular distribution defined by the probability density function\n",
    "$$p_x(x) =\n",
    "\\begin{cases}\n",
    "A\\left(1-\\frac{|x|}{a}\\right),&-a<x<a\\\\\n",
    "0, &\\text{otherwise}\n",
    "\\end{cases}\n",
    "$$\n",
    "\n",
    "Presume $a$ is a defined (known) variable (*This does not mean you pick a number!*). In terms of $a$\n",
    "\n",
    "a. Determine $A$\n",
    "b. $\\mu_{x}$\n",
    "c. $\\sigma_{x}$\n",
    "d. $\\kappa_{x}$\n"
   ]
  },
  {
   "cell_type": "markdown",
   "metadata": {},
   "source": [
    "a. $\\int_{-a}^{a}A\\left(1-\\frac{|x|}{a}\\right)dx = Aa$,\n",
    "so $A=\\frac{1}{a}$\n",
    "\n",
    "b. $\\mu_{x} = \\int_{-a}^{a}x\\frac{1}{a}\\left(1-\\frac{|x|}{a}\\right)dx=0$\n",
    "\n",
    "c. $\\sigma_{x}^2=\\int_{-a}^{a}x^2\\frac{1}{a}\\left(1-\\frac{|x|}{a}\\right)dx = \\frac{a^2}{6}$ so $\\sigma_{x} = \\frac{a}{\\sqrt{6}}$\n",
    "\n",
    "d. $\\kappa_{x}=\\frac{1}{\\sigma_x^2}\\int_{-a}^{a}x^4\\frac{1}{a}\\left(1-\\frac{|x|}{a}\\right)dx = \\frac{\\sqrt{6}^4}{a^4}\\frac{a^4}{15}=\\frac{36}{15}$ "
   ]
  },
  {
   "cell_type": "markdown",
   "metadata": {},
   "source": [
    "Problem 3. Estimate the natural frequencies, mass normalized mode shapes, mass matrix, and stiffness matrix for the system whose inertance FRFs are\n",
    "\n",
    "<img src=\"H11.png\">\n",
    "\n",
    "<img src=\"H12.png\">"
   ]
  },
  {
   "cell_type": "markdown",
   "metadata": {},
   "source": [
    "Because these are intertance FRFs, we have to remember that they are multiplied by $\\omega^2$. \n",
    "\n",
    "The amplitudes are in Decibels, so we have, in order and approximately, $-175$ dB and $-156$ dB for the first mode, with $-178$ dB and $-181$ dB for the second. Converted to non-dB values, dB is $20 \\log_10$ so in raw amplitude we get\n",
    "\n",
    "$$\\begin{bmatrix}\n",
    "1.778e-09&1.259e-09\\\\\n",
    "1.585e-08&8.913e-10\n",
    "\\end{bmatrix}\n",
    "$$\n",
    "Noting that every peak has a phase of $-90^{o}$, the $2, 2$ element needs a sign change, so\n",
    "\n",
    "\n",
    "$$\\begin{bmatrix}\n",
    "1.778e-09&1.259e-09\\\\\n",
    "1.585e-08&-8.913e-10\n",
    "\\end{bmatrix}\n",
    "$$\n",
    "\n",
    "(these are non-mass normalized mode shapes). \n",
    "Noting that the FRF is\n",
    "\n",
    "$$\\sum \\mathbf{\\psi_i}\\mathbf{\\psi_i}^T \\tilde{h}_i$$\n",
    "and\n",
    "$$\\tilde{h}_i = \\frac{\\omega^2}{\\omega_i^2+2\\zeta_i\\omega_i\\omega j-\\omega^2}$$\n",
    "at the peaks\n",
    "$$\\tilde{h}_i = \\frac{\\omega_i^2}{2\\zeta_i\\omega_i\\omega_i j}  = \\frac{1}{2\\zeta_i j}$$\n",
    "\n",
    "Since the first FRF is collocated, the peaks have approximate magnitudes of the first element of the corresponding mass normalized mode shape squared divided by $2\\zeta_i$. We don't realistically know $\\zeta_i$. \n",
    "\n",
    "So, \n",
    "\n",
    "$$\\psi_{1,1} = \\sqrt{1.778e-09\\times 2\\times\\zeta_1}=5.96\\times 10^{-5}\\sqrt{\\zeta_i}$$\n",
    "\n",
    "The first column of the matrix is the non-mass normalized mode shape. Since we know the first value of the first mode shape, and the ratio must remain\n",
    "\n",
    "$$\\boldsymbol{\\psi}_1=\\begin{bmatrix}5.96\\times 10^{-5}\\sqrt{\\zeta_i}\\\\5.32\\times 10^{-5}\\sqrt{\\zeta_i}\\end{bmatrix}$$\n",
    "\n",
    "Likewise, the second mass-normalized mode shape is\n",
    "\n",
    "$$\\boldsymbol{\\psi}_2=\\begin{bmatrix}5.02\\times 10^{-5}\\sqrt{\\zeta_i}\\\\-3.55\\times 10^{-5}\\sqrt{\\zeta_i}\\end{bmatrix}$$\n",
    "\n",
    "Since $\\Psi^T M \\Psi = I$, then $M = (\\Psi^T)^{-1}\\Psi^{-1}$\n",
    "$$M = \\begin{bmatrix}\n",
    "\\frac{3.40862\\times 10^8}{\\zeta _2}+\\frac{1.52258\\times 10^6}{\\zeta _1} &\n",
    "   \\frac{2.15069\\times 10^6}{\\zeta _1}-\\frac{3.82454\\times 10^7}{\\zeta _2} \\\\\n",
    " \\frac{2.15069\\times 10^6}{\\zeta _1}-\\frac{3.82454\\times 10^7}{\\zeta _2} &\n",
    "   \\frac{4.2912\\times 10^6}{\\zeta _2}+\\frac{3.03794\\times 10^6}{\\zeta _1}\n",
    "   \\end{bmatrix}$$\n",
    "\n",
    "Likewise, since $\\Psi^T K \\Psi = I\\Lambda$, then $K = (\\Psi^T)^{-1}\\Lambda\\Psi^{-1}$\n",
    "$$K = \\begin{bmatrix}\n",
    "\\frac{3.10044\\times 10^{15}}{\\zeta _2}+\\frac{3.84699\\times 10^{11}}{\\zeta _1} &\n",
    "   \\frac{5.43401\\times 10^{11}}{\\zeta _1}-\\frac{3.47875\\times 10^{14}}{\\zeta _2} \\\\\n",
    " \\frac{5.43401\\times 10^{11}}{\\zeta _1}-\\frac{3.47875\\times 10^{14}}{\\zeta _2} &\n",
    "   \\frac{3.90322\\times 10^{13}}{\\zeta _2}+\\frac{7.67574\\times 10^{11}}{\\zeta _1}\n",
    "   \\end{bmatrix}$$\n",
    "\n",
    "My guess is that the skill set didn't exist for the last step, so we'll just consider that bonus. \n",
    "\n",
    "Since we had to estimate numbers the whole way, this problem is about demonstrating the process. "
   ]
  },
  {
   "cell_type": "markdown",
   "metadata": {},
   "source": [
    "**Problem 4.** (3 points) What is the practical limitation of using an impulse hammer when trying to identify the location of the anti-resonances?"
   ]
  },
  {
   "cell_type": "markdown",
   "metadata": {},
   "source": [
    "Zeros depend on the location of the excitation, and with a hammer, it's very hard to keep it constant. "
   ]
  },
  {
   "cell_type": "markdown",
   "metadata": {},
   "source": [
    "**Problem 5.** (3 points) A system with natural frequencies of $\\omega_{1} = 3$ and $\\omega_{2}=10$ and mode shapes \n",
    "\n",
    "$$\\Psi = \\begin{bmatrix}\n",
    "1&3\\\\\n",
    "-3&7\n",
    "\\end{bmatrix}\n",
    "$$\n",
    "is released from rest (zero velocity) with the initial displacement\n",
    "\n",
    "$$\n",
    "\\mathbf{x}(0) = \\begin{bmatrix}3\\\\7\\end{bmatrix}$$\n",
    "Write $\\mathbf{x}(t)$. "
   ]
  },
  {
   "cell_type": "markdown",
   "metadata": {},
   "source": [
    "Since $\\mathbf{x}(t) = \\boldsymbol{\\psi}_1 r_1 + \\boldsymbol{\\psi}_2 r_2$ and $r_i=a\\cos\\omega_i t+ b\\sin \\omega_i t$, by observation \n",
    "\n",
    "$$\\mathbf{x}(t) = \\begin{bmatrix}3\\\\7\\end{bmatrix} \\cos 10 t$$"
   ]
  },
  {
   "cell_type": "markdown",
   "metadata": {},
   "source": [
    "**Problem 6.** (4 points) A single degree of freedom system is defined by the  equation\n",
    "  $$10\\ddot{x}+.01\\dot{x}+1000x=\\sin(\\omega t)$$\n",
    "Find $\\ddot{x}$. "
   ]
  },
  {
   "cell_type": "markdown",
   "metadata": {},
   "source": [
    "Rewriting, we get\n",
    "$$\\ddot{x}+0.001\\dot{x}+100x=\\frac{1}{10}\\sin(\\omega t)$$\n",
    "\n",
    "The complex acceleration magnitude is given by\n",
    "$$\\frac{-\\omega^2}{100-\\omega^2+0.001\\times \\omega\\times j}$$\n",
    "\n",
    "\n",
    "The amplitude is\n",
    "\n",
    "$$A=\\frac{\\omega^2}{\\sqrt{(100-\\omega^2)^2+(0.001\\times \\omega)^2}}$$\n",
    "with a phase of\n",
    "\n",
    "$$\\phi=\\pi +\\arctan\\frac{-0.001\\times \\omega}{100-\\omega^2}$$\n",
    "\n",
    "$$a(t) = A \\sin(t +\\phi)$$\n",
    "We have to be cautious to make sure we end up in the correct quadrant for $\\phi$. The $\\arctan$ must end up in the 3rd or 4th quadrant."
   ]
  },
  {
   "cell_type": "code",
   "execution_count": 16,
   "metadata": {
    "collapsed": false
   },
   "outputs": [
    {
     "data": {
      "application/json": {
       "cell": {
        "!": "OSMagics",
        "HTML": "Other",
        "SVG": "Other",
        "bash": "Other",
        "capture": "ExecutionMagics",
        "debug": "ExecutionMagics",
        "file": "Other",
        "html": "DisplayMagics",
        "javascript": "DisplayMagics",
        "latex": "DisplayMagics",
        "perl": "Other",
        "prun": "ExecutionMagics",
        "pypy": "Other",
        "python": "Other",
        "python2": "Other",
        "python3": "Other",
        "ruby": "Other",
        "script": "ScriptMagics",
        "sh": "Other",
        "svg": "DisplayMagics",
        "sx": "OSMagics",
        "system": "OSMagics",
        "time": "ExecutionMagics",
        "timeit": "ExecutionMagics",
        "writefile": "OSMagics"
       },
       "line": {
        "alias": "OSMagics",
        "alias_magic": "BasicMagics",
        "autocall": "AutoMagics",
        "automagic": "AutoMagics",
        "autosave": "KernelMagics",
        "bookmark": "OSMagics",
        "cat": "Other",
        "cd": "OSMagics",
        "clear": "KernelMagics",
        "colors": "BasicMagics",
        "config": "ConfigMagics",
        "connect_info": "KernelMagics",
        "cp": "Other",
        "debug": "ExecutionMagics",
        "dhist": "OSMagics",
        "dirs": "OSMagics",
        "doctest_mode": "BasicMagics",
        "ed": "Other",
        "edit": "KernelMagics",
        "env": "OSMagics",
        "gui": "BasicMagics",
        "hist": "Other",
        "history": "HistoryMagics",
        "install_default_config": "DeprecatedMagics",
        "install_ext": "ExtensionMagics",
        "install_profiles": "DeprecatedMagics",
        "killbgscripts": "ScriptMagics",
        "ldir": "Other",
        "less": "KernelMagics",
        "lf": "Other",
        "lk": "Other",
        "ll": "Other",
        "load": "CodeMagics",
        "load_ext": "ExtensionMagics",
        "loadpy": "CodeMagics",
        "logoff": "LoggingMagics",
        "logon": "LoggingMagics",
        "logstart": "LoggingMagics",
        "logstate": "LoggingMagics",
        "logstop": "LoggingMagics",
        "ls": "Other",
        "lsmagic": "BasicMagics",
        "lx": "Other",
        "macro": "ExecutionMagics",
        "magic": "BasicMagics",
        "man": "KernelMagics",
        "matplotlib": "PylabMagics",
        "mkdir": "Other",
        "more": "KernelMagics",
        "mv": "Other",
        "notebook": "BasicMagics",
        "page": "BasicMagics",
        "pastebin": "CodeMagics",
        "pdb": "ExecutionMagics",
        "pdef": "NamespaceMagics",
        "pdoc": "NamespaceMagics",
        "pfile": "NamespaceMagics",
        "pinfo": "NamespaceMagics",
        "pinfo2": "NamespaceMagics",
        "popd": "OSMagics",
        "pprint": "BasicMagics",
        "precision": "BasicMagics",
        "profile": "BasicMagics",
        "prun": "ExecutionMagics",
        "psearch": "NamespaceMagics",
        "psource": "NamespaceMagics",
        "pushd": "OSMagics",
        "pwd": "OSMagics",
        "pycat": "OSMagics",
        "pylab": "PylabMagics",
        "qtconsole": "KernelMagics",
        "quickref": "BasicMagics",
        "recall": "HistoryMagics",
        "rehashx": "OSMagics",
        "reload_ext": "ExtensionMagics",
        "rep": "Other",
        "rerun": "HistoryMagics",
        "reset": "NamespaceMagics",
        "reset_selective": "NamespaceMagics",
        "rm": "Other",
        "rmdir": "Other",
        "run": "ExecutionMagics",
        "save": "CodeMagics",
        "sc": "OSMagics",
        "set_env": "OSMagics",
        "store": "StoreMagics",
        "sx": "OSMagics",
        "system": "OSMagics",
        "tb": "ExecutionMagics",
        "time": "ExecutionMagics",
        "timeit": "ExecutionMagics",
        "unalias": "OSMagics",
        "unload_ext": "ExtensionMagics",
        "who": "NamespaceMagics",
        "who_ls": "NamespaceMagics",
        "whos": "NamespaceMagics",
        "xdel": "NamespaceMagics",
        "xmode": "BasicMagics"
       }
      },
      "text/plain": [
       "Available line magics:\n",
       "%alias  %alias_magic  %autocall  %automagic  %autosave  %bookmark  %cat  %cd  %clear  %colors  %config  %connect_info  %cp  %debug  %dhist  %dirs  %doctest_mode  %ed  %edit  %env  %gui  %hist  %history  %install_default_config  %install_ext  %install_profiles  %killbgscripts  %ldir  %less  %lf  %lk  %ll  %load  %load_ext  %loadpy  %logoff  %logon  %logstart  %logstate  %logstop  %ls  %lsmagic  %lx  %macro  %magic  %man  %matplotlib  %mkdir  %more  %mv  %notebook  %page  %pastebin  %pdb  %pdef  %pdoc  %pfile  %pinfo  %pinfo2  %popd  %pprint  %precision  %profile  %prun  %psearch  %psource  %pushd  %pwd  %pycat  %pylab  %qtconsole  %quickref  %recall  %rehashx  %reload_ext  %rep  %rerun  %reset  %reset_selective  %rm  %rmdir  %run  %save  %sc  %set_env  %store  %sx  %system  %tb  %time  %timeit  %unalias  %unload_ext  %who  %who_ls  %whos  %xdel  %xmode\n",
       "\n",
       "Available cell magics:\n",
       "%%!  %%HTML  %%SVG  %%bash  %%capture  %%debug  %%file  %%html  %%javascript  %%latex  %%perl  %%prun  %%pypy  %%python  %%python2  %%python3  %%ruby  %%script  %%sh  %%svg  %%sx  %%system  %%time  %%timeit  %%writefile\n",
       "\n",
       "Automagic is ON, % prefix IS NOT needed for line magics."
      ]
     },
     "execution_count": 16,
     "metadata": {},
     "output_type": "execute_result"
    }
   ],
   "source": [
    "%lsmagic"
   ]
  },
  {
   "cell_type": "code",
   "execution_count": 23,
   "metadata": {
    "collapsed": false
   },
   "outputs": [
    {
     "name": "stderr",
     "output_type": "stream",
     "text": [
      "UsageError: unrecognized arguments: --help"
     ]
    }
   ],
   "source": [
    "%matplotlib --help"
   ]
  },
  {
   "cell_type": "code",
   "execution_count": 24,
   "metadata": {
    "collapsed": true
   },
   "outputs": [],
   "source": [
    "%quickref"
   ]
  },
  {
   "cell_type": "code",
   "execution_count": 25,
   "metadata": {
    "collapsed": true
   },
   "outputs": [],
   "source": [
    "%magic"
   ]
  },
  {
   "cell_type": "code",
   "execution_count": null,
   "metadata": {
    "collapsed": true
   },
   "outputs": [],
   "source": []
  }
 ],
 "metadata": {
  "hide_input": false,
  "kernelspec": {
   "display_name": "Python 3",
   "language": "python",
   "name": "python3"
  },
  "language_info": {
   "codemirror_mode": {
    "name": "ipython",
    "version": 3
   },
   "file_extension": ".py",
   "mimetype": "text/x-python",
   "name": "python",
   "nbconvert_exporter": "python",
   "pygments_lexer": "ipython3",
   "version": "3.5.1"
  },
  "latex_envs": {
   "bibliofile": "biblio.bib",
   "cite_by": "apalike",
   "current_citInitial": 1,
   "eqLabelWithNumbers": true,
   "eqNumInitial": 0
  }
 },
 "nbformat": 4,
 "nbformat_minor": 0
}
