{
 "cells": [
  {
   "cell_type": "code",
   "execution_count": 378,
   "metadata": {
    "collapsed": true
   },
   "outputs": [],
   "source": [
    "import numpy as np\n",
    "import scipy as sp\n",
    "import sympy as sy\n",
    "import warnings\n",
    "\n",
    "%matplotlib inline\n",
    "import matplotlib.pyplot as plt\n",
    "\n",
    "sy.init_printing(use_latex='mathjax')\n",
    "from IPython.display import display, Math, Latex"
   ]
  },
  {
   "cell_type": "markdown",
   "metadata": {},
   "source": [
    "# Admir Makas  \n",
    "### STT-6660 HW #4"
   ]
  },
  {
   "cell_type": "markdown",
   "metadata": {},
   "source": [
    "## Problem 1.22\n",
    "\n",
    "<img src=\"Prob_1_22.png\" width=\"700\">  "
   ]
  },
  {
   "cell_type": "markdown",
   "metadata": {},
   "source": [
    "### **Part a**"
   ]
  },
  {
   "cell_type": "code",
   "execution_count": 224,
   "metadata": {
    "collapsed": false
   },
   "outputs": [],
   "source": [
    "#Define the data\n",
    "\n",
    "Y = sy.Matrix([199, 205, 196, 200, 218, 220, 215, 223, 237, 234, 235, 230, 250, 248, 253, 246]).T\n",
    "X = sy.Matrix([16, 16, 16, 16, 24, 24, 24, 24, 32, 32, 32, 32, 40, 40, 40, 40]).T"
   ]
  },
  {
   "cell_type": "code",
   "execution_count": 225,
   "metadata": {
    "collapsed": false
   },
   "outputs": [
    {
     "data": {
      "text/latex": [
       "$$\\left[\\begin{array}{cccccccccccccccc}16 & 16 & 16 & 16 & 24 & 24 & 24 & 24 & 32 & 32 & 32 & 32 & 40 & 40 & 40 & 40\\end{array}\\right]$$"
      ],
      "text/plain": [
       "[16  16  16  16  24  24  24  24  32  32  32  32  40  40  40  40]"
      ]
     },
     "metadata": {},
     "output_type": "display_data"
    },
    {
     "data": {
      "text/latex": [
       "$$\\left[\\begin{array}{cccccccccccccccc}199 & 205 & 196 & 200 & 218 & 220 & 215 & 223 & 237 & 234 & 235 & 230 & 250 & 248 & 253 & 246\\end{array}\\right]$$"
      ],
      "text/plain": [
       "[199  205  196  200  218  220  215  223  237  234  235  230  250  248  253  24\n",
       "6]"
      ]
     },
     "metadata": {},
     "output_type": "display_data"
    }
   ],
   "source": [
    "display(X)\n",
    "display(Y)"
   ]
  },
  {
   "cell_type": "markdown",
   "metadata": {},
   "source": [
    "**Calculate mean for X**"
   ]
  },
  {
   "cell_type": "code",
   "execution_count": 226,
   "metadata": {
    "collapsed": false
   },
   "outputs": [
    {
     "data": {
      "text/latex": [
       "$$\\bar{X} = $$"
      ],
      "text/plain": [
       "<IPython.core.display.Math object>"
      ]
     },
     "metadata": {},
     "output_type": "display_data"
    },
    {
     "data": {
      "text/latex": [
       "$$28.0$$"
      ],
      "text/plain": [
       "28.000"
      ]
     },
     "metadata": {},
     "output_type": "display_data"
    }
   ],
   "source": [
    "Xbar = np.mean(X).evalf(5)\n",
    "display(Math(r'\\bar{X} = '))\n",
    "display(Xbar)"
   ]
  },
  {
   "cell_type": "markdown",
   "metadata": {},
   "source": [
    "**Calculate mean for Y**"
   ]
  },
  {
   "cell_type": "code",
   "execution_count": 227,
   "metadata": {
    "collapsed": false
   },
   "outputs": [
    {
     "data": {
      "text/latex": [
       "$$\\bar{Y} = $$"
      ],
      "text/plain": [
       "<IPython.core.display.Math object>"
      ]
     },
     "metadata": {},
     "output_type": "display_data"
    },
    {
     "data": {
      "text/latex": [
       "$$225.6$$"
      ],
      "text/plain": [
       "225.6"
      ]
     },
     "metadata": {},
     "output_type": "display_data"
    }
   ],
   "source": [
    "Ybar = np.mean(Y).evalf(4)\n",
    "display(Math(r'\\bar{Y} = '))\n",
    "display(Ybar)"
   ]
  },
  {
   "cell_type": "markdown",
   "metadata": {},
   "source": [
    "**Get $S_{xy}$**"
   ]
  },
  {
   "cell_type": "code",
   "execution_count": 229,
   "metadata": {
    "collapsed": false
   },
   "outputs": [
    {
     "data": {
      "text/latex": [
       "$$S_{xy} = $$"
      ],
      "text/plain": [
       "<IPython.core.display.Math object>"
      ]
     },
     "metadata": {},
     "output_type": "display_data"
    },
    {
     "data": {
      "text/latex": [
       "$$2604.0$$"
      ],
      "text/plain": [
       "2604.00000000000"
      ]
     },
     "metadata": {},
     "output_type": "display_data"
    }
   ],
   "source": [
    "Sxy = np.sum(np.multiply(X,Y)) - (1/16)*(np.sum(X)*np.sum(Y))\n",
    "display(Math(r'S_{xy} = '))\n",
    "display(Sxy)"
   ]
  },
  {
   "cell_type": "markdown",
   "metadata": {},
   "source": [
    "**Get $S_{xx}$**"
   ]
  },
  {
   "cell_type": "code",
   "execution_count": 230,
   "metadata": {
    "collapsed": false
   },
   "outputs": [
    {
     "data": {
      "text/latex": [
       "$$S_{xx} = $$"
      ],
      "text/plain": [
       "<IPython.core.display.Math object>"
      ]
     },
     "metadata": {},
     "output_type": "display_data"
    },
    {
     "data": {
      "text/latex": [
       "$$1280.0$$"
      ],
      "text/plain": [
       "1280.00000000000"
      ]
     },
     "metadata": {},
     "output_type": "display_data"
    }
   ],
   "source": [
    "Sxx = np.sum(np.multiply(X,X)) - (1/16)*(np.sum(X)*np.sum(X))\n",
    "display(Math(r'S_{xx} = '))\n",
    "display(Sxx)"
   ]
  },
  {
   "cell_type": "markdown",
   "metadata": {},
   "source": [
    "**Get $b_1$**"
   ]
  },
  {
   "cell_type": "code",
   "execution_count": 231,
   "metadata": {
    "collapsed": false
   },
   "outputs": [
    {
     "data": {
      "text/latex": [
       "$$b_{1} = $$"
      ],
      "text/plain": [
       "<IPython.core.display.Math object>"
      ]
     },
     "metadata": {},
     "output_type": "display_data"
    },
    {
     "data": {
      "text/latex": [
       "$$2.0344$$"
      ],
      "text/plain": [
       "2.0344"
      ]
     },
     "metadata": {},
     "output_type": "display_data"
    }
   ],
   "source": [
    "b1 = (Sxy/Sxx).evalf(5)\n",
    "display(Math(r'b_{1} = '))\n",
    "display(b1)"
   ]
  },
  {
   "cell_type": "markdown",
   "metadata": {},
   "source": [
    "**Get $b_0$**"
   ]
  },
  {
   "cell_type": "code",
   "execution_count": 232,
   "metadata": {
    "collapsed": false
   },
   "outputs": [
    {
     "data": {
      "text/latex": [
       "$$b_{0} = $$"
      ],
      "text/plain": [
       "<IPython.core.display.Math object>"
      ]
     },
     "metadata": {},
     "output_type": "display_data"
    },
    {
     "data": {
      "text/latex": [
       "$$168.6$$"
      ],
      "text/plain": [
       "168.6"
      ]
     },
     "metadata": {},
     "output_type": "display_data"
    }
   ],
   "source": [
    "b0 = (Ybar - b1*Xbar).evalf(4)\n",
    "display(Math(r'b_{0} = '))\n",
    "display(b0)"
   ]
  },
  {
   "cell_type": "markdown",
   "metadata": {},
   "source": [
    "### **Regression Function is:**  \n",
    "\n",
    "### **$\\hat{Y} = 2.0344X + 168.6$**"
   ]
  },
  {
   "cell_type": "markdown",
   "metadata": {},
   "source": [
    "### **Next plot the data and the corresponding regression model.**  \n",
    "\n",
    "### **From the figure below the regression model fits the data quite well.**"
   ]
  },
  {
   "cell_type": "code",
   "execution_count": 400,
   "metadata": {
    "collapsed": false,
    "scrolled": true
   },
   "outputs": [
    {
     "data": {
      "text/plain": [
       "<matplotlib.figure.Figure at 0x2e00887f0b8>"
      ]
     },
     "metadata": {},
     "output_type": "display_data"
    },
    {
     "data": {
      "image/png": "[encoded data removed]",
      "text/plain": [
       "<matplotlib.figure.Figure at 0x2e00887fe48>"
      ]
     },
     "metadata": {},
     "output_type": "display_data"
    }
   ],
   "source": [
    "X1=np.linspace(0.0,300.0,500)\n",
    "\n",
    "Y1 = 2.0344*X1 + 168.6;\n",
    "\n",
    "fig=plt.figure()\n",
    "plt.figure(figsize=(8, 5))\n",
    "plt.plot(X, Y, \"o\")\n",
    "plt.plot(X1, Y1)\n",
    "\n",
    "#Plot annotations\n",
    "axis_span=[10, 50, 180, 260]\n",
    "plt.axis(axis_span)\n",
    "fig.suptitle('Hardness vs. Time', fontsize=20)\n",
    "plt.xlabel('$Time\\ (Hrs)$', fontsize=20)\n",
    "plt.ylabel('$Hardness$', fontsize=20)\n",
    "plt.grid()"
   ]
  },
  {
   "cell_type": "markdown",
   "metadata": {},
   "source": [
    "### **Part b**"
   ]
  },
  {
   "cell_type": "code",
   "execution_count": 236,
   "metadata": {
    "collapsed": false
   },
   "outputs": [
    {
     "data": {
      "text/latex": [
       "$$\\hat{y_1} = $$"
      ],
      "text/plain": [
       "<IPython.core.display.Math object>"
      ]
     },
     "metadata": {},
     "output_type": "display_data"
    },
    {
     "data": {
      "text/latex": [
       "$$249.976$$"
      ],
      "text/plain": [
       "249.976"
      ]
     },
     "metadata": {},
     "output_type": "display_data"
    }
   ],
   "source": [
    "y_est = (2.0344*40 + 168.6)\n",
    "display(Math(r'\\hat{y_1} = '))\n",
    "display(y_est)"
   ]
  },
  {
   "cell_type": "markdown",
   "metadata": {},
   "source": [
    "### **Part c**"
   ]
  },
  {
   "cell_type": "code",
   "execution_count": 237,
   "metadata": {
    "collapsed": false
   },
   "outputs": [
    {
     "data": {
      "text/latex": [
       "$$\\hat{y_2} = $$"
      ],
      "text/plain": [
       "<IPython.core.display.Math object>"
      ]
     },
     "metadata": {},
     "output_type": "display_data"
    },
    {
     "data": {
      "text/latex": [
       "$$252.0104$$"
      ],
      "text/plain": [
       "252.0104"
      ]
     },
     "metadata": {},
     "output_type": "display_data"
    }
   ],
   "source": [
    "y2_est = (2.0344*41 + 168.6)\n",
    "display(Math(r'\\hat{y_2} = '))\n",
    "display(y2_est)"
   ]
  },
  {
   "cell_type": "markdown",
   "metadata": {},
   "source": [
    "**The difference simply ends up being $b_1$ since predictor was increased by a unit value.**"
   ]
  },
  {
   "cell_type": "code",
   "execution_count": 248,
   "metadata": {
    "collapsed": false
   },
   "outputs": [
    {
     "data": {
      "text/latex": [
       "$$\\hat{y_2} - \\hat{y_1} = $$"
      ],
      "text/plain": [
       "<IPython.core.display.Math object>"
      ]
     },
     "metadata": {},
     "output_type": "display_data"
    },
    {
     "data": {
      "text/latex": [
       "$$2.034400000000005$$"
      ],
      "text/plain": [
       "2.034400000000005"
      ]
     },
     "execution_count": 248,
     "metadata": {},
     "output_type": "execute_result"
    }
   ],
   "source": [
    "diff = (y2_est) - (y_est)\n",
    "display(Math(r'\\hat{y_2} - \\hat{y_1} = '))\n",
    "diff"
   ]
  },
  {
   "cell_type": "markdown",
   "metadata": {},
   "source": [
    "## Problem 2.25\n",
    "\n",
    "<img src=\"Prob_2_25.png\" width=\"800\">  "
   ]
  },
  {
   "cell_type": "markdown",
   "metadata": {},
   "source": [
    "### **Part a**"
   ]
  },
  {
   "cell_type": "code",
   "execution_count": 241,
   "metadata": {
    "collapsed": true
   },
   "outputs": [],
   "source": [
    "#Define the data\n",
    "\n",
    "X = sy.Matrix([1, 0, 2, 0, 3, 1, 0, 1, 2, 0]).T\n",
    "Y = sy.Matrix([16, 9, 17, 12, 22, 13, 8, 15, 19, 11]).T"
   ]
  },
  {
   "cell_type": "code",
   "execution_count": 242,
   "metadata": {
    "collapsed": false
   },
   "outputs": [
    {
     "data": {
      "text/latex": [
       "$$\\left[\\begin{matrix}1 & 0 & 2 & 0 & 3 & 1 & 0 & 1 & 2 & 0\\end{matrix}\\right]$$"
      ],
      "text/plain": [
       "[1  0  2  0  3  1  0  1  2  0]"
      ]
     },
     "metadata": {},
     "output_type": "display_data"
    },
    {
     "data": {
      "text/latex": [
       "$$\\left[\\begin{matrix}16 & 9 & 17 & 12 & 22 & 13 & 8 & 15 & 19 & 11\\end{matrix}\\right]$$"
      ],
      "text/plain": [
       "[16  9  17  12  22  13  8  15  19  11]"
      ]
     },
     "metadata": {},
     "output_type": "display_data"
    }
   ],
   "source": [
    "display(X)\n",
    "display(Y)"
   ]
  },
  {
   "cell_type": "markdown",
   "metadata": {},
   "source": [
    "**Calculate mean for Y**"
   ]
  },
  {
   "cell_type": "code",
   "execution_count": 243,
   "metadata": {
    "collapsed": false
   },
   "outputs": [
    {
     "data": {
      "text/latex": [
       "$$\\bar{Y} = $$"
      ],
      "text/plain": [
       "<IPython.core.display.Math object>"
      ]
     },
     "metadata": {},
     "output_type": "display_data"
    },
    {
     "data": {
      "text/latex": [
       "$$14.2$$"
      ],
      "text/plain": [
       "14.20"
      ]
     },
     "metadata": {},
     "output_type": "display_data"
    }
   ],
   "source": [
    "Ybar = np.mean(Y).evalf(4)\n",
    "display(Math(r'\\bar{Y} = '))\n",
    "display(Ybar)"
   ]
  },
  {
   "cell_type": "markdown",
   "metadata": {},
   "source": [
    "**Calculate SSTO**"
   ]
  },
  {
   "cell_type": "code",
   "execution_count": 244,
   "metadata": {
    "collapsed": false
   },
   "outputs": [
    {
     "data": {
      "text/latex": [
       "$$SSTO = $$"
      ],
      "text/plain": [
       "<IPython.core.display.Math object>"
      ]
     },
     "metadata": {},
     "output_type": "display_data"
    },
    {
     "data": {
      "text/latex": [
       "$$177.6$$"
      ],
      "text/plain": [
       "177.60"
      ]
     },
     "metadata": {},
     "output_type": "display_data"
    }
   ],
   "source": [
    "SSTO = (np.sum(np.power((Y-np.ones((1,10))*Ybar),2))).evalf(5)\n",
    "display(Math(r'SSTO = '))\n",
    "display(SSTO)"
   ]
  },
  {
   "cell_type": "markdown",
   "metadata": {},
   "source": [
    "**Calculate SSE**"
   ]
  },
  {
   "cell_type": "code",
   "execution_count": 180,
   "metadata": {
    "collapsed": false
   },
   "outputs": [],
   "source": [
    "Y_est1 = np.multiply(np.ones((1,10))*4, X)\n",
    "Y_est = np.add(Y_est1, np.ones((1,10))*10.2)"
   ]
  },
  {
   "cell_type": "code",
   "execution_count": 245,
   "metadata": {
    "collapsed": false
   },
   "outputs": [
    {
     "data": {
      "text/latex": [
       "$$SSE = $$"
      ],
      "text/plain": [
       "<IPython.core.display.Math object>"
      ]
     },
     "metadata": {},
     "output_type": "display_data"
    },
    {
     "data": {
      "text/latex": [
       "$$17.6$$"
      ],
      "text/plain": [
       "17.6000000000000"
      ]
     },
     "metadata": {},
     "output_type": "display_data"
    }
   ],
   "source": [
    "SSE = np.sum(np.power((Y-Y_est),2))\n",
    "display(Math(r'SSE = '))\n",
    "display(SSE)"
   ]
  },
  {
   "cell_type": "markdown",
   "metadata": {},
   "source": [
    "**Calculate SSR**"
   ]
  },
  {
   "cell_type": "code",
   "execution_count": 401,
   "metadata": {
    "collapsed": false
   },
   "outputs": [
    {
     "data": {
      "text/latex": [
       "$$SSR = SSTO - SSE$$"
      ],
      "text/plain": [
       "<IPython.core.display.Math object>"
      ]
     },
     "metadata": {},
     "output_type": "display_data"
    },
    {
     "data": {
      "text/latex": [
       "$$160.0$$"
      ],
      "text/plain": [
       "160.000"
      ]
     },
     "metadata": {},
     "output_type": "display_data"
    }
   ],
   "source": [
    "SSR = (SSTO-SSE).evalf(6)\n",
    "display(Math(r'SSR = SSTO - SSE'))\n",
    "display(SSR)"
   ]
  },
  {
   "cell_type": "markdown",
   "metadata": {},
   "source": [
    "**Calculate MSE**"
   ]
  },
  {
   "cell_type": "code",
   "execution_count": 247,
   "metadata": {
    "collapsed": false
   },
   "outputs": [
    {
     "data": {
      "text/latex": [
       "$$MSE = $$"
      ],
      "text/plain": [
       "<IPython.core.display.Math object>"
      ]
     },
     "metadata": {},
     "output_type": "display_data"
    },
    {
     "data": {
      "text/latex": [
       "$$2.2$$"
      ],
      "text/plain": [
       "2.2000"
      ]
     },
     "metadata": {},
     "output_type": "display_data"
    }
   ],
   "source": [
    "MSE = (SSE/8).evalf(5)\n",
    "display(Math(r'MSE = '))\n",
    "display(MSE)"
   ]
  },
  {
   "cell_type": "markdown",
   "metadata": {},
   "source": [
    "### **Below is the ANOVA table**\n",
    "\n",
    "<img src=\"ANOVA_Tbl.png\" width=\"800\"> "
   ]
  },
  {
   "cell_type": "markdown",
   "metadata": {},
   "source": [
    "### **Part b**  \n",
    "\n",
    "**$H_0:\\beta_{1} = 0$**  \n",
    "**$H_a:\\beta_{1} \\ne 0$**"
   ]
  },
  {
   "cell_type": "code",
   "execution_count": 249,
   "metadata": {
    "collapsed": false
   },
   "outputs": [
    {
     "data": {
      "text/latex": [
       "$$F_{obs} = $$"
      ],
      "text/plain": [
       "<IPython.core.display.Math object>"
      ]
     },
     "metadata": {},
     "output_type": "display_data"
    },
    {
     "data": {
      "text/latex": [
       "$$72.7273$$"
      ],
      "text/plain": [
       "72.7273"
      ]
     },
     "execution_count": 249,
     "metadata": {},
     "output_type": "execute_result"
    }
   ],
   "source": [
    "Fobs = SSR/MSE\n",
    "display(Math(r'F_{obs} = '))\n",
    "Fobs"
   ]
  },
  {
   "cell_type": "markdown",
   "metadata": {},
   "source": [
    "**$F(0.95, 1, 8) = 5.32$**"
   ]
  },
  {
   "cell_type": "markdown",
   "metadata": {},
   "source": [
    "**Since $F_{obs} = 72.7273$ $\\ge$ $F = 5.32$ and is therefore in the rejection region we conclude that $H_0$ cannot be accepted**"
   ]
  },
  {
   "cell_type": "markdown",
   "metadata": {},
   "source": [
    "### **Part c**  "
   ]
  },
  {
   "cell_type": "markdown",
   "metadata": {},
   "source": [
    "**Get $S_{xy}$**"
   ]
  },
  {
   "cell_type": "code",
   "execution_count": 250,
   "metadata": {
    "collapsed": false
   },
   "outputs": [
    {
     "data": {
      "text/latex": [
       "$$S_{xy} = $$"
      ],
      "text/plain": [
       "<IPython.core.display.Math object>"
      ]
     },
     "metadata": {},
     "output_type": "display_data"
    },
    {
     "data": {
      "text/latex": [
       "$$40.0$$"
      ],
      "text/plain": [
       "40.0000000000000"
      ]
     },
     "metadata": {},
     "output_type": "display_data"
    }
   ],
   "source": [
    "Sxy = np.sum(np.multiply(X,Y)) - (1/10)*(np.sum(X)*np.sum(Y))\n",
    "display(Math(r'S_{xy} = '))\n",
    "display(Sxy)"
   ]
  },
  {
   "cell_type": "markdown",
   "metadata": {},
   "source": [
    "**Get $S_{xx}$**"
   ]
  },
  {
   "cell_type": "code",
   "execution_count": 251,
   "metadata": {
    "collapsed": false
   },
   "outputs": [
    {
     "data": {
      "text/latex": [
       "$$S_{xx} = $$"
      ],
      "text/plain": [
       "<IPython.core.display.Math object>"
      ]
     },
     "metadata": {},
     "output_type": "display_data"
    },
    {
     "data": {
      "text/latex": [
       "$$10.0$$"
      ],
      "text/plain": [
       "10.0000000000000"
      ]
     },
     "metadata": {},
     "output_type": "display_data"
    }
   ],
   "source": [
    "Sxx = np.sum(np.multiply(X,X)) - (1/10)*(np.sum(X)*np.sum(X))\n",
    "display(Math(r'S_{xx} = '))\n",
    "display(Sxx)"
   ]
  },
  {
   "cell_type": "markdown",
   "metadata": {},
   "source": [
    "**Get $b_{1}$**"
   ]
  },
  {
   "cell_type": "code",
   "execution_count": 252,
   "metadata": {
    "collapsed": false
   },
   "outputs": [
    {
     "data": {
      "text/latex": [
       "$$b_{1} = $$"
      ],
      "text/plain": [
       "<IPython.core.display.Math object>"
      ]
     },
     "metadata": {},
     "output_type": "display_data"
    },
    {
     "data": {
      "text/latex": [
       "$$4.0$$"
      ],
      "text/plain": [
       "4.00000000000000"
      ]
     },
     "execution_count": 252,
     "metadata": {},
     "output_type": "execute_result"
    }
   ],
   "source": [
    "b1 = Sxy/Sxx\n",
    "display(Math(r'b_{1} = '))\n",
    "b1"
   ]
  },
  {
   "cell_type": "markdown",
   "metadata": {},
   "source": [
    "**Get $S_{yy}$**"
   ]
  },
  {
   "cell_type": "code",
   "execution_count": 253,
   "metadata": {
    "collapsed": false
   },
   "outputs": [
    {
     "data": {
      "text/latex": [
       "$$S_{yy} = $$"
      ],
      "text/plain": [
       "<IPython.core.display.Math object>"
      ]
     },
     "metadata": {},
     "output_type": "display_data"
    },
    {
     "data": {
      "text/latex": [
       "$$177.6$$"
      ],
      "text/plain": [
       "177.600000000000"
      ]
     },
     "metadata": {},
     "output_type": "display_data"
    }
   ],
   "source": [
    "Syy = np.sum(np.multiply(Y,Y)) - (1/10)*(np.sum(Y)*np.sum(Y))\n",
    "display(Math(r'S_{yy} = '))\n",
    "display(Syy)"
   ]
  },
  {
   "cell_type": "markdown",
   "metadata": {},
   "source": [
    "**Get $SSE$**"
   ]
  },
  {
   "cell_type": "code",
   "execution_count": 254,
   "metadata": {
    "collapsed": false
   },
   "outputs": [
    {
     "data": {
      "text/latex": [
       "$$SSE = $$"
      ],
      "text/plain": [
       "<IPython.core.display.Math object>"
      ]
     },
     "metadata": {},
     "output_type": "display_data"
    },
    {
     "data": {
      "text/latex": [
       "$$17.6$$"
      ],
      "text/plain": [
       "17.60"
      ]
     },
     "execution_count": 254,
     "metadata": {},
     "output_type": "execute_result"
    }
   ],
   "source": [
    "SSE = (Syy).evalf(4) - (b1*Sxy).evalf(4)\n",
    "display(Math(r'SSE = '))\n",
    "SSE"
   ]
  },
  {
   "cell_type": "markdown",
   "metadata": {},
   "source": [
    "**Finally, get $s^2$**"
   ]
  },
  {
   "cell_type": "code",
   "execution_count": 255,
   "metadata": {
    "collapsed": false
   },
   "outputs": [
    {
     "data": {
      "text/latex": [
       "$$s^2 = $$"
      ],
      "text/plain": [
       "<IPython.core.display.Math object>"
      ]
     },
     "metadata": {},
     "output_type": "display_data"
    },
    {
     "data": {
      "text/latex": [
       "$$2.2$$"
      ],
      "text/plain": [
       "2.200"
      ]
     },
     "execution_count": 255,
     "metadata": {},
     "output_type": "execute_result"
    }
   ],
   "source": [
    "s2 = (SSE/8).evalf(4)\n",
    "display(Math(r's^2 = '))\n",
    "s2"
   ]
  },
  {
   "cell_type": "code",
   "execution_count": 256,
   "metadata": {
    "collapsed": false
   },
   "outputs": [
    {
     "data": {
      "text/latex": [
       "$$t_{obs} = $$"
      ],
      "text/plain": [
       "<IPython.core.display.Math object>"
      ]
     },
     "metadata": {},
     "output_type": "display_data"
    },
    {
     "data": {
      "text/latex": [
       "$$8.528$$"
      ],
      "text/plain": [
       "8.528"
      ]
     },
     "execution_count": 256,
     "metadata": {},
     "output_type": "execute_result"
    }
   ],
   "source": [
    "t_obs = (b1/(sy.sqrt(s2)/sy.sqrt(Sxx))).evalf(4)\n",
    "display(Math(r't_{obs} = '))\n",
    "t_obs"
   ]
  },
  {
   "cell_type": "markdown",
   "metadata": {},
   "source": [
    "**$t_{0.95}(8)$ = 2.306**  \n",
    "**$t_{obs}$ = 8.5280**\n",
    "\n",
    "**Since $t_{obs}$ $\\ge$ $t_{0.95}(8)$, the null hyppothesis cannot be accepted. This is the same result obtained by ANOVA.**  \n",
    "\n",
    "**$(t_{obs})^2$ will yield F as seen below, which demostrated the equivalency between the two methods.**"
   ]
  },
  {
   "cell_type": "code",
   "execution_count": 258,
   "metadata": {
    "collapsed": false
   },
   "outputs": [
    {
     "data": {
      "text/latex": [
       "$$(t_{obs})^2 = F_{obs}$$"
      ],
      "text/plain": [
       "<IPython.core.display.Math object>"
      ]
     },
     "metadata": {},
     "output_type": "display_data"
    },
    {
     "data": {
      "text/latex": [
       "$$72.729$$"
      ],
      "text/plain": [
       "72.729"
      ]
     },
     "execution_count": 258,
     "metadata": {},
     "output_type": "execute_result"
    }
   ],
   "source": [
    "display(Math(r'(t_{obs})^2 = F_{obs}'))\n",
    "(t_obs**2).evalf(5)"
   ]
  },
  {
   "cell_type": "markdown",
   "metadata": {},
   "source": [
    "### **Part d**  "
   ]
  },
  {
   "cell_type": "code",
   "execution_count": 259,
   "metadata": {
    "collapsed": false
   },
   "outputs": [
    {
     "data": {
      "text/latex": [
       "$$R^2 = $$"
      ],
      "text/plain": [
       "<IPython.core.display.Math object>"
      ]
     },
     "metadata": {},
     "output_type": "display_data"
    },
    {
     "data": {
      "text/latex": [
       "$$0.900901$$"
      ],
      "text/plain": [
       "0.900901"
      ]
     },
     "execution_count": 259,
     "metadata": {},
     "output_type": "execute_result"
    }
   ],
   "source": [
    "R2 = (Sxy**2/(Sxx*Syy)).evalf(6)\n",
    "display(Math(r'R^2 = '))\n",
    "R2"
   ]
  },
  {
   "cell_type": "code",
   "execution_count": 260,
   "metadata": {
    "collapsed": false
   },
   "outputs": [
    {
     "data": {
      "text/latex": [
       "$$r = $$"
      ],
      "text/plain": [
       "<IPython.core.display.Math object>"
      ]
     },
     "metadata": {},
     "output_type": "display_data"
    },
    {
     "data": {
      "text/latex": [
       "$$0.9492$$"
      ],
      "text/plain": [
       "0.9492"
      ]
     },
     "execution_count": 260,
     "metadata": {},
     "output_type": "execute_result"
    }
   ],
   "source": [
    "r = (Sxy/(sy.sqrt(Sxx*Syy))).evalf(4)\n",
    "display(Math(r'r = '))\n",
    "r"
   ]
  },
  {
   "cell_type": "markdown",
   "metadata": {},
   "source": [
    "### **90.09% of the variation is accounted for by introducing X into the regression model.**"
   ]
  },
  {
   "cell_type": "markdown",
   "metadata": {},
   "source": [
    "## Problem 3.6\n",
    "\n",
    "<img src=\"Prob_3_6_1.png\" width=\"800\">  "
   ]
  },
  {
   "cell_type": "code",
   "execution_count": 264,
   "metadata": {
    "collapsed": true
   },
   "outputs": [],
   "source": [
    "Y = sy.Matrix([199, 205, 196, 200, 218, 220, 215, 223, 237, 234, 235, 230, 250, 248, 253, 246]).T\n",
    "X = sy.Matrix([16, 16, 16, 16, 24, 24, 24, 24, 32, 32, 32, 32, 40, 40, 40, 40]).T"
   ]
  },
  {
   "cell_type": "markdown",
   "metadata": {},
   "source": [
    "**Get predicted values**"
   ]
  },
  {
   "cell_type": "code",
   "execution_count": 318,
   "metadata": {
    "collapsed": false
   },
   "outputs": [],
   "source": [
    "Yhat = 2.0344*X + 168.6*np.ones((1,16))"
   ]
  },
  {
   "cell_type": "markdown",
   "metadata": {},
   "source": [
    "**Get residuals $e_i$**"
   ]
  },
  {
   "cell_type": "code",
   "execution_count": 321,
   "metadata": {
    "collapsed": false
   },
   "outputs": [
    {
     "data": {
      "text/latex": [
       "$$e_i = $$"
      ],
      "text/plain": [
       "<IPython.core.display.Math object>"
      ]
     },
     "metadata": {},
     "output_type": "display_data"
    },
    {
     "data": {
      "text/latex": [
       "$$\\left[\\begin{matrix}-2.1504\\\\3.8496\\\\-5.1504\\\\-1.1504\\\\0.5744\\\\2.5744\\\\-2.4256\\\\5.5744\\\\3.2992\\\\0.2992\\\\1.2992\\\\-3.7008\\\\0.024\\\\-1.976\\\\3.024\\\\-3.976\\end{matrix}\\right]$$"
      ],
      "text/plain": [
       "⎡-2.1504⎤\n",
       "⎢       ⎥\n",
       "⎢3.8496 ⎥\n",
       "⎢       ⎥\n",
       "⎢-5.1504⎥\n",
       "⎢       ⎥\n",
       "⎢-1.1504⎥\n",
       "⎢       ⎥\n",
       "⎢0.5744 ⎥\n",
       "⎢       ⎥\n",
       "⎢2.5744 ⎥\n",
       "⎢       ⎥\n",
       "⎢-2.4256⎥\n",
       "⎢       ⎥\n",
       "⎢5.5744 ⎥\n",
       "⎢       ⎥\n",
       "⎢3.2992 ⎥\n",
       "⎢       ⎥\n",
       "⎢0.2992 ⎥\n",
       "⎢       ⎥\n",
       "⎢1.2992 ⎥\n",
       "⎢       ⎥\n",
       "⎢-3.7008⎥\n",
       "⎢       ⎥\n",
       "⎢ 0.024 ⎥\n",
       "⎢       ⎥\n",
       "⎢-1.976 ⎥\n",
       "⎢       ⎥\n",
       "⎢ 3.024 ⎥\n",
       "⎢       ⎥\n",
       "⎣-3.976 ⎦"
      ]
     },
     "execution_count": 321,
     "metadata": {},
     "output_type": "execute_result"
    }
   ],
   "source": [
    "e = Y-Yhat\n",
    "display(Math(r'e_i = '))\n",
    "e.T.evalf(5)"
   ]
  },
  {
   "cell_type": "markdown",
   "metadata": {},
   "source": [
    "### **Here is the boxplot for the residuals**"
   ]
  },
  {
   "cell_type": "code",
   "execution_count": 367,
   "metadata": {
    "collapsed": false
   },
   "outputs": [],
   "source": [
    "e2=np.array(e[:],dtype=float)"
   ]
  },
  {
   "cell_type": "code",
   "execution_count": 369,
   "metadata": {
    "collapsed": false,
    "scrolled": true
   },
   "outputs": [
    {
     "data": {
      "text/plain": [
       "<matplotlib.text.Text at 0x2e006105f28>"
      ]
     },
     "execution_count": 369,
     "metadata": {},
     "output_type": "execute_result"
    },
    {
     "data": {
      "image/png": "[encoded data removed]",
      "text/plain": [
       "<matplotlib.figure.Figure at 0x2e00b0bd438>"
      ]
     },
     "metadata": {},
     "output_type": "display_data"
    }
   ],
   "source": [
    "plt.figure()\n",
    "plt.boxplot(e2)"
   ]
  },
  {
   "cell_type": "markdown",
   "metadata": {},
   "source": [
    "### **From the boxplot above, it appears that the residuals are normally distributed**"
   ]
  },
  {
   "cell_type": "markdown",
   "metadata": {},
   "source": [
    "## **Below is plot of Residuals vs. $\\hat{Y}$**"
   ]
  },
  {
   "cell_type": "code",
   "execution_count": 391,
   "metadata": {
    "collapsed": false
   },
   "outputs": [
    {
     "data": {
      "text/plain": [
       "<matplotlib.figure.Figure at 0x2e009a3d748>"
      ]
     },
     "metadata": {},
     "output_type": "display_data"
    },
    {
     "data": {
      "image/png": "[encoded data removed]",
      "text/plain": [
       "<matplotlib.figure.Figure at 0x2e009a3df28>"
      ]
     },
     "metadata": {},
     "output_type": "display_data"
    }
   ],
   "source": [
    "fig=plt.figure()\n",
    "\n",
    "plt.figure(figsize=(10, 6))\n",
    "plt.plot(Yhat, e, \"o\")\n",
    "\n",
    "\n",
    "#Plot annotations\n",
    "axis_span=[190, 260, -6.5, 6.5]\n",
    "plt.axis(axis_span)\n",
    "\n",
    "fig.suptitle('Residuals vs. $\\hat{Y}$', fontsize=20)\n",
    "plt.xlabel('$\\hat{Y}$', fontsize=20)\n",
    "plt.ylabel('$Residuals$', fontsize=20)\n",
    "plt.grid()\n"
   ]
  },
  {
   "cell_type": "markdown",
   "metadata": {},
   "source": [
    "### **No un-usual departures from the X-axis are noticable. The assumption of constant variance seems to apply for this data-set.**"
   ]
  }
 ],
 "metadata": {
  "anaconda-cloud": {},
  "kernelspec": {
   "display_name": "Python [Root]",
   "language": "python",
   "name": "Python [Root]"
  },
  "language_info": {
   "codemirror_mode": {
    "name": "ipython",
    "version": 3
   },
   "file_extension": ".py",
   "mimetype": "text/x-python",
   "name": "python",
   "nbconvert_exporter": "python",
   "pygments_lexer": "ipython3",
   "version": "3.5.2"
  }
 },
 "nbformat": 4,
 "nbformat_minor": 0
}
