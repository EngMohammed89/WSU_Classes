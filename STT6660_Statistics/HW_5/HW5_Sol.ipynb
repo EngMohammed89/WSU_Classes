{
 "cells": [
  {
   "cell_type": "markdown",
   "metadata": {
    "nbpresent": {
     "id": "050bde7b-c179-4337-9cea-f2428fe50cdf"
    }
   },
   "source": [
    "# Admir Makas  \n",
    "### STT-6660 HW #5"
   ]
  },
  {
   "cell_type": "code",
   "execution_count": 211,
   "metadata": {
    "collapsed": false,
    "nbpresent": {
     "id": "cbc678a4-0aa9-49db-a1e0-d27cf525595d"
    }
   },
   "outputs": [],
   "source": [
    "import numpy as np\n",
    "import scipy as sp\n",
    "import sympy as sy\n",
    "import warnings\n",
    "\n",
    "%matplotlib inline\n",
    "import matplotlib.pyplot as plt\n",
    "\n",
    "sy.init_printing(use_latex='mathjax')\n",
    "from IPython.display import display, Math, Latex"
   ]
  },
  {
   "cell_type": "markdown",
   "metadata": {
    "nbpresent": {
     "id": "c62f3476-e78b-4b50-8dfe-7abc6fafd77c"
    }
   },
   "source": [
    "## Problem 3.6\n",
    "\n",
    "<img src=\"Prob3_6.jpg\" width=\"550\">  "
   ]
  },
  {
   "cell_type": "markdown",
   "metadata": {
    "nbpresent": {
     "id": "c7f6c08d-797d-4169-a4f0-ca883878b6a6"
    }
   },
   "source": [
    "### **Part a: Get residuals and construct a box plot**"
   ]
  },
  {
   "cell_type": "code",
   "execution_count": 212,
   "metadata": {
    "collapsed": false,
    "nbpresent": {
     "id": "dafb3573-670f-4b83-a7f9-aa0f1b05e893"
    }
   },
   "outputs": [],
   "source": [
    "#Define the data\n",
    "\n",
    "Y = sy.Matrix([199, 205, 196, 200, 218, 220, 215, 223, \\\n",
    "               237, 234, 235, 230, 250, 248, 253, 246]).T\n",
    "X = sy.Matrix([16, 16, 16, 16, 24, 24, 24, 24, 32, 32, \\\n",
    "               32, 32, 40, 40, 40, 40]).T"
   ]
  },
  {
   "cell_type": "markdown",
   "metadata": {},
   "source": [
    "**Get predicted values**"
   ]
  },
  {
   "cell_type": "code",
   "execution_count": 213,
   "metadata": {
    "collapsed": true
   },
   "outputs": [],
   "source": [
    "Yhat = 2.0344*X + 168.6*np.ones((1,16))"
   ]
  },
  {
   "cell_type": "markdown",
   "metadata": {},
   "source": [
    "**Get residuals $e_i$**"
   ]
  },
  {
   "cell_type": "code",
   "execution_count": 306,
   "metadata": {
    "collapsed": false
   },
   "outputs": [
    {
     "data": {
      "text/latex": [
       "$$e_i = $$"
      ],
      "text/plain": [
       "<IPython.core.display.Math object>"
      ]
     },
     "metadata": {},
     "output_type": "display_data"
    },
    {
     "data": {
      "text/latex": [
       "$$\\left[\\begin{matrix}-2.1504\\\\3.8496\\\\-5.1504\\\\-1.1504\\\\0.5744\\\\2.5744\\\\-2.4256\\\\5.5744\\\\3.2992\\\\0.2992\\\\1.2992\\\\-3.7008\\\\0.024\\\\-1.976\\\\3.024\\\\-3.976\\end{matrix}\\right]$$"
      ],
      "text/plain": [
       "⎡-2.1504⎤\n",
       "⎢       ⎥\n",
       "⎢3.8496 ⎥\n",
       "⎢       ⎥\n",
       "⎢-5.1504⎥\n",
       "⎢       ⎥\n",
       "⎢-1.1504⎥\n",
       "⎢       ⎥\n",
       "⎢0.5744 ⎥\n",
       "⎢       ⎥\n",
       "⎢2.5744 ⎥\n",
       "⎢       ⎥\n",
       "⎢-2.4256⎥\n",
       "⎢       ⎥\n",
       "⎢5.5744 ⎥\n",
       "⎢       ⎥\n",
       "⎢3.2992 ⎥\n",
       "⎢       ⎥\n",
       "⎢0.2992 ⎥\n",
       "⎢       ⎥\n",
       "⎢1.2992 ⎥\n",
       "⎢       ⎥\n",
       "⎢-3.7008⎥\n",
       "⎢       ⎥\n",
       "⎢ 0.024 ⎥\n",
       "⎢       ⎥\n",
       "⎢-1.976 ⎥\n",
       "⎢       ⎥\n",
       "⎢ 3.024 ⎥\n",
       "⎢       ⎥\n",
       "⎣-3.976 ⎦"
      ]
     },
     "execution_count": 306,
     "metadata": {},
     "output_type": "execute_result"
    }
   ],
   "source": [
    "e = Y-Yhat\n",
    "display(Math(r'e_i = '))\n",
    "e.T.evalf(5)"
   ]
  },
  {
   "cell_type": "markdown",
   "metadata": {},
   "source": [
    "### **Here is the boxplot for the residuals**"
   ]
  },
  {
   "cell_type": "code",
   "execution_count": 307,
   "metadata": {
    "collapsed": false
   },
   "outputs": [
    {
     "data": {
      "text/plain": [
       "[<matplotlib.text.Text at 0x23b68651eb8>]"
      ]
     },
     "execution_count": 307,
     "metadata": {},
     "output_type": "execute_result"
    },
    {
     "data": {
      "image/png": "[encoded data removed]",
      "text/plain": [
       "<matplotlib.figure.Figure at 0x23b684a12b0>"
      ]
     },
     "metadata": {},
     "output_type": "display_data"
    }
   ],
   "source": [
    "e2=np.array(e[:],dtype=float)\n",
    "fig = plt.figure(1, figsize=(9, 6))\n",
    "ax = fig.add_subplot(111)\n",
    "ax.boxplot(e2)\n",
    "ax.set_xticklabels(['Residuals'], fontsize=20)"
   ]
  },
  {
   "cell_type": "markdown",
   "metadata": {},
   "source": [
    "### **From the boxplot above, it appears that the residuals are normally distributed**"
   ]
  },
  {
   "cell_type": "markdown",
   "metadata": {},
   "source": [
    "### **Part b: plot residuals against fitted values**"
   ]
  },
  {
   "cell_type": "markdown",
   "metadata": {},
   "source": [
    "### **Below is plot of Residuals vs. $\\hat{Y}$**"
   ]
  },
  {
   "cell_type": "code",
   "execution_count": 308,
   "metadata": {
    "collapsed": false
   },
   "outputs": [
    {
     "data": {
      "image/png": "[encoded data removed]",
      "text/plain": [
       "<matplotlib.figure.Figure at 0x23b68661e48>"
      ]
     },
     "metadata": {},
     "output_type": "display_data"
    }
   ],
   "source": [
    "fig=plt.figure(1, figsize=(9, 6))\n",
    "\n",
    "ax = fig.add_subplot(111)\n",
    "ax.plot(Yhat, e, \"o\")\n",
    "\n",
    "#Plot annotations\n",
    "axis_span=[190, 260, -6.5, 6.5]\n",
    "plt.axis(axis_span)\n",
    "\n",
    "fig.suptitle('Residuals vs. $\\hat{Y}$', fontsize=20)\n",
    "plt.xlabel('$\\hat{Y}$', fontsize=20)\n",
    "plt.ylabel('$Residuals$', fontsize=20)\n",
    "plt.grid()"
   ]
  },
  {
   "cell_type": "markdown",
   "metadata": {},
   "source": [
    "### **No unusual departures from the X-axis are noticable. The assumption of constant variance seems to apply for this data-set.**"
   ]
  },
  {
   "cell_type": "markdown",
   "metadata": {},
   "source": [
    "### **Part c: Plot normal plot for the residuals**"
   ]
  },
  {
   "cell_type": "markdown",
   "metadata": {},
   "source": [
    "### **Below is normal plot**"
   ]
  },
  {
   "cell_type": "code",
   "execution_count": 217,
   "metadata": {
    "collapsed": false
   },
   "outputs": [
    {
     "data": {
      "text/plain": [
       "<matplotlib.text.Text at 0x23b6842a588>"
      ]
     },
     "execution_count": 217,
     "metadata": {},
     "output_type": "execute_result"
    },
    {
     "data": {
      "image/png": "[encoded data removed]",
      "text/plain": [
       "<matplotlib.figure.Figure at 0x23b653c85c0>"
      ]
     },
     "metadata": {},
     "output_type": "display_data"
    }
   ],
   "source": [
    "from scipy import stats\n",
    "fig=plt.figure(1, figsize=(9, 6))\n",
    "\n",
    "ax = fig.add_subplot(111)\n",
    "res = stats.probplot(e2, plot=ax)\n",
    "ax.set_title(\"Normal Plot of Residuals\", fontsize=20)"
   ]
  },
  {
   "cell_type": "markdown",
   "metadata": {},
   "source": [
    "**Here is the correlation coefficient**"
   ]
  },
  {
   "cell_type": "code",
   "execution_count": 287,
   "metadata": {
    "collapsed": false
   },
   "outputs": [
    {
     "data": {
      "text/latex": [
       "$$Correlation\\ Coefficient = $$"
      ],
      "text/plain": [
       "<IPython.core.display.Math object>"
      ]
     },
     "metadata": {},
     "output_type": "display_data"
    },
    {
     "data": {
      "text/latex": [
       "$$0.992196616622$$"
      ],
      "text/plain": [
       "0.992196616622"
      ]
     },
     "metadata": {},
     "output_type": "display_data"
    }
   ],
   "source": [
    "ans = sp.stats.pearsonr(res[0][0], res[0][1])\n",
    "display(Math(r'Correlation\\ Coefficient = '))\n",
    "display(ans[0])"
   ]
  },
  {
   "cell_type": "markdown",
   "metadata": {},
   "source": [
    "### **Part e: Use Brown-Forsythe test to determine if error variance varies with $X$**"
   ]
  },
  {
   "cell_type": "code",
   "execution_count": 309,
   "metadata": {
    "collapsed": false
   },
   "outputs": [
    {
     "data": {
      "text/latex": [
       "$$The\\ residuals\\ are\\ divided\\ into\\ two\\ data\\ \n",
       "sets\\ set_1\\ and\\ set_2\\ before\\ the\\ test\\ is\\ performed$$"
      ],
      "text/plain": [
       "<IPython.core.display.Math object>"
      ]
     },
     "metadata": {},
     "output_type": "display_data"
    },
    {
     "data": {
      "text/plain": [
       "array([-2.1504,  3.8496, -5.1504, -1.1504,  0.5744,  2.5744, -2.4256,\n",
       "        5.5744])"
      ]
     },
     "metadata": {},
     "output_type": "display_data"
    },
    {
     "data": {
      "text/plain": [
       "array([ 3.2992,  0.2992,  1.2992, -3.7008,  0.024 , -1.976 ,  3.024 ,\n",
       "       -3.976 ])"
      ]
     },
     "metadata": {},
     "output_type": "display_data"
    }
   ],
   "source": [
    "display(Math(r\"\"\"The\\ residuals\\ are\\ divided\\ into\\ two\\ data\\ \n",
    "sets\\ set_1\\ and\\ set_2\\ before\\ the\\ test\\ is\\ performed\"\"\"))\n",
    "set1 = e2[0:8]\n",
    "display(set1)\n",
    "set2 = e2[8:17]\n",
    "display(set2)"
   ]
  },
  {
   "cell_type": "markdown",
   "metadata": {},
   "source": [
    "**Get the medians for the two data sets**"
   ]
  },
  {
   "cell_type": "code",
   "execution_count": 300,
   "metadata": {
    "collapsed": false
   },
   "outputs": [
    {
     "data": {
      "text/latex": [
       "$$-1.1504$$"
      ],
      "text/plain": [
       "-1.1504"
      ]
     },
     "metadata": {},
     "output_type": "display_data"
    },
    {
     "data": {
      "text/latex": [
       "$$0.2992$$"
      ],
      "text/plain": [
       "0.2992"
      ]
     },
     "metadata": {},
     "output_type": "display_data"
    }
   ],
   "source": [
    "d1Med = np.median(set1)\n",
    "d2Med = np.median(set2)\n",
    "\n",
    "display(d1Mean)\n",
    "display(d2Mean)"
   ]
  },
  {
   "cell_type": "code",
   "execution_count": 314,
   "metadata": {
    "collapsed": false
   },
   "outputs": [
    {
     "data": {
      "text/plain": [
       "array([ 1.    ,  5.    ,  4.    ,  0.    ,  1.7248,  3.7248,  1.2752,\n",
       "        6.7248])"
      ]
     },
     "metadata": {},
     "output_type": "display_data"
    },
    {
     "data": {
      "text/plain": [
       "array([ 3.    ,  0.    ,  1.    ,  4.    ,  0.2752,  2.2752,  2.7248,\n",
       "        4.2752])"
      ]
     },
     "metadata": {},
     "output_type": "display_data"
    }
   ],
   "source": [
    "d1 = abs(np.add(set1, -np.ones(8)*d1Med))\n",
    "d2 = abs(np.add(set2, -np.ones(8)*d2Med))\n",
    "\n",
    "display(d1)\n",
    "display(d2)"
   ]
  },
  {
   "cell_type": "markdown",
   "metadata": {},
   "source": [
    "**Perform the variance test**"
   ]
  },
  {
   "cell_type": "code",
   "execution_count": 317,
   "metadata": {
    "collapsed": false
   },
   "outputs": [
    {
     "data": {
      "text/latex": [
       "$$\\left ( 1.68009650173, \\quad 0.215872449872\\right )$$"
      ],
      "text/plain": [
       "(1.68009650173, 0.215872449872)"
      ]
     },
     "execution_count": 317,
     "metadata": {},
     "output_type": "execute_result"
    }
   ],
   "source": [
    "stats.levene(d1, d2, center='median')"
   ]
  },
  {
   "cell_type": "markdown",
   "metadata": {},
   "source": [
    "**Formal test set-up:**  \n",
    "**$H_0$: $\\sigma^2$ is constant**  \n",
    "**$H_a$: $\\sigma^2$ is not constant**\n",
    "\n",
    "**The above result gives the t statistic and the p-value.**  \n",
    "\n",
    "**$t_{obs}$ = 1.680**\n",
    "\n",
    "**$p-value$ = 0.2158**\n",
    "\n",
    "**Since $p-value$ $\\gt$ $0.05$ we cannot reject the null hypothesis. Therfore, the variance seems to be constant.**"
   ]
  },
  {
   "cell_type": "markdown",
   "metadata": {},
   "source": [
    "## Problem 3.11\n",
    "\n",
    "<img src=\"Prob3_11.jpg\" width=\"600\">  "
   ]
  },
  {
   "cell_type": "code",
   "execution_count": 220,
   "metadata": {
    "collapsed": false
   },
   "outputs": [
    {
     "data": {
      "text/latex": [
       "$$\\left[\\begin{matrix}-1 & 0 & 1 & -1 & 0 & 1 & -1 & 0 & 1\\end{matrix}\\right]$$"
      ],
      "text/plain": [
       "[-1  0  1  -1  0  1  -1  0  1]"
      ]
     },
     "metadata": {},
     "output_type": "display_data"
    },
    {
     "data": {
      "text/latex": [
       "$$\\left[\\begin{matrix}0.5 & 2.1 & -3.4 & 0.3 & -1.7 & 4.2 & -0.6 & 2.6 & -4.0\\end{matrix}\\right]$$"
      ],
      "text/plain": [
       "[0.5  2.1  -3.4  0.3  -1.7  4.2  -0.6  2.6  -4.0]"
      ]
     },
     "metadata": {},
     "output_type": "display_data"
    },
    {
     "data": {
      "text/latex": [
       "$$\\left[\\begin{matrix}0.25 & 4.41 & 11.56 & 0.09 & 2.89 & 17.64 & 0.36 & 6.76 & 16.0\\end{matrix}\\right]$$"
      ],
      "text/plain": [
       "[0.25  4.41  11.56  0.09  2.89  17.64  0.36  6.76  16.0]"
      ]
     },
     "metadata": {},
     "output_type": "display_data"
    }
   ],
   "source": [
    "# Define data\n",
    "\n",
    "X2 = sy.Matrix([-1, 0, 1, -1, 0, 1, -1, 0, 1]).T\n",
    "e = sy.Matrix([0.5, 2.1, -3.4, 0.3, -1.7, 4.2, -0.6, 2.6, -4.0]).T\n",
    "E_sq = e.multiply_elementwise(e)\n",
    "# Square the residuals\n",
    "e_sq = np.array(np.power(e[:],2),dtype=float)\n",
    "x2 = np.array(X2[:],dtype=float)\n",
    "\n",
    "display(X2)\n",
    "display(e)\n",
    "display(E_sq)"
   ]
  },
  {
   "cell_type": "markdown",
   "metadata": {},
   "source": [
    "### **Part a: Plot residuals vs. X**"
   ]
  },
  {
   "cell_type": "code",
   "execution_count": 221,
   "metadata": {
    "collapsed": false
   },
   "outputs": [
    {
     "data": {
      "image/png": "[encoded data removed]",
      "text/plain": [
       "<matplotlib.figure.Figure at 0x23b68c53ba8>"
      ]
     },
     "metadata": {},
     "output_type": "display_data"
    }
   ],
   "source": [
    "fig=plt.figure(1, figsize=(9, 6))\n",
    "\n",
    "ax = fig.add_subplot(111)\n",
    "ax.plot(X2, e_311, \"o\")\n",
    "\n",
    "#Plot annotations\n",
    "axis_span=[-1.5, 1.5, -5, 5]\n",
    "plt.axis(axis_span)\n",
    "\n",
    "fig.suptitle('Residuals vs. $X$', fontsize=20)\n",
    "plt.xlabel('$X$', fontsize=20)\n",
    "plt.ylabel('$Residuals$', fontsize=20)\n",
    "plt.grid()"
   ]
  },
  {
   "cell_type": "markdown",
   "metadata": {},
   "source": [
    "**Based on the residual plot above, the variance is not constant.**"
   ]
  },
  {
   "cell_type": "code",
   "execution_count": 222,
   "metadata": {
    "collapsed": false
   },
   "outputs": [
    {
     "data": {
      "text/latex": [
       "$$\\bar{X} = $$"
      ],
      "text/plain": [
       "<IPython.core.display.Math object>"
      ]
     },
     "metadata": {},
     "output_type": "display_data"
    },
    {
     "data": {
      "text/latex": [
       "$$0$$"
      ],
      "text/plain": [
       "0"
      ]
     },
     "metadata": {},
     "output_type": "display_data"
    }
   ],
   "source": [
    "Xbar = np.mean(X2).evalf(5)\n",
    "display(Math(r'\\bar{X} = '))\n",
    "display(Xbar)"
   ]
  },
  {
   "cell_type": "code",
   "execution_count": 223,
   "metadata": {
    "collapsed": false
   },
   "outputs": [
    {
     "data": {
      "text/latex": [
       "$$\\bar{e^2} = $$"
      ],
      "text/plain": [
       "<IPython.core.display.Math object>"
      ]
     },
     "metadata": {},
     "output_type": "display_data"
    },
    {
     "data": {
      "text/latex": [
       "$$6.66$$"
      ],
      "text/plain": [
       "6.66"
      ]
     },
     "metadata": {},
     "output_type": "display_data"
    }
   ],
   "source": [
    "e_bar = np.mean(E_sq).evalf(3)\n",
    "display(Math(r'\\bar{e^2} = '))\n",
    "display(e_bar)"
   ]
  },
  {
   "cell_type": "code",
   "execution_count": 224,
   "metadata": {
    "collapsed": false
   },
   "outputs": [
    {
     "data": {
      "text/latex": [
       "$$S_{xy} = $$"
      ],
      "text/plain": [
       "<IPython.core.display.Math object>"
      ]
     },
     "metadata": {},
     "output_type": "display_data"
    },
    {
     "data": {
      "text/latex": [
       "$$44.5$$"
      ],
      "text/plain": [
       "44.5000000000000"
      ]
     },
     "metadata": {},
     "output_type": "display_data"
    }
   ],
   "source": [
    "Sxy = np.sum(np.multiply(X2,E_sq)) - (1/9)*(np.sum(X2)*np.sum(E_sq))\n",
    "display(Math(r'S_{xy} = '))\n",
    "display(Sxy)"
   ]
  },
  {
   "cell_type": "code",
   "execution_count": 225,
   "metadata": {
    "collapsed": false
   },
   "outputs": [
    {
     "data": {
      "text/latex": [
       "$$S_{xx} = $$"
      ],
      "text/plain": [
       "<IPython.core.display.Math object>"
      ]
     },
     "metadata": {},
     "output_type": "display_data"
    },
    {
     "data": {
      "text/latex": [
       "$$6$$"
      ],
      "text/plain": [
       "6"
      ]
     },
     "metadata": {},
     "output_type": "display_data"
    }
   ],
   "source": [
    "Sxx = np.sum(np.multiply(X2,X2)) - (1/9)*(np.sum(X2)*np.sum(X2))\n",
    "display(Math(r'S_{xx} = '))\n",
    "display(Sxx)"
   ]
  },
  {
   "cell_type": "code",
   "execution_count": 226,
   "metadata": {
    "collapsed": false
   },
   "outputs": [
    {
     "data": {
      "text/latex": [
       "$$b_{1} = $$"
      ],
      "text/plain": [
       "<IPython.core.display.Math object>"
      ]
     },
     "metadata": {},
     "output_type": "display_data"
    },
    {
     "data": {
      "text/latex": [
       "$$7.4167$$"
      ],
      "text/plain": [
       "7.4167"
      ]
     },
     "metadata": {},
     "output_type": "display_data"
    }
   ],
   "source": [
    "b1 = (Sxy/Sxx).evalf(5)\n",
    "display(Math(r'b_{1} = '))\n",
    "display(b1)"
   ]
  },
  {
   "cell_type": "code",
   "execution_count": 227,
   "metadata": {
    "collapsed": false
   },
   "outputs": [
    {
     "data": {
      "text/latex": [
       "$$b_{0} = $$"
      ],
      "text/plain": [
       "<IPython.core.display.Math object>"
      ]
     },
     "metadata": {},
     "output_type": "display_data"
    },
    {
     "data": {
      "text/latex": [
       "$$6.662$$"
      ],
      "text/plain": [
       "6.662"
      ]
     },
     "metadata": {},
     "output_type": "display_data"
    }
   ],
   "source": [
    "b0 = (e_bar - b1*Xbar).evalf(4)\n",
    "display(Math(r'b_{0} = '))\n",
    "display(b0)"
   ]
  },
  {
   "cell_type": "markdown",
   "metadata": {},
   "source": [
    "### **Regression Function is:**  \n",
    "\n",
    "### **$\\hat{Y} = 7.4167X + 6.662$**"
   ]
  },
  {
   "cell_type": "markdown",
   "metadata": {},
   "source": [
    "### **Next plot the data and the corresponding regression model.**  \n",
    "\n",
    "### **From the figure below the regression model fits the data reasonably well.**"
   ]
  },
  {
   "cell_type": "code",
   "execution_count": 228,
   "metadata": {
    "collapsed": false
   },
   "outputs": [
    {
     "data": {
      "image/png": "[encoded data removed]",
      "text/plain": [
       "<matplotlib.figure.Figure at 0x23b68777278>"
      ]
     },
     "metadata": {},
     "output_type": "display_data"
    }
   ],
   "source": [
    "Xd=np.linspace(-2.0,2.0,200)\n",
    "\n",
    "Y1 = 7.4167*Xd + 6.662;\n",
    "\n",
    "fig=plt.figure(1, figsize=(9, 6))\n",
    "\n",
    "ax = fig.add_subplot(111)\n",
    "ax.plot(X2, E_sq, \"o\")\n",
    "ax.plot(Xd, Y1)\n",
    "\n",
    "#Plot annotations\n",
    "axis_span=[-1.5, 1.5, -0.5, 20]\n",
    "plt.axis(axis_span)\n",
    "\n",
    "fig.suptitle('$Residuals^2$ vs. $X$', fontsize=20)\n",
    "plt.xlabel('$X$', fontsize=20)\n",
    "plt.ylabel('$Residuals^2$', fontsize=20)\n",
    "plt.grid()"
   ]
  },
  {
   "cell_type": "code",
   "execution_count": 229,
   "metadata": {
    "collapsed": false
   },
   "outputs": [
    {
     "data": {
      "text/latex": [
       "$$SSTO = $$"
      ],
      "text/plain": [
       "<IPython.core.display.Math object>"
      ]
     },
     "metadata": {},
     "output_type": "display_data"
    },
    {
     "data": {
      "text/latex": [
       "$$375.0$$"
      ],
      "text/plain": [
       "375.0"
      ]
     },
     "metadata": {},
     "output_type": "display_data"
    }
   ],
   "source": [
    "SSTO = (np.sum(np.power((E_sq-np.ones((1,9))*e_bar),2))).evalf(4)\n",
    "display(Math(r'SSTO = '))\n",
    "display(SSTO)"
   ]
  },
  {
   "cell_type": "code",
   "execution_count": 230,
   "metadata": {
    "collapsed": true
   },
   "outputs": [],
   "source": [
    "e_est1 = np.multiply(np.ones((1,9))*7.4167, X2)\n",
    "e_est = np.add(e_est1, np.ones((1,9))*6.662)"
   ]
  },
  {
   "cell_type": "code",
   "execution_count": 231,
   "metadata": {
    "collapsed": false
   },
   "outputs": [
    {
     "data": {
      "text/latex": [
       "$$SSE1 = $$"
      ],
      "text/plain": [
       "<IPython.core.display.Math object>"
      ]
     },
     "metadata": {},
     "output_type": "display_data"
    },
    {
     "data": {
      "text/latex": [
       "$$44.99268934$$"
      ],
      "text/plain": [
       "44.9926893400000"
      ]
     },
     "metadata": {},
     "output_type": "display_data"
    }
   ],
   "source": [
    "SSE1 = np.sum(np.power((E_sq-e_est),2))\n",
    "display(Math(r'SSE1 = '))\n",
    "display(SSE1)"
   ]
  },
  {
   "cell_type": "code",
   "execution_count": 232,
   "metadata": {
    "collapsed": false
   },
   "outputs": [
    {
     "data": {
      "text/latex": [
       "$$SSR = SSTO - SSE$$"
      ],
      "text/plain": [
       "<IPython.core.display.Math object>"
      ]
     },
     "metadata": {},
     "output_type": "display_data"
    },
    {
     "data": {
      "text/latex": [
       "$$330.042$$"
      ],
      "text/plain": [
       "330.042"
      ]
     },
     "metadata": {},
     "output_type": "display_data"
    }
   ],
   "source": [
    "SSR = (SSTO-SSE1).evalf(6)\n",
    "display(Math(r'SSR = SSTO - SSE'))\n",
    "display(SSR)"
   ]
  },
  {
   "cell_type": "code",
   "execution_count": 233,
   "metadata": {
    "collapsed": false
   },
   "outputs": [
    {
     "data": {
      "text/latex": [
       "$$SSE = $$"
      ],
      "text/plain": [
       "<IPython.core.display.Math object>"
      ]
     },
     "metadata": {},
     "output_type": "display_data"
    },
    {
     "data": {
      "text/latex": [
       "$$59.96$$"
      ],
      "text/plain": [
       "59.9600000000000"
      ]
     },
     "metadata": {},
     "output_type": "display_data"
    }
   ],
   "source": [
    "SSE = np.sum(E_sq)\n",
    "display(Math(r'SSE = '))\n",
    "display(SSE)"
   ]
  },
  {
   "cell_type": "markdown",
   "metadata": {},
   "source": [
    "Chi2Obs = ((SSR/2)/(SSE/9)**2).evalf(4)\n",
    "display(Math(r'\\chi^{2}_{BP} = '))\n",
    "display(Chi2Obs)"
   ]
  },
  {
   "cell_type": "code",
   "execution_count": 234,
   "metadata": {
    "collapsed": false
   },
   "outputs": [
    {
     "data": {
      "text/latex": [
       "$$\\chi^{2}_{(0.95, 1)} = $$"
      ],
      "text/plain": [
       "<IPython.core.display.Math object>"
      ]
     },
     "metadata": {},
     "output_type": "display_data"
    },
    {
     "data": {
      "text/latex": [
       "$$3.84145882069$$"
      ],
      "text/plain": [
       "3.84145882069"
      ]
     },
     "execution_count": 234,
     "metadata": {},
     "output_type": "execute_result"
    }
   ],
   "source": [
    "from scipy.stats import chi2\n",
    "display(Math(r'\\chi^{2}_{(0.95, 1)} = '))\n",
    "chi2.ppf(0.95,1)"
   ]
  },
  {
   "cell_type": "markdown",
   "metadata": {},
   "source": [
    "**Since $\\chi^{2}_{BP}$ $\\lt$ $\\chi^{2}_{(0.95, 1)}$ we fail to reject the null hypothesis. Therefore, based on this test variance is assumned to be equal. Looking at the plot of $e_{i}^{2}$ vs. $X$ there is a clear slope so more samples are needed in order to improve the accuracy of the test**"
   ]
  },
  {
   "cell_type": "markdown",
   "metadata": {},
   "source": [
    "## Problem 3.14\n",
    "\n",
    "<img src=\"Prob3_14.jpg\" width=\"600\">  "
   ]
  },
  {
   "cell_type": "markdown",
   "metadata": {},
   "source": [
    "### **Part a: Perform F test for lack of fit**"
   ]
  },
  {
   "cell_type": "code",
   "execution_count": 235,
   "metadata": {
    "collapsed": true
   },
   "outputs": [],
   "source": [
    "#Define the data\n",
    "\n",
    "Y = sy.Matrix([199, 205, 196, 200, 218, 220, 215, 223, \\\n",
    "               237, 234, 235, 230, 250, 248, 253, 246]).T\n",
    "X = sy.Matrix([16, 16, 16, 16, 24, 24, 24, 24, 32, 32, \\\n",
    "               32, 32, 40, 40, 40, 40]).T"
   ]
  },
  {
   "cell_type": "code",
   "execution_count": 236,
   "metadata": {
    "collapsed": true
   },
   "outputs": [],
   "source": [
    "Yhat = 2.0344*X + 168.6*np.ones((1,16))"
   ]
  },
  {
   "cell_type": "code",
   "execution_count": 237,
   "metadata": {
    "collapsed": false
   },
   "outputs": [
    {
     "data": {
      "text/latex": [
       "$$200$$"
      ],
      "text/plain": [
       "200"
      ]
     },
     "metadata": {},
     "output_type": "display_data"
    },
    {
     "data": {
      "text/latex": [
       "$$219$$"
      ],
      "text/plain": [
       "219"
      ]
     },
     "metadata": {},
     "output_type": "display_data"
    },
    {
     "data": {
      "text/latex": [
       "$$234$$"
      ],
      "text/plain": [
       "234"
      ]
     },
     "metadata": {},
     "output_type": "display_data"
    },
    {
     "data": {
      "text/latex": [
       "$$\\frac{997}{4}$$"
      ],
      "text/plain": [
       "997/4"
      ]
     },
     "metadata": {},
     "output_type": "display_data"
    }
   ],
   "source": [
    "mean1 = np.mean(Y[0:4])\n",
    "mean2 = np.mean(Y[4:8])\n",
    "mean3 = np.mean(Y[8:12])\n",
    "mean4 = np.mean(Y[12:16])\n",
    "\n",
    "display(mean1)\n",
    "display(mean2)\n",
    "display(mean3)\n",
    "display(mean4)"
   ]
  },
  {
   "cell_type": "markdown",
   "metadata": {},
   "source": [
    "**SSPE calculated below**"
   ]
  },
  {
   "cell_type": "code",
   "execution_count": 238,
   "metadata": {
    "collapsed": false
   },
   "outputs": [
    {
     "data": {
      "text/latex": [
       "$$SSPE = $$"
      ],
      "text/plain": [
       "<IPython.core.display.Math object>"
      ]
     },
     "metadata": {},
     "output_type": "display_data"
    },
    {
     "data": {
      "text/latex": [
       "$$128.8$$"
      ],
      "text/plain": [
       "128.8"
      ]
     },
     "execution_count": 238,
     "metadata": {},
     "output_type": "execute_result"
    }
   ],
   "source": [
    "SSPE = np.sum(np.power((np.array(Y[0:4],dtype=float)-np.ones(4)*mean1),2)) + \\\n",
    "np.sum(np.power((np.array(Y[4:8],dtype=float)-np.ones(4)*mean2),2)) + \\\n",
    "np.sum(np.power((np.array(Y[8:12],dtype=float)-np.ones(4)*mean3),2)) + \\\n",
    "np.sum(np.power((np.array(Y[12:16],dtype=float)-np.ones(4)*mean4),2))\n",
    "\n",
    "display(Math(r'SSPE = '))\n",
    "SSPE.evalf(4)"
   ]
  },
  {
   "cell_type": "markdown",
   "metadata": {},
   "source": [
    "### **Now get SSLF from expression SSLF = SSE-SSPE**"
   ]
  },
  {
   "cell_type": "markdown",
   "metadata": {},
   "source": [
    "**Start with obtaining $S_{yy}$ in order to get $SSE = S_{yy} - b_{1}S_{xy}$**  \n",
    "\n",
    "**$b_1$ and $S_{xy}$ are obtained from HW #4:**  \n",
    "\n",
    "- **$b_1$ = 2.0344**\n",
    "- **$S_{xy}$ = 2604.0**"
   ]
  },
  {
   "cell_type": "code",
   "execution_count": 239,
   "metadata": {
    "collapsed": false
   },
   "outputs": [
    {
     "data": {
      "text/latex": [
       "$$S_{yy} = $$"
      ],
      "text/plain": [
       "<IPython.core.display.Math object>"
      ]
     },
     "metadata": {},
     "output_type": "display_data"
    },
    {
     "data": {
      "text/latex": [
       "$$5443.9375$$"
      ],
      "text/plain": [
       "5443.93750000000"
      ]
     },
     "metadata": {},
     "output_type": "display_data"
    }
   ],
   "source": [
    "Syy = np.sum(np.multiply(Y,Y)) - (1/16)*(np.sum(Y)*np.sum(Y))\n",
    "display(Math(r'S_{yy} = '))\n",
    "display(Syy)"
   ]
  },
  {
   "cell_type": "code",
   "execution_count": 240,
   "metadata": {
    "collapsed": false
   },
   "outputs": [
    {
     "data": {
      "text/latex": [
       "$$SSE = $$"
      ],
      "text/plain": [
       "<IPython.core.display.Math object>"
      ]
     },
     "metadata": {},
     "output_type": "display_data"
    },
    {
     "data": {
      "text/latex": [
       "$$146.4$$"
      ],
      "text/plain": [
       "146.4"
      ]
     },
     "metadata": {},
     "output_type": "display_data"
    }
   ],
   "source": [
    "display(Math(r'SSE = '))\n",
    "SSE = Syy - 2.0344*2604.0\n",
    "display(SSE.evalf(4))"
   ]
  },
  {
   "cell_type": "code",
   "execution_count": 241,
   "metadata": {
    "collapsed": false
   },
   "outputs": [
    {
     "data": {
      "text/latex": [
       "$$SSLF = $$"
      ],
      "text/plain": [
       "<IPython.core.display.Math object>"
      ]
     },
     "metadata": {},
     "output_type": "display_data"
    },
    {
     "data": {
      "text/latex": [
       "$$17.61$$"
      ],
      "text/plain": [
       "17.61"
      ]
     },
     "metadata": {},
     "output_type": "display_data"
    }
   ],
   "source": [
    "display(Math(r'SSLF = '))\n",
    "SSLF = SSE-SSPE\n",
    "display(SSLF.evalf(4))"
   ]
  },
  {
   "cell_type": "markdown",
   "metadata": {},
   "source": [
    "**Below is the ANOVA table**"
   ]
  },
  {
   "cell_type": "markdown",
   "metadata": {},
   "source": [
    "<img src=\"ANOVA_tbl.jpg\" width=\"600\">  "
   ]
  },
  {
   "cell_type": "code",
   "execution_count": 242,
   "metadata": {
    "collapsed": false
   },
   "outputs": [
    {
     "data": {
      "text/latex": [
       "$$F_{obs} = $$"
      ],
      "text/plain": [
       "<IPython.core.display.Math object>"
      ]
     },
     "metadata": {},
     "output_type": "display_data"
    },
    {
     "data": {
      "text/latex": [
       "$$0.8208329451225194$$"
      ],
      "text/plain": [
       "0.8208329451225194"
      ]
     },
     "metadata": {},
     "output_type": "display_data"
    }
   ],
   "source": [
    "display(Math(r'F_{obs} = '))\n",
    "Fobs = (8.81/10.733)\n",
    "display(Fobs)"
   ]
  },
  {
   "cell_type": "code",
   "execution_count": 243,
   "metadata": {
    "collapsed": false
   },
   "outputs": [
    {
     "data": {
      "text/latex": [
       "$$Get\\ F(0.99, 2, 12)$$"
      ],
      "text/plain": [
       "<IPython.core.display.Math object>"
      ]
     },
     "metadata": {},
     "output_type": "display_data"
    },
    {
     "data": {
      "text/latex": [
       "$$6.92660814019$$"
      ],
      "text/plain": [
       "6.92660814019"
      ]
     },
     "execution_count": 243,
     "metadata": {},
     "output_type": "execute_result"
    }
   ],
   "source": [
    "display(Math(r'Get\\ F(0.99, 2, 12)'))\n",
    "from scipy.stats import f\n",
    "f.ppf(0.99, 2, 12)"
   ]
  },
  {
   "cell_type": "markdown",
   "metadata": {},
   "source": [
    "**Since $F_{obs} = 0.8208$ $\\lt$ $F = 6.927$ and is therefore not in the rejection region we conclude that $H_0$ cannot be rejected.**"
   ]
  },
  {
   "cell_type": "markdown",
   "metadata": {},
   "source": [
    "### **Part c:**"
   ]
  },
  {
   "cell_type": "markdown",
   "metadata": {},
   "source": [
    "**The F-test only tests if the chosen linear model is fitting the supplied data adequately. It does not provide, on its own, an idication of what model is appropriare should the linear model fail to fit the data.**  \n",
    "\n",
    "**One should plot the given data and the subject residuals in order to determine what fit looks appropriate and proceed accordingly.**"
   ]
  },
  {
   "cell_type": "markdown",
   "metadata": {},
   "source": [
    "## Problem 3.15\n",
    "\n",
    "<img src=\"Prob3_15.jpg\" width=\"600\">  "
   ]
  },
  {
   "cell_type": "markdown",
   "metadata": {},
   "source": [
    "### **Part a: Fit linear model**"
   ]
  },
  {
   "cell_type": "code",
   "execution_count": 244,
   "metadata": {
    "collapsed": false
   },
   "outputs": [
    {
     "data": {
      "text/plain": [
       "array([[ 0.07,  9.  ],\n",
       "       [ 0.09,  9.  ],\n",
       "       [ 0.08,  9.  ],\n",
       "       [ 0.16,  7.  ],\n",
       "       [ 0.17,  7.  ],\n",
       "       [ 0.21,  7.  ],\n",
       "       [ 0.49,  5.  ],\n",
       "       [ 0.58,  5.  ],\n",
       "       [ 0.53,  5.  ],\n",
       "       [ 1.22,  3.  ],\n",
       "       [ 1.15,  3.  ],\n",
       "       [ 1.07,  3.  ],\n",
       "       [ 2.84,  1.  ],\n",
       "       [ 2.57,  1.  ],\n",
       "       [ 3.1 ,  1.  ]])"
      ]
     },
     "execution_count": 244,
     "metadata": {},
     "output_type": "execute_result"
    }
   ],
   "source": [
    "lines = np.loadtxt(\"CH03PR15.txt\")\n",
    "lines"
   ]
  },
  {
   "cell_type": "code",
   "execution_count": 245,
   "metadata": {
    "collapsed": false
   },
   "outputs": [
    {
     "data": {
      "text/latex": [
       "$$\\bar{X} = $$"
      ],
      "text/plain": [
       "<IPython.core.display.Math object>"
      ]
     },
     "metadata": {},
     "output_type": "display_data"
    },
    {
     "data": {
      "text/latex": [
       "$$5.0$$"
      ],
      "text/plain": [
       "5.0"
      ]
     },
     "metadata": {},
     "output_type": "display_data"
    }
   ],
   "source": [
    "Xbar = np.mean(lines[:,1])\n",
    "display(Math(r'\\bar{X} = '))\n",
    "display(Xbar)"
   ]
  },
  {
   "cell_type": "code",
   "execution_count": 246,
   "metadata": {
    "collapsed": false
   },
   "outputs": [
    {
     "data": {
      "text/latex": [
       "$$\\bar{Y} = $$"
      ],
      "text/plain": [
       "<IPython.core.display.Math object>"
      ]
     },
     "metadata": {},
     "output_type": "display_data"
    },
    {
     "data": {
      "text/latex": [
       "$$0.955333333333$$"
      ],
      "text/plain": [
       "0.955333333333"
      ]
     },
     "metadata": {},
     "output_type": "display_data"
    }
   ],
   "source": [
    "Ybar = np.mean(lines[:,0])\n",
    "display(Math(r'\\bar{Y} = '))\n",
    "display(Ybar)"
   ]
  },
  {
   "cell_type": "code",
   "execution_count": 247,
   "metadata": {
    "collapsed": false
   },
   "outputs": [
    {
     "data": {
      "text/latex": [
       "$$S_{xy} = $$"
      ],
      "text/plain": [
       "<IPython.core.display.Math object>"
      ]
     },
     "metadata": {},
     "output_type": "display_data"
    },
    {
     "data": {
      "text/latex": [
       "$$-38.88$$"
      ],
      "text/plain": [
       "-38.88"
      ]
     },
     "metadata": {},
     "output_type": "display_data"
    }
   ],
   "source": [
    "Sxy = np.sum(np.multiply(lines[:,1],lines[:,0])) \\\n",
    "    - (1/15)*(np.sum(lines[:,1])*np.sum(lines[:,0]))\n",
    "display(Math(r'S_{xy} = '))\n",
    "display(Sxy)"
   ]
  },
  {
   "cell_type": "code",
   "execution_count": 248,
   "metadata": {
    "collapsed": false
   },
   "outputs": [
    {
     "data": {
      "text/latex": [
       "$$S_{xx} = $$"
      ],
      "text/plain": [
       "<IPython.core.display.Math object>"
      ]
     },
     "metadata": {},
     "output_type": "display_data"
    },
    {
     "data": {
      "text/latex": [
       "$$120.0$$"
      ],
      "text/plain": [
       "120.0"
      ]
     },
     "metadata": {},
     "output_type": "display_data"
    }
   ],
   "source": [
    "Sxx = np.sum(np.multiply(lines[:,1],lines[:,1])) \\\n",
    "    - (1/15)*(np.sum(lines[:,1])*np.sum(lines[:,1]))\n",
    "display(Math(r'S_{xx} = '))\n",
    "display(Sxx)"
   ]
  },
  {
   "cell_type": "code",
   "execution_count": 249,
   "metadata": {
    "collapsed": false
   },
   "outputs": [
    {
     "data": {
      "text/latex": [
       "$$b_{1} = $$"
      ],
      "text/plain": [
       "<IPython.core.display.Math object>"
      ]
     },
     "metadata": {},
     "output_type": "display_data"
    },
    {
     "data": {
      "text/latex": [
       "$$-0.324$$"
      ],
      "text/plain": [
       "-0.324"
      ]
     },
     "metadata": {},
     "output_type": "display_data"
    }
   ],
   "source": [
    "b1 = (Sxy/Sxx)\n",
    "display(Math(r'b_{1} = '))\n",
    "display(b1)"
   ]
  },
  {
   "cell_type": "code",
   "execution_count": 250,
   "metadata": {
    "collapsed": false
   },
   "outputs": [
    {
     "data": {
      "text/latex": [
       "$$b_{0} = $$"
      ],
      "text/plain": [
       "<IPython.core.display.Math object>"
      ]
     },
     "metadata": {},
     "output_type": "display_data"
    },
    {
     "data": {
      "text/latex": [
       "$$2.57533333333$$"
      ],
      "text/plain": [
       "2.57533333333"
      ]
     },
     "metadata": {},
     "output_type": "display_data"
    }
   ],
   "source": [
    "b0 = (Ybar - b1*Xbar)\n",
    "display(Math(r'b_{0} = '))\n",
    "display(b0)"
   ]
  },
  {
   "cell_type": "markdown",
   "metadata": {},
   "source": [
    "### **Regression Function is:**  \n",
    "\n",
    "### **$\\hat{Y} = -0.324X + 2.5753$**"
   ]
  },
  {
   "cell_type": "markdown",
   "metadata": {},
   "source": [
    "### **Next plot the data and the corresponding regression model.**  \n",
    "\n",
    "### **From the figure below the regression model fits the data quite well.**"
   ]
  },
  {
   "cell_type": "code",
   "execution_count": 251,
   "metadata": {
    "collapsed": false
   },
   "outputs": [
    {
     "data": {
      "image/png": "[encoded data removed]",
      "text/plain": [
       "<matplotlib.figure.Figure at 0x23b681adf60>"
      ]
     },
     "metadata": {},
     "output_type": "display_data"
    }
   ],
   "source": [
    "X1=np.linspace(0.0,10.0,200)\n",
    "\n",
    "Y1 = -0.324*X1 + 2.5753;\n",
    "\n",
    "fig=plt.figure(1, figsize=(9, 6))\n",
    "\n",
    "ax = fig.add_subplot(111)\n",
    "ax.plot(lines[:,1], lines[:,0], \"o\")\n",
    "ax.plot(X1, Y1)\n",
    "\n",
    "#Plot annotations\n",
    "axis_span=[0, 10, 0, 4]\n",
    "plt.axis(axis_span)\n",
    "\n",
    "fig.suptitle('Sol Concentration vs. Time', fontsize=20)\n",
    "plt.xlabel('$Time$', fontsize=20)\n",
    "plt.ylabel('$Sol\\ Concentration$', fontsize=20)\n",
    "plt.grid()"
   ]
  },
  {
   "cell_type": "markdown",
   "metadata": {},
   "source": [
    "### **Part b: Perform F-test for lack of fit**"
   ]
  },
  {
   "cell_type": "code",
   "execution_count": 252,
   "metadata": {
    "collapsed": false
   },
   "outputs": [
    {
     "data": {
      "text/latex": [
       "$$0.08$$"
      ],
      "text/plain": [
       "0.08"
      ]
     },
     "metadata": {},
     "output_type": "display_data"
    },
    {
     "data": {
      "text/latex": [
       "$$0.18$$"
      ],
      "text/plain": [
       "0.18"
      ]
     },
     "metadata": {},
     "output_type": "display_data"
    },
    {
     "data": {
      "text/latex": [
       "$$0.533333333333$$"
      ],
      "text/plain": [
       "0.533333333333"
      ]
     },
     "metadata": {},
     "output_type": "display_data"
    },
    {
     "data": {
      "text/latex": [
       "$$1.14666666667$$"
      ],
      "text/plain": [
       "1.14666666667"
      ]
     },
     "metadata": {},
     "output_type": "display_data"
    },
    {
     "data": {
      "text/latex": [
       "$$2.83666666667$$"
      ],
      "text/plain": [
       "2.83666666667"
      ]
     },
     "metadata": {},
     "output_type": "display_data"
    }
   ],
   "source": [
    "mean1 = np.mean(lines[0:3,0])\n",
    "mean2 = np.mean(lines[3:6,0])\n",
    "mean3 = np.mean(lines[6:9,0])\n",
    "mean4 = np.mean(lines[9:12,0])\n",
    "mean5 = np.mean(lines[12:15,0])\n",
    "\n",
    "display(mean1)\n",
    "display(mean2)\n",
    "display(mean3)\n",
    "display(mean4)\n",
    "display(mean5)"
   ]
  },
  {
   "cell_type": "code",
   "execution_count": 253,
   "metadata": {
    "collapsed": false
   },
   "outputs": [
    {
     "data": {
      "text/latex": [
       "$$SSPE = $$"
      ],
      "text/plain": [
       "<IPython.core.display.Math object>"
      ]
     },
     "metadata": {},
     "output_type": "display_data"
    },
    {
     "data": {
      "text/latex": [
       "$$0.1574$$"
      ],
      "text/plain": [
       "0.1574"
      ]
     },
     "execution_count": 253,
     "metadata": {},
     "output_type": "execute_result"
    }
   ],
   "source": [
    "SSPE = np.sum(np.power((lines[0:3,0]-np.ones(3)*mean1),2)) + \\\n",
    "np.sum(np.power((lines[3:6,0]-np.ones(3)*mean2),2)) + \\\n",
    "np.sum(np.power((lines[6:9,0]-np.ones(3)*mean3),2)) + \\\n",
    "np.sum(np.power((lines[9:12,0]-np.ones(3)*mean4),2)) + \\\n",
    "np.sum(np.power((lines[12:15,0]-np.ones(3)*mean5),2))\n",
    "\n",
    "display(Math(r'SSPE = '))\n",
    "SSPE"
   ]
  },
  {
   "cell_type": "markdown",
   "metadata": {},
   "source": [
    "### **Now get SSLF from expression SSLF = SSE-SSPE**"
   ]
  },
  {
   "cell_type": "markdown",
   "metadata": {},
   "source": [
    "**Start with obtaining $S_{yy}$ in order to get $SSE = S_{yy} - b_{1}S_{xy}$**  "
   ]
  },
  {
   "cell_type": "code",
   "execution_count": 254,
   "metadata": {
    "collapsed": false
   },
   "outputs": [
    {
     "data": {
      "text/latex": [
       "$$S_{yy} = $$"
      ],
      "text/plain": [
       "<IPython.core.display.Math object>"
      ]
     },
     "metadata": {},
     "output_type": "display_data"
    },
    {
     "data": {
      "text/latex": [
       "$$15.5217733333$$"
      ],
      "text/plain": [
       "15.5217733333"
      ]
     },
     "metadata": {},
     "output_type": "display_data"
    }
   ],
   "source": [
    "Syy = np.sum(np.multiply(lines[:,0],lines[:,0])) \\\n",
    "    - (1/15)*(np.sum(lines[:,0])*np.sum(lines[:,0]))\n",
    "display(Math(r'S_{yy} = '))\n",
    "display(Syy)"
   ]
  },
  {
   "cell_type": "code",
   "execution_count": 255,
   "metadata": {
    "collapsed": false
   },
   "outputs": [
    {
     "data": {
      "text/latex": [
       "$$SSE = $$"
      ],
      "text/plain": [
       "<IPython.core.display.Math object>"
      ]
     },
     "metadata": {},
     "output_type": "display_data"
    },
    {
     "data": {
      "text/latex": [
       "$$2.92465333333$$"
      ],
      "text/plain": [
       "2.92465333333"
      ]
     },
     "metadata": {},
     "output_type": "display_data"
    }
   ],
   "source": [
    "display(Math(r'SSE = '))\n",
    "SSE = Syy - b1*Sxy\n",
    "display(SSE)"
   ]
  },
  {
   "cell_type": "code",
   "execution_count": 256,
   "metadata": {
    "collapsed": false
   },
   "outputs": [
    {
     "data": {
      "text/latex": [
       "$$SSLF = $$"
      ],
      "text/plain": [
       "<IPython.core.display.Math object>"
      ]
     },
     "metadata": {},
     "output_type": "display_data"
    },
    {
     "data": {
      "text/latex": [
       "$$2.76725333333$$"
      ],
      "text/plain": [
       "2.76725333333"
      ]
     },
     "metadata": {},
     "output_type": "display_data"
    }
   ],
   "source": [
    "display(Math(r'SSLF = '))\n",
    "SSLF = SSE-SSPE\n",
    "display(SSLF)"
   ]
  },
  {
   "cell_type": "markdown",
   "metadata": {},
   "source": [
    "**Below is the ANOVA table**"
   ]
  },
  {
   "cell_type": "markdown",
   "metadata": {},
   "source": [
    "<img src=\"ANOVA_tbl2.jpg\" width=\"600\">  "
   ]
  },
  {
   "cell_type": "code",
   "execution_count": 257,
   "metadata": {
    "collapsed": false
   },
   "outputs": [
    {
     "data": {
      "text/latex": [
       "$$F_{obs} = $$"
      ],
      "text/plain": [
       "<IPython.core.display.Math object>"
      ]
     },
     "metadata": {},
     "output_type": "display_data"
    },
    {
     "data": {
      "text/latex": [
       "$$58.595933926302415$$"
      ],
      "text/plain": [
       "58.595933926302415"
      ]
     },
     "metadata": {},
     "output_type": "display_data"
    }
   ],
   "source": [
    "display(Math(r'F_{obs} = '))\n",
    "Fobs = (0.9223/0.01574)\n",
    "display(Fobs)"
   ]
  },
  {
   "cell_type": "code",
   "execution_count": 258,
   "metadata": {
    "collapsed": false
   },
   "outputs": [
    {
     "data": {
      "text/latex": [
       "$$Get\\ F(0.975, 3, 10)$$"
      ],
      "text/plain": [
       "<IPython.core.display.Math object>"
      ]
     },
     "metadata": {},
     "output_type": "display_data"
    },
    {
     "data": {
      "text/latex": [
       "$$4.82562149341$$"
      ],
      "text/plain": [
       "4.82562149341"
      ]
     },
     "execution_count": 258,
     "metadata": {},
     "output_type": "execute_result"
    }
   ],
   "source": [
    "display(Math(r'Get\\ F(0.975, 3, 10)'))\n",
    "from scipy.stats import f\n",
    "f.ppf(0.975, 3, 10)"
   ]
  },
  {
   "cell_type": "markdown",
   "metadata": {},
   "source": [
    "**Since $F_{obs} = 58.60$ $\\lt$ $F = 4.826$ and is therefore in the rejection region we conclude that $H_0$ cannot be accepted.**"
   ]
  },
  {
   "cell_type": "markdown",
   "metadata": {},
   "source": [
    "### **Part c:**"
   ]
  },
  {
   "cell_type": "markdown",
   "metadata": {},
   "source": [
    "**The F-test only tests if the chosen linear model is fitting the supplied data adequately. It does not provide, on its own, an idication of what model is appropriare should the linear model fail to fit the data.**  \n",
    "\n",
    "**One should plot the given data and the subject residuals in order to determine what fit looks appropriate and proceed accordingly. For this case it looks like a second order fit is more appropriate.**"
   ]
  }
 ],
 "metadata": {
  "anaconda-cloud": {},
  "kernelspec": {
   "display_name": "Python [Root]",
   "language": "python",
   "name": "Python [Root]"
  },
  "language_info": {
   "codemirror_mode": {
    "name": "ipython",
    "version": 3
   },
   "file_extension": ".py",
   "mimetype": "text/x-python",
   "name": "python",
   "nbconvert_exporter": "python",
   "pygments_lexer": "ipython3",
   "version": "3.5.2"
  },
  "nbpresent": {
   "slides": {
    "03c2e098-5bf0-4545-8117-0c793d6f6a6d": {
     "id": "03c2e098-5bf0-4545-8117-0c793d6f6a6d",
     "prev": "432bf0aa-9d23-4896-8622-23bd6b37bdf3",
     "regions": {
      "77702281-cfdb-418c-a71c-3593480167b8": {
       "attrs": {
        "height": 0.8,
        "width": 0.8,
        "x": 0.1,
        "y": 0.1
       },
       "content": {
        "cell": "b0a5700a-d80e-462b-b975-4f320eb98f55",
        "part": "whole"
       },
       "id": "77702281-cfdb-418c-a71c-3593480167b8"
      }
     }
    },
    "0a028160-6edb-4de8-ac36-60a8a37a95f1": {
     "id": "0a028160-6edb-4de8-ac36-60a8a37a95f1",
     "prev": "4ec36bf7-7788-4540-a062-61b5d0b9862c",
     "regions": {
      "a7f0b3e2-bd88-46e9-8d26-47f357ab3265": {
       "attrs": {
        "height": 0.8,
        "width": 0.8,
        "x": 0.1,
        "y": 0.1
       },
       "content": {
        "cell": "5a1f151a-567d-4b23-9a57-eff974e4857e",
        "part": "whole"
       },
       "id": "a7f0b3e2-bd88-46e9-8d26-47f357ab3265"
      }
     }
    },
    "0bbaa345-8802-4e53-a1af-d77951075e33": {
     "id": "0bbaa345-8802-4e53-a1af-d77951075e33",
     "prev": "c50e332d-77ef-41d0-9f17-80edc64dfbeb",
     "regions": {
      "13c836a5-e5c5-4208-952b-47692ed64289": {
       "attrs": {
        "height": 0.8,
        "width": 0.8,
        "x": 0.1,
        "y": 0.1
       },
       "content": {
        "cell": "2fd1cb5c-f708-413f-9d3c-852b0fe36e97",
        "part": "whole"
       },
       "id": "13c836a5-e5c5-4208-952b-47692ed64289"
      }
     }
    },
    "0cc88c3e-9ac9-4c7d-902f-191d23068879": {
     "id": "0cc88c3e-9ac9-4c7d-902f-191d23068879",
     "prev": "ad97fc97-cefe-4926-a6a7-2b2f6b445cf6",
     "regions": {
      "b8dcef25-43bd-457a-832e-a6d5010122b1": {
       "attrs": {
        "height": 0.8,
        "width": 0.8,
        "x": 0.1,
        "y": 0.1
       },
       "content": {
        "cell": "3061d1cb-0bb5-43a5-90f7-461e34233c4a",
        "part": "whole"
       },
       "id": "b8dcef25-43bd-457a-832e-a6d5010122b1"
      }
     }
    },
    "17fa5291-88a1-4ed5-a187-cf7a71fba77b": {
     "id": "17fa5291-88a1-4ed5-a187-cf7a71fba77b",
     "prev": "6fb0d6e5-3086-4152-9c83-99e8e94f854b",
     "regions": {
      "0993a03c-571f-42a9-a731-b5c72d8035cd": {
       "attrs": {
        "height": 0.8,
        "width": 0.8,
        "x": 0.1,
        "y": 0.1
       },
       "content": {
        "cell": "3e3e6c4d-4a91-47f9-9a5c-881a668c4879",
        "part": "whole"
       },
       "id": "0993a03c-571f-42a9-a731-b5c72d8035cd"
      }
     }
    },
    "228fa504-a2d7-424b-81b3-5253ba4814ec": {
     "id": "228fa504-a2d7-424b-81b3-5253ba4814ec",
     "prev": "cd61783e-0027-4170-b71d-b6ee4c132b3e",
     "regions": {
      "935c23c0-3038-4225-a0be-86e3b5b4c874": {
       "attrs": {
        "height": 0.8,
        "width": 0.8,
        "x": 0.1,
        "y": 0.1
       },
       "content": {
        "cell": "d536192d-84f1-4c3b-aaac-75957f2c24ab",
        "part": "whole"
       },
       "id": "935c23c0-3038-4225-a0be-86e3b5b4c874"
      }
     }
    },
    "22b87cc9-ffa5-44df-828d-9a4157bc4abe": {
     "id": "22b87cc9-ffa5-44df-828d-9a4157bc4abe",
     "prev": "fe63a635-9282-4942-a34c-473585cce03e",
     "regions": {
      "9c604e8e-56ed-463f-868c-a2f5dbae3346": {
       "attrs": {
        "height": 0.8,
        "width": 0.8,
        "x": 0.1,
        "y": 0.1
       },
       "content": {
        "cell": "6174148f-0484-4b7d-b107-3ce201719df6",
        "part": "whole"
       },
       "id": "9c604e8e-56ed-463f-868c-a2f5dbae3346"
      }
     }
    },
    "25cea93d-ce79-4f7c-a09c-1b7ecc27721f": {
     "id": "25cea93d-ce79-4f7c-a09c-1b7ecc27721f",
     "prev": "9e0c69c5-d777-4a7e-a6da-351b88076208",
     "regions": {
      "41f8ca4e-d3e7-491f-b256-27641ce292ae": {
       "attrs": {
        "height": 0.8,
        "width": 0.8,
        "x": 0.1,
        "y": 0.1
       },
       "content": {
        "cell": "3de8c42d-03f7-4389-b3f7-b52c57a5f192",
        "part": "whole"
       },
       "id": "41f8ca4e-d3e7-491f-b256-27641ce292ae"
      }
     }
    },
    "29f2ea4e-948c-413b-b3d2-56e6eddac5fa": {
     "id": "29f2ea4e-948c-413b-b3d2-56e6eddac5fa",
     "prev": "d12a9f51-7588-44ab-8d30-faf521a16688",
     "regions": {
      "af62c23a-6d62-4016-bec2-cfd6fbcb3e83": {
       "attrs": {
        "height": 0.8,
        "width": 0.8,
        "x": 0.1,
        "y": 0.1
       },
       "content": {
        "cell": "ccea790d-613a-4782-9ca0-41d4b80c32f1",
        "part": "whole"
       },
       "id": "af62c23a-6d62-4016-bec2-cfd6fbcb3e83"
      }
     }
    },
    "38d7e811-7238-46b7-8839-da68864b94b9": {
     "id": "38d7e811-7238-46b7-8839-da68864b94b9",
     "prev": "d9184aa2-9c33-4718-8052-b63359fed588",
     "regions": {
      "2803ce51-8a32-4c98-9df0-f93deba5a406": {
       "attrs": {
        "height": 0.8,
        "width": 0.8,
        "x": 0.1,
        "y": 0.1
       },
       "content": {
        "cell": "c7f6c08d-797d-4169-a4f0-ca883878b6a6",
        "part": "whole"
       },
       "id": "2803ce51-8a32-4c98-9df0-f93deba5a406"
      }
     }
    },
    "39666911-f3fd-4b95-9a8d-eaf5777dab23": {
     "id": "39666911-f3fd-4b95-9a8d-eaf5777dab23",
     "prev": "b372b94e-7fc2-4020-855f-e59a736ad9d1",
     "regions": {
      "208688b6-ba97-4497-baef-a549cf135e7e": {
       "attrs": {
        "height": 0.8,
        "width": 0.8,
        "x": 0.1,
        "y": 0.1
       },
       "content": {
        "cell": "c55338f3-aca4-44fc-a8bd-28add02c1636",
        "part": "whole"
       },
       "id": "208688b6-ba97-4497-baef-a549cf135e7e"
      }
     }
    },
    "414166fe-737b-4376-980b-1aeacbf19c30": {
     "id": "414166fe-737b-4376-980b-1aeacbf19c30",
     "prev": "4c54751b-fee6-4fce-a24b-59f9a1344100",
     "regions": {
      "f77fb898-3e5b-41da-8558-6a8d94db8d52": {
       "attrs": {
        "height": 0.8,
        "width": 0.8,
        "x": 0.1,
        "y": 0.1
       },
       "content": {
        "cell": "9dd87ab6-121f-4d38-9de6-eb251f7a3831",
        "part": "whole"
       },
       "id": "f77fb898-3e5b-41da-8558-6a8d94db8d52"
      }
     }
    },
    "41a7fdaa-67d7-4e56-82ec-c5d861886587": {
     "id": "41a7fdaa-67d7-4e56-82ec-c5d861886587",
     "prev": "9f805134-5b85-4baf-a1bd-fdf44ebee1c4",
     "regions": {
      "f15e13aa-a768-4283-9b4c-ffe6a5d8c742": {
       "attrs": {
        "height": 0.8,
        "width": 0.8,
        "x": 0.1,
        "y": 0.1
       },
       "content": {
        "cell": "62747f59-e75d-4172-9af1-b511ea3e450d",
        "part": "whole"
       },
       "id": "f15e13aa-a768-4283-9b4c-ffe6a5d8c742"
      }
     }
    },
    "42f19047-e72d-4404-922a-c538b7045a21": {
     "id": "42f19047-e72d-4404-922a-c538b7045a21",
     "prev": "54da127a-48ef-4de2-865c-49c405d13473",
     "regions": {
      "505aa92c-d9f6-480d-9795-0fec5cb1b991": {
       "attrs": {
        "height": 0.8,
        "width": 0.8,
        "x": 0.1,
        "y": 0.1
       },
       "content": {
        "cell": "b4e2f07c-b91f-4c8f-b6c5-81025b1bf230",
        "part": "whole"
       },
       "id": "505aa92c-d9f6-480d-9795-0fec5cb1b991"
      }
     }
    },
    "432bf0aa-9d23-4896-8622-23bd6b37bdf3": {
     "id": "432bf0aa-9d23-4896-8622-23bd6b37bdf3",
     "prev": "9ce32f50-41b7-48a4-96ed-59b43d72a02b",
     "regions": {
      "2af59040-9843-478f-b421-229db62152bc": {
       "attrs": {
        "height": 0.8,
        "width": 0.8,
        "x": 0.1,
        "y": 0.1
       },
       "content": {
        "cell": "480dc0ba-c76c-4ca1-bf59-26746b29b9ab",
        "part": "whole"
       },
       "id": "2af59040-9843-478f-b421-229db62152bc"
      }
     }
    },
    "44ffb2c3-43fe-44eb-aa24-2b184a1b0060": {
     "id": "44ffb2c3-43fe-44eb-aa24-2b184a1b0060",
     "prev": "93970176-78a4-42b0-90b9-1809ffdb0074",
     "regions": {
      "5ba0fd8f-7038-4378-ad72-9aefb965587f": {
       "attrs": {
        "height": 0.8,
        "width": 0.8,
        "x": 0.1,
        "y": 0.1
       },
       "content": {
        "cell": "05004bd1-a995-46c6-930c-a98f940b3804",
        "part": "whole"
       },
       "id": "5ba0fd8f-7038-4378-ad72-9aefb965587f"
      }
     }
    },
    "45a4f436-833d-4fe5-bca7-823f27f3e7c4": {
     "id": "45a4f436-833d-4fe5-bca7-823f27f3e7c4",
     "prev": "ab5da3a0-0ae2-47d9-9e65-d231273ba53d",
     "regions": {
      "87486a80-e04e-416d-980d-41cb6e7de444": {
       "attrs": {
        "height": 0.8,
        "width": 0.8,
        "x": 0.1,
        "y": 0.1
       },
       "content": {
        "cell": "51d2a8bf-bb12-4e8d-9a8a-64fede9fafdf",
        "part": "whole"
       },
       "id": "87486a80-e04e-416d-980d-41cb6e7de444"
      }
     }
    },
    "4c178405-cafa-42aa-b892-51140f3c15fa": {
     "id": "4c178405-cafa-42aa-b892-51140f3c15fa",
     "prev": "cb11f325-33b4-4ac9-b385-0782f328d4f9",
     "regions": {
      "3adfdc39-693c-4ffb-b8b1-ae6989c1ec3a": {
       "attrs": {
        "height": 0.8,
        "width": 0.8,
        "x": 0.1,
        "y": 0.1
       },
       "content": {
        "cell": "c7ec1ea0-76f7-49aa-940d-8daf1c66e1b9",
        "part": "whole"
       },
       "id": "3adfdc39-693c-4ffb-b8b1-ae6989c1ec3a"
      }
     }
    },
    "4c54751b-fee6-4fce-a24b-59f9a1344100": {
     "id": "4c54751b-fee6-4fce-a24b-59f9a1344100",
     "prev": "780a546c-2c7b-4b27-bcf7-ec90c77c5df5",
     "regions": {
      "800b608a-871b-4623-8207-8c80e1cbd2eb": {
       "attrs": {
        "height": 0.8,
        "width": 0.8,
        "x": 0.1,
        "y": 0.1
       },
       "content": {
        "cell": "9dd7dcf4-5310-4723-8821-aefc7a250935",
        "part": "whole"
       },
       "id": "800b608a-871b-4623-8207-8c80e1cbd2eb"
      }
     }
    },
    "4ec36bf7-7788-4540-a062-61b5d0b9862c": {
     "id": "4ec36bf7-7788-4540-a062-61b5d0b9862c",
     "prev": "b4b8e20a-9255-435a-842c-3a672beed5cd",
     "regions": {
      "e605080f-d924-4118-ab20-576828a714d0": {
       "attrs": {
        "height": 0.8,
        "width": 0.8,
        "x": 0.1,
        "y": 0.1
       },
       "content": {
        "cell": "264e0279-d26b-4993-9b25-f8ea9f4b96d9",
        "part": "whole"
       },
       "id": "e605080f-d924-4118-ab20-576828a714d0"
      }
     }
    },
    "511100cb-4471-41ae-ab21-65a437b49a26": {
     "id": "511100cb-4471-41ae-ab21-65a437b49a26",
     "prev": "d3ec7d36-9396-482a-8a4d-40365c95851b",
     "regions": {
      "8b68e862-2a93-4d10-9cdf-6520e5902c2d": {
       "attrs": {
        "height": 0.8,
        "width": 0.8,
        "x": 0.1,
        "y": 0.1
       },
       "content": {
        "cell": "1e16891d-e3b2-4a0e-a040-9dffd7fa45fe",
        "part": "whole"
       },
       "id": "8b68e862-2a93-4d10-9cdf-6520e5902c2d"
      }
     }
    },
    "52740496-f827-47b8-a0af-be401736eba6": {
     "id": "52740496-f827-47b8-a0af-be401736eba6",
     "prev": "03c2e098-5bf0-4545-8117-0c793d6f6a6d",
     "regions": {
      "a3e7b43d-5ff4-48cb-aed8-13ae2de47361": {
       "attrs": {
        "height": 0.8,
        "width": 0.8,
        "x": 0.1,
        "y": 0.1
       },
       "content": {
        "cell": "026eb889-fc80-4cf3-a4a3-8ec6a1ab0668",
        "part": "whole"
       },
       "id": "a3e7b43d-5ff4-48cb-aed8-13ae2de47361"
      }
     }
    },
    "534378e9-2d95-41e0-9818-30fca58bf751": {
     "id": "534378e9-2d95-41e0-9818-30fca58bf751",
     "prev": "78859a06-3174-4609-ba0c-d1ed4d9364c0",
     "regions": {
      "0c0f8d8b-c9f8-4ca4-8dd6-6db384a15f6a": {
       "attrs": {
        "height": 0.8,
        "width": 0.8,
        "x": 0.1,
        "y": 0.1
       },
       "content": {
        "cell": "781936ce-42cc-4960-9846-f41be7fdc47d",
        "part": "whole"
       },
       "id": "0c0f8d8b-c9f8-4ca4-8dd6-6db384a15f6a"
      }
     }
    },
    "54da127a-48ef-4de2-865c-49c405d13473": {
     "id": "54da127a-48ef-4de2-865c-49c405d13473",
     "prev": "bcd2a9bd-b570-47d1-9594-677c6c49860b",
     "regions": {
      "c74e14f7-f315-4795-a879-c2b1ef61f404": {
       "attrs": {
        "height": 0.8,
        "width": 0.8,
        "x": 0.1,
        "y": 0.1
       },
       "content": {
        "cell": "42935394-43ca-412b-80b3-2f8dba717192",
        "part": "whole"
       },
       "id": "c74e14f7-f315-4795-a879-c2b1ef61f404"
      }
     }
    },
    "55f598d3-7c5e-4359-a3ee-96ebe521528c": {
     "id": "55f598d3-7c5e-4359-a3ee-96ebe521528c",
     "prev": "d248243c-93d4-4f67-b073-25a60dbbc59f",
     "regions": {
      "f3e97100-ae21-4f51-9f65-20a8e1ad8b25": {
       "attrs": {
        "height": 0.8,
        "width": 0.8,
        "x": 0.1,
        "y": 0.1
       },
       "content": {
        "cell": "37ea234a-4e71-4dfc-9e9f-38764a277c05",
        "part": "whole"
       },
       "id": "f3e97100-ae21-4f51-9f65-20a8e1ad8b25"
      }
     }
    },
    "603cc8ac-77e6-4578-a849-8c3bdf64cfb7": {
     "id": "603cc8ac-77e6-4578-a849-8c3bdf64cfb7",
     "prev": "d9a48808-612f-42b7-96b8-5fa5fd1f1044",
     "regions": {
      "a7101339-2464-4cd8-9453-9347cd93425e": {
       "attrs": {
        "height": 0.8,
        "width": 0.8,
        "x": 0.1,
        "y": 0.1
       },
       "content": {
        "cell": "c35da71c-c75c-4dcb-ba6d-99f81e0eeac2",
        "part": "whole"
       },
       "id": "a7101339-2464-4cd8-9453-9347cd93425e"
      }
     }
    },
    "640f9946-9185-4364-b594-2276e26c7e85": {
     "id": "640f9946-9185-4364-b594-2276e26c7e85",
     "prev": "db456aea-5b61-4b57-906b-312c6fc067c3",
     "regions": {
      "573287aa-19b4-4410-9bf2-8500d23e9d46": {
       "attrs": {
        "height": 0.8,
        "width": 0.8,
        "x": 0.1,
        "y": 0.1
       },
       "content": {
        "cell": "b31b5d84-3bc0-40c3-9f29-16ae6b38bcf8",
        "part": "whole"
       },
       "id": "573287aa-19b4-4410-9bf2-8500d23e9d46"
      }
     }
    },
    "64fb586f-4337-4a1c-90aa-f21a884b4741": {
     "id": "64fb586f-4337-4a1c-90aa-f21a884b4741",
     "prev": "603cc8ac-77e6-4578-a849-8c3bdf64cfb7",
     "regions": {
      "c0c80adc-c3af-43ec-8457-210c3019a4d2": {
       "attrs": {
        "height": 0.8,
        "width": 0.8,
        "x": 0.1,
        "y": 0.1
       },
       "content": {
        "cell": "4de04b3b-8a81-432b-86f9-eba00046ce40",
        "part": "whole"
       },
       "id": "c0c80adc-c3af-43ec-8457-210c3019a4d2"
      }
     }
    },
    "67811eb2-a471-45dd-b078-75d679742b3e": {
     "id": "67811eb2-a471-45dd-b078-75d679742b3e",
     "prev": "17fa5291-88a1-4ed5-a187-cf7a71fba77b",
     "regions": {
      "f2a758d9-0f64-4e53-aca2-a99033cb4292": {
       "attrs": {
        "height": 0.8,
        "width": 0.8,
        "x": 0.1,
        "y": 0.1
       },
       "content": {
        "cell": "1944147e-0cc9-4a6d-9816-b8c9d3769e99",
        "part": "whole"
       },
       "id": "f2a758d9-0f64-4e53-aca2-a99033cb4292"
      }
     }
    },
    "6f2f033f-f84e-4504-a407-3834c7286eb3": {
     "id": "6f2f033f-f84e-4504-a407-3834c7286eb3",
     "prev": "534378e9-2d95-41e0-9818-30fca58bf751",
     "regions": {
      "487d063f-7217-4c4a-95b7-6445b5da070a": {
       "attrs": {
        "height": 0.8,
        "width": 0.8,
        "x": 0.1,
        "y": 0.1
       },
       "content": {
        "cell": "eaafacbc-2ed9-46d8-a4fa-2e005c61381d",
        "part": "whole"
       },
       "id": "487d063f-7217-4c4a-95b7-6445b5da070a"
      }
     }
    },
    "6fb0d6e5-3086-4152-9c83-99e8e94f854b": {
     "id": "6fb0d6e5-3086-4152-9c83-99e8e94f854b",
     "prev": "228fa504-a2d7-424b-81b3-5253ba4814ec",
     "regions": {
      "32c6579b-5829-46f4-b535-10d0e22379f8": {
       "attrs": {
        "height": 0.8,
        "width": 0.8,
        "x": 0.1,
        "y": 0.1
       },
       "content": {
        "cell": "8fc4dacd-06bd-4868-aefa-b0442d69524c",
        "part": "whole"
       },
       "id": "32c6579b-5829-46f4-b535-10d0e22379f8"
      }
     }
    },
    "6fe564a0-ecc6-43de-8579-e49462600006": {
     "id": "6fe564a0-ecc6-43de-8579-e49462600006",
     "prev": "f8240450-abc9-4736-9d76-3170fae2b98a",
     "regions": {
      "810a7253-bd80-462e-b49f-a2e68fb5a5b4": {
       "attrs": {
        "height": 0.8,
        "width": 0.8,
        "x": 0.1,
        "y": 0.1
       },
       "content": {
        "cell": "050bde7b-c179-4337-9cea-f2428fe50cdf",
        "part": "whole"
       },
       "id": "810a7253-bd80-462e-b49f-a2e68fb5a5b4"
      }
     }
    },
    "700b422c-0354-4f03-bf61-009a7d5ee456": {
     "id": "700b422c-0354-4f03-bf61-009a7d5ee456",
     "prev": "511100cb-4471-41ae-ab21-65a437b49a26",
     "regions": {
      "43a30c83-045c-4265-9057-ffadff2f64d5": {
       "attrs": {
        "height": 0.8,
        "width": 0.8,
        "x": 0.1,
        "y": 0.1
       },
       "content": {
        "cell": "3faf4275-213f-4264-9d92-2a82708aa6d9",
        "part": "whole"
       },
       "id": "43a30c83-045c-4265-9057-ffadff2f64d5"
      }
     }
    },
    "73946f48-0025-4a6a-8cf8-08993870606e": {
     "id": "73946f48-0025-4a6a-8cf8-08993870606e",
     "prev": "fcc09d56-b64e-4b43-8008-bc3454186a6c",
     "regions": {
      "31ee8055-c673-4b99-81ea-a9cfed53afc1": {
       "attrs": {
        "height": 0.8,
        "width": 0.8,
        "x": 0.1,
        "y": 0.1
       },
       "content": {
        "cell": "94a29847-e022-4bdb-969e-362cd1077fa7",
        "part": "whole"
       },
       "id": "31ee8055-c673-4b99-81ea-a9cfed53afc1"
      }
     }
    },
    "780a546c-2c7b-4b27-bcf7-ec90c77c5df5": {
     "id": "780a546c-2c7b-4b27-bcf7-ec90c77c5df5",
     "prev": "73946f48-0025-4a6a-8cf8-08993870606e",
     "regions": {
      "4a564b3a-1023-4156-9ca1-25bf9c0b9f36": {
       "attrs": {
        "height": 0.8,
        "width": 0.8,
        "x": 0.1,
        "y": 0.1
       },
       "content": {
        "cell": "bfd7caa5-f8bd-4f02-b9ec-1202b697abcc",
        "part": "whole"
       },
       "id": "4a564b3a-1023-4156-9ca1-25bf9c0b9f36"
      }
     }
    },
    "78859a06-3174-4609-ba0c-d1ed4d9364c0": {
     "id": "78859a06-3174-4609-ba0c-d1ed4d9364c0",
     "prev": "7b81e6df-7319-405f-82fa-e5645b525e82",
     "regions": {
      "018aead4-0178-45af-acbc-bbd762863994": {
       "attrs": {
        "height": 0.8,
        "width": 0.8,
        "x": 0.1,
        "y": 0.1
       },
       "content": {
        "cell": "8e4f6544-e4ad-4d5b-b7a0-08845eaa01b9",
        "part": "whole"
       },
       "id": "018aead4-0178-45af-acbc-bbd762863994"
      }
     }
    },
    "7975dc4f-167a-4e7f-823c-c40035ba7c31": {
     "id": "7975dc4f-167a-4e7f-823c-c40035ba7c31",
     "prev": "f1372340-eaf0-4b96-bd6b-e87efedd65d4",
     "regions": {
      "043db1d7-d726-4b14-b6bb-49312dd405b5": {
       "attrs": {
        "height": 0.8,
        "width": 0.8,
        "x": 0.1,
        "y": 0.1
       },
       "content": {
        "cell": "61d5d55c-e9b1-43f6-b690-17eec91b6304",
        "part": "whole"
       },
       "id": "043db1d7-d726-4b14-b6bb-49312dd405b5"
      }
     }
    },
    "7a7cb975-4e62-44ed-8018-f6de9a01ab2c": {
     "id": "7a7cb975-4e62-44ed-8018-f6de9a01ab2c",
     "prev": "38d7e811-7238-46b7-8839-da68864b94b9",
     "regions": {
      "5b7ac530-8175-4f94-9bfc-52837a4bd3d4": {
       "attrs": {
        "height": 0.8,
        "width": 0.8,
        "x": 0.1,
        "y": 0.1
       },
       "content": {
        "cell": "dafb3573-670f-4b83-a7f9-aa0f1b05e893",
        "part": "whole"
       },
       "id": "5b7ac530-8175-4f94-9bfc-52837a4bd3d4"
      }
     }
    },
    "7b81e6df-7319-405f-82fa-e5645b525e82": {
     "id": "7b81e6df-7319-405f-82fa-e5645b525e82",
     "prev": "859c28ca-7beb-40a6-8f05-8c7fb75b8065",
     "regions": {
      "7fd1665a-44d8-4ec4-9b27-2114621e8b59": {
       "attrs": {
        "height": 0.8,
        "width": 0.8,
        "x": 0.1,
        "y": 0.1
       },
       "content": {
        "cell": "fc732b65-02e4-4f90-92ee-2878f149aa56",
        "part": "whole"
       },
       "id": "7fd1665a-44d8-4ec4-9b27-2114621e8b59"
      }
     }
    },
    "7c65492c-5e96-43b9-860c-8b8ec7ef56d8": {
     "id": "7c65492c-5e96-43b9-860c-8b8ec7ef56d8",
     "prev": "42f19047-e72d-4404-922a-c538b7045a21",
     "regions": {
      "e5e329fc-dcfc-40b2-8f31-007cdedd588c": {
       "attrs": {
        "height": 0.8,
        "width": 0.8,
        "x": 0.1,
        "y": 0.1
       },
       "content": {
        "cell": "15c8fa8e-324a-402b-8a23-70a6c080d946",
        "part": "whole"
       },
       "id": "e5e329fc-dcfc-40b2-8f31-007cdedd588c"
      }
     }
    },
    "859c28ca-7beb-40a6-8f05-8c7fb75b8065": {
     "id": "859c28ca-7beb-40a6-8f05-8c7fb75b8065",
     "prev": "c0f2c291-d618-4245-8e4a-9888b5cf4fa0",
     "regions": {
      "16f7918f-2e2c-4168-9fa1-b63779b4f46a": {
       "attrs": {
        "height": 0.8,
        "width": 0.8,
        "x": 0.1,
        "y": 0.1
       },
       "content": {
        "cell": "9920ec83-453a-4ece-9c46-f5f3b9609c0a",
        "part": "whole"
       },
       "id": "16f7918f-2e2c-4168-9fa1-b63779b4f46a"
      }
     }
    },
    "93970176-78a4-42b0-90b9-1809ffdb0074": {
     "id": "93970176-78a4-42b0-90b9-1809ffdb0074",
     "prev": "640f9946-9185-4364-b594-2276e26c7e85",
     "regions": {
      "a216cf2f-0e77-4507-b6f7-c5efccd244c0": {
       "attrs": {
        "height": 0.8,
        "width": 0.8,
        "x": 0.1,
        "y": 0.1
       },
       "content": {
        "cell": "439cc07c-2d31-4e01-b56c-e71f17b67b7e",
        "part": "whole"
       },
       "id": "a216cf2f-0e77-4507-b6f7-c5efccd244c0"
      }
     }
    },
    "957128c5-b806-4c84-891a-4ccae0713cb9": {
     "id": "957128c5-b806-4c84-891a-4ccae0713cb9",
     "prev": "4c178405-cafa-42aa-b892-51140f3c15fa",
     "regions": {
      "b0e68013-a517-4288-864f-ffaf1199896b": {
       "attrs": {
        "height": 0.8,
        "width": 0.8,
        "x": 0.1,
        "y": 0.1
       },
       "content": {
        "cell": "67269333-12c1-48c3-b117-59478b105b31",
        "part": "whole"
       },
       "id": "b0e68013-a517-4288-864f-ffaf1199896b"
      }
     }
    },
    "9ce32f50-41b7-48a4-96ed-59b43d72a02b": {
     "id": "9ce32f50-41b7-48a4-96ed-59b43d72a02b",
     "prev": "c54ce7c2-ec01-41c9-add3-01396983df83",
     "regions": {
      "deea6a7f-fc6a-488c-9ca0-c973c39f97a2": {
       "attrs": {
        "height": 0.8,
        "width": 0.8,
        "x": 0.1,
        "y": 0.1
       },
       "content": {
        "cell": "3a5d9f45-b222-47d8-b1f4-00e8510a1cd7",
        "part": "whole"
       },
       "id": "deea6a7f-fc6a-488c-9ca0-c973c39f97a2"
      }
     }
    },
    "9e0c69c5-d777-4a7e-a6da-351b88076208": {
     "id": "9e0c69c5-d777-4a7e-a6da-351b88076208",
     "prev": "45a4f436-833d-4fe5-bca7-823f27f3e7c4",
     "regions": {
      "2d25c8de-6632-46fb-8d2f-8b91def22fdf": {
       "attrs": {
        "height": 0.8,
        "width": 0.8,
        "x": 0.1,
        "y": 0.1
       },
       "content": {
        "cell": "6272e6af-f5bd-4faa-8ae8-6b18c171ac57",
        "part": "whole"
       },
       "id": "2d25c8de-6632-46fb-8d2f-8b91def22fdf"
      }
     }
    },
    "9f805134-5b85-4baf-a1bd-fdf44ebee1c4": {
     "id": "9f805134-5b85-4baf-a1bd-fdf44ebee1c4",
     "prev": "a2d799a2-46b6-4b35-8314-4a0580b2c48d",
     "regions": {
      "10e57aaf-cb0d-4e22-8755-986421254793": {
       "attrs": {
        "height": 0.8,
        "width": 0.8,
        "x": 0.1,
        "y": 0.1
       },
       "content": {
        "cell": "a5e2779f-eff0-4772-9846-138a642fde07",
        "part": "whole"
       },
       "id": "10e57aaf-cb0d-4e22-8755-986421254793"
      }
     }
    },
    "a2d799a2-46b6-4b35-8314-4a0580b2c48d": {
     "id": "a2d799a2-46b6-4b35-8314-4a0580b2c48d",
     "prev": "dc9aed92-ec95-4af2-b4cd-d03f759dbfe8",
     "regions": {
      "7529216f-a56d-40a4-b94d-868c167d2376": {
       "attrs": {
        "height": 0.8,
        "width": 0.8,
        "x": 0.1,
        "y": 0.1
       },
       "content": {
        "cell": "d67ee9b7-ae6d-439d-bc69-dbb731bd56fc",
        "part": "whole"
       },
       "id": "7529216f-a56d-40a4-b94d-868c167d2376"
      }
     }
    },
    "a97ac56f-0594-4e0f-806a-3e1851fbdbf5": {
     "id": "a97ac56f-0594-4e0f-806a-3e1851fbdbf5",
     "prev": "957128c5-b806-4c84-891a-4ccae0713cb9",
     "regions": {
      "ea92f804-fd44-4baa-a090-83dd2ce93f4c": {
       "attrs": {
        "height": 0.8,
        "width": 0.8,
        "x": 0.1,
        "y": 0.1
       },
       "content": {
        "cell": "69780faa-8fc6-4c4a-9fcd-eeba43370e8a",
        "part": "whole"
       },
       "id": "ea92f804-fd44-4baa-a090-83dd2ce93f4c"
      }
     }
    },
    "a9c63349-f34b-4ef9-bc89-17aa821f93d7": {
     "id": "a9c63349-f34b-4ef9-bc89-17aa821f93d7",
     "prev": "25cea93d-ce79-4f7c-a09c-1b7ecc27721f",
     "regions": {
      "6bd54e7a-2cf5-4ce8-a940-88f1aa074b97": {
       "attrs": {
        "height": 0.8,
        "width": 0.8,
        "x": 0.1,
        "y": 0.1
       },
       "content": {
        "cell": "19691c23-1c41-40a1-8f72-b025ca3ee747",
        "part": "whole"
       },
       "id": "6bd54e7a-2cf5-4ce8-a940-88f1aa074b97"
      }
     }
    },
    "ab5da3a0-0ae2-47d9-9e65-d231273ba53d": {
     "id": "ab5da3a0-0ae2-47d9-9e65-d231273ba53d",
     "prev": "6f2f033f-f84e-4504-a407-3834c7286eb3",
     "regions": {
      "69fcce51-8ead-40d3-a75a-e94f0b55ff44": {
       "attrs": {
        "height": 0.8,
        "width": 0.8,
        "x": 0.1,
        "y": 0.1
       },
       "content": {
        "cell": "907c308a-e15f-4cbd-8460-87859458e692",
        "part": "whole"
       },
       "id": "69fcce51-8ead-40d3-a75a-e94f0b55ff44"
      }
     }
    },
    "ad97fc97-cefe-4926-a6a7-2b2f6b445cf6": {
     "id": "ad97fc97-cefe-4926-a6a7-2b2f6b445cf6",
     "prev": "64fb586f-4337-4a1c-90aa-f21a884b4741",
     "regions": {
      "82c90912-7113-4d3a-8f46-3870cc659bf4": {
       "attrs": {
        "height": 0.8,
        "width": 0.8,
        "x": 0.1,
        "y": 0.1
       },
       "content": {
        "cell": "19e36a15-df7b-49c8-91c4-a0bef6eed5f9",
        "part": "whole"
       },
       "id": "82c90912-7113-4d3a-8f46-3870cc659bf4"
      }
     }
    },
    "b372b94e-7fc2-4020-855f-e59a736ad9d1": {
     "id": "b372b94e-7fc2-4020-855f-e59a736ad9d1",
     "prev": "41a7fdaa-67d7-4e56-82ec-c5d861886587",
     "regions": {
      "b8e8ad02-ac2a-46b2-a1db-a67ac880190e": {
       "attrs": {
        "height": 0.8,
        "width": 0.8,
        "x": 0.1,
        "y": 0.1
       },
       "content": {
        "cell": "11e24b2b-712b-440f-8a0b-198c2357e0e3",
        "part": "whole"
       },
       "id": "b8e8ad02-ac2a-46b2-a1db-a67ac880190e"
      }
     }
    },
    "b4aa8cce-a6a0-48cc-bb02-47465031619d": {
     "id": "b4aa8cce-a6a0-48cc-bb02-47465031619d",
     "prev": "ba7c2539-09b1-4b69-b57b-1dc95a385fed",
     "regions": {
      "dfdcb974-d30a-44b2-a102-f6298c76d3f2": {
       "attrs": {
        "height": 0.8,
        "width": 0.8,
        "x": 0.1,
        "y": 0.1
       },
       "content": {
        "cell": "b8ceb8ee-654a-4b22-b002-4d07f49b2b5d",
        "part": "whole"
       },
       "id": "dfdcb974-d30a-44b2-a102-f6298c76d3f2"
      }
     }
    },
    "b4b8e20a-9255-435a-842c-3a672beed5cd": {
     "id": "b4b8e20a-9255-435a-842c-3a672beed5cd",
     "prev": "414166fe-737b-4376-980b-1aeacbf19c30",
     "regions": {
      "2f6834e9-98a9-484c-bea2-a3b1ce5b6147": {
       "attrs": {
        "height": 0.8,
        "width": 0.8,
        "x": 0.1,
        "y": 0.1
       },
       "content": {
        "cell": "13c9d610-97bb-40dd-8148-9574fc44d55e",
        "part": "whole"
       },
       "id": "2f6834e9-98a9-484c-bea2-a3b1ce5b6147"
      }
     }
    },
    "ba7c2539-09b1-4b69-b57b-1dc95a385fed": {
     "id": "ba7c2539-09b1-4b69-b57b-1dc95a385fed",
     "prev": "55f598d3-7c5e-4359-a3ee-96ebe521528c",
     "regions": {
      "2d64bbbb-a77c-4cda-a5cc-2b943d75dde2": {
       "attrs": {
        "height": 0.8,
        "width": 0.8,
        "x": 0.1,
        "y": 0.1
       },
       "content": {
        "cell": "d1d8d8d3-12cb-495a-a9c8-b806eb73b087",
        "part": "whole"
       },
       "id": "2d64bbbb-a77c-4cda-a5cc-2b943d75dde2"
      }
     }
    },
    "bcd2a9bd-b570-47d1-9594-677c6c49860b": {
     "id": "bcd2a9bd-b570-47d1-9594-677c6c49860b",
     "prev": "c5482ac7-806a-40df-b1f2-6a21bfab1ebf",
     "regions": {
      "c6afb805-6afc-42c5-95ae-8d7b676ef42b": {
       "attrs": {
        "height": 0.8,
        "width": 0.8,
        "x": 0.1,
        "y": 0.1
       },
       "content": {
        "cell": "cc11ce61-c381-4d79-8d71-286ab1b0578a",
        "part": "whole"
       },
       "id": "c6afb805-6afc-42c5-95ae-8d7b676ef42b"
      }
     }
    },
    "c0f2c291-d618-4245-8e4a-9888b5cf4fa0": {
     "id": "c0f2c291-d618-4245-8e4a-9888b5cf4fa0",
     "prev": "39666911-f3fd-4b95-9a8d-eaf5777dab23",
     "regions": {
      "ef08697f-8e2f-4f78-94da-153b204445ec": {
       "attrs": {
        "height": 0.8,
        "width": 0.8,
        "x": 0.1,
        "y": 0.1
       },
       "content": {
        "cell": "ca48ac30-f3fb-4f32-b85a-30210a295bc6",
        "part": "whole"
       },
       "id": "ef08697f-8e2f-4f78-94da-153b204445ec"
      }
     }
    },
    "c50e332d-77ef-41d0-9f17-80edc64dfbeb": {
     "id": "c50e332d-77ef-41d0-9f17-80edc64dfbeb",
     "prev": "b4aa8cce-a6a0-48cc-bb02-47465031619d",
     "regions": {
      "151b45b5-3b7b-467d-ad3a-c5628e3a6189": {
       "attrs": {
        "height": 0.8,
        "width": 0.8,
        "x": 0.1,
        "y": 0.1
       },
       "content": {
        "cell": "6d51f8ad-a033-4ed1-abb9-682200d0fe21",
        "part": "whole"
       },
       "id": "151b45b5-3b7b-467d-ad3a-c5628e3a6189"
      }
     }
    },
    "c5482ac7-806a-40df-b1f2-6a21bfab1ebf": {
     "id": "c5482ac7-806a-40df-b1f2-6a21bfab1ebf",
     "prev": "a97ac56f-0594-4e0f-806a-3e1851fbdbf5",
     "regions": {
      "99ea3106-e57f-455f-b6fa-1bade203d07d": {
       "attrs": {
        "height": 0.8,
        "width": 0.8,
        "x": 0.1,
        "y": 0.1
       },
       "content": {
        "cell": "079bc3cf-975e-4a16-b5e8-761bda76bf5e",
        "part": "whole"
       },
       "id": "99ea3106-e57f-455f-b6fa-1bade203d07d"
      }
     }
    },
    "c54ce7c2-ec01-41c9-add3-01396983df83": {
     "id": "c54ce7c2-ec01-41c9-add3-01396983df83",
     "prev": "29f2ea4e-948c-413b-b3d2-56e6eddac5fa",
     "regions": {
      "bad93e6a-0566-4d67-b961-5d6370f2676d": {
       "attrs": {
        "height": 0.8,
        "width": 0.8,
        "x": 0.1,
        "y": 0.1
       },
       "content": {
        "cell": "8c3d15d8-bfa7-4614-9781-f4b49f7262ba",
        "part": "whole"
       },
       "id": "bad93e6a-0566-4d67-b961-5d6370f2676d"
      }
     }
    },
    "c76c844e-361f-4742-bb5e-091a884b97bb": {
     "id": "c76c844e-361f-4742-bb5e-091a884b97bb",
     "prev": "7c65492c-5e96-43b9-860c-8b8ec7ef56d8",
     "regions": {
      "86120661-9521-4c7d-b4dc-3c53b51714e6": {
       "attrs": {
        "height": 0.8,
        "width": 0.8,
        "x": 0.1,
        "y": 0.1
       },
       "content": {
        "cell": "a80e5d9d-c5a7-4bed-a63a-253fc48b54d6",
        "part": "whole"
       },
       "id": "86120661-9521-4c7d-b4dc-3c53b51714e6"
      }
     }
    },
    "cb11f325-33b4-4ac9-b385-0782f328d4f9": {
     "id": "cb11f325-33b4-4ac9-b385-0782f328d4f9",
     "prev": "df472d2d-d2ec-4a7e-8087-d0f24d069ca7",
     "regions": {
      "c2754c86-4d23-4be9-acef-4fec1147e295": {
       "attrs": {
        "height": 0.8,
        "width": 0.8,
        "x": 0.1,
        "y": 0.1
       },
       "content": {
        "cell": "fcb232c1-e855-46e7-81e5-29d31cc1b629",
        "part": "whole"
       },
       "id": "c2754c86-4d23-4be9-acef-4fec1147e295"
      }
     }
    },
    "cd61783e-0027-4170-b71d-b6ee4c132b3e": {
     "id": "cd61783e-0027-4170-b71d-b6ee4c132b3e",
     "prev": "22b87cc9-ffa5-44df-828d-9a4157bc4abe",
     "regions": {
      "7253e507-cdb7-46e3-b725-b808820764cf": {
       "attrs": {
        "height": 0.8,
        "width": 0.8,
        "x": 0.1,
        "y": 0.1
       },
       "content": {
        "cell": "17b65590-776f-4ae0-b608-4a609f4d97a9",
        "part": "whole"
       },
       "id": "7253e507-cdb7-46e3-b725-b808820764cf"
      }
     }
    },
    "d12a9f51-7588-44ab-8d30-faf521a16688": {
     "id": "d12a9f51-7588-44ab-8d30-faf521a16688",
     "prev": "f3bce261-51ac-473d-b733-87a345549cc5",
     "regions": {
      "3654564f-ef12-478b-a56d-894f40f580e1": {
       "attrs": {
        "height": 0.8,
        "width": 0.8,
        "x": 0.1,
        "y": 0.1
       },
       "content": {
        "cell": "0a4f938b-b1f8-4461-95b1-8746a0cd2367",
        "part": "whole"
       },
       "id": "3654564f-ef12-478b-a56d-894f40f580e1"
      }
     }
    },
    "d19424e1-764c-48d5-92ad-0642f827c0f8": {
     "id": "d19424e1-764c-48d5-92ad-0642f827c0f8",
     "prev": "44ffb2c3-43fe-44eb-aa24-2b184a1b0060",
     "regions": {
      "b5be816b-1bfc-4709-9c0e-0fb4d7c4f211": {
       "attrs": {
        "height": 0.8,
        "width": 0.8,
        "x": 0.1,
        "y": 0.1
       },
       "content": {
        "cell": "b3481653-bdc2-4528-930a-5a106c1f038c",
        "part": "whole"
       },
       "id": "b5be816b-1bfc-4709-9c0e-0fb4d7c4f211"
      }
     }
    },
    "d248243c-93d4-4f67-b073-25a60dbbc59f": {
     "id": "d248243c-93d4-4f67-b073-25a60dbbc59f",
     "prev": "52740496-f827-47b8-a0af-be401736eba6",
     "regions": {
      "c2c58eb7-0861-4e5c-8090-569942f094aa": {
       "attrs": {
        "height": 0.8,
        "width": 0.8,
        "x": 0.1,
        "y": 0.1
       },
       "content": {
        "cell": "32ae0ed4-c6e6-4fcb-b4bc-d270f0e0a10e",
        "part": "whole"
       },
       "id": "c2c58eb7-0861-4e5c-8090-569942f094aa"
      }
     }
    },
    "d3ec7d36-9396-482a-8a4d-40365c95851b": {
     "id": "d3ec7d36-9396-482a-8a4d-40365c95851b",
     "prev": "0cc88c3e-9ac9-4c7d-902f-191d23068879",
     "regions": {
      "3cdc8e78-ee90-4d09-ade6-87c8541c9722": {
       "attrs": {
        "height": 0.8,
        "width": 0.8,
        "x": 0.1,
        "y": 0.1
       },
       "content": {
        "cell": "89c0c531-777c-4d41-b388-c4a393ce12b5",
        "part": "whole"
       },
       "id": "3cdc8e78-ee90-4d09-ade6-87c8541c9722"
      }
     }
    },
    "d9184aa2-9c33-4718-8052-b63359fed588": {
     "id": "d9184aa2-9c33-4718-8052-b63359fed588",
     "prev": "6fe564a0-ecc6-43de-8579-e49462600006",
     "regions": {
      "1e5229f9-c9e7-4406-9619-40f7cbd8f426": {
       "attrs": {
        "height": 0.8,
        "width": 0.8,
        "x": 0.1,
        "y": 0.1
       },
       "content": {
        "cell": "c62f3476-e78b-4b50-8dfe-7abc6fafd77c",
        "part": "whole"
       },
       "id": "1e5229f9-c9e7-4406-9619-40f7cbd8f426"
      }
     }
    },
    "d9a48808-612f-42b7-96b8-5fa5fd1f1044": {
     "id": "d9a48808-612f-42b7-96b8-5fa5fd1f1044",
     "prev": "fbd54621-5d62-42cd-9add-d128637219cf",
     "regions": {
      "f2b41c16-91d6-4c96-8547-71a9708951cc": {
       "attrs": {
        "height": 0.8,
        "width": 0.8,
        "x": 0.1,
        "y": 0.1
       },
       "content": {
        "cell": "4c0b3c37-7bd3-48dc-89d3-68210aad5ca1",
        "part": "whole"
       },
       "id": "f2b41c16-91d6-4c96-8547-71a9708951cc"
      }
     }
    },
    "db456aea-5b61-4b57-906b-312c6fc067c3": {
     "id": "db456aea-5b61-4b57-906b-312c6fc067c3",
     "prev": "f61aded9-0320-4bbe-9a1d-a25f9982b5e3",
     "regions": {
      "80d0569d-b0be-435d-b124-9423d0fa9a8a": {
       "attrs": {
        "height": 0.8,
        "width": 0.8,
        "x": 0.1,
        "y": 0.1
       },
       "content": {
        "cell": "f5ab13b0-4ed3-471f-a95a-a170e94367ea",
        "part": "whole"
       },
       "id": "80d0569d-b0be-435d-b124-9423d0fa9a8a"
      }
     }
    },
    "dc9aed92-ec95-4af2-b4cd-d03f759dbfe8": {
     "id": "dc9aed92-ec95-4af2-b4cd-d03f759dbfe8",
     "prev": "0a028160-6edb-4de8-ac36-60a8a37a95f1",
     "regions": {
      "868a1a3d-1292-4eac-9ae0-3a496f233541": {
       "attrs": {
        "height": 0.8,
        "width": 0.8,
        "x": 0.1,
        "y": 0.1
       },
       "content": {
        "cell": "9715d0a4-6840-4e93-acf2-109449d4789d",
        "part": "whole"
       },
       "id": "868a1a3d-1292-4eac-9ae0-3a496f233541"
      }
     }
    },
    "df472d2d-d2ec-4a7e-8087-d0f24d069ca7": {
     "id": "df472d2d-d2ec-4a7e-8087-d0f24d069ca7",
     "prev": "f73ff69f-67e0-4118-8556-6f7783322028",
     "regions": {
      "5ac2f710-5336-407a-87bb-93b15763aa2a": {
       "attrs": {
        "height": 0.8,
        "width": 0.8,
        "x": 0.1,
        "y": 0.1
       },
       "content": {
        "cell": "77027335-b361-429f-9825-1206b873d490",
        "part": "whole"
       },
       "id": "5ac2f710-5336-407a-87bb-93b15763aa2a"
      }
     }
    },
    "f1372340-eaf0-4b96-bd6b-e87efedd65d4": {
     "id": "f1372340-eaf0-4b96-bd6b-e87efedd65d4",
     "prev": "7a7cb975-4e62-44ed-8018-f6de9a01ab2c",
     "regions": {
      "63a6bb7a-af06-4075-8991-10c03726fb59": {
       "attrs": {
        "height": 0.8,
        "width": 0.8,
        "x": 0.1,
        "y": 0.1
       },
       "content": {
        "cell": "02a3038b-8caa-4735-9242-3911c7330efe",
        "part": "whole"
       },
       "id": "63a6bb7a-af06-4075-8991-10c03726fb59"
      }
     }
    },
    "f3bce261-51ac-473d-b733-87a345549cc5": {
     "id": "f3bce261-51ac-473d-b733-87a345549cc5",
     "prev": "7975dc4f-167a-4e7f-823c-c40035ba7c31",
     "regions": {
      "6afe4d1f-d0f9-4b92-ab62-e404e8aeb299": {
       "attrs": {
        "height": 0.8,
        "width": 0.8,
        "x": 0.1,
        "y": 0.1
       },
       "content": {
        "cell": "ed858286-d9e6-4600-8b3d-9b9acc56126c",
        "part": "whole"
       },
       "id": "6afe4d1f-d0f9-4b92-ab62-e404e8aeb299"
      }
     }
    },
    "f61aded9-0320-4bbe-9a1d-a25f9982b5e3": {
     "id": "f61aded9-0320-4bbe-9a1d-a25f9982b5e3",
     "prev": "c76c844e-361f-4742-bb5e-091a884b97bb",
     "regions": {
      "5c6ce4d5-6707-4b5b-aae0-7f673f7ed093": {
       "attrs": {
        "height": 0.8,
        "width": 0.8,
        "x": 0.1,
        "y": 0.1
       },
       "content": {
        "cell": "46259766-207d-4b5b-998e-bcedfd8574ab",
        "part": "whole"
       },
       "id": "5c6ce4d5-6707-4b5b-aae0-7f673f7ed093"
      }
     }
    },
    "f73ff69f-67e0-4118-8556-6f7783322028": {
     "id": "f73ff69f-67e0-4118-8556-6f7783322028",
     "prev": "67811eb2-a471-45dd-b078-75d679742b3e",
     "regions": {
      "ee8c3c84-8cef-49a8-beff-32f8c52d5e81": {
       "attrs": {
        "height": 0.8,
        "width": 0.8,
        "x": 0.1,
        "y": 0.1
       },
       "content": {
        "cell": "7fc2ae8e-a225-4d08-9837-23223aa36b8c",
        "part": "whole"
       },
       "id": "ee8c3c84-8cef-49a8-beff-32f8c52d5e81"
      }
     }
    },
    "f8240450-abc9-4736-9d76-3170fae2b98a": {
     "id": "f8240450-abc9-4736-9d76-3170fae2b98a",
     "prev": null,
     "regions": {
      "6bff787c-c799-45eb-b3cc-6e7c33a0e23a": {
       "attrs": {
        "height": 0.8,
        "width": 0.8,
        "x": 0.1,
        "y": 0.1
       },
       "content": {
        "cell": "cbc678a4-0aa9-49db-a1e0-d27cf525595d",
        "part": "whole"
       },
       "id": "6bff787c-c799-45eb-b3cc-6e7c33a0e23a"
      }
     }
    },
    "fbd54621-5d62-42cd-9add-d128637219cf": {
     "id": "fbd54621-5d62-42cd-9add-d128637219cf",
     "prev": "a9c63349-f34b-4ef9-bc89-17aa821f93d7",
     "regions": {
      "5f1675ec-f148-4efb-9699-521d6e5ca182": {
       "attrs": {
        "height": 0.8,
        "width": 0.8,
        "x": 0.1,
        "y": 0.1
       },
       "content": {
        "cell": "5e929f19-bb8c-4de4-967e-f9fec057784b",
        "part": "whole"
       },
       "id": "5f1675ec-f148-4efb-9699-521d6e5ca182"
      }
     }
    },
    "fcc09d56-b64e-4b43-8008-bc3454186a6c": {
     "id": "fcc09d56-b64e-4b43-8008-bc3454186a6c",
     "prev": "0bbaa345-8802-4e53-a1af-d77951075e33",
     "regions": {
      "9ba600ae-a520-4dbf-a37e-82a692a8be7b": {
       "attrs": {
        "height": 0.8,
        "width": 0.8,
        "x": 0.1,
        "y": 0.1
       },
       "content": {
        "cell": "73d10915-6fb6-445b-bb78-9d632b4fe9a7",
        "part": "whole"
       },
       "id": "9ba600ae-a520-4dbf-a37e-82a692a8be7b"
      }
     }
    },
    "fe63a635-9282-4942-a34c-473585cce03e": {
     "id": "fe63a635-9282-4942-a34c-473585cce03e",
     "prev": "700b422c-0354-4f03-bf61-009a7d5ee456",
     "regions": {
      "f642aba6-843b-4dbd-94ab-c9b473bf6a8d": {
       "attrs": {
        "height": 0.8,
        "width": 0.8,
        "x": 0.1,
        "y": 0.1
       },
       "content": {
        "cell": "6165ee98-57f6-431e-b280-358bf91a5ddd",
        "part": "whole"
       },
       "id": "f642aba6-843b-4dbd-94ab-c9b473bf6a8d"
      }
     }
    }
   },
   "themes": {}
  }
 },
 "nbformat": 4,
 "nbformat_minor": 0
}
