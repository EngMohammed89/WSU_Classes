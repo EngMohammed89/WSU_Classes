{
 "cells": [
  {
   "cell_type": "code",
   "execution_count": 5,
   "metadata": {
    "collapsed": false
   },
   "outputs": [
    {
     "name": "stdout",
     "output_type": "stream",
     "text": [
      "dF\\dh = -0.285714285714286*A*u1 + 0.0714285714285714*A*u2 + u3 + u4 + 0.6\n",
      "dF\\dA = -0.285714285714286*h*u1 + u2*(0.0714285714285714*h + 1) + u5 + 0.001\n",
      "dF\\du1 = -0.285714285714286*A*h + s1**2 + 20000\n",
      "dF\\du2 = 0.0714285714285714*A*h + A + s2**2 - 10000\n",
      "dF\\du3 = h + s3**2 - 3.5\n",
      "dF\\du4 = h + s4**2 - 21\n",
      "dF\\du5 = A + s5**2 - 10000\n",
      "dF\\du6 = 0\n",
      "dF\\ds1 = 2*s1*u1\n",
      "dF\\ds2 = 2*s2*u2\n",
      "dF\\ds3 = 2*s3*u3\n",
      "dF\\ds4 = 2*s4*u4\n",
      "dF\\ds5 = 2*s5*u5\n",
      "dF\\ds6 = 0\n"
     ]
    }
   ],
   "source": [
    "#import numpy as np\n",
    "import sympy as sp\n",
    "#from scipy import optimize\n",
    "\n",
    "h=sp.Symbol('h')\n",
    "A=sp.Symbol('A')\n",
    "u1=sp.Symbol('u1')\n",
    "u2=sp.Symbol('u2')\n",
    "u3=sp.Symbol('u3')\n",
    "u4=sp.Symbol('u4')\n",
    "u5=sp.Symbol('u5')\n",
    "u6=sp.Symbol('u6')\n",
    "s1=sp.Symbol('s1')\n",
    "s2=sp.Symbol('s2')\n",
    "s3=sp.Symbol('s3')\n",
    "s4=sp.Symbol('s4')\n",
    "s5=sp.Symbol('s5')\n",
    "s6=sp.Symbol('s6')\n",
    "\n",
    "F = 0.6*h + 0.001*A + u1*(20000 - (h*A)/3.5 + s1**2) +\\\n",
    "    u2*((0.25*h*A)/3.5 - 10000 + A + s2**2) + u3*(h - 3.5 + s3**2) +\\\n",
    "    u4*(h - 21 + s4**2) + u5*(A - 10000 + s5**2)\n",
    "    \n",
    "print('dF\\dh =', sp.diff(F,h))\n",
    "print('dF\\dA =', sp.diff(F,A))\n",
    "print('dF\\du1 =', sp.diff(F,u1))\n",
    "print('dF\\du2 =', sp.diff(F,u2))\n",
    "print('dF\\du3 =', sp.diff(F,u3))\n",
    "print('dF\\du4 =', sp.diff(F,u4))\n",
    "print('dF\\du5 =', sp.diff(F,u5))\n",
    "print('dF\\du6 =', sp.diff(F,u6))\n",
    "print('dF\\ds1 =', sp.diff(F,s1))\n",
    "print('dF\\ds2 =', sp.diff(F,s2))\n",
    "print('dF\\ds3 =', sp.diff(F,s3))\n",
    "print('dF\\ds4 =', sp.diff(F,s4))\n",
    "print('dF\\ds5 =', sp.diff(F,s5))\n",
    "print('dF\\ds6 =', sp.diff(F,s6))"
   ]
  },
  {
   "cell_type": "code",
   "execution_count": 19,
   "metadata": {
    "collapsed": false
   },
   "outputs": [
    {
     "name": "stdout",
     "output_type": "stream",
     "text": [
      "-0.285714285714286*h\n",
      "-0.285714285714286*A \n",
      "\n",
      "0\n",
      "-0.285714285714286\n",
      "-0.285714285714286\n",
      "0\n"
     ]
    },
    {
     "data": {
      "text/plain": [
       "{-2/7: 1, 2/7: 1}"
      ]
     },
     "execution_count": 19,
     "metadata": {},
     "output_type": "execute_result"
    }
   ],
   "source": [
    "#import numpy as np\n",
    "import sympy as sp\n",
    "#from sympy.matrices import *\n",
    "#from scipy import optimize\n",
    "\n",
    "h=sp.Symbol('h')\n",
    "A=sp.Symbol('A')\n",
    "\n",
    "g1=20000 - (h*A)/3.5\n",
    "\n",
    "f1 = sp.diff(g1, A)\n",
    "f2 = sp.diff(g1, h)\n",
    "\n",
    "h1 = sp.diff(f1, A)\n",
    "h2 = sp.diff(f1, h)\n",
    "h3 = sp.diff(f2, A)\n",
    "h4 = sp.diff(f2, h)\n",
    "\n",
    "H=sp.Matrix([[h1, h2], [h3, h4]])\n",
    "\n",
    "print(f1)\n",
    "print(f2, '\\n')\n",
    "\n",
    "print(h1)\n",
    "print(h2)\n",
    "print(h3)\n",
    "print(h4)\n",
    "\n",
    "H.eigenvals()"
   ]
  },
  {
   "cell_type": "code",
   "execution_count": 20,
   "metadata": {
    "collapsed": false
   },
   "outputs": [
    {
     "name": "stdout",
     "output_type": "stream",
     "text": [
      "0.0714285714285714*h + 1\n",
      "0.0714285714285714*A \n",
      "\n",
      "0\n",
      "0.0714285714285714\n",
      "0.0714285714285714\n",
      "0\n"
     ]
    },
    {
     "data": {
      "text/plain": [
       "{-1/14: 1, 1/14: 1}"
      ]
     },
     "execution_count": 20,
     "metadata": {},
     "output_type": "execute_result"
    }
   ],
   "source": [
    "#import numpy as np\n",
    "import sympy as sp\n",
    "#from scipy import optimize\n",
    "\n",
    "h=sp.Symbol('h')\n",
    "A=sp.Symbol('A')\n",
    "\n",
    "g2=(0.25*h*A)/3.5 - 10000 + A\n",
    "\n",
    "f1 = sp.diff(g2, A)\n",
    "f2 = sp.diff(g2, h)\n",
    "\n",
    "h1 = sp.diff(f1, A)\n",
    "h2 = sp.diff(f1, h)\n",
    "h3 = sp.diff(f2, A)\n",
    "h4 = sp.diff(f2, h)\n",
    "\n",
    "H=sp.Matrix([[h1, h2], [h3, h4]])\n",
    "\n",
    "print(f1)\n",
    "print(f2, '\\n')\n",
    "\n",
    "print(h1)\n",
    "print(h2)\n",
    "print(h3)\n",
    "print(h4)\n",
    "\n",
    "H.eigenvals()"
   ]
  },
  {
   "cell_type": "code",
   "execution_count": 21,
   "metadata": {
    "collapsed": false
   },
   "outputs": [
    {
     "name": "stdout",
     "output_type": "stream",
     "text": [
      "0.00100000000000000\n",
      "0.600000000000000 \n",
      "\n",
      "0\n",
      "0\n",
      "0\n",
      "0\n"
     ]
    },
    {
     "data": {
      "text/plain": [
       "{0: 2}"
      ]
     },
     "execution_count": 21,
     "metadata": {},
     "output_type": "execute_result"
    }
   ],
   "source": [
    "#import numpy as np\n",
    "import sympy as sp\n",
    "#from scipy import optimize\n",
    "\n",
    "h=sp.Symbol('h')\n",
    "A=sp.Symbol('A')\n",
    "\n",
    "F=0.6*h + 0.001*A\n",
    "\n",
    "f1 = sp.diff(F, A)\n",
    "f2 = sp.diff(F, h)\n",
    "\n",
    "h1 = sp.diff(f1, A)\n",
    "h2 = sp.diff(f1, h)\n",
    "h3 = sp.diff(f2, A)\n",
    "h4 = sp.diff(f2, h)\n",
    "\n",
    "H=sp.Matrix([[h1, h2], [h3, h4]])\n",
    "\n",
    "print(f1)\n",
    "print(f2, '\\n')\n",
    "\n",
    "print(h1)\n",
    "print(h2)\n",
    "print(h3)\n",
    "print(h4)\n",
    "\n",
    "H.eigenvals()"
   ]
  },
  {
   "cell_type": "code",
   "execution_count": 27,
   "metadata": {
    "collapsed": false
   },
   "outputs": [
    {
     "name": "stdout",
     "output_type": "stream",
     "text": [
      "dF\\dx1 = sqrt(2)*x2*(-sin(60)/(x0 + sqrt(2)*sqrt(x1))**2 - cos(60)/x0**2)/2 - sqrt(2)*x3*sin(60)/(x0 + sqrt(2)*x1)**2 - x4 + 2\n",
      "dF\\dx2 = -2*x3*sin(60)/(x0 + sqrt(2)*x1)**2 - x5 + 1 - x2*sin(60)/(2*sqrt(x1)*(x0 + sqrt(2)*sqrt(x1))**2)\n",
      "dF\\du1 = x6**2 + sqrt(2)*(sin(60)/(x0 + sqrt(2)*sqrt(x1)) + cos(60)/x0)/2 - 20000\n",
      "dF\\du2 = x7**2 - 20000 + sqrt(2)*sin(60)/(x0 + sqrt(2)*x1)\n",
      "dF\\du3 = -x0 + x8**2\n",
      "dF\\du4 = -x1 + x9**2\n",
      "dF\\ds1 = 2*x2*x6\n",
      "dF\\ds2 = 2*x3*x7\n",
      "dF\\ds3 = 2*x4*x8\n",
      "dF\\ds4 = 2*x5*x9\n"
     ]
    }
   ],
   "source": [
    "#import numpy as np\n",
    "import sympy as sp\n",
    "#from scipy import optimize\n",
    "\n",
    "X1=sp.Symbol('x0')\n",
    "X2=sp.Symbol('x1')\n",
    "\n",
    "u1=sp.Symbol('x2')\n",
    "u2=sp.Symbol('x3')\n",
    "u3=sp.Symbol('x4')\n",
    "u4=sp.Symbol('x5')\n",
    "\n",
    "s1=sp.Symbol('x6')\n",
    "s2=sp.Symbol('x7')\n",
    "s3=sp.Symbol('x8')\n",
    "s4=sp.Symbol('x9')\n",
    "\n",
    "F=2*X1 + X2 + u1*((1/sp.sqrt(2))*((sp.cos(60)/X1) +\\\n",
    "   sp.sin(60)/(X1 + sp.sqrt(2*X2))) - 20000 + s1**2) +\\\n",
    "   u2*(((sp.sqrt(2)*sp.sin(60))/(X1 + sp.sqrt(2)*X2)) - 20000 + s2**2) +\\\n",
    "    u3*(-X1 + s3**2) + u4*(-X2 + s4**2)\n",
    "    \n",
    "print('dF\\dx1 =', sp.diff(F,X1))\n",
    "print('dF\\dx2 =', sp.diff(F,X2))\n",
    "\n",
    "print('dF\\du1 =', sp.diff(F,u1))\n",
    "print('dF\\du2 =', sp.diff(F,u2))\n",
    "print('dF\\du3 =', sp.diff(F,u3))\n",
    "print('dF\\du4 =', sp.diff(F,u4,1))\n",
    "\n",
    "print('dF\\ds1 =', sp.diff(F,s1))\n",
    "print('dF\\ds2 =', sp.diff(F,s2))\n",
    "print('dF\\ds3 =', sp.diff(F,s3))\n",
    "print('dF\\ds4 =', sp.diff(F,s4,1))\n",
    "\n"
   ]
  },
  {
   "cell_type": "code",
   "execution_count": null,
   "metadata": {
    "collapsed": true
   },
   "outputs": [],
   "source": []
  }
 ],
 "metadata": {
  "kernelspec": {
   "display_name": "Python 3",
   "language": "python",
   "name": "python3"
  },
  "language_info": {
   "codemirror_mode": {
    "name": "ipython",
    "version": 3
   },
   "file_extension": ".py",
   "mimetype": "text/x-python",
   "name": "python",
   "nbconvert_exporter": "python",
   "pygments_lexer": "ipython3",
   "version": "3.4.3"
  }
 },
 "nbformat": 4,
 "nbformat_minor": 0
}
