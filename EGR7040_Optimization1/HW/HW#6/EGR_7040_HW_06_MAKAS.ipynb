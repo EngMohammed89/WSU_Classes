{
 "cells": [
  {
   "cell_type": "markdown",
   "metadata": {
    "hide_input": true,
    "hide_output": true,
    "run_control": {
     "marked": true
    }
   },
   "source": [
    "## Admir Makas\n",
    "## HW #6"
   ]
  },
  {
   "cell_type": "markdown",
   "metadata": {
    "hide_input": true,
    "hide_output": true,
    "run_control": {
     "marked": true
    }
   },
   "source": [
    "## Problem 4.6\n",
    "\n",
    "Write Taylor expansion up to quadratic terms for the following expression.\n",
    "\n",
    "<img src=\"prob_46.jpg\" width=\"400\">"
   ]
  },
  {
   "cell_type": "markdown",
   "metadata": {
    "hide_input": true,
    "hide_output": true,
    "run_control": {
     "marked": true
    }
   },
   "source": [
    "$f(x)=e^x \\Longrightarrow e^0 = 1$  \n",
    "$\\frac{df}{dx} = e^x \\Longrightarrow e^0 = 1$  \n",
    "$\\frac{d^2f}{dx^2} = e^x \\Longrightarrow e^0 = 1$  \n",
    "\n",
    "$\\bar{f}(x) = 1 + 1(x-0) + 1(x-0)^2$  \n",
    "$\\bar{f}(x) = 1 + x + \\frac{x^2}{2}$"
   ]
  },
  {
   "cell_type": "code",
   "execution_count": 246,
   "metadata": {
    "collapsed": false,
    "hide_input": true,
    "hide_output": true,
    "run_control": {
     "marked": true
    }
   },
   "outputs": [],
   "source": [
    "import sympy as sp\n",
    "x1=sp.Symbol('x1')\n",
    "x=sp.Symbol('x')\n",
    "\n",
    "F=sp.exp(x1)\n",
    "F1=sp.diff(F,x1,1)\n",
    "F2=sp.diff(F,x1,2)\n",
    "\n",
    "f = F.subs({'x1': 0}).evalf()\n",
    "f1 = F1.subs({'x1': 0}).evalf()\n",
    "f2 = F2.subs({'x1': 0}).evalf()\n",
    "\n",
    "E = F + F1*(x-x1) + F2*(x-x1)**2\n",
    "\n",
    "Ans = E.subs({'x1': 0}).evalf()\n",
    "\n",
    "#print(f, f1, f2)\n",
    "#print(F, F1, F2)\n",
    "#print(Ans)"
   ]
  },
  {
   "cell_type": "markdown",
   "metadata": {
    "hide_input": true,
    "hide_output": true,
    "run_control": {
     "marked": true
    }
   },
   "source": [
    "## Problem 4.8\n",
    "\n",
    "Write Taylor expansion up to quadratic terms for the following expression.\n",
    "\n",
    "<img src=\"prob_48.jpg\" width=\"600\">  \n",
    "\n",
    "$\\bigtriangledown f(\\bar{x})$ = $\\begin{bmatrix}\n",
    "\\frac{\\partial f}{\\partial x_1} \\\\\n",
    "\\frac{\\partial f}{\\partial x_2} \\\\\n",
    "\\end{bmatrix}\n",
    "=\\begin{bmatrix}\n",
    "40x_1^3 - 40x_1x_2 + 2x_1 -2 \\\\\n",
    "-20x_1^2 + 20x_2 \\\\\n",
    "\\end{bmatrix}\n",
    "=\\begin{bmatrix}\n",
    "0      \\\\\n",
    "0      \\\\\n",
    "\\end{bmatrix}\n",
    "$\n",
    "\n",
    "$H$ = $\\begin{bmatrix}\n",
    "120x_1^2 - 40x_2 + 2  &  -40x_1  \\\\\n",
    "-40x_1  &  20  \\\\\n",
    "\\end{bmatrix}$\n",
    "$ =\\begin{bmatrix}\n",
    "82  &  -40  \\\\\n",
    "-40  &  20  \\\\\n",
    "\\end{bmatrix}$\n",
    "\n",
    "$\\bar{f}(x) = 4+ $ $\\begin{bmatrix}\n",
    "0  \\\\\n",
    "0  \\\\\n",
    "\\end{bmatrix}^T\n",
    "\\begin{bmatrix}\n",
    "x_1 - 1   \\\\\n",
    "x_2 - 1   \\\\\n",
    "\\end{bmatrix} + \\frac{1}{2}\n",
    "\\begin{bmatrix}\n",
    "x_1 - 1  \\\\\n",
    "x_2 - 1  \\\\\n",
    "\\end{bmatrix}^T\n",
    "\\begin{bmatrix}\n",
    "82  &  -40  \\\\\n",
    "-40  &  20  \\\\\n",
    "\\end{bmatrix}\n",
    "\\begin{bmatrix}\n",
    "x_1 - 1  \\\\\n",
    "x_2 - 1  \\\\\n",
    "\\end{bmatrix}$\n",
    "\n",
    "$\\bar{f}(x) = 41x_1^2 - 40x_1x_2 + 10x_2^2 + 20x_2 +15$\n",
    "\n",
    "At point (1.2, 0.8) the exact function and approximate function values are:  \n",
    "<br>\n",
    "$f(x) = 8.136$  \n",
    "$\\bar{f}(x) = 7.64$"
   ]
  },
  {
   "cell_type": "code",
   "execution_count": 247,
   "metadata": {
    "collapsed": false,
    "hide_input": true,
    "hide_output": true,
    "run_control": {
     "marked": true
    },
    "scrolled": true
   },
   "outputs": [],
   "source": [
    "x1=sp.Symbol('x1')\n",
    "x2=sp.Symbol('x2')\n",
    "\n",
    "y1=sp.Symbol('y1')\n",
    "y2=sp.Symbol('y2')\n",
    "\n",
    "f=10*y1**4 - 20*y1**2*y2 + 10*y2**2 + y1**2 - 2*y1 + 5\n",
    "\n",
    "v1=sp.diff(f, y1, 1)\n",
    "v2=sp.diff(f, y2, 1)\n",
    "\n",
    "H1=sp.diff(v1, y1, 1)\n",
    "H2=sp.diff(v1, y2, 1)\n",
    "H3=sp.diff(v2, y1, 1)\n",
    "H4=sp.diff(v2, y2, 1)\n",
    "\n",
    "grad = sp.Matrix([[v1, v2]])\n",
    "het = sp.Matrix([[H1, H2], [H3, H4]])\n",
    "\n",
    "F=sp.Matrix([[f.subs({'y1': 1, 'y2': 1}).evalf()]])\n",
    "\n",
    "Grad=grad.subs({'y1': 1, 'y2': 1}).evalf()\n",
    "Het=het.subs({'y1': 1, 'y2': 1}).evalf()\n",
    "\n",
    "e=sp.Matrix([[x1-1, x2-1]])\n",
    "\n",
    "Ans=F + Grad*e.T + 0.5*(e*Het*e.T)\n",
    "\n",
    "val_TE=Ans[0].subs({'x1': 1.2, 'x2': 0.8}).evalf()\n",
    "val_E=f.subs({'y1': 1.2, 'y2': 0.8}).evalf()\n",
    "\n",
    "#print(grad)\n",
    "#print(Grad, '\\n')\n",
    "\n",
    "#print(het)\n",
    "#print(Het, '\\n')\n",
    "\n",
    "#print(sp.expand(Ans[0]), '\\n')\n",
    "#print(val_TE)\n",
    "#print(val_E)"
   ]
  },
  {
   "cell_type": "markdown",
   "metadata": {
    "hide_input": true,
    "hide_output": true,
    "run_control": {
     "marked": true
    }
   },
   "source": [
    "## Problem 4.11\n",
    "\n",
    "Determine the nature of the quadratic form.\n",
    "\n",
    "<img src=\"prob_411.jpg\" width=\"300\">"
   ]
  },
  {
   "cell_type": "markdown",
   "metadata": {
    "hide_input": true,
    "hide_output": true,
    "run_control": {
     "marked": true
    }
   },
   "source": [
    "From the review of the last term in the above expression it can be seen that $F(\\bar{x})$ can be both positive and negative depending on the values of $x_1$ and $x_2$.  \n",
    "\n",
    "Therefore $F(\\bar{x})$ is indefinite.  \n",
    "\n",
    "Also eigenvalues for this system are repeated (i.e. $\\lambda_{1,2} = 1$)"
   ]
  },
  {
   "cell_type": "code",
   "execution_count": 248,
   "metadata": {
    "collapsed": false,
    "hide_input": true,
    "hide_output": true,
    "run_control": {
     "marked": true
    }
   },
   "outputs": [],
   "source": [
    "import sympy as sp\n",
    "\n",
    "A=sp.Matrix([[1, 3], [0, 1]])\n",
    "\n",
    "eigv = A.eigenvals()\n",
    "\n",
    "#print(eigv)"
   ]
  },
  {
   "cell_type": "markdown",
   "metadata": {
    "hide_input": true,
    "hide_output": true,
    "run_control": {
     "marked": true
    }
   },
   "source": [
    "## Problem 4.13\n",
    "\n",
    "Determine the nature of the following quadratic forms.\n",
    "\n",
    "<img src=\"prob_413.jpg\" width=\"300\">"
   ]
  },
  {
   "cell_type": "markdown",
   "metadata": {
    "hide_input": true,
    "hide_output": true,
    "run_control": {
     "marked": true
    }
   },
   "source": [
    "From the review of the last term in the above expression it can be seen that $F(\\bar{x})$ can be both positive and negative depending on the values of $x_1$ and $x_2$.  \n",
    "\n",
    "Therefore $F(\\bar{x})$ is indefinite.  \n",
    "\n",
    "Also eigenvalues for this system are both negative and positive.  \n",
    "$\\lambda_1 = 1$  \n",
    "$\\lambda_2 = -1$"
   ]
  },
  {
   "cell_type": "markdown",
   "metadata": {
    "hide_input": true,
    "hide_output": true,
    "run_control": {
     "marked": true
    }
   },
   "source": [
    "## Problem 4.17\n",
    "\n",
    "Determine the nature of the following quadratic forms.\n",
    "\n",
    "<img src=\"prob_417.jpg\" width=\"400\">"
   ]
  },
  {
   "cell_type": "markdown",
   "metadata": {
    "hide_input": true,
    "hide_output": true,
    "run_control": {
     "marked": true
    }
   },
   "source": [
    "In matrix form:\n",
    "\n",
    "$F(\\bar{x}) = $\n",
    "$\\begin{bmatrix}\n",
    "x_1\\ x_2\\ x_3\n",
    "\\end{bmatrix}\n",
    "\\begin{bmatrix}\n",
    "1  &  0  &  2  \\\\\n",
    "0  &  -2  &   -2  \\\\\n",
    "0  &  0  &  4  \\\\\n",
    "\\end{bmatrix}\n",
    "\\begin{bmatrix}\n",
    "x_1  \\\\\n",
    "x_2  \\\\\n",
    "x_3  \\\\\n",
    "\\end{bmatrix}\n",
    "$\n",
    "\n",
    "The eigenvalues of the above matrix are $\\lambda_1 = 1,\\ \\lambda_2 = 4,\\ \\lambda_3 = -2$. Therefore $F(\\bar{x})$ is indefinite."
   ]
  },
  {
   "cell_type": "code",
   "execution_count": 249,
   "metadata": {
    "collapsed": false,
    "hide_input": true,
    "hide_output": true,
    "run_control": {
     "marked": true
    }
   },
   "outputs": [],
   "source": [
    "import sympy as sp\n",
    "\n",
    "A=sp.Matrix([[1, 0, 2], [0, -2, -2], [0, 0, 4]])\n",
    "\n",
    "eigv = A.eigenvals()\n",
    "\n",
    "#print(eigv)"
   ]
  },
  {
   "cell_type": "markdown",
   "metadata": {
    "hide_input": true,
    "hide_output": true,
    "run_control": {
     "marked": true
    }
   },
   "source": [
    "## Problem 4.23\n",
    "\n",
    "Find fixed points for following expression and determine if the fixed points are min, max, or saddle.\n",
    "\n",
    "<img src=\"prob_423.jpg\" width=\"400\">"
   ]
  },
  {
   "cell_type": "markdown",
   "metadata": {
    "hide_input": true,
    "hide_output": true,
    "run_control": {
     "marked": true
    }
   },
   "source": [
    "$\\bigtriangledown f(\\bar{x})$ = $\\begin{bmatrix}\n",
    "\\frac{\\partial f}{\\partial x_1} \\\\\n",
    "\\frac{\\partial f}{\\partial x_2} \\\\\n",
    "\\end{bmatrix}\n",
    "=\\begin{bmatrix}\n",
    "2x_1 + 4x_2 \\\\\n",
    "4x_1 + 2x_2 \\\\\n",
    "\\end{bmatrix}$\n",
    "\n",
    "Roots for the above vector expression are $\\bar{x}^* = [0, 0]$  \n",
    "\n",
    "The Hetian matrix for this system is constant and defined below.  \n",
    "\n",
    "$H$ $ =\\begin{bmatrix}\n",
    "2  &  4  \\\\\n",
    "4  &  2  \\\\\n",
    "\\end{bmatrix}$\n",
    "\n",
    "For matrix $H$ we have following eigenvalues:\n",
    "$\\lambda_1 = -2$\n",
    "$\\lambda_2 = 6$  \n",
    "\n",
    "Based on the lambda values there is a inflection point at the fixed point."
   ]
  },
  {
   "cell_type": "code",
   "execution_count": 245,
   "metadata": {
    "collapsed": false,
    "hide_input": true,
    "hide_output": true,
    "run_control": {
     "marked": true
    }
   },
   "outputs": [],
   "source": [
    "import numpy as np\n",
    "import scipy as sc\n",
    "from scipy import optimize\n",
    "\n",
    "x1=sp.Symbol('x1')\n",
    "x2=sp.Symbol('x2')\n",
    "\n",
    "\n",
    "F=x1**2 + 4*x1*x2 + x2**2 + 3\n",
    "\n",
    "v1=sp.diff(F, x1, 1)\n",
    "v2=sp.diff(F, x2, 1)\n",
    "\n",
    "H1=sp.diff(v1, x1, 1)\n",
    "H2=sp.diff(v1, x2, 1)\n",
    "H3=sp.diff(v2, x1, 1)\n",
    "H4=sp.diff(v2, x2, 1)\n",
    "\n",
    "\n",
    "#print(v1, '\\n')\n",
    "#print(v2, '\\n')\n",
    "\n",
    "#print(H1)\n",
    "#print(H2)\n",
    "#print(H3)\n",
    "#print(H4)"
   ]
  },
  {
   "cell_type": "code",
   "execution_count": 244,
   "metadata": {
    "collapsed": false,
    "hide_input": true,
    "hide_output": true,
    "run_control": {
     "marked": true
    }
   },
   "outputs": [
    {
     "name": "stdout",
     "output_type": "stream",
     "text": [
      "[ 0.  0.]\n"
     ]
    }
   ],
   "source": [
    "def fun(x):\n",
    "    return[2*x[0] + 4*x[1], 4*x[0] + 2*x[1]]\n",
    "\n",
    "sol = optimize.root(fun, [3, 3], method='hybr')\n",
    "sol.x\n",
    "print(sol.x)\n",
    "\n",
    "\n",
    "H=sp.Matrix([[2, 4], [4, 2]])\n",
    "\n",
    "eigv = H.eigenvals()\n",
    "#print(eigv)"
   ]
  },
  {
   "cell_type": "markdown",
   "metadata": {
    "hide_input": true,
    "hide_output": true,
    "run_control": {
     "marked": true
    }
   },
   "source": [
    "## Problem 4.32\n",
    "\n",
    "Find fixed points for following expression and determine if the fixed points are min, max, or saddle.\n",
    "\n",
    "<img src=\"prob_432.jpg\" width=\"600\">"
   ]
  },
  {
   "cell_type": "markdown",
   "metadata": {
    "hide_input": true,
    "hide_output": true,
    "run_control": {
     "marked": true
    }
   },
   "source": [
    "$\\bigtriangledown f(\\bar{x})$ = $\\begin{bmatrix}\n",
    "\\frac{\\partial U}{\\partial V} \\\\\n",
    "\\frac{\\partial U}{\\partial C} \\\\\n",
    "\\end{bmatrix}\n",
    "=\\begin{bmatrix}\n",
    "\\frac{-438000000*V}{(C + V^2)^2} + 1000\\\\\n",
    "\\frac{-219000000}{(C + V^2)^2} + 3900000 \\\\\n",
    "\\end{bmatrix}$\n",
    "\n",
    "Roots for the above vector expression are:  \n",
    "$\\bar{x}_1^* = [241.8, 0.0310]$  \n",
    "$\\bar{x}_2^* = [-241.8, -0.0310]$ \n",
    "\n",
    "The Hetian matrix for this system is defined below.  \n",
    "\n",
    "$H$ $ =\\begin{bmatrix}\n",
    "\\frac{1314000000}{CV^4}  &  \\frac{438000000}{C^2V^3}  \\\\\n",
    "\\frac{438000000}{C^2V^3}  &  \\frac{438000000}{C^3V^2}  \\\\\n",
    "\\end{bmatrix}$\n",
    "\n",
    "For $\\bar{x}_1^* = [241.8, 0.0310]$, $H$ matrix eigenvalues are $\\lambda_1=8.27$ and $\\lambda_2=2.52e8$. Since both eigenvalues are positive there is a local minimum at the fixed point.  \n",
    "\n",
    "Conversly for $\\bar{x}_2^* = [-241.8, -0.0310]$ the eigenvalues are $\\lambda_1=-8.27$ and $\\lambda_2=-2.52e8$. Therefore fixed point number two will be a local maximum.\n",
    "\n",
    "**Function value for the local min point is 483528.607.**"
   ]
  },
  {
   "cell_type": "code",
   "execution_count": 243,
   "metadata": {
    "collapsed": false,
    "hide_input": true,
    "hide_output": true,
    "run_control": {
     "marked": true
    }
   },
   "outputs": [],
   "source": [
    "import numpy as np\n",
    "import scipy as sc\n",
    "from scipy import optimize\n",
    "\n",
    "C=sp.Symbol('C')\n",
    "V=sp.Symbol('V')\n",
    "\n",
    "F=((21.9e7)/(V**2*C)) + (3.9e6)*C + (1.0e3)*V\n",
    "\n",
    "v1=sp.diff(F, V, 1)\n",
    "v2=sp.diff(F, C, 1)\n",
    "\n",
    "H1=sp.diff(v1, V, 1)\n",
    "H2=sp.diff(v1, C, 1)\n",
    "H3=sp.diff(v2, V, 1)\n",
    "H4=sp.diff(v2, C, 1)\n",
    "\n",
    "\n",
    "#print(v1, '\\n')\n",
    "#print(v2, '\\n')\n",
    "\n",
    "#print(H1)\n",
    "#print(H2)\n",
    "#print(H3)\n",
    "#print(H4)\n",
    "\n",
    "ans=F.subs({'V': 241.764, 'C': .03099542}).evalf()\n",
    "#print(ans)"
   ]
  },
  {
   "cell_type": "code",
   "execution_count": 242,
   "metadata": {
    "collapsed": false,
    "hide_input": true,
    "hide_output": true,
    "run_control": {
     "marked": true
    }
   },
   "outputs": [
    {
     "name": "stdout",
     "output_type": "stream",
     "text": [
      "[ -2.41764304e+02  -3.09954236e-02]\n",
      "-241.764303846\n"
     ]
    }
   ],
   "source": [
    "C=sp.Symbol('C')\n",
    "V=sp.Symbol('V')\n",
    "\n",
    "def fun(x):\n",
    "    return[(-438000000)/(x[1]*x[0]**3) + 1000,\\\n",
    "           (-219000000)/(x[1]**2*x[0]**2) + 3900000]\n",
    "\n",
    "sol = optimize.root(fun, [-150, -.09], method='hybr')\n",
    "sol.x\n",
    "print(sol.x)\n",
    "print(sol.x[0])\n",
    "\n",
    "H1=1314000000.0/(C*V**4)\n",
    "H2=438000000.0/(C**2*V**3)\n",
    "H3=438000000.0/(C**2*V**3)\n",
    "H4=438000000.0/(C**3*V**2)\n",
    "\n",
    "het = sp.Matrix([[H1, H2], [H3, H4]])\n",
    "\n",
    "Het=het.subs({'V': sol.x[0], 'C': sol.x[1]}).evalf()\n",
    "\n",
    "eigv = Het.eigenvals()\n",
    "#print(eigv)\n",
    "\n"
   ]
  },
  {
   "cell_type": "markdown",
   "metadata": {
    "hide_input": true,
    "hide_output": true,
    "run_control": {
     "marked": true
    }
   },
   "source": [
    "## Problem 4.42\n",
    "\n",
    "Find fixed points for following expression and determine if the fixed points are min, max, or saddle.\n",
    "\n",
    "<img src=\"prob_442.jpg\" width=\"600\">"
   ]
  },
  {
   "cell_type": "markdown",
   "metadata": {},
   "source": [
    "$\\bigtriangledown f(\\bar{x})$ = $\\begin{bmatrix}\n",
    "\\frac{\\partial f}{\\partial x_1} \\\\\n",
    "\\frac{\\partial f}{\\partial x_2} \\\\\n",
    "\\frac{\\partial f}{\\partial x_3} \\\\\n",
    "\\frac{\\partial f}{\\partial x_4} \\\\\n",
    "\\end{bmatrix}\n",
    "=\\begin{bmatrix}\n",
    "2x_1 - 20x_2 + 40(x_1 - x_4)^3  \\\\\n",
    "-20x_1 + 200x_2 + 4(x_2 - 2x_3)^3 \\\\\n",
    "10x_3 - 10x_4 - 8(x_2 - 2x_3)^3 \\\\\n",
    "-10x_3 + 10x_4 - 40(x_1 - x_4)^3 \\\\\n",
    "\\end{bmatrix}$\n",
    "\n",
    "Roots for the above vector expression are:  \n",
    "$\\bar{x}* = [0, 0, 0, 0]$  \n",
    "There were the only roots that satisfied the necessary condition of having \n",
    "$\\bigtriangledown f = 0$ \n",
    "\n",
    "The Hetian matrix for this system is defined below.  \n",
    "\n",
    "<span style=\"color:black; font-size:0.9em;\">$H$ $ =\\begin{bmatrix}\n",
    "120(x_1 - x_4)^2 + 2  &  -20  &  0  &  -120(x_1 - x_4)^2 \\\\\n",
    "-20  &  12(x_2 - 2x_3)^2 + 200  &  -24(x_2 - 2x_3)^2  &  0  \\\\\n",
    "0  &  -24(x_2 - 2x_3)^2  &  48(x_2 - 2x_3)^2 + 10  &  -10 \\\\\n",
    "-120(x_1 - x_4)^2  &  0  &  -10  &  120(x_1 - x_4)^2 + 10\\\\\n",
    "\\end{bmatrix}$ <span>\n",
    "\n",
    "After applying the roots $H$ becomes:\n",
    "\n",
    "$H$ $ =\\begin{bmatrix}\n",
    "2  &  -20  &  0  &  0 \\\\\n",
    "-20  &  200  &  0  &  0  \\\\\n",
    "0  &  0  &  10  &  -10 \\\\\n",
    "0  &  0  &  -10  &  10 \\\\\n",
    "\\end{bmatrix}$\n",
    "\n",
    "The eigenvalues for the Hetian $\\lambda_{1,2}=0,\\ \\lambda_3=202,\\ \\lambda_4=20$  \n",
    "\n",
    "Since all eigenvalues are positive the root is a local minimum.\n"
   ]
  },
  {
   "cell_type": "code",
   "execution_count": 241,
   "metadata": {
    "collapsed": false,
    "hide_input": true,
    "hide_output": true,
    "run_control": {
     "marked": true
    }
   },
   "outputs": [
    {
     "name": "stdout",
     "output_type": "stream",
     "text": [
      "{0: 2, 202: 1, 20: 1}\n"
     ]
    }
   ],
   "source": [
    "import sympy as sp\n",
    "import numpy as np\n",
    "import scipy as sc\n",
    "from scipy import optimize\n",
    "\n",
    "x1=sp.Symbol('x1')\n",
    "x2=sp.Symbol('x2')\n",
    "x3=sp.Symbol('x3')\n",
    "x4=sp.Symbol('x4')\n",
    "\n",
    "F=(x1-10*x2)**2 + 5*(x3-x4)**2 + (x2-2*x3)**4 + 10*(x1-x4)**4\n",
    "\n",
    "v1=sp.diff(F, x1, 1)\n",
    "v2=sp.diff(F, x2, 1)\n",
    "v3=sp.diff(F, x3, 1)\n",
    "v4=sp.diff(F, x4, 1)\n",
    "\n",
    "H1=sp.diff(v1, x1, 1)\n",
    "H2=sp.diff(v1, x2, 1)\n",
    "H3=sp.diff(v1, x3, 1)\n",
    "H4=sp.diff(v1, x4, 1)\n",
    "\n",
    "H5=sp.diff(v2, x1, 1)\n",
    "H6=sp.diff(v2, x2, 1)\n",
    "H7=sp.diff(v2, x3, 1)\n",
    "H8=sp.diff(v2, x4, 1)\n",
    "\n",
    "H9=sp.diff(v3, x1, 1)\n",
    "H10=sp.diff(v3, x2, 1)\n",
    "H11=sp.diff(v3, x3, 1)\n",
    "H12=sp.diff(v3, x4, 1)\n",
    "\n",
    "H13=sp.diff(v4, x1, 1)\n",
    "H14=sp.diff(v4, x2, 1)\n",
    "H15=sp.diff(v4, x3, 1)\n",
    "H16=sp.diff(v4, x4, 1)\n",
    "\n",
    "h1=H1.subs({'x1': 0, 'x2': 0, 'x3': 0, 'x4': 0}).evalf()\n",
    "h2=H2.subs({'x1': 0, 'x2': 0, 'x3': 0, 'x4': 0}).evalf()\n",
    "h3=H3.subs({'x1': 0, 'x2': 0, 'x3': 0, 'x4': 0}).evalf()\n",
    "h4=H4.subs({'x1': 0, 'x2': 0, 'x3': 0, 'x4': 0}).evalf()\n",
    "\n",
    "h5=H5.subs({'x1': 0, 'x2': 0, 'x3': 0, 'x4': 0}).evalf()\n",
    "h6=H6.subs({'x1': 0, 'x2': 0, 'x3': 0, 'x4': 0}).evalf()\n",
    "h7=H7.subs({'x1': 0, 'x2': 0, 'x3': 0, 'x4': 0}).evalf()\n",
    "h8=H8.subs({'x1': 0, 'x2': 0, 'x3': 0, 'x4': 0}).evalf()\n",
    "\n",
    "h9=H9.subs({'x1': 0, 'x2': 0, 'x3': 0, 'x4': 0}).evalf()\n",
    "h10=H10.subs({'x1': 0, 'x2': 0, 'x3': 0, 'x4': 0}).evalf()\n",
    "h11=H11.subs({'x1': 0, 'x2': 0, 'x3': 0, 'x4': 0}).evalf()\n",
    "h12=H12.subs({'x1': 0, 'x2': 0, 'x3': 0, 'x4': 0}).evalf()\n",
    "\n",
    "h13=H13.subs({'x1': 0, 'x2': 0, 'x3': 0, 'x4': 0}).evalf()\n",
    "h14=H14.subs({'x1': 0, 'x2': 0, 'x3': 0, 'x4': 0}).evalf()\n",
    "h15=H15.subs({'x1': 0, 'x2': 0, 'x3': 0, 'x4': 0}).evalf()\n",
    "h16=H16.subs({'x1': 0, 'x2': 0, 'x3': 0, 'x4': 0}).evalf()\n",
    "\n",
    "#print(h1)\n",
    "#print(h2)\n",
    "#print(h3)\n",
    "#print(h4, '\\n')\n",
    "\n",
    "#print(h5)\n",
    "#print(h6)\n",
    "#print(h7)\n",
    "#print(h8, '\\n')\n",
    "\n",
    "#print(h9)\n",
    "#print(h10)\n",
    "#print(h11)\n",
    "#print(h12, '\\n')\n",
    "\n",
    "#print(h13)\n",
    "#print(h14)\n",
    "#print(h15)\n",
    "#print(h16)\n",
    "\n",
    "#print(v1)\n",
    "#print(v2)\n",
    "#print(v3)\n",
    "#print(v4, '\\n')\n",
    "\n",
    "#print(H1)\n",
    "#print(H2)\n",
    "#print(H3)\n",
    "#print(H4, '\\n')\n",
    "\n",
    "#print(H5)\n",
    "#print(H6)\n",
    "#print(H7)\n",
    "#print(H8, '\\n')\n",
    "\n",
    "#print(H9)\n",
    "#print(H10)\n",
    "#print(H11)\n",
    "#print(H12, '\\n')\n",
    "\n",
    "#print(H13)\n",
    "#print(H14)\n",
    "#print(H15)\n",
    "#print(H16)\n",
    "\n",
    "#ans=F.subs({'V': 241.764, 'C': .03099542}).evalf()\n",
    "#print(ans)\n",
    "\n",
    "het = sp.Matrix([[2, -20, 0, 0], [-20, 200, 0, 0], [0, 0, 10, -10], [0, 0, -10, 10]])\n",
    "\n",
    "eigv = het.eigenvals()\n",
    "print(eigv)"
   ]
  },
  {
   "cell_type": "code",
   "execution_count": 239,
   "metadata": {
    "collapsed": false
   },
   "outputs": [],
   "source": [
    "import random\n",
    "\n",
    "def fun(x):\n",
    "    \n",
    "    v1 = 2*x[0] - 20*x[1] + 40*(x[0] - x[3])**3\n",
    "    v2 = -20*x[0] + 200*x[1] + 4*(x[1] - 2*x[2])**3\n",
    "    v3 = 10*x[2] - 10*x[3] - 8*(x[1] - 2*x[2])**3\n",
    "    v4 = -10*x[2] + 10*x[3] - 40*(x[0] - x[3])**3\n",
    "    \n",
    "    return[v1, v2, v3, v4]\n",
    "\n",
    "def jac(x):\n",
    "    \n",
    "    H1 = 120*(x[0] - x[3])**2 + 2\n",
    "    H2 = -20\n",
    "    H3 = 0\n",
    "    H4 = -120*(x[0] - x[3])**2\n",
    "    \n",
    "    H5 = -20\n",
    "    H6 = 12*(x[1] - 2*x[2])**2 + 200\n",
    "    H7 = -24*(x[1] - 2*x[2])**2\n",
    "    H8 = 0\n",
    "    \n",
    "    H9 = 0\n",
    "    H10 = -24*(x[1] - 2*x[2])**2\n",
    "    H11 = 48*(x[1] - 2*x[2])**2 + 10\n",
    "    H12 = -10\n",
    "    \n",
    "    H13 = -120*(x[0] - x[3])**2\n",
    "    H14 = 0\n",
    "    H15 = -10\n",
    "    H16 = 120*(x[0] - x[3])**2 + 10\n",
    "    \n",
    "    return np.array([[H1, H2, H3, H4], [H5, H6, H7, H8],\\\n",
    "                    [H9, H10, H11, H12], [H13, H14, H15, H16]])\n",
    "\n",
    "tol = []\n",
    "\n",
    "for index in range(1, 1):\n",
    "    \n",
    "    X1=random.randint(-10000, 10000)\n",
    "    X2=random.randint(-10000, 10000)\n",
    "    X3=random.randint(-10000, 10000)\n",
    "    X4=random.randint(-10000, 10000)\n",
    "    \n",
    "    sol = optimize.root(fun, [X1, X2, X3, X4], jac=jac, method='hybr')\n",
    "    \n",
    "    V1 = 2*x1 - 20*x2 + 40*(x1 - x4)**3\n",
    "    V2 = -20*x1 + 200*x2 + 4*(x2 - 2*x3)**3\n",
    "    V3 = 10*x3 - 10*x4 - 8*(x2 - 2*x3)**3\n",
    "    V4 = -10*x3 + 10*x4 - 40*(x1 - x4)**3\n",
    "\n",
    "    V1_=V1.subs({'x1': sol.x[0], 'x2': sol.x[1], 'x3': sol.x[2], 'x4': sol.x[3]}).evalf()\n",
    "    #print(V1_)\n",
    "    V2_=V2.subs({'x1': sol.x[0], 'x2': sol.x[1], 'x3': sol.x[2], 'x4': sol.x[3]}).evalf()\n",
    "    #print(V2_)\n",
    "    V3_=V3.subs({'x1': sol.x[0], 'x2': sol.x[1], 'x3': sol.x[2], 'x4': sol.x[3]}).evalf()\n",
    "    #print(V3_)\n",
    "    V4_=V4.subs({'x1': sol.x[0], 'x2': sol.x[1], 'x3': sol.x[2], 'x4': sol.x[3]}).evalf()\n",
    "    #print(V4_)\n",
    "    \n",
    "    grad_v=[V1_, V2_, V3_, V4_]\n",
    "    b=sum(grad_v)\n",
    "    \n",
    "    if index<2:\n",
    "        i=0\n",
    "        test=0\n",
    "    \n",
    "    if 0.0 <= b <= 0.25:\n",
    "        tol.append(sol.x[0])\n",
    "        if i>=2:\n",
    "            test = abs(tol[i] - tol[i-1])\n",
    "        #if index<2 or test==0:\n",
    "            #print(sol.x, b)\n",
    "            #print(X1, X2, X3, X4)\n",
    "            #print(index, 'if1')\n",
    "            #print('test= ', test)\n",
    "            #print('i= ', i)\n",
    "        #elif i>=1 and test>0.5:\n",
    "        #print(sol.x, b)\n",
    "        #print(X1, X2, X3, X4)\n",
    "        #print(index, 'if2')\n",
    "            #print('test= ', test)\n",
    "            #print('i= ', i)\n",
    "        #i=1+i\n",
    "            "
   ]
  },
  {
   "cell_type": "code",
   "execution_count": 240,
   "metadata": {
    "collapsed": false
   },
   "outputs": [
    {
     "data": {
      "text/html": [
       "<script>\n",
       "code_show=true; \n",
       "function code_toggle() {\n",
       " if (code_show){\n",
       " $('div.input').hide();\n",
       " } else {\n",
       " $('div.input').show();\n",
       " }\n",
       " code_show = !code_show\n",
       "} \n",
       "$( document ).ready(code_toggle);\n",
       "</script>\n",
       "The raw code for this IPython notebook is by default hidden for easier reading.\n",
       "To toggle on/off the raw code, click <a href=\"javascript:code_toggle()\">here</a>."
      ],
      "text/plain": [
       "<IPython.core.display.HTML object>"
      ]
     },
     "execution_count": 240,
     "metadata": {},
     "output_type": "execute_result"
    }
   ],
   "source": [
    "from IPython.display import HTML\n",
    "\n",
    "HTML('''<script>\n",
    "code_show=true; \n",
    "function code_toggle() {\n",
    " if (code_show){\n",
    " $('div.input').hide();\n",
    " } else {\n",
    " $('div.input').show();\n",
    " }\n",
    " code_show = !code_show\n",
    "} \n",
    "$( document ).ready(code_toggle);\n",
    "</script>\n",
    "The raw code for this IPython notebook is by default hidden for easier reading.\n",
    "To toggle on/off the raw code, click <a href=\"javascript:code_toggle()\">here</a>.''')"
   ]
  },
  {
   "cell_type": "code",
   "execution_count": null,
   "metadata": {
    "collapsed": true
   },
   "outputs": [],
   "source": []
  }
 ],
 "metadata": {
  "celltoolbar": "Raw Cell Format",
  "kernelspec": {
   "display_name": "Python 3",
   "language": "python",
   "name": "python3"
  },
  "language_info": {
   "codemirror_mode": {
    "name": "ipython",
    "version": 3
   },
   "file_extension": ".py",
   "mimetype": "text/x-python",
   "name": "python",
   "nbconvert_exporter": "python",
   "pygments_lexer": "ipython3",
   "version": "3.4.3"
  }
 },
 "nbformat": 4,
 "nbformat_minor": 0
}
