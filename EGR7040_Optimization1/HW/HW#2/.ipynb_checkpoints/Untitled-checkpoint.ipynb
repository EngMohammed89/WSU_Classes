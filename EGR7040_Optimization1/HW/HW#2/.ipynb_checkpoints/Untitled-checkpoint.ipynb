{
 "cells": [
  {
   "cell_type": "markdown",
   "metadata": {},
   "source": [
    "# HW#2, Otimization:  \n",
    "\n",
    "Problem 1a):  \n",
    "\n",
    "For **u**=[2, -1, 4]$^{T}$ find following value. ||**u**||$_2$***u**"
   ]
  },
  {
   "cell_type": "code",
   "execution_count": null,
   "metadata": {
    "collapsed": false
   },
   "outputs": [],
   "source": [
    "import numpy as np\n",
    "\n",
    "u=[2, -1, 4]\n",
    "\n",
    "print('Vector u=' + str(u))\n",
    "\n",
    "umag = np.linalg.norm(u,2)\n",
    "\n",
    "print('Magnitude of u= ' + str(umag))\n",
    "\n",
    "print('u*umag= ', [x * umag for x in u])\n",
    "\n",
    "print('u*umag= ', umag * np.array(u))"
   ]
  },
  {
   "cell_type": "markdown",
   "metadata": {},
   "source": [
    "Problem 1b):  \n",
    "\n",
    "For **A**=([2, 1, -1]; [1, 4, 3]; [-1, 3, 4]) and **u**=[2, -1, 4]$^{T}$ find **A*u**:"
   ]
  },
  {
   "cell_type": "code",
   "execution_count": null,
   "metadata": {
    "collapsed": false
   },
   "outputs": [],
   "source": [
    "import numpy as np\n",
    "\n",
    "A=np.array([[2, 1, -1], [1, 4, 3], [-1, 3, 4]])\n",
    "\n",
    "print('A=', A,'\\n')\n",
    "\n",
    "u=np.array([2, -1, 4])\n",
    "\n",
    "print('u= ', u, '\\n')\n",
    "\n",
    "p=A.dot(u)\n",
    "\n",
    "print('p= ', p)"
   ]
  },
  {
   "cell_type": "markdown",
   "metadata": {},
   "source": [
    "Problem 1c):  \n",
    "\n",
    "For **B**=([1, -1, 0, 3]; [-1, 2, 4, 2]; [0, -1, 4, -2]; [2, 3, 1, 1]) and **u**=[2, -1, 4]$^{T}$ find **B*u**:\n",
    "\n",
    "**B** is a 4x4 matrix and **u** is a 3x1 matrix. Since inner dimensions do not agree the desired operation cannot be carried out."
   ]
  },
  {
   "cell_type": "code",
   "execution_count": null,
   "metadata": {
    "collapsed": false
   },
   "outputs": [],
   "source": [
    "import numpy as np\n",
    "\n",
    "B=np.array([[1, -1, 0, 3], [-1, 2, 4, 2], [0, -1, 4, -2],[2, 3, 1, 1]])\n",
    "\n",
    "print('B=', B,'\\n')\n",
    "\n",
    "u=np.array([2, -1, 4])\n",
    "\n",
    "print('u= ', u, '\\n')\n",
    "\n",
    "p=B.dot(u)\n",
    "\n",
    "print('p= ', p)"
   ]
  },
  {
   "cell_type": "markdown",
   "metadata": {},
   "source": [
    "Problem 1d):  \n",
    "\n",
    "For **v**=[-2, 0, 1, 1] and **u**=[2, -1, 4]$^{T}$ find **v*u**:\n",
    "\n",
    "If **u** was not transposed then its size would be 3x1, conversly **v** dimension is 1x4. Since inner dimensions do not agree the desired operation cannot be carried out (i.e. **v**=1x4 and **u**=3x1, hence 4 $\\ne$ 3)"
   ]
  },
  {
   "cell_type": "code",
   "execution_count": null,
   "metadata": {
    "collapsed": false
   },
   "outputs": [],
   "source": [
    "import numpy as np\n",
    "\n",
    "v=np.array([-2, 0, 1, 1])\n",
    "\n",
    "print('v=', v,'\\n')\n",
    "\n",
    "u=np.array([2, -1, 4])\n",
    "\n",
    "print('u= ', u, '\\n')\n",
    "\n",
    "p=v.dot(u)\n",
    "\n",
    "print('p= ', p)"
   ]
  },
  {
   "cell_type": "markdown",
   "metadata": {},
   "source": [
    "Problem 1e):  \n",
    "\n",
    "Find (**v** $*$ **w**) $*$ **v**"
   ]
  },
  {
   "cell_type": "code",
   "execution_count": 6,
   "metadata": {
    "collapsed": false
   },
   "outputs": [
    {
     "name": "stdout",
     "output_type": "stream",
     "text": [
      "Vector v= [-2  0  1  1] \n",
      "\n",
      "Vector w= [ 4  1 -1  3] \n",
      "\n",
      "After (v*w)*v vector p= [12  0 -6 -6] \n",
      "\n"
     ]
    }
   ],
   "source": [
    "import numpy as np\n",
    "\n",
    "v=np.array([-2, 0, 1, 1])\n",
    "\n",
    "w=np.array([4, 1, -1, 3])\n",
    "\n",
    "print('Vector v=', v, '\\n')\n",
    "print('Vector w=', w, '\\n')\n",
    "\n",
    "p = v.dot(w)*v\n",
    "print('After (v*w)*v vector p=', p, '\\n')\n",
    "\n"
   ]
  },
  {
   "cell_type": "markdown",
   "metadata": {},
   "source": [
    "Problem 1f):\n",
    "\n",
    "Find **A**$^{2}$"
   ]
  },
  {
   "cell_type": "code",
   "execution_count": 2,
   "metadata": {
    "collapsed": false
   },
   "outputs": [
    {
     "name": "stdout",
     "output_type": "stream",
     "text": [
      "A= [[ 2  1 -1]\n",
      " [ 1  4  3]\n",
      " [-1  3  4]] \n",
      "\n",
      "B= [[ 6  3 -3]\n",
      " [ 3 26 23]\n",
      " [-3 23 26]] \n",
      "\n",
      "C= [[ 6  3 -3]\n",
      " [ 3 26 23]\n",
      " [-3 23 26]]\n"
     ]
    }
   ],
   "source": [
    "import numpy as np\n",
    "\n",
    "A=np.matrix([[2, 1, -1], [1, 4, 3], [-1, 3, 4]])\n",
    "\n",
    "print('A=', A,'\\n')\n",
    "\n",
    "B=A**2\n",
    "\n",
    "#another way to square a matrix\n",
    "C=np.linalg.matrix_power(A, 2)\n",
    "\n",
    "print('B=', B,'\\n')\n",
    "\n",
    "print('C=', C)"
   ]
  },
  {
   "cell_type": "markdown",
   "metadata": {
    "collapsed": true
   },
   "source": [
    "Problem 1g):  \n",
    "\n",
    "Find $sin(u + v)$"
   ]
  },
  {
   "cell_type": "code",
   "execution_count": 8,
   "metadata": {
    "collapsed": false
   },
   "outputs": [
    {
     "ename": "ValueError",
     "evalue": "operands could not be broadcast together with shapes (1,3) (1,4) ",
     "output_type": "error",
     "traceback": [
      "\u001b[1;31m---------------------------------------------------------------------------\u001b[0m",
      "\u001b[1;31mValueError\u001b[0m                                Traceback (most recent call last)",
      "\u001b[1;32m<ipython-input-8-9b651bd46723>\u001b[0m in \u001b[0;36m<module>\u001b[1;34m()\u001b[0m\n\u001b[0;32m      4\u001b[0m \u001b[0mv\u001b[0m\u001b[1;33m=\u001b[0m\u001b[0mnp\u001b[0m\u001b[1;33m.\u001b[0m\u001b[0mmatrix\u001b[0m\u001b[1;33m(\u001b[0m\u001b[1;33m[\u001b[0m\u001b[1;33m-\u001b[0m\u001b[1;36m2\u001b[0m\u001b[1;33m,\u001b[0m \u001b[1;36m0\u001b[0m\u001b[1;33m,\u001b[0m \u001b[1;36m1\u001b[0m\u001b[1;33m,\u001b[0m \u001b[1;36m1\u001b[0m\u001b[1;33m]\u001b[0m\u001b[1;33m)\u001b[0m\u001b[1;33m\u001b[0m\u001b[0m\n\u001b[0;32m      5\u001b[0m \u001b[1;33m\u001b[0m\u001b[0m\n\u001b[1;32m----> 6\u001b[1;33m \u001b[0md\u001b[0m\u001b[1;33m=\u001b[0m\u001b[0mu\u001b[0m\u001b[1;33m+\u001b[0m\u001b[0mv\u001b[0m\u001b[1;33m\u001b[0m\u001b[0m\n\u001b[0m\u001b[0;32m      7\u001b[0m \u001b[1;33m\u001b[0m\u001b[0m\n\u001b[0;32m      8\u001b[0m \u001b[0mprint\u001b[0m\u001b[1;33m(\u001b[0m\u001b[1;34m'd= '\u001b[0m\u001b[1;33m,\u001b[0m \u001b[0md\u001b[0m\u001b[1;33m,\u001b[0m \u001b[1;34m'\\n'\u001b[0m\u001b[1;33m)\u001b[0m\u001b[1;33m\u001b[0m\u001b[0m\n",
      "\u001b[1;31mValueError\u001b[0m: operands could not be broadcast together with shapes (1,3) (1,4) "
     ]
    }
   ],
   "source": [
    "import numpy as np\n",
    "\n",
    "u=np.matrix([2, -1, 4])\n",
    "v=np.matrix([-2, 0, 1, 1])\n",
    "\n",
    "d=u+v\n",
    "\n",
    "print('d= ', d, '\\n')\n",
    "\n",
    "#would work if u and v matched dimensions\n",
    "e=np.sin(d)\n",
    "\n",
    "print('e= ', e, '\\n')"
   ]
  },
  {
   "cell_type": "markdown",
   "metadata": {},
   "source": [
    "Problem 1g:  \n",
    "\n",
    "Find $||u||_2 + ||w||_2$"
   ]
  },
  {
   "cell_type": "code",
   "execution_count": 11,
   "metadata": {
    "collapsed": false
   },
   "outputs": [
    {
     "name": "stdout",
     "output_type": "stream",
     "text": [
      "t=  9.78\n"
     ]
    }
   ],
   "source": [
    "import numpy as np\n",
    "\n",
    "u=np.matrix([2, -1, 4])\n",
    "w=np.matrix([4, 1, -1, 3])\n",
    "\n",
    "unorm2=np.linalg.norm(u,2)\n",
    "wnorm2=np.linalg.norm(w,2)\n",
    "\n",
    "t=unorm2+wnorm2\n",
    "\n",
    "print('t= ', round(t, 2))"
   ]
  },
  {
   "cell_type": "markdown",
   "metadata": {},
   "source": [
    "Problem 2:\n",
    "\n",
    "Find $||*||_1, ||*||_2, ||*||_{inf}$ for $u$"
   ]
  },
  {
   "cell_type": "code",
   "execution_count": 20,
   "metadata": {
    "collapsed": false
   },
   "outputs": [
    {
     "name": "stdout",
     "output_type": "stream",
     "text": [
      "||u||_1=  7 \n",
      "\n",
      "||u||_2=  4.58257569496 \n",
      "\n",
      "||u||_inf=  4\n"
     ]
    }
   ],
   "source": [
    "import numpy as np\n",
    "\n",
    "u=np.matrix([2, -1, 4])\n",
    "\n",
    "unorm1=np.linalg.norm(u, np.inf)\n",
    "unorm2=np.linalg.norm(u, 2)\n",
    "unorm_inf=np.linalg.norm(u, 1)\n",
    "\n",
    "print('||u||_1= ', unorm1, '\\n')\n",
    "print('||u||_2= ', unorm2, '\\n')\n",
    "print('||u||_inf= ', unorm_inf)"
   ]
  },
  {
   "cell_type": "markdown",
   "metadata": {},
   "source": [
    "Problem 3:  \n",
    "    \n",
    "Find $\\bigtriangledown$ and $\\bigtriangledown^2$ for the following functions:\n",
    "\n",
    "$f(\\vec{x}) = 2x_1^{2} + 3x_2^{3} - 2x_3$  \n",
    "$g(\\vec{x}) = \\sin{(2x_1)} + e^{-x_2} + x_3{3}$  \n"
   ]
  },
  {
   "cell_type": "code",
   "execution_count": 34,
   "metadata": {
    "collapsed": false
   },
   "outputs": [
    {
     "name": "stdout",
     "output_type": "stream",
     "text": [
      "4*x1 \n",
      "\n",
      "9*x2**2 \n",
      "\n",
      "-2 \n",
      "\n",
      "2*cos(2*x1) \n",
      "\n",
      "-exp(-x2) \n",
      "\n",
      "3*x3**2 \n",
      "\n",
      "4 \n",
      "\n",
      "18*x2 \n",
      "\n",
      "0 \n",
      "\n",
      "-4*sin(2*x1) \n",
      "\n",
      "exp(-x2) \n",
      "\n",
      "6*x3 \n",
      "\n"
     ]
    }
   ],
   "source": [
    "# sympy used for symbolic math calculations. Do not invoke numpy while doing\n",
    "# symbolic math as it may give unexpected errors.\n",
    "from sympy import *\n",
    "#from numpy import *\n",
    "\n",
    "x1, x2, x3, f, g = symbols(\"x1 x2 x3 f g\", real = True)\n",
    "                           \n",
    "f = 2*x1**2 + 3*x2**3 - 2*x3\n",
    "                           \n",
    "f1 = diff(f,x1)\n",
    "print(f1, '\\n')\n",
    "\n",
    "f2=diff(f,x2)\n",
    "print(f2, '\\n')\n",
    "\n",
    "f3=diff(f,x3)\n",
    "print(f3, '\\n')\n",
    "\n",
    "g=sin(2*x1)+exp(-x2)+x3**3\n",
    "\n",
    "g1 = diff(g,x1)\n",
    "print(g1, '\\n')\n",
    "\n",
    "g2=diff(g,x2)\n",
    "print(g2, '\\n')\n",
    "\n",
    "g3=diff(g,x3)\n",
    "print(g3, '\\n')\n",
    "\n",
    "f12 = diff(f,x1,2)\n",
    "print(f12, '\\n')\n",
    "\n",
    "f22=diff(f,x2,2)\n",
    "print(f22, '\\n')\n",
    "\n",
    "f32=diff(f,x3,2)\n",
    "print(f32, '\\n')\n",
    "\n",
    "g12 = diff(g,x1,2)\n",
    "print(g12, '\\n')\n",
    "\n",
    "g22=diff(g,x2,2)\n",
    "print(g22, '\\n')\n",
    "\n",
    "g32=diff(g,x3,2)\n",
    "print(g32, '\\n')"
   ]
  },
  {
   "cell_type": "markdown",
   "metadata": {},
   "source": [
    "<div>\n",
    "<span style=\"vertical-align: middle;\">A</span>\n",
    "<table border=\"0\" cellpadding=\"0\" cellspacing=\"0\" style=\"border-collapse: collapse\" width=\"100\" align=\"left\">\n",
    "<tr>\n",
    "    <td height=\"10\" width=\"10%\" style = \"text-align: right;\">2 &nbsp;</td>\n",
    "    <td height=\"10\" width=\"20%\" style = \"text-align: right;\">1 &nbsp;</td>\n",
    "    <td height=\"10\" width=\"20%\" style = \"text-align: right;\">-1 &nbsp;</td>\n",
    "</tr>\n",
    "<tr>\n",
    "    <td height=\"10\" width=\"20%\" style = \"text-align: right;\">1 &nbsp;</td>\n",
    "    <td height=\"10\" width=\"20%\" style = \"text-align: right;\">4 &nbsp;</td>\n",
    "    <td height=\"10\" width=\"20%\" style = \"text-align: right;\">3 &nbsp;</td>\n",
    "</tr>\n",
    "<tr>\n",
    "    <td height=\"10\" width=\"20%\" style = \"text-align: right;\">-1 &nbsp;</td>\n",
    "    <td height=\"10\" width=\"20%\" style = \"text-align: right;\">3 &nbsp;</td>\n",
    "    <td height=\"10\" width=\"20%\" style = \"text-align: right;\">4 &nbsp;</td>\n",
    "</tr>\n",
    "</table>\n",
    "</div>"
   ]
  },
  {
   "cell_type": "code",
   "execution_count": null,
   "metadata": {
    "collapsed": true
   },
   "outputs": [],
   "source": []
  }
 ],
 "metadata": {
  "kernelspec": {
   "display_name": "Python 3",
   "language": "python",
   "name": "python3"
  },
  "language_info": {
   "codemirror_mode": {
    "name": "ipython",
    "version": 3
   },
   "file_extension": ".py",
   "mimetype": "text/x-python",
   "name": "python",
   "nbconvert_exporter": "python",
   "pygments_lexer": "ipython3",
   "version": "3.4.3"
  }
 },
 "nbformat": 4,
 "nbformat_minor": 0
}
