{
 "cells": [
  {
   "cell_type": "markdown",
   "metadata": {},
   "source": [
    "## Admir Makas  \n",
    "## HW 10\n",
    "****"
   ]
  },
  {
   "cell_type": "code",
   "execution_count": 48,
   "metadata": {
    "collapsed": false,
    "run_control": {
     "marked": true
    }
   },
   "outputs": [],
   "source": [
    "import sympy as sp\n",
    "sp.init_printing(use_latex='mathjax')\n",
    "from IPython.display import display\n",
    "import numpy as np\n",
    "\n",
    "x1 = sp.Symbol('x_1', real = True)\n",
    "x2 = sp.Symbol('x_2', real = True)\n",
    "x3 = sp.Symbol('x_3', real = True)\n",
    "x4 = sp.Symbol('x_4', real = True)\n",
    "f = sp.Symbol('F', real = True)\n",
    "s = sp.Symbol('s', real = True)\n",
    "pi = sp.Symbol('pi', real = True)\n",
    "r = sp.Symbol('r', real = True)\n",
    "h = sp.Symbol('h', real = True)\n",
    "\n",
    "X = [x1, x2, x3, x4, r, h]\n",
    "\n",
    "def grad(f, n=1):\n",
    "    a=[]\n",
    "    b=[]\n",
    "    for x in X:\n",
    "        a.append(sp.diff(f,x,n))\n",
    "        \n",
    "    for i in range(0, len(a)):\n",
    "        if a[i]!=0:\n",
    "            b.append(a[i])\n",
    "        \n",
    "    return b"
   ]
  },
  {
   "cell_type": "markdown",
   "metadata": {},
   "source": [
    "#### Problem 1  "
   ]
  },
  {
   "cell_type": "markdown",
   "metadata": {},
   "source": [
    "<img src=\"prob1.png\" width=\"550\">"
   ]
  },
  {
   "cell_type": "markdown",
   "metadata": {},
   "source": [
    "For part **a** find the gradient of function first, which can be seen below:"
   ]
  },
  {
   "cell_type": "code",
   "execution_count": 2,
   "metadata": {
    "collapsed": false,
    "hide_input": false,
    "run_control": {
     "marked": true
    }
   },
   "outputs": [
    {
     "name": "stdout",
     "output_type": "stream",
     "text": [
      "Function for evaluation\n"
     ]
    },
    {
     "data": {
      "text/latex": [
       "$$x_{1}^{2} - 2 x_{1} + x_{2}^{2} - 2 x_{2} + 4$$"
      ],
      "text/plain": [
       "  2            2           \n",
       "x₁  - 2⋅x₁ + x₂  - 2⋅x₂ + 4"
      ]
     },
     "metadata": {},
     "output_type": "display_data"
    },
    {
     "name": "stdout",
     "output_type": "stream",
     "text": [
      "Calculated gradient\n"
     ]
    },
    {
     "data": {
      "text/latex": [
       "$$\\left [ 2 x_{1} - 2, \\quad 2 x_{2} - 2\\right ]$$"
      ],
      "text/plain": [
       "[2⋅x₁ - 2, 2⋅x₂ - 2]"
      ]
     },
     "metadata": {},
     "output_type": "display_data"
    },
    {
     "name": "stdout",
     "output_type": "stream",
     "text": [
      "After applying x=(1,1)\n"
     ]
    },
    {
     "data": {
      "text/latex": [
       "$$\\left[\\begin{matrix}0 & 0\\end{matrix}\\right]$$"
      ],
      "text/plain": [
       "[0  0]"
      ]
     },
     "metadata": {},
     "output_type": "display_data"
    },
    {
     "name": "stdout",
     "output_type": "stream",
     "text": [
      "For following d=(2, 1)\n"
     ]
    },
    {
     "data": {
      "text/latex": [
       "$$\\left[\\begin{matrix}2\\\\1\\end{matrix}\\right]$$"
      ],
      "text/plain": [
       "⎡2⎤\n",
       "⎢ ⎥\n",
       "⎣1⎦"
      ]
     },
     "metadata": {},
     "output_type": "display_data"
    },
    {
     "name": "stdout",
     "output_type": "stream",
     "text": [
      "Descent condition is:\n"
     ]
    },
    {
     "data": {
      "text/latex": [
       "$$\\left[\\begin{matrix}0\\end{matrix}\\right]$$"
      ],
      "text/plain": [
       "[0]"
      ]
     },
     "metadata": {},
     "output_type": "display_data"
    },
    {
     "name": "stdout",
     "output_type": "stream",
     "text": [
      "Inequalty 10.9 is not satisfied, however, KKT condition is\n"
     ]
    }
   ],
   "source": [
    "print('Function for evaluation')\n",
    "f=x1**2 + x2**2 - 2*x1 - 2*x2 + 4\n",
    "display(f)\n",
    "\n",
    "Gradf = grad(f,1)\n",
    "print('Calculated gradient')\n",
    "display(Gradf)\n",
    "\n",
    "print('After applying x=(1,1)')\n",
    "Gradf = sp.Matrix([Gradf])\n",
    "Grad_sol = Gradf.subs(x1, 1).subs(x2, 1)\n",
    "display(Grad_sol)\n",
    "\n",
    "print('For following d=(2, 1)')\n",
    "d=sp.Matrix([2, 1])\n",
    "display(d)\n",
    "\n",
    "print('Descent condition is:')\n",
    "ans=Grad_sol*d\n",
    "display(ans)\n",
    "\n",
    "print('Inequalty 10.9 is not satisfied, however, KKT condition is')"
   ]
  },
  {
   "cell_type": "markdown",
   "metadata": {},
   "source": [
    "****"
   ]
  },
  {
   "cell_type": "markdown",
   "metadata": {},
   "source": [
    "For part **b** find the gradient of function first, which can be seen below:"
   ]
  },
  {
   "cell_type": "code",
   "execution_count": 3,
   "metadata": {
    "collapsed": false,
    "hide_input": false,
    "run_control": {
     "marked": true
    }
   },
   "outputs": [
    {
     "name": "stdout",
     "output_type": "stream",
     "text": [
      "Function for evaluation\n"
     ]
    },
    {
     "data": {
      "text/latex": [
       "$$\\frac{x_{1}^{2}}{2} - 2 x_{1} x_{2} - 7 x_{1} + x_{2}^{2} - 7 x_{2}$$"
      ],
      "text/plain": [
       "  2                              \n",
       "x₁                       2       \n",
       "─── - 2⋅x₁⋅x₂ - 7⋅x₁ + x₂  - 7⋅x₂\n",
       " 2                               "
      ]
     },
     "metadata": {},
     "output_type": "display_data"
    },
    {
     "name": "stdout",
     "output_type": "stream",
     "text": [
      "Calculated gradient\n"
     ]
    },
    {
     "data": {
      "text/latex": [
       "$$\\left [ x_{1} - 2 x_{2} - 7, \\quad - 2 x_{1} + 2 x_{2} - 7\\right ]$$"
      ],
      "text/plain": [
       "[x₁ - 2⋅x₂ - 7, -2⋅x₁ + 2⋅x₂ - 7]"
      ]
     },
     "metadata": {},
     "output_type": "display_data"
    },
    {
     "name": "stdout",
     "output_type": "stream",
     "text": [
      "After applying x=(1,1)\n"
     ]
    },
    {
     "data": {
      "text/latex": [
       "$$\\left[\\begin{matrix}-8 & -7\\end{matrix}\\right]$$"
      ],
      "text/plain": [
       "[-8  -7]"
      ]
     },
     "metadata": {},
     "output_type": "display_data"
    },
    {
     "name": "stdout",
     "output_type": "stream",
     "text": [
      "For following d=(7, 6)\n"
     ]
    },
    {
     "data": {
      "text/latex": [
       "$$\\left[\\begin{matrix}7\\\\6\\end{matrix}\\right]$$"
      ],
      "text/plain": [
       "⎡7⎤\n",
       "⎢ ⎥\n",
       "⎣6⎦"
      ]
     },
     "metadata": {},
     "output_type": "display_data"
    },
    {
     "name": "stdout",
     "output_type": "stream",
     "text": [
      "Descent condition is:\n"
     ]
    },
    {
     "data": {
      "text/latex": [
       "$$\\left[\\begin{matrix}-98\\end{matrix}\\right]$$"
      ],
      "text/plain": [
       "[-98]"
      ]
     },
     "metadata": {},
     "output_type": "display_data"
    },
    {
     "name": "stdout",
     "output_type": "stream",
     "text": [
      "Inequalty 10.9 is satisfied, this is a descent direction\n"
     ]
    }
   ],
   "source": [
    "print('Function for evaluation')\n",
    "f=sp.nsimplify(1/2)*x1**2 + x2**2 - 2*x1*x2 - 7*x1 - 7*x2\n",
    "display(f)\n",
    "\n",
    "Gradf = grad(f,1)\n",
    "print('Calculated gradient')\n",
    "display(Gradf)\n",
    "\n",
    "print('After applying x=(1,1)')\n",
    "Gradf = sp.Matrix([Gradf])\n",
    "Grad_sol = Gradf.subs(x1, 1).subs(x2, 1)\n",
    "display(Grad_sol)\n",
    "\n",
    "print('For following d=(7, 6)')\n",
    "d=sp.Matrix([7, 6])\n",
    "display(d)\n",
    "\n",
    "print('Descent condition is:')\n",
    "ans=Grad_sol*d\n",
    "display(ans)\n",
    "\n",
    "print('Inequalty 10.9 is satisfied, this is a descent direction')"
   ]
  },
  {
   "cell_type": "markdown",
   "metadata": {},
   "source": [
    "#### Problem 2\n",
    "<img src=\"prob2.png\" width=\"550\">"
   ]
  },
  {
   "cell_type": "markdown",
   "metadata": {},
   "source": [
    "Below are listed equations to be used for finite difference.  \n",
    "\n",
    "**Forward difference:**  \n",
    "$f_x(x, y) = \\frac{f(x+h, y) - f(x,y)}{h}$  \n",
    "$f_y(x, y) = \\frac{f(x, y+h) - f(x,y)}{h}$\n",
    "\n",
    "**Backward difference:**  \n",
    "$f_x(x, y) = \\frac{f(x,y) - f(x-h,y)}{h}$  \n",
    "$f_y(x, y) = \\frac{f(x,y) - f(x,y-h)}{h}$\n",
    "\n",
    "**Central difference:**  \n",
    "$f_x(x, y) = \\frac{f(x+h,y) - f(x-h,y)}{2h}$  \n",
    "$f_y(x, y) = \\frac{f(x,y+h) - f(x,y-h)}{2h}$\n",
    "\n",
    "Step h = 0.01"
   ]
  },
  {
   "cell_type": "markdown",
   "metadata": {
    "collapsed": true
   },
   "source": [
    "All calculations are seen below"
   ]
  },
  {
   "cell_type": "code",
   "execution_count": 4,
   "metadata": {
    "collapsed": false
   },
   "outputs": [
    {
     "name": "stdout",
     "output_type": "stream",
     "text": [
      "Problem 2a\n"
     ]
    },
    {
     "data": {
      "text/latex": [
       "$$12.096 x_{1}^{2} - 1.7321 x_{1} + 21.504 x_{2}^{2} - x_{2}$$"
      ],
      "text/plain": [
       "         2                              2     \n",
       "12.096⋅x₁  - -1.7321⋅(-1)⋅x₁ + 21.504⋅x₂  - x₂"
      ]
     },
     "metadata": {},
     "output_type": "display_data"
    },
    {
     "name": "stdout",
     "output_type": "stream",
     "text": [
      "Calculated gradient\n"
     ]
    },
    {
     "data": {
      "text/latex": [
       "$$\\left [ 24.192 x_{1} - 1.7321, \\quad 43.008 x_{2} - 1\\right ]$$"
      ],
      "text/plain": [
       "[24.192⋅x₁ - 1.7321, 43.008⋅x₂ - 1]"
      ]
     },
     "metadata": {},
     "output_type": "display_data"
    },
    {
     "name": "stdout",
     "output_type": "stream",
     "text": [
      "After applying x=(5,6)\n"
     ]
    },
    {
     "data": {
      "text/latex": [
       "$$\\left[\\begin{matrix}119.2279 & 257.048\\end{matrix}\\right]$$"
      ],
      "text/plain": [
       "[119.2279  257.048]"
      ]
     },
     "metadata": {},
     "output_type": "display_data"
    }
   ],
   "source": [
    "print('Problem 2a')\n",
    "f1=12.096*x1**2 + 21.504*x2**2 - 1.7321*x1 - x2\n",
    "display(f1)\n",
    "\n",
    "Gradf = grad(f1,1)\n",
    "print('Calculated gradient')\n",
    "display(Gradf)\n",
    "\n",
    "print('After applying x=(5,6)')\n",
    "Gradf = sp.Matrix([Gradf])\n",
    "Grad_sol = Gradf.subs(x1, 5).subs(x2, 6)\n",
    "display(Grad_sol)"
   ]
  },
  {
   "cell_type": "code",
   "execution_count": 5,
   "metadata": {
    "collapsed": false
   },
   "outputs": [
    {
     "name": "stdout",
     "output_type": "stream",
     "text": [
      "Forward difference\n"
     ]
    },
    {
     "data": {
      "text/latex": [
       "$$\\left [ 119.348860000014, \\quad 257.263040000021\\right ]$$"
      ],
      "text/plain": [
       "[119.348860000014, 257.263040000021]"
      ]
     },
     "metadata": {},
     "output_type": "display_data"
    },
    {
     "name": "stdout",
     "output_type": "stream",
     "text": [
      "Backward difference\n"
     ]
    },
    {
     "data": {
      "text/latex": [
       "$$\\left [ 119.106939999983, \\quad 256.832959999974\\right ]$$"
      ],
      "text/plain": [
       "[119.106939999983, 256.832959999974]"
      ]
     },
     "metadata": {},
     "output_type": "display_data"
    },
    {
     "name": "stdout",
     "output_type": "stream",
     "text": [
      "Central difference\n"
     ]
    },
    {
     "data": {
      "text/latex": [
       "$$\\left [ 119.227899999998, \\quad 257.047999999998\\right ]$$"
      ],
      "text/plain": [
       "[119.227899999998, 257.047999999998]"
      ]
     },
     "metadata": {},
     "output_type": "display_data"
    }
   ],
   "source": [
    "print('Forward difference')\n",
    "h=0.01\n",
    "f1_x0 = f1.subs(x1, 5).subs(x2, 6)\n",
    "f1_xn = f1.subs(x1, 5+h).subs(x2, 6)\n",
    "\n",
    "FDx = (f1_xn - f1_x0)/h\n",
    "\n",
    "f1_y0 = f1.subs(x1, 5).subs(x2, 6)\n",
    "f1_yn = f1.subs(x1, 5).subs(x2, 6+h)\n",
    "\n",
    "FDy = (f1_yn - f1_y0)/h\n",
    "\n",
    "display([FDx, FDy])\n",
    "\n",
    "print('Backward difference')\n",
    "f1_x0 = f1.subs(x1, 5).subs(x2, 6)\n",
    "f1_xn = f1.subs(x1, 5-h).subs(x2, 6)\n",
    "\n",
    "FDx = (f1_x0 - f1_xn)/h\n",
    "\n",
    "f1_y0 = f1.subs(x1, 5).subs(x2, 6)\n",
    "f1_yn = f1.subs(x1, 5).subs(x2, 6-h)\n",
    "\n",
    "FDy = (f1_y0 - f1_yn)/h\n",
    "\n",
    "display([FDx, FDy])\n",
    "\n",
    "print('Central difference')\n",
    "f1_x0 = f1.subs(x1, 5-h).subs(x2, 6)\n",
    "f1_xn = f1.subs(x1, 5+h).subs(x2, 6)\n",
    "\n",
    "FDx = (f1_xn - f1_x0)/(2*h)\n",
    "\n",
    "f1_y0 = f1.subs(x1, 5).subs(x2, 6-h)\n",
    "f1_yn = f1.subs(x1, 5).subs(x2, 6+h)\n",
    "\n",
    "FDy = (f1_yn - f1_y0)/(2*h)\n",
    "\n",
    "display([FDx, FDy])"
   ]
  },
  {
   "cell_type": "code",
   "execution_count": 6,
   "metadata": {
    "collapsed": false
   },
   "outputs": [
    {
     "name": "stdout",
     "output_type": "stream",
     "text": [
      "Problem 2b\n"
     ]
    },
    {
     "data": {
      "text/latex": [
       "$$\\left(- x_{1} + 2\\right)^{2} + 50 \\left(- x_{1}^{2} + x_{2}\\right)^{2}$$"
      ],
      "text/plain": [
       "                            2\n",
       "         2      ⎛    2     ⎞ \n",
       "(-x₁ + 2)  + 50⋅⎝- x₁  + x₂⎠ "
      ]
     },
     "metadata": {},
     "output_type": "display_data"
    },
    {
     "name": "stdout",
     "output_type": "stream",
     "text": [
      "Calculated gradient\n"
     ]
    },
    {
     "data": {
      "text/latex": [
       "$$\\left [ 200 x_{1}^{3} - 200 x_{1} x_{2} + 2 x_{1} - 4, \\quad - 100 x_{1}^{2} + 100 x_{2}\\right ]$$"
      ],
      "text/plain": [
       "⎡      3                                 2         ⎤\n",
       "⎣200⋅x₁  - 200⋅x₁⋅x₂ + 2⋅x₁ - 4, - 100⋅x₁  + 100⋅x₂⎦"
      ]
     },
     "metadata": {},
     "output_type": "display_data"
    },
    {
     "name": "stdout",
     "output_type": "stream",
     "text": [
      "After applying x=(1,2)\n"
     ]
    },
    {
     "data": {
      "text/latex": [
       "$$\\left[\\begin{matrix}-202 & 100\\end{matrix}\\right]$$"
      ],
      "text/plain": [
       "[-202  100]"
      ]
     },
     "metadata": {},
     "output_type": "display_data"
    }
   ],
   "source": [
    "print('Problem 2b')\n",
    "f2=50*(x2 - x1**2)**2 + (2-x1)**2\n",
    "display(f2)\n",
    "\n",
    "Gradf = grad(f2.expand(),1)\n",
    "print('Calculated gradient')\n",
    "display(Gradf)\n",
    "\n",
    "print('After applying x=(1,2)')\n",
    "Gradf = sp.Matrix([Gradf])\n",
    "Grad_sol = Gradf.subs(x1, 1).subs(x2, 2)\n",
    "display(Grad_sol)"
   ]
  },
  {
   "cell_type": "code",
   "execution_count": 7,
   "metadata": {
    "collapsed": false
   },
   "outputs": [
    {
     "name": "stdout",
     "output_type": "stream",
     "text": [
      "Forward difference\n"
     ]
    },
    {
     "data": {
      "text/latex": [
       "$$\\left [ -200.96995, \\quad 100.499999999998\\right ]$$"
      ],
      "text/plain": [
       "[-200.96995, 100.499999999998]"
      ]
     },
     "metadata": {},
     "output_type": "display_data"
    },
    {
     "name": "stdout",
     "output_type": "stream",
     "text": [
      "Backward difference\n"
     ]
    },
    {
     "data": {
      "text/latex": [
       "$$\\left [ -202.99005, \\quad 99.5000000000005\\right ]$$"
      ],
      "text/plain": [
       "[-202.99005, 99.5000000000005]"
      ]
     },
     "metadata": {},
     "output_type": "display_data"
    },
    {
     "name": "stdout",
     "output_type": "stream",
     "text": [
      "Central difference\n"
     ]
    },
    {
     "data": {
      "text/latex": [
       "$$\\left [ -201.98, \\quad 99.9999999999993\\right ]$$"
      ],
      "text/plain": [
       "[-201.98, 99.9999999999993]"
      ]
     },
     "metadata": {},
     "output_type": "display_data"
    }
   ],
   "source": [
    "print('Forward difference')\n",
    "h=0.01\n",
    "f1_x0 = f2.subs(x1, 1).subs(x2, 2)\n",
    "f1_xn = f2.subs(x1, 1+h).subs(x2, 2)\n",
    "\n",
    "FDx = (f1_xn - f1_x0)/h\n",
    "\n",
    "f1_y0 = f2.subs(x1, 1).subs(x2, 2)\n",
    "f1_yn = f2.subs(x1, 1).subs(x2, 2+h)\n",
    "\n",
    "FDy = (f1_yn - f1_y0)/h\n",
    "\n",
    "display([FDx, FDy])\n",
    "\n",
    "print('Backward difference')\n",
    "f1_x0 = f2.subs(x1, 1).subs(x2, 2)\n",
    "f1_xn = f2.subs(x1, 1-h).subs(x2, 2)\n",
    "\n",
    "FDx = (f1_x0 - f1_xn)/h\n",
    "\n",
    "f1_y0 = f2.subs(x1, 1).subs(x2, 2)\n",
    "f1_yn = f2.subs(x1, 1).subs(x2, 2-h)\n",
    "\n",
    "FDy = (f1_y0 - f1_yn)/h\n",
    "\n",
    "display([FDx, FDy])\n",
    "\n",
    "print('Central difference')\n",
    "f1_x0 = f2.subs(x1, 1-h).subs(x2, 2)\n",
    "f1_xn = f2.subs(x1, 1+h).subs(x2, 2)\n",
    "\n",
    "FDx = (f1_xn - f1_x0)/(2*h)\n",
    "\n",
    "f1_y0 = f2.subs(x1, 1).subs(x2, 2-h)\n",
    "f1_yn = f2.subs(x1, 1).subs(x2, 2+h)\n",
    "\n",
    "FDy = (f1_yn - f1_y0)/(2*h)\n",
    "\n",
    "display([FDx, FDy])"
   ]
  },
  {
   "cell_type": "code",
   "execution_count": 8,
   "metadata": {
    "collapsed": false
   },
   "outputs": [
    {
     "name": "stdout",
     "output_type": "stream",
     "text": [
      "Problem 2c\n"
     ]
    },
    {
     "data": {
      "text/latex": [
       "$$x_{1}^{2} + 2 x_{1} x_{2} + 2 x_{2}^{2} + 2 x_{2} x_{3} + 2 x_{3}^{2}$$"
      ],
      "text/plain": [
       "  2                 2                 2\n",
       "x₁  + 2⋅x₁⋅x₂ + 2⋅x₂  + 2⋅x₂⋅x₃ + 2⋅x₃ "
      ]
     },
     "metadata": {},
     "output_type": "display_data"
    },
    {
     "name": "stdout",
     "output_type": "stream",
     "text": [
      "Calculated gradient\n"
     ]
    },
    {
     "data": {
      "text/latex": [
       "$$\\left [ 2 x_{1} + 2 x_{2}, \\quad 2 x_{1} + 4 x_{2} + 2 x_{3}, \\quad 2 x_{2} + 4 x_{3}\\right ]$$"
      ],
      "text/plain": [
       "[2⋅x₁ + 2⋅x₂, 2⋅x₁ + 4⋅x₂ + 2⋅x₃, 2⋅x₂ + 4⋅x₃]"
      ]
     },
     "metadata": {},
     "output_type": "display_data"
    },
    {
     "name": "stdout",
     "output_type": "stream",
     "text": [
      "After applying x=(1,2,3)\n"
     ]
    },
    {
     "data": {
      "text/latex": [
       "$$\\left[\\begin{matrix}6 & 16 & 16\\end{matrix}\\right]$$"
      ],
      "text/plain": [
       "[6  16  16]"
      ]
     },
     "metadata": {},
     "output_type": "display_data"
    }
   ],
   "source": [
    "print('Problem 2c')\n",
    "f3=x1**2 + 2*x2**2 + 2*x3**2 + 2*x1*x2 + 2*x2*x3\n",
    "display(f3)\n",
    "\n",
    "Gradf = grad(f3,1)\n",
    "print('Calculated gradient')\n",
    "display(Gradf)\n",
    "\n",
    "print('After applying x=(1,2,3)')\n",
    "Gradf = sp.Matrix([Gradf])\n",
    "Grad_sol = Gradf.subs(x1, 1).subs(x2, 2).subs(x3, 3)\n",
    "display(Grad_sol)"
   ]
  },
  {
   "cell_type": "code",
   "execution_count": 9,
   "metadata": {
    "collapsed": false
   },
   "outputs": [
    {
     "name": "stdout",
     "output_type": "stream",
     "text": [
      "Forward difference\n"
     ]
    },
    {
     "data": {
      "text/latex": [
       "$$\\left [ 6.00999999999985, \\quad 16.0199999999996, \\quad 16.0199999999996\\right ]$$"
      ],
      "text/plain": [
       "[6.00999999999985, 16.0199999999996, 16.0199999999996]"
      ]
     },
     "metadata": {},
     "output_type": "display_data"
    },
    {
     "name": "stdout",
     "output_type": "stream",
     "text": [
      "Backward difference\n"
     ]
    },
    {
     "data": {
      "text/latex": [
       "$$\\left [ 5.9899999999999, \\quad 15.9799999999997, \\quad 15.9799999999997\\right ]$$"
      ],
      "text/plain": [
       "[5.9899999999999, 15.9799999999997, 15.9799999999997]"
      ]
     },
     "metadata": {},
     "output_type": "display_data"
    },
    {
     "name": "stdout",
     "output_type": "stream",
     "text": [
      "Central difference\n"
     ]
    },
    {
     "data": {
      "text/latex": [
       "$$\\left [ 5.99999999999987, \\quad 15.9999999999997, \\quad 15.9999999999997\\right ]$$"
      ],
      "text/plain": [
       "[5.99999999999987, 15.9999999999997, 15.9999999999997]"
      ]
     },
     "metadata": {},
     "output_type": "display_data"
    }
   ],
   "source": [
    "print('Forward difference')\n",
    "h=0.01\n",
    "f1_x0 = f3.subs(x1, 1).subs(x2, 2).subs(x3, 3)\n",
    "f1_xn = f3.subs(x1, 1+h).subs(x2, 2).subs(x3, 3)\n",
    "\n",
    "FDx = (f1_xn - f1_x0)/h\n",
    "\n",
    "f1_y0 = f3.subs(x1, 1).subs(x2, 2).subs(x3, 3)\n",
    "f1_yn = f3.subs(x1, 1).subs(x2, 2+h).subs(x3, 3)\n",
    "\n",
    "FDy = (f1_yn - f1_y0)/h\n",
    "\n",
    "f1_y0 = f3.subs(x1, 1).subs(x2, 2).subs(x3, 3)\n",
    "f1_yn = f3.subs(x1, 1).subs(x2, 2).subs(x3, 3+h)\n",
    "\n",
    "FDz = (f1_yn - f1_y0)/h\n",
    "\n",
    "display([FDx, FDy, FDz])\n",
    "\n",
    "print('Backward difference')\n",
    "f1_x0 = f3.subs(x1, 1).subs(x2, 2).subs(x3, 3)\n",
    "f1_xn = f3.subs(x1, 1-h).subs(x2, 2).subs(x3, 3)\n",
    "\n",
    "FDx = (f1_x0 - f1_xn)/h\n",
    "\n",
    "f1_y0 = f3.subs(x1, 1).subs(x2, 2).subs(x3, 3)\n",
    "f1_yn = f3.subs(x1, 1).subs(x2, 2-h).subs(x3, 3)\n",
    "\n",
    "FDy = (f1_y0 - f1_yn)/h\n",
    "\n",
    "f1_y0 = f3.subs(x1, 1).subs(x2, 2).subs(x3, 3)\n",
    "f1_yn = f3.subs(x1, 1).subs(x2, 2).subs(x3, 3-h)\n",
    "\n",
    "FDz = (f1_y0 - f1_yn)/h\n",
    "\n",
    "display([FDx, FDy, FDz])\n",
    "\n",
    "print('Central difference')\n",
    "f1_x0 = f3.subs(x1, 1-h).subs(x2, 2).subs(x3, 3)\n",
    "f1_xn = f3.subs(x1, 1+h).subs(x2, 2).subs(x3, 3)\n",
    "\n",
    "FDx = (f1_xn - f1_x0)/(2*h)\n",
    "\n",
    "f1_y0 = f3.subs(x1, 1).subs(x2, 2-h).subs(x3, 3)\n",
    "f1_yn = f3.subs(x1, 1).subs(x2, 2+h).subs(x3, 3)\n",
    "\n",
    "FDy = (f1_yn - f1_y0)/(2*h)\n",
    "\n",
    "f1_y0 = f3.subs(x1, 1).subs(x2, 2).subs(x3, 3-h)\n",
    "f1_yn = f3.subs(x1, 1).subs(x2, 2).subs(x3, 3+h)\n",
    "\n",
    "FDz = (f1_yn - f1_y0)/(2*h)\n",
    "\n",
    "display([FDx, FDy, FDz])"
   ]
  },
  {
   "cell_type": "markdown",
   "metadata": {},
   "source": [
    "#### Problem 3\n",
    "<img src=\"prob3.png\" width=\"550\">"
   ]
  },
  {
   "cell_type": "markdown",
   "metadata": {},
   "source": [
    "**Problem 3a**"
   ]
  },
  {
   "cell_type": "code",
   "execution_count": 28,
   "metadata": {
    "collapsed": false
   },
   "outputs": [
    {
     "data": {
      "text/latex": [
       "$$6 x_{1}^{2} - 6 x_{1} x_{2} - 5 x_{1} + 2 x_{2}^{2} + 4 x_{2} + 2$$"
      ],
      "text/plain": [
       "    2                        2           \n",
       "6⋅x₁  - 6⋅x₁⋅x₂ - 5⋅x₁ + 2⋅x₂  + 4⋅x₂ + 2"
      ]
     },
     "metadata": {},
     "output_type": "display_data"
    },
    {
     "name": "stdout",
     "output_type": "stream",
     "text": [
      "Calculated gradient\n"
     ]
    },
    {
     "data": {
      "text/latex": [
       "$$\\left [ 12 x_{1} - 6 x_{2} - 5, \\quad - 6 x_{1} + 4 x_{2} + 4\\right ]$$"
      ],
      "text/plain": [
       "[12⋅x₁ - 6⋅x₂ - 5, -6⋅x₁ + 4⋅x₂ + 4]"
      ]
     },
     "metadata": {},
     "output_type": "display_data"
    },
    {
     "name": "stdout",
     "output_type": "stream",
     "text": [
      "After applying x=(-1, -2) we get following c\n"
     ]
    },
    {
     "data": {
      "text/latex": [
       "$$\\left[\\begin{matrix}-5 & 2\\end{matrix}\\right]$$"
      ],
      "text/plain": [
       "[-5  2]"
      ]
     },
     "metadata": {},
     "output_type": "display_data"
    },
    {
     "name": "stdout",
     "output_type": "stream",
     "text": [
      "Magnitude of gradient\n"
     ]
    },
    {
     "data": {
      "text/latex": [
       "$$\\sqrt{29}$$"
      ],
      "text/plain": [
       "  ____\n",
       "╲╱ 29 "
      ]
     },
     "metadata": {},
     "output_type": "display_data"
    },
    {
     "name": "stdout",
     "output_type": "stream",
     "text": [
      "Gradient unit vector\n"
     ]
    },
    {
     "data": {
      "text/latex": [
       "$$\\left[\\begin{matrix}- \\frac{5 \\sqrt{29}}{29} & \\frac{2 \\sqrt{29}}{29}\\end{matrix}\\right]$$"
      ],
      "text/plain": [
       "⎡     ____       ____⎤\n",
       "⎢-5⋅╲╱ 29    2⋅╲╱ 29 ⎥\n",
       "⎢──────────  ────────⎥\n",
       "⎣    29         29   ⎦"
      ]
     },
     "metadata": {},
     "output_type": "display_data"
    },
    {
     "name": "stdout",
     "output_type": "stream",
     "text": [
      "Define tangent vector T at point x=(-1, -2)\n"
     ]
    },
    {
     "data": {
      "text/latex": [
       "$$- 5 \\frac{d}{d s} \\operatorname{x_{1}}{\\left (s \\right )} + 2 \\frac{d}{d s} \\operatorname{x_{2}}{\\left (s \\right )}$$"
      ],
      "text/plain": [
       "    d             d        \n",
       "- 5⋅──(x₁(s)) + 2⋅──(x₂(s))\n",
       "    ds            ds       "
      ]
     },
     "metadata": {},
     "output_type": "display_data"
    },
    {
     "name": "stdout",
     "output_type": "stream",
     "text": [
      "From above expression we get following tangent vector\n"
     ]
    },
    {
     "data": {
      "text/latex": [
       "$$\\left [ 2, \\quad 5\\right ]$$"
      ],
      "text/plain": [
       "[2, 5]"
      ]
     },
     "metadata": {},
     "output_type": "display_data"
    },
    {
     "name": "stdout",
     "output_type": "stream",
     "text": [
      "Now check property 1, where dot product dot(c,T) = 0\n"
     ]
    },
    {
     "data": {
      "text/latex": [
       "$$\\left[\\begin{matrix}-5 & 2\\end{matrix}\\right]$$"
      ],
      "text/plain": [
       "[-5  2]"
      ]
     },
     "metadata": {},
     "output_type": "display_data"
    },
    {
     "data": {
      "text/latex": [
       "$$\\left[\\begin{matrix}2 & 5\\end{matrix}\\right]$$"
      ],
      "text/plain": [
       "[2  5]"
      ]
     },
     "metadata": {},
     "output_type": "display_data"
    },
    {
     "name": "stdout",
     "output_type": "stream",
     "text": [
      "Property 1 checks out = 0 \n",
      "\n",
      "Next define some random vector d as seen below:\n"
     ]
    },
    {
     "data": {
      "text/latex": [
       "$$\\left[\\begin{matrix}-0.7071067\\\\0.7071067\\end{matrix}\\right]$$"
      ],
      "text/plain": [
       "⎡-0.7071067⎤\n",
       "⎢          ⎥\n",
       "⎣0.7071067 ⎦"
      ]
     },
     "metadata": {},
     "output_type": "display_data"
    },
    {
     "name": "stdout",
     "output_type": "stream",
     "text": [
      "Next check Property 2, which states that gradient direction represents steepest direction \n",
      "\n",
      "Calculate new x using c\n"
     ]
    },
    {
     "data": {
      "text/latex": [
       "$$\\left[\\begin{matrix}-1.09284766908853\\\\-1.96286093236459\\end{matrix}\\right]$$"
      ],
      "text/plain": [
       "⎡-1.09284766908853⎤\n",
       "⎢                 ⎥\n",
       "⎣-1.96286093236459⎦"
      ]
     },
     "metadata": {},
     "output_type": "display_data"
    },
    {
     "name": "stdout",
     "output_type": "stream",
     "text": [
      "Calculate new x using d\n"
     ]
    },
    {
     "data": {
      "text/latex": [
       "$$\\left[\\begin{matrix}-1.07071067\\\\-1.92928933\\end{matrix}\\right]$$"
      ],
      "text/plain": [
       "⎡-1.07071067⎤\n",
       "⎢           ⎥\n",
       "⎣-1.92928933⎦"
      ]
     },
     "metadata": {},
     "output_type": "display_data"
    },
    {
     "name": "stdout",
     "output_type": "stream",
     "text": [
      "New function value using gradient direction c\n"
     ]
    },
    {
     "data": {
      "text/latex": [
       "$$1.61368889450655$$"
      ],
      "text/plain": [
       "1.61368889450655"
      ]
     },
     "metadata": {},
     "output_type": "display_data"
    },
    {
     "name": "stdout",
     "output_type": "stream",
     "text": [
      "New function value using gradient direction d\n"
     ]
    },
    {
     "data": {
      "text/latex": [
       "$$1.56497467392589$$"
      ],
      "text/plain": [
       "1.56497467392589"
      ]
     },
     "metadata": {},
     "output_type": "display_data"
    },
    {
     "name": "stdout",
     "output_type": "stream",
     "text": [
      "Function value using gradient c is greater than using direction d. Therefore, property 2 checks out \n",
      "\n",
      "Next check property 3 by confirming that dot(c,c) is greater than dot(c,d) \n",
      "\n",
      "First calculate dot(c,c):\n"
     ]
    },
    {
     "data": {
      "text/latex": [
       "$$1.0$$"
      ],
      "text/plain": [
       "1.00000000000000"
      ]
     },
     "metadata": {},
     "output_type": "display_data"
    },
    {
     "name": "stdout",
     "output_type": "stream",
     "text": [
      "Next calculate dot(c,d):\n"
     ]
    },
    {
     "data": {
      "text/latex": [
       "$$0.919144924486314$$"
      ],
      "text/plain": [
       "0.919144924486314"
      ]
     },
     "metadata": {},
     "output_type": "display_data"
    },
    {
     "name": "stdout",
     "output_type": "stream",
     "text": [
      "Property 3 checks out since dot(c,c)>dot(c,d)\n"
     ]
    }
   ],
   "source": [
    "f3a=6*x1**2 - 6*x1*x2 + 2*x2**2 - 5*x1 + 4*x2 + 2\n",
    "display(f3a)\n",
    "\n",
    "Gradf = grad(f3a,1)\n",
    "print('Calculated gradient')\n",
    "display(Gradf)\n",
    "\n",
    "print('After applying x=(-1, -2) we get following c')\n",
    "Gradf = sp.Matrix([Gradf])\n",
    "Grad_sol = Gradf.subs(x1, -1).subs(x2, -2)\n",
    "display(Grad_sol)\n",
    "\n",
    "print('Magnitude of gradient')\n",
    "c = sp.sqrt(Grad_sol[0]**2 + Grad_sol[1]**2)\n",
    "display(c.simplify())\n",
    "\n",
    "print('Gradient unit vector')\n",
    "c_unit = (c**-1)*Grad_sol.expand(rational = False)\n",
    "c_unit = sp.Matrix([c_unit])\n",
    "display(c_unit)\n",
    "\n",
    "print('Define tangent vector T at point x=(-1, -2)')\n",
    "T = Gradf[0].subs(x1, -1).subs(x2, -2)*sp.diff(x1(s), s) + Gradf[1].subs(x1, -1).subs(x2, -2)*sp.diff(x2(s), s)\n",
    "display(T)\n",
    "print('From above expression we get following tangent vector')\n",
    "T1=[2, 5]\n",
    "display(T1)\n",
    "\n",
    "print('Now check property 1, where dot product dot(c,T) = 0')\n",
    "Grad_solC = sp.Matrix([Grad_sol])\n",
    "T1 = sp.Matrix([T1])\n",
    "display(Grad_solC)\n",
    "display(T1)\n",
    "dotP = Grad_solC.dot(T1)\n",
    "print('Property 1 checks out =', dotP, '\\n')\n",
    "\n",
    "print('Next define some random vector d as seen below:')\n",
    "d = sp.Matrix([-0.7071067, 0.7071067])\n",
    "display(d)\n",
    "\n",
    "print('Next check Property 2, which states that gradient direction represents steepest direction \\n')\n",
    "\n",
    "z1 = sp.Matrix([-1, -2]) + 0.1*c_unit.transpose()\n",
    "print('Calculate new x using c')\n",
    "display(z1.evalf())\n",
    "\n",
    "print('Calculate new x using d')\n",
    "z2 = sp.Matrix([-1, -2]) + 0.1*d\n",
    "display(z2)\n",
    "\n",
    "print('New function value using gradient direction c')\n",
    "ft1 = f3a.subs(x1, z1[0]).subs(x2, z1[1])\n",
    "display(ft1.evalf())\n",
    "\n",
    "print('New function value using gradient direction d')\n",
    "ft2 = f3a.subs(x1, z2[0]).subs(x2, z2[1])\n",
    "display(ft2.evalf())\n",
    "\n",
    "print('Function value using gradient c is greater than using direction d. Therefore, property 2 checks out \\n')\n",
    "\n",
    "print('Next check property 3 by confirming that dot(c,c) is greater than dot(c,d) \\n')\n",
    "print('First calculate dot(c,c):')\n",
    "\n",
    "dotC = c_unit.dot(c_unit)\n",
    "display(dotC.evalf())\n",
    "\n",
    "print('Next calculate dot(c,d):')\n",
    "dotCd = c_unit.dot(d)\n",
    "display(dotCd.evalf())\n",
    "\n",
    "print('Property 3 checks out since dot(c,c)>dot(c,d)')"
   ]
  },
  {
   "cell_type": "markdown",
   "metadata": {},
   "source": [
    "**Problem 3b**"
   ]
  },
  {
   "cell_type": "code",
   "execution_count": 29,
   "metadata": {
    "collapsed": false
   },
   "outputs": [
    {
     "data": {
      "text/latex": [
       "$$3 x_{1}^{2} + 2 x_{1} x_{2} + 2 x_{2}^{2} + 7$$"
      ],
      "text/plain": [
       "    2                 2    \n",
       "3⋅x₁  + 2⋅x₁⋅x₂ + 2⋅x₂  + 7"
      ]
     },
     "metadata": {},
     "output_type": "display_data"
    },
    {
     "name": "stdout",
     "output_type": "stream",
     "text": [
      "Calculated gradient\n"
     ]
    },
    {
     "data": {
      "text/latex": [
       "$$\\left [ 6 x_{1} + 2 x_{2}, \\quad 2 x_{1} + 4 x_{2}\\right ]$$"
      ],
      "text/plain": [
       "[6⋅x₁ + 2⋅x₂, 2⋅x₁ + 4⋅x₂]"
      ]
     },
     "metadata": {},
     "output_type": "display_data"
    },
    {
     "name": "stdout",
     "output_type": "stream",
     "text": [
      "After applying x=(5, 10) we get following c\n"
     ]
    },
    {
     "data": {
      "text/latex": [
       "$$\\left[\\begin{matrix}50 & 50\\end{matrix}\\right]$$"
      ],
      "text/plain": [
       "[50  50]"
      ]
     },
     "metadata": {},
     "output_type": "display_data"
    },
    {
     "name": "stdout",
     "output_type": "stream",
     "text": [
      "Magnitude of gradient\n"
     ]
    },
    {
     "data": {
      "text/latex": [
       "$$50 \\sqrt{2}$$"
      ],
      "text/plain": [
       "     ___\n",
       "50⋅╲╱ 2 "
      ]
     },
     "metadata": {},
     "output_type": "display_data"
    },
    {
     "name": "stdout",
     "output_type": "stream",
     "text": [
      "Gradient unit vector\n"
     ]
    },
    {
     "data": {
      "text/latex": [
       "$$\\left[\\begin{matrix}\\frac{\\sqrt{2}}{2} & \\frac{\\sqrt{2}}{2}\\end{matrix}\\right]$$"
      ],
      "text/plain": [
       "⎡  ___    ___⎤\n",
       "⎢╲╱ 2   ╲╱ 2 ⎥\n",
       "⎢─────  ─────⎥\n",
       "⎣  2      2  ⎦"
      ]
     },
     "metadata": {},
     "output_type": "display_data"
    },
    {
     "name": "stdout",
     "output_type": "stream",
     "text": [
      "Define tangent vector T at point x=(5, 10)\n"
     ]
    },
    {
     "data": {
      "text/latex": [
       "$$50 \\frac{d}{d s} \\operatorname{x_{1}}{\\left (s \\right )} + 50 \\frac{d}{d s} \\operatorname{x_{2}}{\\left (s \\right )}$$"
      ],
      "text/plain": [
       "   d              d        \n",
       "50⋅──(x₁(s)) + 50⋅──(x₂(s))\n",
       "   ds             ds       "
      ]
     },
     "metadata": {},
     "output_type": "display_data"
    },
    {
     "name": "stdout",
     "output_type": "stream",
     "text": [
      "From above expression we get following tangent vector\n"
     ]
    },
    {
     "data": {
      "text/latex": [
       "$$\\left [ -50, \\quad 50\\right ]$$"
      ],
      "text/plain": [
       "[-50, 50]"
      ]
     },
     "metadata": {},
     "output_type": "display_data"
    },
    {
     "name": "stdout",
     "output_type": "stream",
     "text": [
      "Now check property 1, where dot product dot(c,T) = 0\n"
     ]
    },
    {
     "data": {
      "text/latex": [
       "$$\\left[\\begin{matrix}50 & 50\\end{matrix}\\right]$$"
      ],
      "text/plain": [
       "[50  50]"
      ]
     },
     "metadata": {},
     "output_type": "display_data"
    },
    {
     "data": {
      "text/latex": [
       "$$\\left[\\begin{matrix}-50 & 50\\end{matrix}\\right]$$"
      ],
      "text/plain": [
       "[-50  50]"
      ]
     },
     "metadata": {},
     "output_type": "display_data"
    },
    {
     "name": "stdout",
     "output_type": "stream",
     "text": [
      "Property 1 checks out = 0 \n",
      "\n",
      "Next define some random vector d as seen below:\n"
     ]
    },
    {
     "data": {
      "text/latex": [
       "$$\\left[\\begin{matrix}0.5\\\\0.8660254\\end{matrix}\\right]$$"
      ],
      "text/plain": [
       "⎡   0.5   ⎤\n",
       "⎢         ⎥\n",
       "⎣0.8660254⎦"
      ]
     },
     "metadata": {},
     "output_type": "display_data"
    },
    {
     "name": "stdout",
     "output_type": "stream",
     "text": [
      "Next check Property 2, which states that gradient direction represents steepest direction \n",
      "\n",
      "Calculate new x using c\n"
     ]
    },
    {
     "data": {
      "text/latex": [
       "$$\\left[\\begin{matrix}5.07071067811865\\\\10.0707106781187\\end{matrix}\\right]$$"
      ],
      "text/plain": [
       "⎡5.07071067811865⎤\n",
       "⎢                ⎥\n",
       "⎣10.0707106781187⎦"
      ]
     },
     "metadata": {},
     "output_type": "display_data"
    },
    {
     "name": "stdout",
     "output_type": "stream",
     "text": [
      "Calculate new x using d\n"
     ]
    },
    {
     "data": {
      "text/latex": [
       "$$\\left[\\begin{matrix}5.05\\\\10.08660254\\end{matrix}\\right]$$"
      ],
      "text/plain": [
       "⎡   5.05    ⎤\n",
       "⎢           ⎥\n",
       "⎣10.08660254⎦"
      ]
     },
     "metadata": {},
     "output_type": "display_data"
    },
    {
     "name": "stdout",
     "output_type": "stream",
     "text": [
      "New function value using gradient direction c\n"
     ]
    },
    {
     "data": {
      "text/latex": [
       "$$389.106067811866$$"
      ],
      "text/plain": [
       "389.106067811866"
      ]
     },
     "metadata": {},
     "output_type": "display_data"
    },
    {
     "name": "stdout",
     "output_type": "stream",
     "text": [
      "New function value using gradient direction d\n"
     ]
    },
    {
     "data": {
      "text/latex": [
       "$$388.861287253869$$"
      ],
      "text/plain": [
       "388.861287253869"
      ]
     },
     "metadata": {},
     "output_type": "display_data"
    },
    {
     "name": "stdout",
     "output_type": "stream",
     "text": [
      "Function value using gradient c is greater than using direction d. Therefore, property 2 checks out \n",
      "\n",
      "Next check property 3 by confirming that dot(c,c) is greater than dot(c,d) \n",
      "\n",
      "First calculate dot(c,c):\n"
     ]
    },
    {
     "data": {
      "text/latex": [
       "$$1.0$$"
      ],
      "text/plain": [
       "1.00000000000000"
      ]
     },
     "metadata": {},
     "output_type": "display_data"
    },
    {
     "name": "stdout",
     "output_type": "stream",
     "text": [
      "Next calculate dot(c,d):\n"
     ]
    },
    {
     "data": {
      "text/latex": [
       "$$0.965925823613066$$"
      ],
      "text/plain": [
       "0.965925823613066"
      ]
     },
     "metadata": {},
     "output_type": "display_data"
    },
    {
     "name": "stdout",
     "output_type": "stream",
     "text": [
      "Property 3 checks out since dot(c,c)>dot(c,d)\n"
     ]
    }
   ],
   "source": [
    "f3b=3*x1**2 + 2*x1*x2 + 2*x2**2 + 7\n",
    "display(f3b)\n",
    "\n",
    "Gradf = grad(f3b,1)\n",
    "print('Calculated gradient')\n",
    "display(Gradf)\n",
    "\n",
    "print('After applying x=(5, 10) we get following c')\n",
    "Gradf = sp.Matrix([Gradf])\n",
    "Grad_sol = Gradf.subs(x1, 5).subs(x2, 10)\n",
    "display(Grad_sol)\n",
    "\n",
    "print('Magnitude of gradient')\n",
    "c = sp.sqrt(Grad_sol[0]**2 + Grad_sol[1]**2)\n",
    "display(c.simplify())\n",
    "\n",
    "print('Gradient unit vector')\n",
    "c_unit = (c**-1)*Grad_sol.expand(rational = False)\n",
    "c_unit = sp.Matrix([c_unit])\n",
    "display(c_unit)\n",
    "\n",
    "print('Define tangent vector T at point x=(5, 10)')\n",
    "T = Gradf[0].subs(x1, 5).subs(x2, 10)*sp.diff(x1(s), s) + Gradf[1].subs(x1, 5).subs(x2, 10)*sp.diff(x2(s), s)\n",
    "display(T)\n",
    "print('From above expression we get following tangent vector')\n",
    "T1=[-50, 50]\n",
    "display(T1)\n",
    "\n",
    "print('Now check property 1, where dot product dot(c,T) = 0')\n",
    "Grad_solC = sp.Matrix([Grad_sol])\n",
    "T1 = sp.Matrix([T1])\n",
    "display(Grad_solC)\n",
    "display(T1)\n",
    "dotP = Grad_solC.dot(T1)\n",
    "print('Property 1 checks out =', dotP, '\\n')\n",
    "\n",
    "print('Next define some random vector d as seen below:')\n",
    "d = sp.Matrix([0.5, .8660254])\n",
    "display(d)\n",
    "\n",
    "print('Next check Property 2, which states that gradient direction represents steepest direction \\n')\n",
    "\n",
    "z1 = sp.Matrix([5, 10]) + 0.1*c_unit.transpose()\n",
    "print('Calculate new x using c')\n",
    "display(z1.evalf())\n",
    "\n",
    "print('Calculate new x using d')\n",
    "z2 = sp.Matrix([5, 10]) + 0.1*d\n",
    "display(z2)\n",
    "\n",
    "print('New function value using gradient direction c')\n",
    "ft1 = f3b.subs(x1, z1[0]).subs(x2, z1[1])\n",
    "display(ft1.evalf())\n",
    "\n",
    "print('New function value using gradient direction d')\n",
    "ft2 = f3b.subs(x1, z2[0]).subs(x2, z2[1])\n",
    "display(ft2.evalf())\n",
    "\n",
    "print('Function value using gradient c is greater than using direction d. Therefore, property 2 checks out \\n')\n",
    "\n",
    "print('Next check property 3 by confirming that dot(c,c) is greater than dot(c,d) \\n')\n",
    "print('First calculate dot(c,c):')\n",
    "\n",
    "dotC = c_unit.dot(c_unit)\n",
    "display(dotC.evalf())\n",
    "\n",
    "print('Next calculate dot(c,d):')\n",
    "dotCd = c_unit.dot(d)\n",
    "display(dotCd.evalf())\n",
    "\n",
    "print('Property 3 checks out since dot(c,c)>dot(c,d)')"
   ]
  },
  {
   "cell_type": "markdown",
   "metadata": {},
   "source": [
    "**Problem 3c**"
   ]
  },
  {
   "cell_type": "code",
   "execution_count": 12,
   "metadata": {
    "collapsed": false
   },
   "outputs": [
    {
     "data": {
      "text/latex": [
       "$$11 x_{1}^{2} - 2 x_{1} - 10 x_{2} + 5$$"
      ],
      "text/plain": [
       "     2                   \n",
       "11⋅x₁  - 2⋅x₁ - 10⋅x₂ + 5"
      ]
     },
     "metadata": {},
     "output_type": "display_data"
    },
    {
     "name": "stdout",
     "output_type": "stream",
     "text": [
      "Calculated gradient\n"
     ]
    },
    {
     "data": {
      "text/latex": [
       "$$\\left [ 22 x_{1} - 2, \\quad -10\\right ]$$"
      ],
      "text/plain": [
       "[22⋅x₁ - 2, -10]"
      ]
     },
     "metadata": {},
     "output_type": "display_data"
    },
    {
     "name": "stdout",
     "output_type": "stream",
     "text": [
      "After applying x=(-1, 3) we get following c\n"
     ]
    },
    {
     "data": {
      "text/latex": [
       "$$\\left[\\begin{matrix}-24 & -10\\end{matrix}\\right]$$"
      ],
      "text/plain": [
       "[-24  -10]"
      ]
     },
     "metadata": {},
     "output_type": "display_data"
    },
    {
     "name": "stdout",
     "output_type": "stream",
     "text": [
      "Magnitude of gradient\n"
     ]
    },
    {
     "data": {
      "text/latex": [
       "$$26$$"
      ],
      "text/plain": [
       "26"
      ]
     },
     "metadata": {},
     "output_type": "display_data"
    },
    {
     "name": "stdout",
     "output_type": "stream",
     "text": [
      "Gradient unit vector\n"
     ]
    },
    {
     "data": {
      "text/latex": [
       "$$\\left[\\begin{matrix}- \\frac{12}{13} & - \\frac{5}{13}\\end{matrix}\\right]$$"
      ],
      "text/plain": [
       "⎡-12        ⎤\n",
       "⎢────  -5/13⎥\n",
       "⎣ 13        ⎦"
      ]
     },
     "metadata": {},
     "output_type": "display_data"
    },
    {
     "name": "stdout",
     "output_type": "stream",
     "text": [
      "Define tangent vector T at point x=(-1, 3)\n"
     ]
    },
    {
     "data": {
      "text/latex": [
       "$$- 24 \\frac{d}{d s} \\operatorname{x_{1}}{\\left (s \\right )} - 10 \\frac{d}{d s} \\operatorname{x_{2}}{\\left (s \\right )}$$"
      ],
      "text/plain": [
       "     d              d        \n",
       "- 24⋅──(x₁(s)) - 10⋅──(x₂(s))\n",
       "     ds             ds       "
      ]
     },
     "metadata": {},
     "output_type": "display_data"
    },
    {
     "name": "stdout",
     "output_type": "stream",
     "text": [
      "From above expression we get following tangent vector\n"
     ]
    },
    {
     "data": {
      "text/latex": [
       "$$\\left [ -10, \\quad 24\\right ]$$"
      ],
      "text/plain": [
       "[-10, 24]"
      ]
     },
     "metadata": {},
     "output_type": "display_data"
    },
    {
     "name": "stdout",
     "output_type": "stream",
     "text": [
      "Now check property 1, where dot product dot(c,T) = 0\n"
     ]
    },
    {
     "data": {
      "text/latex": [
       "$$\\left[\\begin{matrix}-24 & -10\\end{matrix}\\right]$$"
      ],
      "text/plain": [
       "[-24  -10]"
      ]
     },
     "metadata": {},
     "output_type": "display_data"
    },
    {
     "data": {
      "text/latex": [
       "$$\\left[\\begin{matrix}-10 & 24\\end{matrix}\\right]$$"
      ],
      "text/plain": [
       "[-10  24]"
      ]
     },
     "metadata": {},
     "output_type": "display_data"
    },
    {
     "name": "stdout",
     "output_type": "stream",
     "text": [
      "Property 1 checks out = 0 \n",
      "\n",
      "Next define some random vector d as seen below:\n"
     ]
    },
    {
     "data": {
      "text/latex": [
       "$$\\left[\\begin{matrix}-0.5\\\\-0.8660254\\end{matrix}\\right]$$"
      ],
      "text/plain": [
       "⎡   -0.5   ⎤\n",
       "⎢          ⎥\n",
       "⎣-0.8660254⎦"
      ]
     },
     "metadata": {},
     "output_type": "display_data"
    },
    {
     "name": "stdout",
     "output_type": "stream",
     "text": [
      "Next check Property 2, which states that gradient direction represents steepest direction \n",
      "\n",
      "Calculate new x using c\n"
     ]
    },
    {
     "data": {
      "text/latex": [
       "$$\\left[\\begin{matrix}-1.09230769230769\\\\2.96153846153846\\end{matrix}\\right]$$"
      ],
      "text/plain": [
       "⎡-1.09230769230769⎤\n",
       "⎢                 ⎥\n",
       "⎣2.96153846153846 ⎦"
      ]
     },
     "metadata": {},
     "output_type": "display_data"
    },
    {
     "name": "stdout",
     "output_type": "stream",
     "text": [
      "Calculate new x using d\n"
     ]
    },
    {
     "data": {
      "text/latex": [
       "$$\\left[\\begin{matrix}-1.05\\\\2.91339746\\end{matrix}\\right]$$"
      ],
      "text/plain": [
       "⎡  -1.05   ⎤\n",
       "⎢          ⎥\n",
       "⎣2.91339746⎦"
      ]
     },
     "metadata": {},
     "output_type": "display_data"
    },
    {
     "name": "stdout",
     "output_type": "stream",
     "text": [
      "New function value using gradient direction c\n"
     ]
    },
    {
     "data": {
      "text/latex": [
       "$$-9.30627218934911$$"
      ],
      "text/plain": [
       "-9.30627218934911"
      ]
     },
     "metadata": {},
     "output_type": "display_data"
    },
    {
     "name": "stdout",
     "output_type": "stream",
     "text": [
      "New function value using gradient direction d\n"
     ]
    },
    {
     "data": {
      "text/latex": [
       "$$-9.9064746$$"
      ],
      "text/plain": [
       "-9.90647460000000"
      ]
     },
     "metadata": {},
     "output_type": "display_data"
    },
    {
     "name": "stdout",
     "output_type": "stream",
     "text": [
      "Function value using gradient c is greater than using direction d. Therefore, property 2 checks out \n",
      "\n",
      "Next check property 3 by confirming that dot(c,c) is greater than dot(c,d) \n",
      "\n",
      "First calculate dot(c,c):\n"
     ]
    },
    {
     "data": {
      "text/latex": [
       "$$1$$"
      ],
      "text/plain": [
       "1"
      ]
     },
     "metadata": {},
     "output_type": "display_data"
    },
    {
     "name": "stdout",
     "output_type": "stream",
     "text": [
      "Next calculate dot(c,d):\n"
     ]
    },
    {
     "data": {
      "text/latex": [
       "$$0.794625153846154$$"
      ],
      "text/plain": [
       "0.794625153846154"
      ]
     },
     "metadata": {},
     "output_type": "display_data"
    },
    {
     "name": "stdout",
     "output_type": "stream",
     "text": [
      "Property 3 checks out since dot(c,c)>dot(c,d)\n"
     ]
    }
   ],
   "source": [
    "f3c=10*(x1**2 - x2) + x1**2 - 2*x1 + 5\n",
    "display(f3c)\n",
    "\n",
    "Gradf = grad(f3c,1)\n",
    "print('Calculated gradient')\n",
    "display(Gradf)\n",
    "\n",
    "print('After applying x=(-1, 3) we get following c')\n",
    "Gradf = sp.Matrix([Gradf])\n",
    "Grad_sol = Gradf.subs(x1, -1).subs(x2, 3)\n",
    "display(Grad_sol)\n",
    "\n",
    "print('Magnitude of gradient')\n",
    "c = sp.sqrt(Grad_sol[0]**2 + Grad_sol[1]**2)\n",
    "display(c.simplify())\n",
    "\n",
    "print('Gradient unit vector')\n",
    "c_unit = (c**-1)*Grad_sol.expand(rational = False)\n",
    "c_unit = sp.Matrix([c_unit])\n",
    "display(c_unit)\n",
    "\n",
    "print('Define tangent vector T at point x=(-1, 3)')\n",
    "T = Gradf[0].subs(x1, -1).subs(x2, 3)*sp.diff(x1(s), s) + Gradf[1].subs(x1, -1).subs(x2, 3)*sp.diff(x2(s), s)\n",
    "display(T)\n",
    "print('From above expression we get following tangent vector')\n",
    "T1=[-10, 24]\n",
    "display(T1)\n",
    "\n",
    "print('Now check property 1, where dot product dot(c,T) = 0')\n",
    "Grad_solC = sp.Matrix([Grad_sol])\n",
    "T1 = sp.Matrix([T1])\n",
    "display(Grad_solC)\n",
    "display(T1)\n",
    "dotP = Grad_solC.dot(T1)\n",
    "print('Property 1 checks out =', dotP, '\\n')\n",
    "\n",
    "print('Next define some random vector d as seen below:')\n",
    "d = sp.Matrix([-0.5, -.8660254])\n",
    "display(d)\n",
    "\n",
    "print('Next check Property 2, which states that gradient direction represents steepest direction \\n')\n",
    "\n",
    "z1 = sp.Matrix([-1, 3]) + 0.1*c_unit.transpose()\n",
    "print('Calculate new x using c')\n",
    "display(z1.expand(rational = False))\n",
    "\n",
    "print('Calculate new x using d')\n",
    "z2 = sp.Matrix([-1, 3]) + 0.1*d\n",
    "display(z2)\n",
    "\n",
    "print('New function value using gradient direction c')\n",
    "ft1 = f3c.subs(x1, z1[0]).subs(x2, z1[1])\n",
    "display(ft1.simplify())\n",
    "\n",
    "print('New function value using gradient direction d')\n",
    "ft2 = f3c.subs(x1, z2[0]).subs(x2, z2[1])\n",
    "display(ft2.simplify())\n",
    "\n",
    "print('Function value using gradient c is greater than using direction d. Therefore, property 2 checks out \\n')\n",
    "\n",
    "print('Next check property 3 by confirming that dot(c,c) is greater than dot(c,d) \\n')\n",
    "print('First calculate dot(c,c):')\n",
    "\n",
    "dotC = c_unit.dot(c_unit)\n",
    "display(dotC)\n",
    "\n",
    "print('Next calculate dot(c,d):')\n",
    "dotCd = c_unit.dot(d)\n",
    "display(dotCd)\n",
    "\n",
    "print('Property 3 checks out since dot(c,c)>dot(c,d)')"
   ]
  },
  {
   "cell_type": "markdown",
   "metadata": {},
   "source": [
    "#### Problem 4\n",
    "<img src=\"prob4.png\" width=\"550\">"
   ]
  },
  {
   "cell_type": "markdown",
   "metadata": {
    "collapsed": true
   },
   "source": [
    "**Standard form for above problem:**  \n",
    "\n",
    "find $x = [h, r]$\n",
    "\n",
    "to max: $V = \\pi r^2 h$\n",
    "\n",
    "Subject to:  \n",
    "\n",
    "$g_1: 2 \\pi r h  + \\pi r^2 - 900 \\le 0$\n",
    "\n",
    "$5 \\le r \\le 20$  \n",
    "$0 \\le h \\le 20$"
   ]
  },
  {
   "cell_type": "code",
   "execution_count": 41,
   "metadata": {
    "collapsed": false
   },
   "outputs": [
    {
     "name": "stdout",
     "output_type": "stream",
     "text": [
      "First scale costraint g1\n"
     ]
    },
    {
     "data": {
      "text/latex": [
       "$$\\frac{\\pi h}{450} r + \\frac{\\pi r^{2}}{900} - 1$$"
      ],
      "text/plain": [
       "           2    \n",
       "π⋅h⋅r   π⋅r     \n",
       "───── + ──── - 1\n",
       " 450    900     "
      ]
     },
     "metadata": {},
     "output_type": "display_data"
    },
    {
     "name": "stdout",
     "output_type": "stream",
     "text": [
      "Next check if g1 constraint is violated at x=(6, 15)\n"
     ]
    },
    {
     "data": {
      "text/latex": [
       "$$-0.246$$"
      ],
      "text/plain": [
       "-0.2460"
      ]
     },
     "metadata": {},
     "output_type": "display_data"
    },
    {
     "name": "stdout",
     "output_type": "stream",
     "text": [
      "per above results design point satisfies the constraint\n"
     ]
    }
   ],
   "source": [
    "print('First scale costraint g1')\n",
    "g1 = sp.nsimplify(900**-1*(2*sp.pi*r*h + sp.pi*r**2 - 900))\n",
    "display(g1)\n",
    "\n",
    "print('Next check if g1 constraint is violated at x=(6, 15)')\n",
    "\n",
    "g1=sp.nsimplify(900**-1*(2*sp.pi*r*h + sp.pi*r**2 - 900)).subs(r, 6).subs(h, 15)\n",
    "display(g1.evalf().round(4))\n",
    "print('per above results design point satisfies the constraint')"
   ]
  },
  {
   "cell_type": "code",
   "execution_count": 72,
   "metadata": {
    "collapsed": false
   },
   "outputs": [
    {
     "name": "stdout",
     "output_type": "stream",
     "text": [
      "next calculate gradient for function and g1 constraint \n",
      "\n",
      "Calculated gradient\n"
     ]
    },
    {
     "data": {
      "text/latex": [
       "$$\\left [ 2 \\pi h r, \\quad \\pi r^{2}\\right ]$$"
      ],
      "text/plain": [
       "⎡            2⎤\n",
       "⎣2⋅π⋅h⋅r, π⋅r ⎦"
      ]
     },
     "metadata": {},
     "output_type": "display_data"
    },
    {
     "name": "stdout",
     "output_type": "stream",
     "text": [
      "After applying x=(6, 15) we get following gradient value\n"
     ]
    },
    {
     "data": {
      "text/latex": [
       "$$\\left[\\begin{matrix}565.486677646163 & 113.097335529233\\end{matrix}\\right]$$"
      ],
      "text/plain": [
       "[565.486677646163  113.097335529233]"
      ]
     },
     "metadata": {},
     "output_type": "display_data"
    },
    {
     "name": "stdout",
     "output_type": "stream",
     "text": [
      "-Next calculate gradient for g1 constraint- \n",
      "\n",
      "Calculated gradient for g1 constraint\n"
     ]
    },
    {
     "data": {
      "text/latex": [
       "$$\\left [ \\frac{\\pi h}{450} + \\frac{\\pi r}{450}, \\quad \\frac{\\pi r}{450}\\right ]$$"
      ],
      "text/plain": [
       "⎡π⋅h   π⋅r  π⋅r⎤\n",
       "⎢─── + ───, ───⎥\n",
       "⎣450   450  450⎦"
      ]
     },
     "metadata": {},
     "output_type": "display_data"
    },
    {
     "name": "stdout",
     "output_type": "stream",
     "text": [
      "Evaluate g1 constraint at x=(6, 15)\n"
     ]
    },
    {
     "data": {
      "text/latex": [
       "$$\\left[\\begin{matrix}0.146607657167524 & 0.0418879020478639\\end{matrix}\\right]$$"
      ],
      "text/plain": [
       "[0.146607657167524  0.0418879020478639]"
      ]
     },
     "metadata": {},
     "output_type": "display_data"
    },
    {
     "name": "stdout",
     "output_type": "stream",
     "text": [
      "Now form linearized sub-problem \n",
      "\n",
      "Maximize following function\n"
     ]
    },
    {
     "data": {
      "text/latex": [
       "$$113.1 h + 565.49 r - 3392.98140625$$"
      ],
      "text/plain": [
       "113.1⋅h + 565.49⋅r - 3392.98140625"
      ]
     },
     "metadata": {},
     "output_type": "display_data"
    },
    {
     "name": "stdout",
     "output_type": "stream",
     "text": [
      "Subject to:\n"
     ]
    },
    {
     "data": {
      "text/latex": [
       "$$0.042 h + 0.147 r - 1.757962890625$$"
      ],
      "text/plain": [
       "0.042⋅h + 0.147⋅r - 1.757962890625"
      ]
     },
     "metadata": {},
     "output_type": "display_data"
    }
   ],
   "source": [
    "print('next calculate gradient for function and g1 constraint \\n')\n",
    "\n",
    "f = sp.pi*r**2*h\n",
    "#display('Vol =', f)\n",
    "\n",
    "Gradf = grad(f,1)\n",
    "print('Calculated gradient')\n",
    "display(Gradf)\n",
    "\n",
    "print('After applying x=(6, 15) we get following gradient value')\n",
    "Gradf = sp.Matrix([Gradf])\n",
    "Grad_sol = Gradf.subs(r, 6).subs(h, 15)\n",
    "\n",
    "display(Grad_sol.evalf())\n",
    "\n",
    "g1 = sp.nsimplify(900**-1*(2*sp.pi*r*h + sp.pi*r**2 - 900))\n",
    "print('-Next calculate gradient for g1 constraint- \\n')\n",
    "Gradh = grad(g1,1)\n",
    "print('Calculated gradient for g1 constraint')\n",
    "display(Gradh)\n",
    "\n",
    "print('Evaluate g1 constraint at x=(6, 15)')\n",
    "Gradh = sp.Matrix([Gradh])\n",
    "Gradh_sol = Gradh.subs(r, 6).subs(h, 15)\n",
    "display(Gradh_sol.evalf())\n",
    "\n",
    "print('Now form linearized sub-problem \\n')\n",
    "print('Maximize following function')\n",
    "fbar = 1696.46 + Grad_sol[0].round(2)*(r-6) + Grad_sol[1].round(2)*(h-15)\n",
    "display(fbar)\n",
    "\n",
    "print('Subject to:')\n",
    "g1bar = -0.246 + Gradh_sol[0].round(3)*(r-6) + Gradh_sol[1].round(3)*(h-15)\n",
    "display(g1bar)"
   ]
  },
  {
   "cell_type": "markdown",
   "metadata": {},
   "source": [
    "**Next plot original problem along with linearized constraint $\\bar{g_1}$**"
   ]
  },
  {
   "cell_type": "code",
   "execution_count": 81,
   "metadata": {
    "collapsed": true
   },
   "outputs": [],
   "source": [
    "%matplotlib inline\n",
    "import matplotlib.pyplot as plt\n",
    "import numpy as np\n",
    "import pylab\n",
    "\n",
    "def c_func337(f=20, lin_den=100, axis_span=[-1, 5, -1, 5],\\\n",
    "           Sol_Space=[-6, 6, -6, 6], test_val=0, cust_loc=[5, 15], labels=1):\n",
    "    \n",
    "    fig=plt.figure()\n",
    "    \n",
    "    x=np.linspace(0.001,30,500)\n",
    "    x1=np.ones(500, dtype=np.int)\n",
    "    \n",
    "    plt.plot(x, -((np.pi*x**2 - 900)/(2*np.pi*x)), 'g-',label = '$g_1$', linewidth=4)\n",
    "    \n",
    "    plt.plot(x, -3.5*x + 41.857, 'yo', linewidth=6)\n",
    "    \n",
    "    plt.plot(x1*5, x,'r-',label = '$g_2$', linewidth=4)\n",
    "    \n",
    "    plt.plot(x1*20, x,'r-',label = '$g_2$', linewidth=4)\n",
    "    \n",
    "    plt.plot(x, x*0,'b-',label = '$g_2$', linewidth=4)\n",
    "    \n",
    "    plt.plot(x, x1*20, 'b-',label = '$g_2$', linewidth=4)\n",
    "\n",
    "    if labels == 1:\n",
    "        plt.annotate(\"$g_1$\",xy=(0.4,3.6),xytext=(10,15), fontsize=f)\n",
    "        plt.annotate(\"$g_2$\",xy=(2,0.5),xytext=(2.5,10), fontsize=f)\n",
    "        plt.annotate(\"$g_3$\",xy=(2,0.5),xytext=(21,10), fontsize=f)\n",
    "        plt.annotate(\"$g_4$\",xy=(2,0.5),xytext=(25,2), fontsize=f)\n",
    "        #plt.annotate(\"$g_6$\",xy=(2,0.5),xytext=(10,10), fontsize=f)\n",
    "        plt.annotate(\"$g_5$\",xy=(2,0.5),xytext=(25,22), fontsize=f)\n",
    "        plt.annotate(\"$Design Space$\",xy=(2,0.5),xytext=(5,2), fontsize=f-3)\n",
    "    \n",
    "    #Plot annotations\n",
    "    plt.axis(axis_span)\n",
    "    fig.suptitle('Countour of $f(x_1, x_2)$', fontsize=f)\n",
    "    plt.xlabel('$r$', fontsize=f)\n",
    "    plt.ylabel('$h$', fontsize=f)\n",
    "    plt.grid()\n",
    "    \n",
    "    #Contour plot\n",
    "    y1=np.linspace(Sol_Space[0], Sol_Space[1], 500)\n",
    "    y2=np.linspace(Sol_Space[2], Sol_Space[3], 500)\n",
    "    X, Y = np.meshgrid(y1, y2)\n",
    "    F=np.pi*X**2*Y\n",
    "    CS=plt.contour(X, Y, F, lin_den)\n",
    "    if test_val==1:\n",
    "        manual_locations = [(cust_loc)]\n",
    "        plt.clabel(CS, inline=1, fontsize=f, manual=manual_locations)\n",
    "    else:\n",
    "        plt.clabel(CS, inline=0, fontsize=10)"
   ]
  },
  {
   "cell_type": "code",
   "execution_count": 82,
   "metadata": {
    "collapsed": false
   },
   "outputs": [
    {
     "data": {
      "image/png": "[encoded data removed]",
      "text/plain": [
       "<matplotlib.figure.Figure at 0x2439f5ade80>"
      ]
     },
     "metadata": {},
     "output_type": "display_data"
    }
   ],
   "source": [
    "import warnings\n",
    "warnings.filterwarnings('ignore')\n",
    "\n",
    "c_func337(f=20, lin_den=50, axis_span=[-1, 30, -1, 30],\\\n",
    "           Sol_Space=[-1, 30, -1, 30], test_val=0, cust_loc=[5, 15], labels=1)"
   ]
  },
  {
   "cell_type": "code",
   "execution_count": 83,
   "metadata": {
    "collapsed": false
   },
   "outputs": [
    {
     "data": {
      "image/png": "[encoded data removed]",
      "text/plain": [
       "<matplotlib.figure.Figure at 0x2439fd553c8>"
      ]
     },
     "metadata": {},
     "output_type": "display_data"
    }
   ],
   "source": [
    "c_func337(f=20, lin_den=50, axis_span=[5, 7, 15, 25],\\\n",
    "           Sol_Space=[-1, 7, 15, 25], test_val=1, cust_loc=[6.5, 18], labels=0)"
   ]
  },
  {
   "cell_type": "markdown",
   "metadata": {},
   "source": [
    "Linearized constraint $\\bar{g_1}$ is very close to the original non-linear constraint $g_1$. This is most likely due to the location at which the linearization of $g_1$ was performed (i.e. $\\bar{x}=(6, 15)$).  \n",
    "\n",
    "Optimized radius is $\\approx$ 6.2  \n",
    "Optimized height is $\\approx$ 20\n",
    "\n",
    "Linearized cost function value is $\\approx$ 2375.06  \n",
    "This linearized approximation is very close to original guess of 2400.00"
   ]
  },
  {
   "cell_type": "code",
   "execution_count": 13,
   "metadata": {
    "code_folding": [],
    "collapsed": false
   },
   "outputs": [
    {
     "data": {
      "text/html": [
       "<script>\n",
       "code_show=true; \n",
       "function code_toggle() {\n",
       " if (code_show){\n",
       " $('div.input').hide();\n",
       " } else {\n",
       " $('div.input').show();\n",
       " }\n",
       " code_show = !code_show\n",
       "} \n",
       "$( document ).ready(code_toggle);\n",
       "</script>\n",
       "The raw code for this IPython notebook is by default hidden for easier reading.\n",
       "To toggle on/off the raw code, click <a href=\"javascript:code_toggle()\">here</a>."
      ],
      "text/plain": [
       "<IPython.core.display.HTML object>"
      ]
     },
     "execution_count": 13,
     "metadata": {},
     "output_type": "execute_result"
    }
   ],
   "source": [
    "from IPython.display import HTML\n",
    "\n",
    "HTML('''<script>\n",
    "code_show=true; \n",
    "function code_toggle() {\n",
    " if (code_show){\n",
    " $('div.input').hide();\n",
    " } else {\n",
    " $('div.input').show();\n",
    " }\n",
    " code_show = !code_show\n",
    "} \n",
    "$( document ).ready(code_toggle);\n",
    "</script>\n",
    "The raw code for this IPython notebook is by default hidden for easier reading.\n",
    "To toggle on/off the raw code, click <a href=\"javascript:code_toggle()\">here</a>.''')"
   ]
  }
 ],
 "metadata": {
  "kernelspec": {
   "display_name": "Python 3",
   "language": "python",
   "name": "python3"
  },
  "language_info": {
   "codemirror_mode": {
    "name": "ipython",
    "version": 3
   },
   "file_extension": ".py",
   "mimetype": "text/x-python",
   "name": "python",
   "nbconvert_exporter": "python",
   "pygments_lexer": "ipython3",
   "version": "3.5.0"
  }
 },
 "nbformat": 4,
 "nbformat_minor": 0
}
