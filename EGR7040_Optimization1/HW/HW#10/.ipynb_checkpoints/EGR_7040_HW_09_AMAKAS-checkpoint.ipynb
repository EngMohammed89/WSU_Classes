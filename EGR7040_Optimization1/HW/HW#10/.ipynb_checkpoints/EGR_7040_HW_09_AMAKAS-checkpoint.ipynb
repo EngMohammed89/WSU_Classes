{
 "cells": [
  {
   "cell_type": "markdown",
   "metadata": {},
   "source": [
    "## Admir Makas  \n",
    "## HW 9\n",
    "****"
   ]
  },
  {
   "cell_type": "markdown",
   "metadata": {},
   "source": [
    "#### Problem 1a  \n",
    "#### Write standard LP form for following problem"
   ]
  },
  {
   "cell_type": "markdown",
   "metadata": {},
   "source": [
    "<img src=\"prob_91a.png\" width=\"400\">"
   ]
  },
  {
   "cell_type": "markdown",
   "metadata": {},
   "source": [
    "In standard LP problem cost function must be minimized. To accomplish this for the above problem need to multiply by $-1$ to get:  \n",
    "**$f = -20x_1 + 6x_2$**"
   ]
  },
  {
   "cell_type": "markdown",
   "metadata": {},
   "source": [
    "For the inequality of type $\\ge$ need to add a surplus variable to get following:  \n",
    "**$g_1 = 3x_1 - x_2 - s_1 = 3$**"
   ]
  },
  {
   "cell_type": "markdown",
   "metadata": {},
   "source": [
    "For the equality constraint no slack or surplus variable is needed. However, value on right hand side needs to be positive. To do this need to multiply by $-1$ to get:  \n",
    "**$h_1 = 4x_1 - 3x_2 = 8$**"
   ]
  },
  {
   "cell_type": "markdown",
   "metadata": {},
   "source": [
    "In above equation there are 3 variables to solve for $x_1,\\ x_2,\\ s_1$, which will be denoted as $x_1,\\ x_2,\\ x_3$  \n",
    "Next the above problem can be put into matrix form."
   ]
  },
  {
   "cell_type": "markdown",
   "metadata": {},
   "source": [
    "$x$ = $\\begin{bmatrix}\n",
    "x_1  &  x_2 & x_3\n",
    "\\end{bmatrix}^T$ \n",
    "\n",
    "$c$ = $\\begin{bmatrix}\n",
    "-20  &  6  &  0\n",
    "\\end{bmatrix}^T$ \n",
    "\n",
    "$b$ = $\\begin{bmatrix}\n",
    "3  &  8\n",
    "\\end{bmatrix}^T$\n",
    "\n",
    "$A$ = $\\begin{bmatrix}\n",
    "3  &  -1  &  -1 \\\\\n",
    "4  &  -3  &   0 \\\\\n",
    "\\end{bmatrix}$ "
   ]
  },
  {
   "cell_type": "markdown",
   "metadata": {},
   "source": [
    "#### Problem 1b\n",
    "#### Write standard LP form for following problem"
   ]
  },
  {
   "cell_type": "markdown",
   "metadata": {},
   "source": [
    "<img src=\"prob_91b.png\" width=\"400\">"
   ]
  },
  {
   "cell_type": "code",
   "execution_count": null,
   "metadata": {
    "collapsed": true
   },
   "outputs": [],
   "source": [
    "import numpy as np\n",
    "from scipy.linalg import lu\n",
    "import sympy as sp\n",
    "sp.init_printing(use_latex='mathjax')\n",
    "from IPython.display import display"
   ]
  },
  {
   "cell_type": "code",
   "execution_count": 43,
   "metadata": {
    "collapsed": false
   },
   "outputs": [],
   "source": [
    "x1 = sp.Symbol('x_1', real = True)\n",
    "x2 = sp.Symbol('x_2', real = True)\n",
    "x3p = sp.Symbol('x_{3}^{+}', real = True)\n",
    "x3m = sp.Symbol('x_{3}^{-}', real = True)\n",
    "s1 = sp.Symbol('s_1', real = True)\n",
    "s2 = sp.Symbol('s_2', real = True)\n",
    "s3 = sp.Symbol('s_3', real = True)\n",
    "s4 = sp.Symbol('s_4', real = True)\n",
    "\n",
    "x3 = x3p - x3m"
   ]
  },
  {
   "cell_type": "markdown",
   "metadata": {},
   "source": [
    "Since $x_3$ is unrestricted it needs to be defined as following:"
   ]
  },
  {
   "cell_type": "code",
   "execution_count": 40,
   "metadata": {
    "collapsed": false
   },
   "outputs": [
    {
     "data": {
      "text/latex": [
       "$$x^{{+}}_{{3}} - x^{{-}}_{{3}}$$"
      ],
      "text/plain": [
       "x_{3}__{+} - x_{3}__{-}"
      ]
     },
     "metadata": {},
     "output_type": "display_data"
    }
   ],
   "source": [
    "x3 = x3p - x3m\n",
    "display(x3)"
   ]
  },
  {
   "cell_type": "markdown",
   "metadata": {},
   "source": [
    "Next apply the definition for $x_3$ and define the linear programing problem:  \n",
    "\n",
    "Start with the cost function:"
   ]
  },
  {
   "cell_type": "code",
   "execution_count": 44,
   "metadata": {
    "collapsed": false
   },
   "outputs": [
    {
     "data": {
      "text/latex": [
       "$$8 x_{1} - 3 x_{2} + 15 x^{{+}}_{{3}} - 15 x^{{-}}_{{3}}$$"
      ],
      "text/plain": [
       "8⋅x₁ - 3⋅x₂ + 15⋅x_{3}__{+} - 15⋅x_{3}__{-}"
      ]
     },
     "metadata": {},
     "output_type": "display_data"
    }
   ],
   "source": [
    "f = 8*x1 - 3*x2 + 15*x3\n",
    "display(f) "
   ]
  },
  {
   "cell_type": "markdown",
   "metadata": {},
   "source": [
    "**Next define $g_1$**"
   ]
  },
  {
   "cell_type": "code",
   "execution_count": 53,
   "metadata": {
    "collapsed": false
   },
   "outputs": [
    {
     "data": {
      "text/latex": [
       "$$- s_{1} + 5 x_{1} - 1.8 x_{2} - 3.6 x^{{+}}_{{3}} + 3.6 x^{{-}}_{{3}} - 2$$"
      ],
      "text/plain": [
       "-s₁ + 5⋅x₁ - -1.8⋅(-1)⋅x₂ - -3.6⋅(-1)⋅x_{3}__{+} + 3.6⋅x_{3}__{-} - 2"
      ]
     },
     "execution_count": 53,
     "metadata": {},
     "output_type": "execute_result"
    }
   ],
   "source": [
    "g1 = 5*x1 - 1.8*x2 - 3.6*x3 - s1 - 2\n",
    "g1"
   ]
  },
  {
   "cell_type": "markdown",
   "metadata": {},
   "source": [
    "**Next define $g_2$**"
   ]
  },
  {
   "cell_type": "code",
   "execution_count": 54,
   "metadata": {
    "collapsed": false
   },
   "outputs": [
    {
     "data": {
      "text/latex": [
       "$$- s_{2} + 3 x_{1} + 6 x_{2} + 8.2 x^{{+}}_{{3}} - 8.2 x^{{-}}_{{3}} - 5$$"
      ],
      "text/plain": [
       "-s₂ + 3⋅x₁ + 6⋅x₂ + 8.2⋅x_{3}__{+} - -8.2⋅(-1)⋅x_{3}__{-} - 5"
      ]
     },
     "execution_count": 54,
     "metadata": {},
     "output_type": "execute_result"
    }
   ],
   "source": [
    "g2 = 3*x1 + 6*x2 + 8.2*x3 - s2 - 5\n",
    "g2"
   ]
  },
  {
   "cell_type": "markdown",
   "metadata": {},
   "source": [
    "**Next define $g_3$**"
   ]
  },
  {
   "cell_type": "code",
   "execution_count": 55,
   "metadata": {
    "collapsed": false
   },
   "outputs": [
    {
     "data": {
      "text/latex": [
       "$$s_{3} - 1.5 x_{1} + 4 x_{2} - 7.5 x^{{+}}_{{3}} + 7.5 x^{{-}}_{{3}} - 4.5$$"
      ],
      "text/plain": [
       "s₃ - -1.5⋅(-1)⋅x₁ + 4⋅x₂ - -7.5⋅(-1)⋅x_{3}__{+} + 7.5⋅x_{3}__{-} - 4.5"
      ]
     },
     "execution_count": 55,
     "metadata": {},
     "output_type": "execute_result"
    }
   ],
   "source": [
    "g3 = -1.5*x1 + 4*x2 - 7.5*x3 + s3 - 4.5\n",
    "g3"
   ]
  },
  {
   "cell_type": "markdown",
   "metadata": {},
   "source": [
    "**Next define $g_4$**"
   ]
  },
  {
   "cell_type": "code",
   "execution_count": 56,
   "metadata": {
    "collapsed": false
   },
   "outputs": [
    {
     "data": {
      "text/latex": [
       "$$- s_{4} - x_{2} + 5 x^{{+}}_{{3}} - 5 x^{{-}}_{{3}} - 1.5$$"
      ],
      "text/plain": [
       "-s₄ - x₂ + 5⋅x_{3}__{+} - 5⋅x_{3}__{-} - 1.5"
      ]
     },
     "execution_count": 56,
     "metadata": {},
     "output_type": "execute_result"
    }
   ],
   "source": [
    "g4 = -x2 + 5*x3 - s4 - 1.5\n",
    "g4"
   ]
  },
  {
   "cell_type": "markdown",
   "metadata": {},
   "source": [
    "**Now put problem into matrix form:**"
   ]
  },
  {
   "cell_type": "markdown",
   "metadata": {},
   "source": [
    "$x$ = $\\begin{bmatrix}\n",
    "x_1  &  x_2 & x_3 & x_4 & x_5 & x_6 & x_7 & x_8\n",
    "\\end{bmatrix}^T$ "
   ]
  },
  {
   "cell_type": "markdown",
   "metadata": {},
   "source": [
    "$c$ = $\\begin{bmatrix}\n",
    "8  &  -3 & 15 & -15 & 0 & 0 & 0 & 0\n",
    "\\end{bmatrix}^T$ "
   ]
  },
  {
   "cell_type": "markdown",
   "metadata": {},
   "source": [
    "$b$ = $\\begin{bmatrix}\n",
    "2  &  5 & 4.5 & 1.5\n",
    "\\end{bmatrix}^T$ "
   ]
  },
  {
   "cell_type": "markdown",
   "metadata": {},
   "source": [
    "$A$ = $\\begin{bmatrix}\n",
    "5 & -1.8 & -3.6 & 3.6 & -1 & 0 & 0 & 0 \\\\\n",
    "3 &  6   &  8.2 &-8.2 & 0 & -1 & 0 & 0 \\\\\n",
    "-1.5& 4  & -7.5 & 7.5 & 0 & 0  & 1 & 0 \\\\\n",
    "0 & -1   &   5  &  -5 & 0 & 0  & 0 &-1 \\\\\n",
    "\\end{bmatrix}$ "
   ]
  },
  {
   "cell_type": "markdown",
   "metadata": {},
   "source": [
    "#### Problem 2\n",
    "#### Find all basic solutions for following problem"
   ]
  },
  {
   "cell_type": "markdown",
   "metadata": {},
   "source": [
    "<img src=\"prob_92.png\" width=\"500\">"
   ]
  },
  {
   "cell_type": "markdown",
   "metadata": {},
   "source": [
    "Once the problem is put into row echelon form the 10 basic solutions can be calculated by setting following sets of variables to zero **(non-basic)** and solving for others.  \n",
    "\n",
    "$x_1, x_2$ $= 0$  \n",
    "$x_1, x_3$ $= 0$  \n",
    "$x_1, x_4$ $= 0$  \n",
    "$x_1, x_5$ $= 0$  \n",
    "$x_2, x_3$ $= 0$  \n",
    "$x_2, x_4$ $= 0$  \n",
    "$x_2, x_5$ $= 0$  \n",
    "$x_3, x_4$ $= 0$  \n",
    "$x_3, x_5$ $= 0$  \n",
    "$x_4, x_5$ $= 0$"
   ]
  },
  {
   "cell_type": "markdown",
   "metadata": {},
   "source": [
    "**Solutions for $x_1, x_2$ $= 0$:**\n",
    "\n",
    "Solution for basic variables become:  \n",
    "\n",
    "$\\begin{bmatrix}\n",
    "x_3 \\\\\n",
    "x_4 \\\\\n",
    "x_5 \\\\\n",
    "\\end{bmatrix}$ = $\\left[\\begin{matrix}16.0\\\\1.0\\\\1.0\\end{matrix}\\right]$\n",
    "\n",
    "$f =\\ 0$, solution is feasible"
   ]
  },
  {
   "cell_type": "markdown",
   "metadata": {},
   "source": [
    "**Solutions for $x_1, x_3$ $= 0$:**\n",
    "\n",
    "Solution for basic variables become:  \n",
    "\n",
    "$\\begin{bmatrix}\n",
    "x_2 \\\\\n",
    "x_4 \\\\\n",
    "x_5 \\\\\n",
    "\\end{bmatrix}$ = $\\left[\\begin{matrix}16.0\\\\-0.142857142857143\\\\0.333333333333333\\end{matrix}\\right]$\n",
    "\n",
    "$f =\\ -9600$, solution not feasible since $x_4$ is negative"
   ]
  },
  {
   "cell_type": "markdown",
   "metadata": {},
   "source": [
    "**Solutions for $x_1, x_4$ $= 0$:**\n",
    "\n",
    "Solution for basic variables become:  \n",
    "\n",
    "$\\begin{bmatrix}\n",
    "x_2 \\\\\n",
    "x_3 \\\\\n",
    "x_5 \\\\\n",
    "\\end{bmatrix}$ = $\\left[\\begin{matrix}14.0\\\\2.0\\\\0.416666666666667\\end{matrix}\\right]$\n",
    "\n",
    "$f =\\ -8400$, solution is feasible"
   ]
  },
  {
   "cell_type": "markdown",
   "metadata": {},
   "source": [
    "**Solutions for $x_1, x_5$ $= 0$:**\n",
    "\n",
    "Solution for basic variables become:  \n",
    "\n",
    "$\\begin{bmatrix}\n",
    "x_2 \\\\\n",
    "x_3 \\\\\n",
    "x_4 \\\\\n",
    "\\end{bmatrix}$ = $\\left[\\begin{matrix}24.0\\\\-8.0\\\\-0.714285714285714\\end{matrix}\\right]$\n",
    "\n",
    "$f =\\ -14400$, solution not feasible since $x_3$ and $x_4$ are negative"
   ]
  },
  {
   "cell_type": "markdown",
   "metadata": {},
   "source": [
    "**Solutions for $x_2, x_3$ $= 0$:**\n",
    "\n",
    "Solution for basic variables become:  \n",
    "\n",
    "$\\begin{bmatrix}\n",
    "x_1 \\\\\n",
    "x_4 \\\\\n",
    "x_5 \\\\\n",
    "\\end{bmatrix}$ = $\\left[\\begin{matrix}16.0\\\\0.428571428571429\\\\-0.142857142857143\\end{matrix}\\right]$\n",
    "\n",
    "$f =\\ -6400$, solution not feasible since $x_5$ is negative"
   ]
  },
  {
   "cell_type": "markdown",
   "metadata": {},
   "source": [
    "**Solutions for $x_2, x_4$ $= 0$:**\n",
    "\n",
    "Solution for basic variables become:  \n",
    "\n",
    "$\\begin{bmatrix}\n",
    "x_1 \\\\\n",
    "x_3 \\\\\n",
    "x_5 \\\\\n",
    "\\end{bmatrix}$ = $\\left[\\begin{matrix}28.0\\\\-12.0\\\\-1.0\\end{matrix}\\right]$\n",
    "\n",
    "$f =\\ -11200$, solution not feasible since $x_3$ and $x_5$ are negative"
   ]
  },
  {
   "cell_type": "markdown",
   "metadata": {},
   "source": [
    "**Solutions for $x_2, x_5$ $= 0$:**\n",
    "\n",
    "Solution for basic variables become:  \n",
    "\n",
    "$\\begin{bmatrix}\n",
    "x_1 \\\\\n",
    "x_3 \\\\\n",
    "x_4 \\\\\n",
    "\\end{bmatrix}$ = $\\left[\\begin{matrix}14.0\\\\2.0\\\\0.5\\end{matrix}\\right]$\n",
    "\n",
    "$f =\\ -5600$, solution is feasible"
   ]
  },
  {
   "cell_type": "markdown",
   "metadata": {},
   "source": [
    "**Solutions for $x_3, x_4$ $= 0$:**\n",
    "\n",
    "Solution for basic variables become:  \n",
    "\n",
    "$\\begin{bmatrix}\n",
    "x_1 \\\\\n",
    "x_2 \\\\\n",
    "x_5 \\\\\n",
    "\\end{bmatrix}$ = $\\left[\\begin{matrix}4.0\\\\12.0\\\\0.214285714285714\\end{matrix}\\right]$\n",
    "\n",
    "$f =\\ -8800$, solution is feasible"
   ]
  },
  {
   "cell_type": "markdown",
   "metadata": {},
   "source": [
    "**Solutions for $x_3, x_5$ $= 0$:**\n",
    "\n",
    "Solution for basic variables become:  \n",
    "\n",
    "$\\begin{bmatrix}\n",
    "x_1 \\\\\n",
    "x_2 \\\\\n",
    "x_4 \\\\\n",
    "\\end{bmatrix}$ = $\\left[\\begin{matrix}11.2\\\\4.8\\\\0.257142857142857\\end{matrix}\\right]$\n",
    "\n",
    "$f =\\ -7360$, solution is feasible"
   ]
  },
  {
   "cell_type": "markdown",
   "metadata": {},
   "source": [
    "**Solutions for $x_4, x_5$ $= 0$:**\n",
    "\n",
    "Solution for basic variables become:  \n",
    "\n",
    "$\\begin{bmatrix}\n",
    "x_1 \\\\\n",
    "x_2 \\\\\n",
    "x_3 \\\\\n",
    "\\end{bmatrix}$ = $\\left[\\begin{matrix}8.23529411764706\\\\9.88235294117647\\\\-2.11764705882353\\end{matrix}\\right]$\n",
    "\n",
    "$f =\\ -9223.5$, solution not feasible since $x_3$ is negative"
   ]
  },
  {
   "cell_type": "markdown",
   "metadata": {},
   "source": [
    "**Optimum solution occurs where $x_3$ and $x_4$ are 0. This implies that inequalities $g_1$ and $g_2$ are active at the optimum solution, which yields a cost function value of $-8800.00$**"
   ]
  },
  {
   "cell_type": "markdown",
   "metadata": {},
   "source": [
    "Problem 2 was solved by using Python programming language to put the problem into row echelon form and solving for the 10 cases. Code can be seen below\n",
    "****"
   ]
  },
  {
   "cell_type": "markdown",
   "metadata": {},
   "source": [
    "-#import necessary modules  \n",
    "import numpy as np  \n",
    "from scipy.linalg import lu  \n",
    "import sympy as sp  \n",
    "sp.init_printing(use_latex='mathjax')  \n",
    "from IPython.display import display  \n",
    "\n",
    "-#Define matrix that will be put into reduced row echelon form  \n",
    "a = np.array([[1.0,1.0,1.0,0.0,0.0,16],[1/28,1/14,0.0,1.0,0.0,1.0],[1/14,1/24,0.0,0.0,1.0,1.0]])  \n",
    "\n",
    "-#Perform the row reduction procedure  \n",
    "pl, u = lu(a, permute_l=True)  \n",
    "\n",
    "-#Put results into matrix to be used for further analysis  \n",
    "U = sp.Matrix(u)  \n",
    "display(U)  \n",
    "\n",
    "-#Extract b matrix  \n",
    "b = sp.Matrix(U[:,5])  \n",
    "display(b)  \n",
    "\n",
    "-#Define rows of A matrix and combine  \n",
    "A1 = sp.Matrix(U[0,:-1])  \n",
    "\n",
    "A2 = sp.Matrix([U[1,:-1]])  \n",
    "\n",
    "A3 = sp.Matrix([U[2,:-1]])  \n",
    "\n",
    "A = sp.Matrix([A1, A2, A3])  \n",
    "display(A)  \n",
    "\n",
    "-#Depending on which variables are set to zero the below operation will set corresponding columns to 0  \n",
    "A.col_del(3)  \n",
    "A.col_del(3)  \n",
    "display(A)  \n",
    "\n",
    "-#Solve system for the basic variabels  \n",
    "x = sp.mpmath.lu_solve(A, b)  \n",
    "Sol = sp.Matrix(x)  \n",
    "print('Solutions')  \n",
    "display(Sol)  \n",
    "\n",
    "-#Function definitions  \n",
    "f=-400*Sol[0] - 600*Sol[1]  \n",
    "\n",
    "print('Cost function value')  \n",
    "display(f)  "
   ]
  },
  {
   "cell_type": "code",
   "execution_count": 79,
   "metadata": {
    "collapsed": false
   },
   "outputs": [],
   "source": [
    "import numpy as np\n",
    "from scipy.linalg import lu\n",
    "import sympy as sp\n",
    "sp.init_printing(use_latex='mathjax')\n",
    "from IPython.display import display\n",
    "\n",
    "x1 = sp.Symbol('x_1', real = True)\n",
    "x2 = sp.Symbol('x_2', real = True)\n",
    "x3 = sp.Symbol('x_3', real = True)\n",
    "x4 = sp.Symbol('x_4', real = True)\n",
    "x5 = sp.Symbol('x_5', real = True)\n",
    "\n",
    "xVar=sp.Matrix([x1, x2, x3, x4, x5])\n",
    "#display(xVar)\n",
    "\n",
    "a = np.array([[1.0,1.0,1.0,0.0,0.0,16],[1/28,1/14,0.0,1.0,0.0,1.0],[1/14,1/24,0.0,0.0,1.0,1.0]])\n",
    "\n",
    "pl, u = lu(a, permute_l=True)\n",
    "\n",
    "U = sp.Matrix(u)\n",
    "#display(U)\n",
    "\n",
    "b = sp.Matrix(U[:,5])\n",
    "#display(b)\n",
    "\n",
    "A1 = sp.Matrix(U[0,:-1])\n",
    "#A1 = [A1[i]*xvar[i] for i in range(len(A1))]\n",
    "#A1 = A1*xVar\n",
    "#display(A1)\n",
    "#eq1=A1.col_insert(3, sp.Matrix([-b[0,0]]))\n",
    "#display(eq1)\n",
    "\n",
    "A2 = sp.Matrix([U[1,:-1]])\n",
    "#A2 = A2*xvar\n",
    "#display(A2)\n",
    "#eq2=A2.col_insert(3, sp.Matrix([-b[1,0]]))\n",
    "#display(eq2)\n",
    "\n",
    "A3 = sp.Matrix([U[2,:-1]])\n",
    "#A3 = A3*xvar\n",
    "#display(A3)\n",
    "#eq3=A3.col_insert(3, sp.Matrix([-b[2,0]]))\n",
    "#display(eq3)\n",
    "\n",
    "A = sp.Matrix([A1, A2, A3])\n",
    "#display(A)\n",
    "A.col_del(3)\n",
    "A.col_del(3)\n",
    "#display(A)\n",
    "\n",
    "x = sp.mpmath.lu_solve(A, b)\n",
    "Sol = sp.Matrix(x)\n",
    "#print('Solutions')\n",
    "#display(Sol)\n",
    "\n",
    "#f=-400*Sol[0] - 600*Sol[1]\n",
    "#f=-400*0 - 600*Sol[0]\n",
    "#f=-400*Sol[0] - 600*0\n",
    "\n",
    "#print('Cost function value')\n",
    "#display(f)\n",
    "\n",
    "#PL = sp.Matrix(pl)\n",
    "#PL"
   ]
  },
  {
   "cell_type": "code",
   "execution_count": 63,
   "metadata": {
    "code_folding": [],
    "collapsed": false
   },
   "outputs": [
    {
     "data": {
      "text/html": [
       "<script>\n",
       "code_show=true; \n",
       "function code_toggle() {\n",
       " if (code_show){\n",
       " $('div.input').hide();\n",
       " } else {\n",
       " $('div.input').show();\n",
       " }\n",
       " code_show = !code_show\n",
       "} \n",
       "$( document ).ready(code_toggle);\n",
       "</script>\n",
       "The raw code for this IPython notebook is by default hidden for easier reading.\n",
       "To toggle on/off the raw code, click <a href=\"javascript:code_toggle()\">here</a>."
      ],
      "text/plain": [
       "<IPython.core.display.HTML object>"
      ]
     },
     "execution_count": 63,
     "metadata": {},
     "output_type": "execute_result"
    }
   ],
   "source": [
    "from IPython.display import HTML\n",
    "\n",
    "HTML('''<script>\n",
    "code_show=true; \n",
    "function code_toggle() {\n",
    " if (code_show){\n",
    " $('div.input').hide();\n",
    " } else {\n",
    " $('div.input').show();\n",
    " }\n",
    " code_show = !code_show\n",
    "} \n",
    "$( document ).ready(code_toggle);\n",
    "</script>\n",
    "The raw code for this IPython notebook is by default hidden for easier reading.\n",
    "To toggle on/off the raw code, click <a href=\"javascript:code_toggle()\">here</a>.''')"
   ]
  }
 ],
 "metadata": {
  "kernelspec": {
   "display_name": "Python 3",
   "language": "python",
   "name": "python3"
  },
  "language_info": {
   "codemirror_mode": {
    "name": "ipython",
    "version": 3
   },
   "file_extension": ".py",
   "mimetype": "text/x-python",
   "name": "python",
   "nbconvert_exporter": "python",
   "pygments_lexer": "ipython3",
   "version": "3.5.0"
  }
 },
 "nbformat": 4,
 "nbformat_minor": 0
}
