{
 "cells": [
  {
   "cell_type": "code",
   "execution_count": 1,
   "metadata": {
    "collapsed": true
   },
   "outputs": [],
   "source": [
    "import sympy as sp\n",
    "sp.init_printing(use_latex='mathjax')\n",
    "from IPython.display import display"
   ]
  },
  {
   "cell_type": "code",
   "execution_count": 2,
   "metadata": {
    "collapsed": true
   },
   "outputs": [],
   "source": [
    "X = sp.Symbol('X', real = True)\n",
    "F = sp.Symbol('F', real = True)\n",
    "Zx = sp.Symbol('Zx', real = True)\n",
    "Zf = sp.Symbol('Zf', real = True)"
   ]
  },
  {
   "cell_type": "code",
   "execution_count": 5,
   "metadata": {
    "collapsed": true
   },
   "outputs": [],
   "source": [
    "Gxx = sp.Symbol('Gxx', real = True)\n",
    "Gff = sp.Symbol('Gff', real = True)\n",
    "Exx = sp.Symbol('Exx', real = True)\n",
    "Eff = sp.Symbol('Eff', real = True)"
   ]
  },
  {
   "cell_type": "code",
   "execution_count": 3,
   "metadata": {
    "collapsed": false
   },
   "outputs": [
    {
     "data": {
      "text/latex": [
       "$$\\frac{1}{F + Zf}$$"
      ],
      "text/plain": [
       "  1   \n",
       "──────\n",
       "F + Zf"
      ]
     },
     "execution_count": 3,
     "metadata": {},
     "output_type": "execute_result"
    }
   ],
   "source": [
    "sp.diff((X+Zx)/(F+Zf), Zx)"
   ]
  },
  {
   "cell_type": "code",
   "execution_count": 4,
   "metadata": {
    "collapsed": false
   },
   "outputs": [
    {
     "data": {
      "text/latex": [
       "$$- \\frac{X + Zx}{\\left(F + Zf\\right)^{2}}$$"
      ],
      "text/plain": [
       "-(X + Zx) \n",
       "──────────\n",
       "        2 \n",
       "(F + Zf)  "
      ]
     },
     "execution_count": 4,
     "metadata": {},
     "output_type": "execute_result"
    }
   ],
   "source": [
    "sp.diff((X+Zx)/(F+Zf), Zf)"
   ]
  },
  {
   "cell_type": "code",
   "execution_count": 12,
   "metadata": {
    "collapsed": false
   },
   "outputs": [
    {
     "data": {
      "text/latex": [
       "$$\\frac{1}{\\frac{Eff Exx}{Gff Gxx} + \\frac{Eff}{Gff} + \\frac{Exx}{Gxx} + 1}$$"
      ],
      "text/plain": [
       "           1           \n",
       "───────────────────────\n",
       "Eff⋅Exx   Eff   Exx    \n",
       "─────── + ─── + ─── + 1\n",
       "Gff⋅Gxx   Gff   Gxx    "
      ]
     },
     "execution_count": 12,
     "metadata": {},
     "output_type": "execute_result"
    }
   ],
   "source": [
    "gamma = 1/(1 + Eff/Gff + Exx/Gxx + (Eff*Exx)/(Gff*Gxx))\n",
    "gamma"
   ]
  },
  {
   "cell_type": "code",
   "execution_count": 13,
   "metadata": {
    "collapsed": false
   },
   "outputs": [
    {
     "data": {
      "text/latex": [
       "$$\\frac{- \\frac{Eff}{Gff Gxx} - \\frac{1}{Gxx}}{\\left(\\frac{Eff Exx}{Gff Gxx} + \\frac{Eff}{Gff} + \\frac{Exx}{Gxx} + 1\\right)^{2}}$$"
      ],
      "text/plain": [
       "         Eff      1       \n",
       "     - ─────── - ───      \n",
       "       Gff⋅Gxx   Gxx      \n",
       "──────────────────────────\n",
       "                         2\n",
       "⎛Eff⋅Exx   Eff   Exx    ⎞ \n",
       "⎜─────── + ─── + ─── + 1⎟ \n",
       "⎝Gff⋅Gxx   Gff   Gxx    ⎠ "
      ]
     },
     "execution_count": 13,
     "metadata": {},
     "output_type": "execute_result"
    }
   ],
   "source": [
    "sp.diff(gamma, Exx)"
   ]
  },
  {
   "cell_type": "code",
   "execution_count": 14,
   "metadata": {
    "collapsed": false
   },
   "outputs": [
    {
     "data": {
      "text/latex": [
       "$$\\frac{- \\frac{Exx}{Gff Gxx} - \\frac{1}{Gff}}{\\left(\\frac{Eff Exx}{Gff Gxx} + \\frac{Eff}{Gff} + \\frac{Exx}{Gxx} + 1\\right)^{2}}$$"
      ],
      "text/plain": [
       "         Exx      1       \n",
       "     - ─────── - ───      \n",
       "       Gff⋅Gxx   Gff      \n",
       "──────────────────────────\n",
       "                         2\n",
       "⎛Eff⋅Exx   Eff   Exx    ⎞ \n",
       "⎜─────── + ─── + ─── + 1⎟ \n",
       "⎝Gff⋅Gxx   Gff   Gxx    ⎠ "
      ]
     },
     "execution_count": 14,
     "metadata": {},
     "output_type": "execute_result"
    }
   ],
   "source": [
    "sp.diff(gamma, Eff)"
   ]
  },
  {
   "cell_type": "code",
   "execution_count": null,
   "metadata": {
    "collapsed": true
   },
   "outputs": [],
   "source": []
  }
 ],
 "metadata": {
  "kernelspec": {
   "display_name": "Python 3",
   "language": "python",
   "name": "python3"
  },
  "language_info": {
   "codemirror_mode": {
    "name": "ipython",
    "version": 3
   },
   "file_extension": ".py",
   "mimetype": "text/x-python",
   "name": "python",
   "nbconvert_exporter": "python",
   "pygments_lexer": "ipython3",
   "version": "3.5.1"
  }
 },
 "nbformat": 4,
 "nbformat_minor": 0
}
