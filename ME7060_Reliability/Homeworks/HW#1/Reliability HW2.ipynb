{
 "cells": [
  {
   "cell_type": "code",
   "execution_count": 1,
   "metadata": {
    "collapsed": true
   },
   "outputs": [],
   "source": [
    "import sympy as sp\n",
    "sp.init_printing(use_latex='mathjax')\n",
    "from IPython.display import display"
   ]
  },
  {
   "cell_type": "code",
   "execution_count": 2,
   "metadata": {
    "collapsed": true
   },
   "outputs": [],
   "source": [
    "x = sp.Symbol('x', real = True)\n",
    "y = sp.Symbol('y', real = True)"
   ]
  },
  {
   "cell_type": "markdown",
   "metadata": {},
   "source": [
    "### Problem 1"
   ]
  },
  {
   "cell_type": "code",
   "execution_count": 3,
   "metadata": {
    "collapsed": false
   },
   "outputs": [
    {
     "data": {
      "text/latex": [
       "$$0.0441176470588235 x^{2} + 0.00980392156862745 x$$"
      ],
      "text/plain": [
       "                    2                        \n",
       "0.0441176470588235⋅x  + 0.00980392156862745⋅x"
      ]
     },
     "execution_count": 3,
     "metadata": {},
     "output_type": "execute_result"
    }
   ],
   "source": [
    "fx = sp.integrate((1/102)*(x + 3*x**2*y), (y, 1, 2))\n",
    "fx"
   ]
  },
  {
   "cell_type": "code",
   "execution_count": 4,
   "metadata": {
    "collapsed": false
   },
   "outputs": [
    {
     "data": {
      "text/latex": [
       "$$0.617647058823529 y + 0.0735294117647059$$"
      ],
      "text/plain": [
       "0.617647058823529⋅y + 0.0735294117647059"
      ]
     },
     "execution_count": 4,
     "metadata": {},
     "output_type": "execute_result"
    }
   ],
   "source": [
    "fy = sp.integrate((1/102)*(x + 3*x**2*y), (x, 1, 4))\n",
    "fy"
   ]
  },
  {
   "cell_type": "code",
   "execution_count": 5,
   "metadata": {
    "collapsed": false
   },
   "outputs": [
    {
     "data": {
      "text/latex": [
       "$$3.01838235294118$$"
      ],
      "text/plain": [
       "3.01838235294118"
      ]
     },
     "execution_count": 5,
     "metadata": {},
     "output_type": "execute_result"
    }
   ],
   "source": [
    "Mx = sp.integrate(x*fx, (x, 1, 4))\n",
    "Mx"
   ]
  },
  {
   "cell_type": "code",
   "execution_count": 6,
   "metadata": {
    "collapsed": false
   },
   "outputs": [
    {
     "data": {
      "text/latex": [
       "$$1.55147058823529$$"
      ],
      "text/plain": [
       "1.55147058823529"
      ]
     },
     "execution_count": 6,
     "metadata": {},
     "output_type": "execute_result"
    }
   ],
   "source": [
    "My = sp.integrate(y*fy, (y, 1, 2))\n",
    "My"
   ]
  },
  {
   "cell_type": "code",
   "execution_count": 7,
   "metadata": {
    "collapsed": false
   },
   "outputs": [
    {
     "data": {
      "text/latex": [
       "$$4.68382352941176$$"
      ],
      "text/plain": [
       "4.68382352941176"
      ]
     },
     "execution_count": 7,
     "metadata": {},
     "output_type": "execute_result"
    }
   ],
   "source": [
    "Mxy = sp.integrate((x*y)*(1/102)*(x + 3*x**2*y), (x, 1, 4), (y, 1, 2))\n",
    "Mxy"
   ]
  },
  {
   "cell_type": "code",
   "execution_count": 8,
   "metadata": {
    "collapsed": false
   },
   "outputs": [
    {
     "data": {
      "text/latex": [
       "$$0.540838559688583$$"
      ],
      "text/plain": [
       "0.540838559688583"
      ]
     },
     "execution_count": 8,
     "metadata": {},
     "output_type": "execute_result"
    }
   ],
   "source": [
    "SigX = sp.integrate(x**2*fx, (x, 1, 4))-Mx**2\n",
    "SigX"
   ]
  },
  {
   "cell_type": "code",
   "execution_count": 9,
   "metadata": {
    "collapsed": false
   },
   "outputs": [
    {
     "data": {
      "text/latex": [
       "$$0.0806841118800454$$"
      ],
      "text/plain": [
       "0.0806841118800454"
      ]
     },
     "execution_count": 9,
     "metadata": {},
     "output_type": "execute_result"
    }
   ],
   "source": [
    "SigY = sp.integrate(y**2*fy, (y, 1, 2))-My**2\n",
    "SigY"
   ]
  },
  {
   "cell_type": "code",
   "execution_count": 10,
   "metadata": {
    "collapsed": false
   },
   "outputs": [
    {
     "data": {
      "text/latex": [
       "$$0.000892084775085955$$"
      ],
      "text/plain": [
       "0.000892084775085955"
      ]
     },
     "execution_count": 10,
     "metadata": {},
     "output_type": "execute_result"
    }
   ],
   "source": [
    "COV = Mxy-Mx*My\n",
    "COV"
   ]
  },
  {
   "cell_type": "code",
   "execution_count": 11,
   "metadata": {
    "collapsed": false
   },
   "outputs": [
    {
     "data": {
      "text/latex": [
       "$$0.00427049573274541$$"
      ],
      "text/plain": [
       "0.00427049573274541"
      ]
     },
     "execution_count": 11,
     "metadata": {},
     "output_type": "execute_result"
    }
   ],
   "source": [
    "rho = COV/(sp.sqrt(SigX)*sp.sqrt(SigY))\n",
    "rho"
   ]
  },
  {
   "cell_type": "markdown",
   "metadata": {},
   "source": [
    "**Code on how to use sympy to calculate values for normally distributed variables.**"
   ]
  },
  {
   "cell_type": "code",
   "execution_count": 12,
   "metadata": {
    "collapsed": false
   },
   "outputs": [],
   "source": [
    "from sympy.stats import Normal, P, E, variance, cdf, density, LogNormal"
   ]
  },
  {
   "cell_type": "code",
   "execution_count": 13,
   "metadata": {
    "collapsed": false
   },
   "outputs": [],
   "source": [
    "Z=Normal('Z', 0, 1)"
   ]
  },
  {
   "cell_type": "code",
   "execution_count": 14,
   "metadata": {
    "collapsed": false
   },
   "outputs": [
    {
     "data": {
      "text/latex": [
       "$$0.158655253931457$$"
      ],
      "text/plain": [
       "0.158655253931457"
      ]
     },
     "execution_count": 14,
     "metadata": {},
     "output_type": "execute_result"
    }
   ],
   "source": [
    "P(Z<-1).evalf()"
   ]
  },
  {
   "cell_type": "code",
   "execution_count": 15,
   "metadata": {
    "collapsed": false
   },
   "outputs": [
    {
     "data": {
      "text/latex": [
       "$$0$$"
      ],
      "text/plain": [
       "0"
      ]
     },
     "execution_count": 15,
     "metadata": {},
     "output_type": "execute_result"
    }
   ],
   "source": [
    "E(Z)"
   ]
  },
  {
   "cell_type": "code",
   "execution_count": 16,
   "metadata": {
    "collapsed": false
   },
   "outputs": [
    {
     "data": {
      "text/latex": [
       "$$0.841344746068543$$"
      ],
      "text/plain": [
       "0.841344746068543"
      ]
     },
     "execution_count": 16,
     "metadata": {},
     "output_type": "execute_result"
    }
   ],
   "source": [
    "cdf(Z)(1).evalf()"
   ]
  },
  {
   "cell_type": "code",
   "execution_count": 17,
   "metadata": {
    "collapsed": true
   },
   "outputs": [],
   "source": [
    "MS=Normal('MS', 25000, 1000)"
   ]
  },
  {
   "cell_type": "code",
   "execution_count": 18,
   "metadata": {
    "collapsed": false
   },
   "outputs": [
    {
     "data": {
      "text/latex": [
       "$$0.999968328758167$$"
      ],
      "text/plain": [
       "0.999968328758167"
      ]
     },
     "execution_count": 18,
     "metadata": {},
     "output_type": "execute_result"
    }
   ],
   "source": [
    "cdf(MS)(29000).evalf()"
   ]
  },
  {
   "cell_type": "code",
   "execution_count": 19,
   "metadata": {
    "collapsed": false
   },
   "outputs": [
    {
     "data": {
      "text/latex": [
       "$$3.16712418331199 \\cdot 10^{-5}$$"
      ],
      "text/plain": [
       "3.16712418331199e-5"
      ]
     },
     "execution_count": 19,
     "metadata": {},
     "output_type": "execute_result"
    }
   ],
   "source": [
    "P(MS>29000).evalf()"
   ]
  },
  {
   "cell_type": "code",
   "execution_count": 20,
   "metadata": {
    "collapsed": true
   },
   "outputs": [],
   "source": [
    "Mat=Normal('Mat', 35000, 2000)"
   ]
  },
  {
   "cell_type": "code",
   "execution_count": 21,
   "metadata": {
    "collapsed": false
   },
   "outputs": [
    {
     "data": {
      "text/latex": [
       "$$0.00134989803163009$$"
      ],
      "text/plain": [
       "0.00134989803163009"
      ]
     },
     "execution_count": 21,
     "metadata": {},
     "output_type": "execute_result"
    }
   ],
   "source": [
    "P(Mat<29000).evalf()"
   ]
  },
  {
   "cell_type": "code",
   "execution_count": 22,
   "metadata": {
    "collapsed": false
   },
   "outputs": [
    {
     "data": {
      "text/latex": [
       "$$0.00134989803163009$$"
      ],
      "text/plain": [
       "0.00134989803163009"
      ]
     },
     "execution_count": 22,
     "metadata": {},
     "output_type": "execute_result"
    }
   ],
   "source": [
    "cdf(Mat)(29000).evalf()"
   ]
  },
  {
   "cell_type": "markdown",
   "metadata": {},
   "source": [
    "### Problem 3, using sympy"
   ]
  },
  {
   "cell_type": "code",
   "execution_count": 23,
   "metadata": {
    "collapsed": true
   },
   "outputs": [],
   "source": [
    "YS = Normal('YS', 29.576, 2.2168)"
   ]
  },
  {
   "cell_type": "code",
   "execution_count": 24,
   "metadata": {
    "collapsed": false
   },
   "outputs": [
    {
     "data": {
      "text/latex": [
       "$$0.424158328125473$$"
      ],
      "text/plain": [
       "0.424158328125473"
      ]
     },
     "execution_count": 24,
     "metadata": {},
     "output_type": "execute_result"
    }
   ],
   "source": [
    "P(YS>30).evalf()"
   ]
  },
  {
   "cell_type": "code",
   "execution_count": 25,
   "metadata": {
    "collapsed": false
   },
   "outputs": [
    {
     "data": {
      "text/latex": [
       "$$0.575841671874532$$"
      ],
      "text/plain": [
       "0.575841671874532"
      ]
     },
     "execution_count": 25,
     "metadata": {},
     "output_type": "execute_result"
    }
   ],
   "source": [
    "cdf(YS)(30).evalf()"
   ]
  },
  {
   "cell_type": "code",
   "execution_count": 26,
   "metadata": {
    "collapsed": false
   },
   "outputs": [
    {
     "data": {
      "text/latex": [
       "$$0.17670126842689$$"
      ],
      "text/plain": [
       "0.176701268426890"
      ]
     },
     "execution_count": 26,
     "metadata": {},
     "output_type": "execute_result"
    }
   ],
   "source": [
    "density(YS)(30).evalf()"
   ]
  },
  {
   "cell_type": "markdown",
   "metadata": {},
   "source": [
    "### **Problem 2**  \n",
    "\n",
    "**Stress induced in the machine during operation is normally distributed with following paramaters.**\n",
    "\n",
    "- $\\mu_S = 25000$  \n",
    "- $\\sigma_S = 1000$\n",
    "\n",
    "**Material strength of the machine is also normally distributed with following paramaters.**  \n",
    "\n",
    "- $\\mu_M = 35000$  \n",
    "- $\\sigma_M = 2000$\n",
    "\n",
    "**What is the probability of failure for the machine?**\n",
    "\n",
    "**The true way to solve problem 2 is to define a new distribution using the provided distributions for operating load and material strength. If we know the two distributions are normally distributed and independent, then we can added them to form a new distribution with new paramaters $\\mu$ and $\\sigma$**  \n",
    "\n",
    "**Following rules apply when adding or subtracting two distributions. In our case we are going to subtract them to define a new random variable $Z = S-M$. Then to find the probability of machine failure we calculate CDF at $Z=0$.**  \n",
    "\n",
    "**New paramaters for $Z = S-M.$**\n",
    "\n",
    "- Mean of Z: $\\mu_Z = \\mu_S - \\mu_M$, gives, $\\mu_Z = 25000 - 35000 = -10000$  \n",
    "- Standard deviation of random variable Z $\\sigma_Z = \\sqrt{\\sigma_S^2 + \\sigma_M^2}$, gives, $\\sigma_Z = \\sqrt{1000^2 + 2000^2} = 2236.078$  \n",
    "\n",
    "**Now define new distribution below and plot it. Then solve for the failure probability.**"
   ]
  },
  {
   "cell_type": "code",
   "execution_count": 28,
   "metadata": {
    "collapsed": false
   },
   "outputs": [],
   "source": [
    "from scipy.stats import lognorm, norm, gumbel_l, gumbel_r\n",
    "W = norm(loc = -10000, scale = 2236.078)"
   ]
  },
  {
   "cell_type": "code",
   "execution_count": 29,
   "metadata": {
    "collapsed": false
   },
   "outputs": [
    {
     "data": {
      "text/latex": [
       "$$0.999996127529$$"
      ],
      "text/plain": [
       "0.999996127529"
      ]
     },
     "execution_count": 29,
     "metadata": {},
     "output_type": "execute_result"
    }
   ],
   "source": [
    "W.cdf(0)"
   ]
  },
  {
   "cell_type": "code",
   "execution_count": 30,
   "metadata": {
    "collapsed": false
   },
   "outputs": [
    {
     "data": {
      "text/latex": [
       "$$3.87247128419e-06$$"
      ],
      "text/plain": [
       "3.87247128419e-06"
      ]
     },
     "execution_count": 30,
     "metadata": {},
     "output_type": "execute_result"
    }
   ],
   "source": [
    "Prob = 1-W.cdf(0)\n",
    "Prob"
   ]
  },
  {
   "cell_type": "code",
   "execution_count": 31,
   "metadata": {
    "collapsed": false
   },
   "outputs": [
    {
     "data": {
      "image/png": "[encoded data removed]",
      "text/plain": [
       "<matplotlib.figure.Figure at 0x1c935690860>"
      ]
     },
     "metadata": {},
     "output_type": "display_data"
    }
   ],
   "source": [
    "import numpy as np\n",
    "import matplotlib.pyplot as plt\n",
    "%matplotlib inline\n",
    "\n",
    "x3 = np.linspace(W.ppf(0.00001), W.ppf(0.999999999), 100)\n",
    "\n",
    "#ax.plot(x1, S.pdf(x1), 'r-', lw=5, alpha=0.6, label='norm pdf')\n",
    "\n",
    "fig=plt.figure()\n",
    "plt.plot(x3, W.pdf(x3), 'b-', linewidth=2)\n",
    "\n",
    "fig.suptitle('PDF for Z=S-M', fontsize=20)\n",
    "plt.xlabel('Strength', fontsize=20)\n",
    "plt.ylabel('Probability', fontsize=20)\n",
    "plt.axis([-20000, 5000, 0.0, 0.0002])\n",
    "\n",
    "plt.grid()\n",
    "plt.show()"
   ]
  },
  {
   "cell_type": "markdown",
   "metadata": {},
   "source": [
    "**For practice distributions for M and S are plotted below.**"
   ]
  },
  {
   "cell_type": "code",
   "execution_count": 32,
   "metadata": {
    "collapsed": false
   },
   "outputs": [],
   "source": [
    "from scipy.stats import lognorm, norm, gumbel_l, gumbel_r\n",
    "\n",
    "S = norm(loc = 25000, scale = 1000)\n",
    "M = norm(loc = 35000, scale = 2000)"
   ]
  },
  {
   "cell_type": "code",
   "execution_count": 33,
   "metadata": {
    "collapsed": false
   },
   "outputs": [
    {
     "data": {
      "image/png": "[encoded data removed]",
      "text/plain": [
       "<matplotlib.figure.Figure at 0x1c9373af710>"
      ]
     },
     "metadata": {},
     "output_type": "display_data"
    }
   ],
   "source": [
    "import numpy as np\n",
    "import matplotlib.pyplot as plt\n",
    "%matplotlib inline\n",
    "\n",
    "x1 = np.linspace(S.ppf(0.00001), S.ppf(0.99999), 100)\n",
    "x2 = np.linspace(M.ppf(0.00001), M.ppf(0.99999), 100)\n",
    "\n",
    "#ax.plot(x1, S.pdf(x1), 'r-', lw=5, alpha=0.6, label='norm pdf')\n",
    "\n",
    "fig=plt.figure()\n",
    "plt.plot(x1, S.pdf(x1), 'b-', linewidth=2)\n",
    "plt.plot(x2, M.pdf(x2), 'r-', linewidth=2)\n",
    "\n",
    "fig.suptitle('PDF', fontsize=20)\n",
    "plt.xlabel('Life', fontsize=20)\n",
    "plt.ylabel('Probability', fontsize=20)\n",
    "plt.axis([20000, 45000, 0.0, 0.00045])\n",
    "\n",
    "plt.grid()\n",
    "plt.show()"
   ]
  },
  {
   "cell_type": "code",
   "execution_count": 34,
   "metadata": {
    "collapsed": false
   },
   "outputs": [
    {
     "data": {
      "image/png": "[encoded data removed]",
      "text/plain": [
       "<matplotlib.figure.Figure at 0x1c9373a06d8>"
      ]
     },
     "metadata": {},
     "output_type": "display_data"
    }
   ],
   "source": [
    "import numpy as np\n",
    "import matplotlib.pyplot as plt\n",
    "%matplotlib inline\n",
    "\n",
    "x1 = np.linspace(S.ppf(0.00001), S.ppf(0.99999), 100)\n",
    "x2 = np.linspace(M.ppf(0.00001), M.ppf(0.99999), 100)\n",
    "\n",
    "#ax.plot(x1, S.pdf(x1), 'r-', lw=5, alpha=0.6, label='norm pdf')\n",
    "\n",
    "fig=plt.figure()\n",
    "plt.plot(x1, S.pdf(x1), 'b-', linewidth=2)\n",
    "plt.plot(x2, M.pdf(x2), 'r-', linewidth=2)\n",
    "\n",
    "fig.suptitle('PDF', fontsize=20)\n",
    "plt.xlabel('Life', fontsize=20)\n",
    "plt.ylabel('Probability', fontsize=20)\n",
    "plt.axis([20000, 45000, 0.0, 0.00045])\n",
    "\n",
    "plt.grid()\n",
    "plt.show()"
   ]
  },
  {
   "cell_type": "markdown",
   "metadata": {},
   "source": [
    "### Do problem 3 assuming log normal distribution:"
   ]
  },
  {
   "cell_type": "code",
   "execution_count": 35,
   "metadata": {
    "collapsed": false
   },
   "outputs": [],
   "source": [
    "S = LogNormal('S', 29.576e6, 2.2168e6)"
   ]
  },
  {
   "cell_type": "markdown",
   "metadata": {},
   "source": [
    "### Tried using LogNormal in sympy but gives errors. Something seems to be wrong with the package. Instead use scipy for now."
   ]
  },
  {
   "cell_type": "code",
   "execution_count": 36,
   "metadata": {
    "collapsed": false
   },
   "outputs": [],
   "source": [
    "#P(S>30e6).evalf()"
   ]
  },
  {
   "cell_type": "code",
   "execution_count": 37,
   "metadata": {
    "collapsed": false
   },
   "outputs": [],
   "source": [
    "#cdf(S)(30e6)"
   ]
  },
  {
   "cell_type": "markdown",
   "metadata": {},
   "source": [
    "### Get LogNormal results for problem 3 by using scipy"
   ]
  },
  {
   "cell_type": "code",
   "execution_count": 38,
   "metadata": {
    "collapsed": true
   },
   "outputs": [],
   "source": [
    "from scipy.stats import lognorm, norm, gumbel_l, gumbel_r"
   ]
  },
  {
   "cell_type": "code",
   "execution_count": 39,
   "metadata": {
    "collapsed": false
   },
   "outputs": [
    {
     "data": {
      "text/latex": [
       "$$0.575841671875$$"
      ],
      "text/plain": [
       "0.575841671875"
      ]
     },
     "execution_count": 39,
     "metadata": {},
     "output_type": "execute_result"
    }
   ],
   "source": [
    "norm.cdf(30e6, loc = 29.576e6, scale = 2.2168e6)"
   ]
  },
  {
   "cell_type": "markdown",
   "metadata": {},
   "source": [
    "**The ppf method is the inverse of the cdf and will give the user the values of the random variable (in this case Youngs Modulus) at the upper or lower ends of the tail. In below example we know that at 1% of the area under the curve Youngs Modulus values will be 24418952 or lower.**"
   ]
  },
  {
   "cell_type": "code",
   "execution_count": 40,
   "metadata": {
    "collapsed": false
   },
   "outputs": [
    {
     "data": {
      "text/latex": [
       "$$24418952.0328$$"
      ],
      "text/plain": [
       "24418952.0328"
      ]
     },
     "execution_count": 40,
     "metadata": {},
     "output_type": "execute_result"
    }
   ],
   "source": [
    "norm.ppf(0.01, loc = 29.576e6, scale = 2.2168e6)"
   ]
  },
  {
   "cell_type": "code",
   "execution_count": 41,
   "metadata": {
    "collapsed": false
   },
   "outputs": [
    {
     "data": {
      "text/latex": [
       "$$0.319749974194$$"
      ],
      "text/plain": [
       "0.319749974194"
      ]
     },
     "execution_count": 41,
     "metadata": {},
     "output_type": "execute_result"
    }
   ],
   "source": [
    "norm.cdf(10.8197, loc = 10.9216, scale = 0.21755)"
   ]
  },
  {
   "cell_type": "markdown",
   "metadata": {},
   "source": [
    "### **Above few lines is practicing using scipy functions for the normal distribution. Below is Problem 3 result using LogNormal.**"
   ]
  },
  {
   "cell_type": "markdown",
   "metadata": {},
   "source": [
    "**Below is an example of using scipy to solve the example discussed in class, which is defined as follows:**  \n",
    "\n",
    "**Car break light life follows LogNormal distribution with following mean and standard deviation:**\n",
    "\n",
    "- $\\mu_x = 56669.5$\n",
    "- $\\sigma_x = 12393.6$\n",
    "\n",
    "**Find probability that life will be $\\le$ 50000.**  \n",
    "\n",
    "**First thing to be done is to transform the given paramaters for the LogNormal distribution ($\\mu_X$, and $\\sigma_X$) into normal distribution ($\\mu_Y$, and $\\sigma_Y$). This is done by following two formulas.**  \n",
    "\n",
    "- $\\mu_Y = ln(\\mu_X) - \\frac{\\sigma_Y^2}{2}$\n",
    "- $\\sigma_Y^2 = ln[(\\frac{\\sigma_X}{\\mu_X})^2 + 1]$  \n",
    "\n",
    "**For the present example we get following values:**  \n",
    "\n",
    "- $\\mu_Y = 10.9216$\n",
    "- $\\sigma_Y^2 = 0.04672$\n",
    "\n",
    "**Next, these variables are used to generate an array of random variables (rvs) with a size of 1000 in this case but can be higher or lower as desired. In the formula below loc = $\\mu_Y$ and scale = $\\sigma_Y$. The reason to do this is because for some ungodly reason scipy uses paramaters shape, loc, and scale, which user may not know before hand, and are needed to describe the LogNormal distribution. Therefore, before method \"cdf\" can be used, which uses the above listed paramaters, one needs to know these paramaters to calculate the correct probabilities as will be seen in example below.**"
   ]
  },
  {
   "cell_type": "code",
   "execution_count": 42,
   "metadata": {
    "collapsed": false
   },
   "outputs": [],
   "source": [
    "import numpy as np\n",
    "\n",
    "#Generate a vector called logsample that has a random variable distribution. This uses mu_Y and sigma_Y\n",
    "#calculated using expressions above\n",
    "logsample = norm.rvs(loc=10.921, scale=np.sqrt(0.04672), size=5000) # logsample ~ N(mu=10, sigma=3)\n",
    "\n",
    "#apply exponential to the generated logsample\n",
    "sample = np.exp(logsample) # sample ~ lognormal(10, 3)\n",
    "\n",
    "#this step calculates the necessary paramaters needed to define the LogNormal distribution\n",
    "#using scipy.\n",
    "shape, loc, scale = lognorm.fit(sample, floc=0) # hold location to 0 while fitting"
   ]
  },
  {
   "cell_type": "markdown",
   "metadata": {},
   "source": [
    "**Paramaters $shape$, $loc$, $scale$ can be called as seen below.**"
   ]
  },
  {
   "cell_type": "code",
   "execution_count": 43,
   "metadata": {
    "collapsed": false
   },
   "outputs": [
    {
     "data": {
      "text/latex": [
       "$$\\left ( 0.212588573079, \\quad 0, \\quad 55406.6572116\\right )$$"
      ],
      "text/plain": [
       "(0.212588573079, 0, 55406.6572116)"
      ]
     },
     "execution_count": 43,
     "metadata": {},
     "output_type": "execute_result"
    }
   ],
   "source": [
    "shape, loc, scale"
   ]
  },
  {
   "cell_type": "markdown",
   "metadata": {},
   "source": [
    "**By performing below operation one can get $\\mu$ and $\\sigma$ for the LogNormal distribution using paramaters scale and shape.**"
   ]
  },
  {
   "cell_type": "code",
   "execution_count": 44,
   "metadata": {
    "collapsed": false
   },
   "outputs": [
    {
     "data": {
      "text/latex": [
       "$$\\left ( 10.9224550318, \\quad 0.212588573079\\right )$$"
      ],
      "text/plain": [
       "(10.9224550318, 0.212588573079)"
      ]
     },
     "execution_count": 44,
     "metadata": {},
     "output_type": "execute_result"
    }
   ],
   "source": [
    "np.log(scale), shape  # mu, sigma"
   ]
  },
  {
   "cell_type": "markdown",
   "metadata": {},
   "source": [
    "**Finally, cdf method can be used knowing the required paramaters to calculate probabilities. In this case we want to know the probability that the brake light will have life less than 50000. And the answer of 31.8% closely matches result in class of 33.8%. Differences in answer are due to roundoff error.**"
   ]
  },
  {
   "cell_type": "code",
   "execution_count": 45,
   "metadata": {
    "collapsed": false
   },
   "outputs": [
    {
     "data": {
      "text/latex": [
       "$$0.318742353101$$"
      ],
      "text/plain": [
       "0.318742353101"
      ]
     },
     "execution_count": 45,
     "metadata": {},
     "output_type": "execute_result"
    }
   ],
   "source": [
    "lognorm.cdf(50000, 0.2142, loc = 0, scale = 55310.237)"
   ]
  },
  {
   "cell_type": "markdown",
   "metadata": {},
   "source": [
    "**Code below can be used if one wishes to calculate the 4 moments of the log normal distribution.**"
   ]
  },
  {
   "cell_type": "code",
   "execution_count": 46,
   "metadata": {
    "collapsed": false
   },
   "outputs": [],
   "source": [
    "#s = 0.000001\n",
    "s = .2142052\n",
    "mean, var, skew, kurt = lognorm.stats(s, loc = 0, scale = 55310.237, moments='mvsk')"
   ]
  },
  {
   "cell_type": "code",
   "execution_count": 47,
   "metadata": {
    "collapsed": false
   },
   "outputs": [
    {
     "data": {
      "text/plain": [
       "array(56593.82853557895)"
      ]
     },
     "execution_count": 47,
     "metadata": {},
     "output_type": "execute_result"
    }
   ],
   "source": [
    "mean"
   ]
  },
  {
   "cell_type": "code",
   "execution_count": 48,
   "metadata": {
    "collapsed": false
   },
   "outputs": [
    {
     "data": {
      "text/plain": [
       "array(150383372.4940317)"
      ]
     },
     "execution_count": 48,
     "metadata": {},
     "output_type": "execute_result"
    }
   ],
   "source": [
    "var"
   ]
  },
  {
   "cell_type": "code",
   "execution_count": 49,
   "metadata": {
    "collapsed": false
   },
   "outputs": [
    {
     "data": {
      "text/latex": [
       "$$12263.0898429$$"
      ],
      "text/plain": [
       "12263.0898429"
      ]
     },
     "execution_count": 49,
     "metadata": {},
     "output_type": "execute_result"
    }
   ],
   "source": [
    "np.sqrt(var)"
   ]
  },
  {
   "cell_type": "markdown",
   "metadata": {},
   "source": [
    "### **Now use approach from example above to solve problem 3b.**   \n",
    "\n",
    "**$\\mu_Y$ and $\\sigma_Y$ values for problem 3b are listed below and are used to generate a normally distributed random variable data.**  \n",
    "\n",
    "- $\\mu_Y = 14.609$\n",
    "- $\\sigma_Y^2 = 5.1874$"
   ]
  },
  {
   "cell_type": "code",
   "execution_count": 50,
   "metadata": {
    "collapsed": false
   },
   "outputs": [
    {
     "data": {
      "text/latex": [
       "$$0.873883009918$$"
      ],
      "text/plain": [
       "0.873883009918"
      ]
     },
     "execution_count": 50,
     "metadata": {},
     "output_type": "execute_result"
    }
   ],
   "source": [
    "norm.cdf(17.2167, loc = 14.609, scale = np.sqrt(5.1874))"
   ]
  },
  {
   "cell_type": "code",
   "execution_count": 68,
   "metadata": {
    "collapsed": true
   },
   "outputs": [],
   "source": [
    "import numpy as np\n",
    "\n",
    "#Generate a vector called logsample that has a random variable distribution. This uses mu_Y and sigma_Y\n",
    "#calculated using expressions above\n",
    "logsample = norm.rvs(loc=17.1997, scale=np.sqrt(0.00560), size=5000) # logsample ~ N(mu=10, sigma=3)\n",
    "\n",
    "#apply exponential to the generated logsample\n",
    "sample = np.exp(logsample) # sample ~ lognormal(10, 3)\n",
    "\n",
    "#this step calculates the necessary paramaters needed to define the LogNormal distribution\n",
    "#using scipy.\n",
    "shape, loc, scale = lognorm.fit(sample, floc=0) # hold location to 0 while fitting"
   ]
  },
  {
   "cell_type": "code",
   "execution_count": 69,
   "metadata": {
    "collapsed": false
   },
   "outputs": [
    {
     "data": {
      "text/latex": [
       "$$\\left ( 0.0751820788302, \\quad 0, \\quad 29489657.6282\\right )$$"
      ],
      "text/plain": [
       "(0.0751820788302, 0, 29489657.6282)"
      ]
     },
     "execution_count": 69,
     "metadata": {},
     "output_type": "execute_result"
    }
   ],
   "source": [
    "shape, loc, scale"
   ]
  },
  {
   "cell_type": "code",
   "execution_count": 70,
   "metadata": {
    "collapsed": false
   },
   "outputs": [
    {
     "data": {
      "text/latex": [
       "$$\\left ( 17.199550171, \\quad 0.0751820788302\\right )$$"
      ],
      "text/plain": [
       "(17.199550171, 0.0751820788302)"
      ]
     },
     "execution_count": 70,
     "metadata": {},
     "output_type": "execute_result"
    }
   ],
   "source": [
    "np.log(scale), shape  # mu, sigma"
   ]
  },
  {
   "cell_type": "markdown",
   "metadata": {},
   "source": [
    "**Now can use the paramaters above to calculate probability that Young's Modulus will be higher than $30e^6$.**"
   ]
  },
  {
   "cell_type": "code",
   "execution_count": 71,
   "metadata": {
    "collapsed": false
   },
   "outputs": [
    {
     "data": {
      "text/latex": [
       "$$0.59026089272$$"
      ],
      "text/plain": [
       "0.59026089272"
      ]
     },
     "execution_count": 71,
     "metadata": {},
     "output_type": "execute_result"
    }
   ],
   "source": [
    "lognorm.cdf(30e6, 0.0751821, loc = 0, scale = 29489657.6282)"
   ]
  },
  {
   "cell_type": "markdown",
   "metadata": {},
   "source": [
    "**Extreme value problem example from the notes. To be used as a general approach to solve problem 4 from HW2.**\n",
    "\n",
    "**10 cracks are detected in a concrete beam. X is considered as the random variable that represents crack size.**  \n",
    "\n",
    "**Based on previous studies we know that crack size X is normally distributed with following paramaters:**  \n",
    "\n",
    "- $\\mu = 0.50$  \n",
    "- $CV = 0.1$, from this we can get variance per following expression $CV = \\frac{\\sigma}{\\mu}$, this gives $\\sigma = 0.05$.  \n",
    "\n",
    "**What is the probability that the max crack size is less than 0.6in out of 10 cracks observed.**  \n",
    "\n",
    "**$P(x_n\\le0.6) = (F_x(0.6))^n$, where $F_x$ is the CDF of the assumed distribution (in this case normal), and $n$ is the number of events (in this case 10 cracks detected.)**  \n",
    "\n",
    "**Basically there are 10 trials where we ask ourselves what is the probability that the crack will be less than 0.6in. Therefore, we calculate the appropriate CDF for all 10 trials and multiply them together to get final answer. Hence that is the reason the result is raised to the power of n.**"
   ]
  },
  {
   "cell_type": "code",
   "execution_count": 55,
   "metadata": {
    "collapsed": true
   },
   "outputs": [],
   "source": [
    "CrackSize = norm(loc = 0.5, scale = 0.05) "
   ]
  },
  {
   "cell_type": "code",
   "execution_count": 56,
   "metadata": {
    "collapsed": false
   },
   "outputs": [
    {
     "data": {
      "text/latex": [
       "$$0.977249868052$$"
      ],
      "text/plain": [
       "0.977249868052"
      ]
     },
     "execution_count": 56,
     "metadata": {},
     "output_type": "execute_result"
    }
   ],
   "source": [
    "CrackSize.cdf(0.6)"
   ]
  },
  {
   "cell_type": "markdown",
   "metadata": {},
   "source": [
    "**Now following the direction of the definition above, the calculated CDF values is raised to the power of 10 (number of crack events).**  \n",
    "\n",
    "**Expression below is the probability that the max crack size is less than 0.6in.**"
   ]
  },
  {
   "cell_type": "code",
   "execution_count": 57,
   "metadata": {
    "collapsed": false
   },
   "outputs": [
    {
     "data": {
      "text/latex": [
       "$$0.794431040167$$"
      ],
      "text/plain": [
       "0.794431040167"
      ]
     },
     "execution_count": 57,
     "metadata": {},
     "output_type": "execute_result"
    }
   ],
   "source": [
    "(CrackSize.cdf(0.6))**10"
   ]
  },
  {
   "cell_type": "markdown",
   "metadata": {},
   "source": [
    "**Value below is the probability that the max crack size will be greater than 0.6in.**"
   ]
  },
  {
   "cell_type": "code",
   "execution_count": 58,
   "metadata": {
    "collapsed": false
   },
   "outputs": [
    {
     "data": {
      "text/latex": [
       "$$0.205568959833$$"
      ],
      "text/plain": [
       "0.205568959833"
      ]
     },
     "execution_count": 58,
     "metadata": {},
     "output_type": "execute_result"
    }
   ],
   "source": [
    "1-(CrackSize.cdf(0.6))**10"
   ]
  },
  {
   "cell_type": "markdown",
   "metadata": {},
   "source": [
    "### Problem 4  \n",
    "\n",
    "**The fatigue of the bolted joint in thousands of cycles is given by following PDF:**\n",
    "\n",
    "- $f(x) = \\frac{x-600}{10000}$, for $600\\le x \\le 700$, and\n",
    "- $f(x) = \\frac{800-x}{10000}$, for $700\\le x \\le 800$"
   ]
  },
  {
   "cell_type": "code",
   "execution_count": 59,
   "metadata": {
    "collapsed": false
   },
   "outputs": [
    {
     "data": {
      "image/png": "[encoded data removed]",
      "text/plain": [
       "<matplotlib.figure.Figure at 0x1c937c808d0>"
      ]
     },
     "metadata": {},
     "output_type": "display_data"
    }
   ],
   "source": [
    "import numpy as np\n",
    "import matplotlib.pyplot as plt\n",
    "%matplotlib inline\n",
    "\n",
    "x1 = np.linspace(600, 700, 500)\n",
    "x2 = np.linspace(700, 800, 500)\n",
    "\n",
    "fx1 = (x1-600)/10000\n",
    "fx2 = (800-x2)/10000\n",
    "\n",
    "fig=plt.figure()\n",
    "plt.plot(x1, fx1, 'b-', linewidth=2)\n",
    "plt.plot(x2, fx2, 'r-', linewidth=2)\n",
    "\n",
    "fig.suptitle('PDF', fontsize=20)\n",
    "plt.xlabel('Life', fontsize=20)\n",
    "plt.ylabel('Probability', fontsize=20)\n",
    "plt.axis([585, 825, 0, 0.011])\n",
    "\n",
    "plt.grid()\n",
    "plt.show()"
   ]
  },
  {
   "cell_type": "code",
   "execution_count": 72,
   "metadata": {
    "collapsed": false
   },
   "outputs": [
    {
     "data": {
      "text/latex": [
       "$$\\frac{x^{2}}{20000} - \\frac{3 x}{50}$$"
      ],
      "text/plain": [
       "   2       \n",
       "  x     3⋅x\n",
       "───── - ───\n",
       "20000    50"
      ]
     },
     "execution_count": 72,
     "metadata": {},
     "output_type": "execute_result"
    }
   ],
   "source": [
    "sp.integrate((x-600)/10000, x)"
   ]
  },
  {
   "cell_type": "code",
   "execution_count": 73,
   "metadata": {
    "collapsed": false
   },
   "outputs": [
    {
     "data": {
      "text/latex": [
       "$$- \\frac{x^{2}}{20000} + \\frac{2 x}{25}$$"
      ],
      "text/plain": [
       "     2       \n",
       "    x     2⋅x\n",
       "- ───── + ───\n",
       "  20000    25"
      ]
     },
     "execution_count": 73,
     "metadata": {},
     "output_type": "execute_result"
    }
   ],
   "source": [
    "sp.integrate((800-x)/10000, x)"
   ]
  },
  {
   "cell_type": "code",
   "execution_count": 79,
   "metadata": {
    "collapsed": false
   },
   "outputs": [
    {
     "data": {
      "image/png": "[encoded data removed]",
      "text/plain": [
       "<matplotlib.figure.Figure at 0x1c937edf400>"
      ]
     },
     "metadata": {},
     "output_type": "display_data"
    }
   ],
   "source": [
    "import numpy as np\n",
    "import matplotlib.pyplot as plt\n",
    "%matplotlib inline\n",
    "\n",
    "x3 = np.linspace(600, 700, 500)\n",
    "x4 = np.linspace(700, 800, 500)\n",
    "\n",
    "Fx1 = x3**2/20000 - (3*x3)/50 + 18\n",
    "Fx2 = -x4**2/20000 + (2*x4)/25 - 31\n",
    "\n",
    "fig=plt.figure()\n",
    "plt.plot(x3, Fx1, 'b-', linewidth=2)\n",
    "plt.plot(x4, Fx2, 'r-', linewidth=2)\n",
    "\n",
    "fig.suptitle('CDF', fontsize=20)\n",
    "plt.xlabel('Life', fontsize=20)\n",
    "plt.ylabel('Probability', fontsize=20)\n",
    "#plt.axis([585, 825, 0, 0.011])\n",
    "\n",
    "plt.grid()\n",
    "plt.show()"
   ]
  },
  {
   "cell_type": "code",
   "execution_count": 81,
   "metadata": {
    "collapsed": false
   },
   "outputs": [
    {
     "data": {
      "text/latex": [
       "$$\\frac{n \\left(\\frac{x}{10000} - \\frac{3}{50}\\right) \\left(\\frac{x^{2}}{20000} - \\frac{3 x}{50} + 18\\right)^{n}}{\\frac{x^{2}}{20000} - \\frac{3 x}{50} + 18}$$"
      ],
      "text/plain": [
       "                                 n\n",
       "               ⎛   2            ⎞ \n",
       "  ⎛  x     3 ⎞ ⎜  x     3⋅x     ⎟ \n",
       "n⋅⎜───── - ──⎟⋅⎜───── - ─── + 18⎟ \n",
       "  ⎝10000   50⎠ ⎝20000    50     ⎠ \n",
       "──────────────────────────────────\n",
       "            2                     \n",
       "           x     3⋅x              \n",
       "         ───── - ─── + 18         \n",
       "         20000    50              "
      ]
     },
     "execution_count": 81,
     "metadata": {},
     "output_type": "execute_result"
    }
   ],
   "source": [
    "n = sp.Symbol('n', real = True)\n",
    "\n",
    "sp.diff((x**2/20000 - (3*x)/50 + 18)**n, x)"
   ]
  },
  {
   "cell_type": "markdown",
   "metadata": {},
   "source": [
    "### Problem 5  \n",
    "\n",
    "**The annual maximum stage height in a river channel is modeled using Type 1 extreme value distribution of the largest value. Mean and COV are given below.**  \n",
    "\n",
    "- $\\mu = 30$\n",
    "- $COV = 0.10$\n",
    "\n",
    "**The stage height at which flooding will occur is 40 ft. Find probability that stage height will exceed 40 ft.**"
   ]
  },
  {
   "cell_type": "markdown",
   "metadata": {},
   "source": [
    "**Before solving problem 5 need here are some notes on how to use gumbel distribution in scipy environment.**  \n",
    "\n",
    "**Gumbel distribution requires two paramaters to define the distribution, $\\beta$, and mode denoted as u. In python environment loc = u and scale  = $\\beta$. Below are equations to calculate these paramaters, which differs from the paramaters used in class (see notes on Type 1 extreme value distribution).**  \n",
    "\n",
    "- $\\beta = \\frac{\\sigma \\sqrt{6}}{\\pi}$, where $\\sigma$ = standard deviation.  \n",
    "- $u = \\mu - \\gamma \\beta$, where $\\gamma = 0.5772$ and is called $Euler-Mascheroni$ constant, also $\\mu$ = mean.  \n",
    "\n",
    "**Once these two paramaters are defined gumbel dustribution can be defined. Scipy has two types of gumbel distribution listed below.**  \n",
    "\n",
    "- gumbel_l = left skewed gumbel distribution.\n",
    "- gumbel_r = right skewed gumbel distribution.\n",
    "\n",
    "**Example below uses right skewed distribution but user can choose best one for the problem at hand.**"
   ]
  },
  {
   "cell_type": "markdown",
   "metadata": {},
   "source": [
    "### **Notes example:**  \n",
    "\n",
    "**Annual wind velocity data $V_n$ for n years has following mean and standard deviation.**  \n",
    "\n",
    "- $\\mu_{V_n} = 61.3$\n",
    "- $\\sigma_{V_n} = 7.52$  \n",
    "\n",
    "**What is the probability that the wind speed $V_n$ will be 100 mph any given year?**  \n",
    "\n",
    "**First define paramaters $\\beta$ and u as defined above which will yield following values:**  \n",
    "\n",
    "- u = 57.916\n",
    "- $\\beta$ = 5.8633"
   ]
  },
  {
   "cell_type": "code",
   "execution_count": 60,
   "metadata": {
    "collapsed": true
   },
   "outputs": [],
   "source": [
    "D = gumbel_r(loc = 57.9157, scale = 5.8633)"
   ]
  },
  {
   "cell_type": "code",
   "execution_count": 61,
   "metadata": {
    "collapsed": false
   },
   "outputs": [
    {
     "data": {
      "text/latex": [
       "$$0.999236777465$$"
      ],
      "text/plain": [
       "0.999236777465"
      ]
     },
     "execution_count": 61,
     "metadata": {},
     "output_type": "execute_result"
    }
   ],
   "source": [
    "D.cdf(100)"
   ]
  },
  {
   "cell_type": "markdown",
   "metadata": {},
   "source": [
    "**Probability wind speed will be greater than 100 mph in any given year is about 0.07%, which matches result in the notes.**"
   ]
  },
  {
   "cell_type": "code",
   "execution_count": 62,
   "metadata": {
    "collapsed": false
   },
   "outputs": [
    {
     "data": {
      "text/latex": [
       "$$0.000763222534721$$"
      ],
      "text/plain": [
       "0.000763222534721"
      ]
     },
     "execution_count": 62,
     "metadata": {},
     "output_type": "execute_result"
    }
   ],
   "source": [
    "1-D.cdf(100)"
   ]
  },
  {
   "cell_type": "markdown",
   "metadata": {},
   "source": [
    "### **Now solve Problem 5.**  \n",
    "\n",
    "**First calculate standard deviation from the given COV, which has following definition $COV = \\frac{\\sigma}{\\mu}$:**  \n",
    "\n",
    "- $\\sigma$ = 3  \n",
    "\n",
    "\n",
    "**Next calculate paramater $\\beta$.**  \n",
    "\n",
    "- $\\beta$ = 2.3391  \n",
    "\n",
    "**Next calculate mode (u).**\n",
    "\n",
    "- u = 28.650\n",
    "\n",
    "**With these paramaters gumbel_r distribution is defined below and probability that water levels will exceed 40 ft is calculated.**"
   ]
  },
  {
   "cell_type": "code",
   "execution_count": 63,
   "metadata": {
    "collapsed": true
   },
   "outputs": [],
   "source": [
    "WL = gumbel_r(loc = 28.650, scale = 2.3391)"
   ]
  },
  {
   "cell_type": "code",
   "execution_count": 64,
   "metadata": {
    "collapsed": false
   },
   "outputs": [
    {
     "data": {
      "text/latex": [
       "$$0.99221997943$$"
      ],
      "text/plain": [
       "0.99221997943"
      ]
     },
     "execution_count": 64,
     "metadata": {},
     "output_type": "execute_result"
    }
   ],
   "source": [
    "WL.cdf(40)"
   ]
  },
  {
   "cell_type": "markdown",
   "metadata": {},
   "source": [
    "**Probability that water will exceed 40 ft.**"
   ]
  },
  {
   "cell_type": "code",
   "execution_count": 65,
   "metadata": {
    "collapsed": false
   },
   "outputs": [
    {
     "data": {
      "text/latex": [
       "$$0.0077800205701$$"
      ],
      "text/plain": [
       "0.0077800205701"
      ]
     },
     "execution_count": 65,
     "metadata": {},
     "output_type": "execute_result"
    }
   ],
   "source": [
    "1-WL.cdf(40)"
   ]
  },
  {
   "cell_type": "markdown",
   "metadata": {},
   "source": [
    "### Problem 6  \n",
    "\n",
    "**Posted speed limit on highway is 65 mph. From past experience the standard deviation $\\sigma$ = 10. To estimate the average speed of vehicles, the speeds of 50 vehicles are recorded and average speed is estimated to be 67 mph. Given data is summarized below.**  \n",
    "\n",
    "- $\\bar{x} = 67$\n",
    "- $\\sigma = 10$\n",
    "- $n = 50$\n",
    "\n",
    "**Determine 95% confidence interval for the mean speed of the vehicles.**\n",
    "\n",
    "**Interval is defined as:**\n",
    "\n",
    "**$\\bar{x} - Z_{\\frac{\\alpha}{2}}\\frac{\\sigma}{\\sqrt{n}} < \\mu < \\bar{x} + Z_{\\frac{\\alpha}{2}}\\frac{\\sigma}{\\sqrt{n}}$**  \n",
    "\n",
    "**Define normal distribution with $\\mu = 0$ and $\\sigma = 1$ below, which will be used to obrain the confidence interval.**"
   ]
  },
  {
   "cell_type": "code",
   "execution_count": 66,
   "metadata": {
    "collapsed": true
   },
   "outputs": [],
   "source": [
    "N = norm()"
   ]
  },
  {
   "cell_type": "code",
   "execution_count": 67,
   "metadata": {
    "collapsed": false
   },
   "outputs": [
    {
     "data": {
      "text/latex": [
       "$$\\left ( -2.57582930355, \\quad 2.57582930355\\right )$$"
      ],
      "text/plain": [
       "(-2.57582930355, 2.57582930355)"
      ]
     },
     "execution_count": 67,
     "metadata": {},
     "output_type": "execute_result"
    }
   ],
   "source": [
    "N.interval(0.99)"
   ]
  },
  {
   "cell_type": "code",
   "execution_count": null,
   "metadata": {
    "collapsed": true
   },
   "outputs": [],
   "source": []
  }
 ],
 "metadata": {
  "kernelspec": {
   "display_name": "Python 3",
   "language": "python",
   "name": "python3"
  },
  "language_info": {
   "codemirror_mode": {
    "name": "ipython",
    "version": 3
   },
   "file_extension": ".py",
   "mimetype": "text/x-python",
   "name": "python",
   "nbconvert_exporter": "python",
   "pygments_lexer": "ipython3",
   "version": "3.5.1"
  }
 },
 "nbformat": 4,
 "nbformat_minor": 0
}
